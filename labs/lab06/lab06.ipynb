{
 "cells": [
  {
   "cell_type": "markdown",
   "id": "8de16482",
   "metadata": {},
   "source": [
    "# Intro Questions\n",
    "\n",
    "## Q1: What Would Python Do?"
   ]
  },
  {
   "cell_type": "code",
   "execution_count": 1,
   "id": "e2fcda4e",
   "metadata": {},
   "outputs": [],
   "source": [
    "from car import *\n",
    "deneros_car = Car('Tesla', 'Model S')"
   ]
  },
  {
   "cell_type": "code",
   "execution_count": 2,
   "id": "4855872c",
   "metadata": {},
   "outputs": [
    {
     "data": {
      "text/plain": [
       "'Tesla Model S goes vroom!'"
      ]
     },
     "execution_count": 2,
     "metadata": {},
     "output_type": "execute_result"
    }
   ],
   "source": [
    "deneros_car.gas = 10\n",
    "deneros_car.drive()"
   ]
  },
  {
   "cell_type": "code",
   "execution_count": 3,
   "id": "bfdc66b7",
   "metadata": {},
   "outputs": [
    {
     "name": "stdout",
     "output_type": "stream",
     "text": [
      "Vroom! This Monster Truck is huge!\n"
     ]
    },
    {
     "data": {
      "text/plain": [
       "'Monster Batmobile goes vroom!'"
      ]
     },
     "execution_count": 3,
     "metadata": {},
     "output_type": "execute_result"
    }
   ],
   "source": [
    "deneros_car = MonsterTruck('Monster', 'Batmobile')\n",
    "deneros_car.drive()"
   ]
  },
  {
   "cell_type": "markdown",
   "id": "e6510867",
   "metadata": {},
   "source": [
    "## Q2: Cool Cats\n",
    "The Cat class models a cat: you can find the implementation below. Now, you will implement NoisyCat; NoisyCats are very similar to Cats, but talks twice as much. However, in exchange for such great powers, it gives up one of its initial lives.\n",
    "\n",
    "Use superclass methods wherever possible.\n",
    "\n",
    "```python\n",
    "    >>> my_cat = NoisyCat(\"Furball\", \"James\")\n",
    "    >>> my_cat.name\n",
    "    'Furball'\n",
    "    >>> my_cat.is_alive\n",
    "    True\n",
    "    >>> my_cat.lives\n",
    "    8\n",
    "    >>> my_cat.talk()\n",
    "    'Furball says meow! Furball says meow!'\n",
    "    >>> friend_cat = NoisyCat(\"Tabby\", \"James\", 2)\n",
    "    >>> friend_cat.talk()\n",
    "    'Tabby says meow! Tabby says meow!'\n",
    "    >>> friend_cat.lives\n",
    "    1\n",
    "```"
   ]
  },
  {
   "cell_type": "code",
   "execution_count": 4,
   "id": "24522455",
   "metadata": {},
   "outputs": [],
   "source": [
    "class Cat:\n",
    "    def __init__(self, name, owner, lives=9):\n",
    "        self.is_alive = True\n",
    "        self.name = name\n",
    "        self.owner = owner\n",
    "        self.lives = lives\n",
    "\n",
    "    def talk(self):\n",
    "        return self.name + ' says meow!'\n",
    "\n",
    "class NoisyCat(Cat):\n",
    "    def __init__(self, name, owner, lives=9):\n",
    "    # \"*** YOUR CODE HERE ***\"\n",
    "        super().__init__(name, owner, lives)\n",
    "        self.lives -= 1\n",
    "\n",
    "    def talk(self):\n",
    "    # \"*** YOUR CODE HERE ***\"\n",
    "        return f\"{super().talk()}, {super().talk()}\""
   ]
  },
  {
   "cell_type": "code",
   "execution_count": 5,
   "id": "473fb736",
   "metadata": {},
   "outputs": [
    {
     "data": {
      "text/plain": [
       "'Furball'"
      ]
     },
     "execution_count": 5,
     "metadata": {},
     "output_type": "execute_result"
    }
   ],
   "source": [
    "my_cat = NoisyCat(\"Furball\", \"James\")\n",
    "my_cat.name"
   ]
  },
  {
   "cell_type": "code",
   "execution_count": 6,
   "id": "d0e7756d",
   "metadata": {},
   "outputs": [
    {
     "data": {
      "text/plain": [
       "8"
      ]
     },
     "execution_count": 6,
     "metadata": {},
     "output_type": "execute_result"
    }
   ],
   "source": [
    "my_cat.lives"
   ]
  },
  {
   "cell_type": "code",
   "execution_count": 7,
   "id": "361da71b",
   "metadata": {},
   "outputs": [
    {
     "data": {
      "text/plain": [
       "'Furball says meow!, Furball says meow!'"
      ]
     },
     "execution_count": 7,
     "metadata": {},
     "output_type": "execute_result"
    }
   ],
   "source": [
    "my_cat.talk()"
   ]
  },
  {
   "cell_type": "code",
   "execution_count": 8,
   "id": "5d7a8ccb",
   "metadata": {},
   "outputs": [
    {
     "data": {
      "text/plain": [
       "'Tabby says meow!, Tabby says meow!'"
      ]
     },
     "execution_count": 8,
     "metadata": {},
     "output_type": "execute_result"
    }
   ],
   "source": [
    "friend_cat = NoisyCat(\"Tabby\", \"James\", 2)\n",
    "friend_cat.talk()"
   ]
  },
  {
   "cell_type": "code",
   "execution_count": 9,
   "id": "4f60bddd",
   "metadata": {},
   "outputs": [
    {
     "data": {
      "text/plain": [
       "1"
      ]
     },
     "execution_count": 9,
     "metadata": {},
     "output_type": "execute_result"
    }
   ],
   "source": [
    "friend_cat.lives"
   ]
  },
  {
   "cell_type": "markdown",
   "id": "c9464d37",
   "metadata": {},
   "source": [
    "# Coding Practice"
   ]
  },
  {
   "cell_type": "markdown",
   "id": "066643b7",
   "metadata": {},
   "source": [
    "## Q3: Cat Adoption\n",
    "So far, you've implemented the ```NoisyCat``` based off of the ```Cat``` class. However, you now want to be able to create lots of different Cats!\n",
    "\n",
    "Build on the```Cat``` class from the earlier problem by adding a **class method** called ```adopt_a_cat```. This class method allows you to create ```Cats``` that can then be adopted.\n",
    "\n",
    "Specifically, ```adopt_a_cat``` should return a new instance of a Cat whose owner is ```owner```.\n",
    "\n",
    "This ```Cat``` instance's name and number of lives depends on the ```owner```. Its name should be chosen from ```cat_names``` (provided in the skeleton code), and should correspond to the name at the index ```len(owner) %``` (modulo) the number of possible cat names. Its number of lives should be equal to ```len(owner) + the length of the chosen name```.\n",
    "\n",
    "```python\n",
    "\"\"\"\n",
    "Returns a new instance of a Cat.\n",
    "\n",
    "This instance's owner is the given owner.\n",
    "Its name and its number of lives is chosen programatically\n",
    "based on the spec's noted behavior.\n",
    "\"\"\"\n",
    "    >>> cat1 = Cat.adopt_a_cat(\"Ifeoma\")\n",
    "    >>> isinstance(cat1, Cat)\n",
    "    True\n",
    "    >>> cat1.owner\n",
    "    'Ifeoma'\n",
    "    >>> cat1.name\n",
    "    'Felix'\n",
    "    >>> cat1.lives\n",
    "    11\n",
    "    >>> cat2 = Cat.adopt_a_cat(\"Ay\")\n",
    "    >>> cat2.owner\n",
    "    'Ay'\n",
    "    >>> cat2.name\n",
    "    'Grumpy'\n",
    "    >>> cat2.lives\n",
    "    8\n",
    "```"
   ]
  },
  {
   "cell_type": "markdown",
   "id": "2dcb334b",
   "metadata": {},
   "source": [
    "**Note**: ```@classmethod``` decorator\n",
    "\n",
    "By default, a function definition inside of a class is a bound method that receives an instance of that class\n",
    "\n",
    "To instead, making a function that receives the class itself, use the @classmethod decorator"
   ]
  },
  {
   "cell_type": "code",
   "execution_count": 10,
   "id": "b906949f",
   "metadata": {},
   "outputs": [],
   "source": [
    "class Cat:\n",
    "    def __init__(self, name, owner, lives=9):\n",
    "        self.is_alive = True\n",
    "        self.name = name\n",
    "        self.owner = owner\n",
    "        self.lives = lives\n",
    "\n",
    "    def talk(self):\n",
    "        return self.name + ' says meow!'\n",
    "\n",
    "    @classmethod\n",
    "    def adopt_a_cat(cls, owner):\n",
    "        cat_names = [\"Felix\", \"Bugs\", \"Grumpy\"]\n",
    "        \"*** YOUR CODE HERE ***\"\n",
    "        catname = cat_names[len(owner) % len(cat_names)]\n",
    "        catlives = len(owner) + len(catname)\n",
    "        return cls(catname, owner, catlives)"
   ]
  },
  {
   "cell_type": "code",
   "execution_count": 11,
   "id": "28ebb3aa",
   "metadata": {},
   "outputs": [
    {
     "data": {
      "text/plain": [
       "True"
      ]
     },
     "execution_count": 11,
     "metadata": {},
     "output_type": "execute_result"
    }
   ],
   "source": [
    "cat1 = Cat.adopt_a_cat(\"Ifeoma\")\n",
    "isinstance(cat1, Cat)"
   ]
  },
  {
   "cell_type": "code",
   "execution_count": 12,
   "id": "acc0121f",
   "metadata": {},
   "outputs": [
    {
     "data": {
      "text/plain": [
       "'Ifeoma'"
      ]
     },
     "execution_count": 12,
     "metadata": {},
     "output_type": "execute_result"
    }
   ],
   "source": [
    "cat1.owner"
   ]
  },
  {
   "cell_type": "code",
   "execution_count": 13,
   "id": "acba3a62",
   "metadata": {},
   "outputs": [
    {
     "data": {
      "text/plain": [
       "'Felix'"
      ]
     },
     "execution_count": 13,
     "metadata": {},
     "output_type": "execute_result"
    }
   ],
   "source": [
    "cat1.name"
   ]
  },
  {
   "cell_type": "code",
   "execution_count": 14,
   "id": "23f06a2f",
   "metadata": {},
   "outputs": [
    {
     "data": {
      "text/plain": [
       "11"
      ]
     },
     "execution_count": 14,
     "metadata": {},
     "output_type": "execute_result"
    }
   ],
   "source": [
    "cat1.lives"
   ]
  },
  {
   "cell_type": "code",
   "execution_count": 15,
   "id": "66075328",
   "metadata": {},
   "outputs": [
    {
     "data": {
      "text/plain": [
       "'Ay'"
      ]
     },
     "execution_count": 15,
     "metadata": {},
     "output_type": "execute_result"
    }
   ],
   "source": [
    "cat2 = Cat.adopt_a_cat(\"Ay\")\n",
    "cat2.owner"
   ]
  },
  {
   "cell_type": "code",
   "execution_count": 16,
   "id": "c52d19ab",
   "metadata": {},
   "outputs": [
    {
     "data": {
      "text/plain": [
       "'Grumpy'"
      ]
     },
     "execution_count": 16,
     "metadata": {},
     "output_type": "execute_result"
    }
   ],
   "source": [
    "cat2.name"
   ]
  },
  {
   "cell_type": "code",
   "execution_count": 17,
   "id": "55e1cf32",
   "metadata": {},
   "outputs": [
    {
     "data": {
      "text/plain": [
       "8"
      ]
     },
     "execution_count": 17,
     "metadata": {},
     "output_type": "execute_result"
    }
   ],
   "source": [
    "cat2.lives"
   ]
  },
  {
   "cell_type": "markdown",
   "id": "62126ae4",
   "metadata": {},
   "source": [
    "# Another coding practice: Account\n",
    "\n",
    "Let's say we'd like to model a bank account that can handle interactions such as depositing funds or gaining interest on current funds. In the following questions, we will be building off of the Account class. Here's our current definition of the class:\n",
    "```python\n",
    "    \"\"\"An account has a balance and a holder.\"\"\"\n",
    "    >>> a = Account('John')\n",
    "    >>> a.deposit(10)\n",
    "    10\n",
    "    >>> a.balance\n",
    "    10\n",
    "    >>> a.interest\n",
    "    0.02\n",
    "    >>> a.time_to_retire(10.25) # 10 -> 10.2 -> 10.404\n",
    "    2\n",
    "    >>> a.balance               # balance should not change\n",
    "    10\n",
    "    >>> a.time_to_retire(11)    # 10 -> 10.2 -> ... -> 11.040808032\n",
    "    5\n",
    "    >>> a.time_to_retire(100)\n",
    "    117\n",
    "```"
   ]
  },
  {
   "cell_type": "code",
   "execution_count": 18,
   "id": "298b58e4",
   "metadata": {},
   "outputs": [],
   "source": [
    "class Account:\n",
    "    max_withdrawal = 10\n",
    "    interest = 0.02\n",
    "\n",
    "    def __init__(self, account_holder):\n",
    "        self.balance = 0\n",
    "        self.holder = account_holder\n",
    "\n",
    "    def deposit(self, amount):\n",
    "        self.balance = self.balance + amount\n",
    "        return self.balance\n",
    "\n",
    "    def withdraw(self, amount):\n",
    "        if amount > self.balance:\n",
    "            return \"Insufficient funds\"\n",
    "        if amount > self.max_withdrawal:\n",
    "            return \"Can't withdraw that amount\"\n",
    "        self.balance = self.balance - amount\n",
    "        return self.balance"
   ]
  },
  {
   "cell_type": "markdown",
   "id": "a0cb5724",
   "metadata": {},
   "source": [
    "## Q4: Retirement\n",
    "Add a ```time_to_retire``` method to the ```Account``` class. This method takes in an ```amount``` and returns how many years the holder would need to wait in order for the current ```balance``` to grow to at least ```amount```, assuming that the bank adds ```balance times the interest rate``` to the ```total balance``` at the end of every year."
   ]
  },
  {
   "cell_type": "code",
   "execution_count": 19,
   "id": "8370fef5",
   "metadata": {},
   "outputs": [],
   "source": [
    "class Account:\n",
    "    max_withdrawal = 10\n",
    "    interest = 0.02\n",
    "\n",
    "    def __init__(self, account_holder):\n",
    "        self.balance = 0\n",
    "        self.holder = account_holder\n",
    "\n",
    "    def deposit(self, amount):\n",
    "        self.balance = self.balance + amount\n",
    "        return self.balance\n",
    "\n",
    "    def withdraw(self, amount):\n",
    "        if amount > self.balance:\n",
    "            return \"Insufficient funds\"\n",
    "        if amount > self.max_withdrawal:\n",
    "            return \"Can't withdraw that amount\"\n",
    "        self.balance = self.balance - amount\n",
    "        return self.balance\n",
    "    \n",
    "    def time_to_retire(self, amount):\n",
    "        assert self.balance > 0 and amount > 0 and self.interest > 0\n",
    "        year = 0\n",
    "        target_balance = self.balance\n",
    "        while(target_balance < amount):\n",
    "            target_balance += target_balance * Account.interest\n",
    "            year += 1\n",
    "        return year"
   ]
  },
  {
   "cell_type": "code",
   "execution_count": 20,
   "id": "21c77ac1",
   "metadata": {},
   "outputs": [
    {
     "data": {
      "text/plain": [
       "10"
      ]
     },
     "execution_count": 20,
     "metadata": {},
     "output_type": "execute_result"
    }
   ],
   "source": [
    "a = Account('John')\n",
    "a.deposit(10)"
   ]
  },
  {
   "cell_type": "code",
   "execution_count": 21,
   "id": "c30ac9b2",
   "metadata": {},
   "outputs": [
    {
     "data": {
      "text/plain": [
       "0.02"
      ]
     },
     "execution_count": 21,
     "metadata": {},
     "output_type": "execute_result"
    }
   ],
   "source": [
    "a.interest"
   ]
  },
  {
   "cell_type": "code",
   "execution_count": 22,
   "id": "2d101249",
   "metadata": {},
   "outputs": [
    {
     "data": {
      "text/plain": [
       "10"
      ]
     },
     "execution_count": 22,
     "metadata": {},
     "output_type": "execute_result"
    }
   ],
   "source": [
    "a.balance"
   ]
  },
  {
   "cell_type": "code",
   "execution_count": 23,
   "id": "c7914e8b",
   "metadata": {},
   "outputs": [
    {
     "data": {
      "text/plain": [
       "2"
      ]
     },
     "execution_count": 23,
     "metadata": {},
     "output_type": "execute_result"
    }
   ],
   "source": [
    "a.time_to_retire(10.25)"
   ]
  },
  {
   "cell_type": "code",
   "execution_count": 24,
   "id": "53e1ad0b",
   "metadata": {},
   "outputs": [
    {
     "data": {
      "text/plain": [
       "10"
      ]
     },
     "execution_count": 24,
     "metadata": {},
     "output_type": "execute_result"
    }
   ],
   "source": [
    "a.balance # balance should not change"
   ]
  },
  {
   "cell_type": "code",
   "execution_count": 25,
   "id": "7f9b4f49",
   "metadata": {},
   "outputs": [
    {
     "data": {
      "text/plain": [
       "5"
      ]
     },
     "execution_count": 25,
     "metadata": {},
     "output_type": "execute_result"
    }
   ],
   "source": [
    "a.time_to_retire(11)"
   ]
  },
  {
   "cell_type": "code",
   "execution_count": 26,
   "id": "5e509dcc",
   "metadata": {},
   "outputs": [
    {
     "data": {
      "text/plain": [
       "117"
      ]
     },
     "execution_count": 26,
     "metadata": {},
     "output_type": "execute_result"
    }
   ],
   "source": [
    "a.time_to_retire(100)"
   ]
  },
  {
   "cell_type": "markdown",
   "id": "92426e35",
   "metadata": {},
   "source": [
    "## Q5: FreeChecking\n",
    "\n",
    "Implement the ```FreeChecking``` class, which is like the ```Account``` class from lecture except that it charges a withdraw fee after 2 withdrawals. If a withdrawal is unsuccessful, it still counts towards the number of free withdrawals remaining, but no fee for the withdrawal will be charged.\n",
    "```python\n",
    "    \"\"\"A bank account that charges for withdrawals, but the first two are free!\"\"\"\n",
    "    >>> ch = FreeChecking('Jack')\n",
    "    >>> ch.balance = 20\n",
    "    >>> ch.withdraw(100)  # First one's free\n",
    "    'Insufficient funds'\n",
    "    >>> ch.withdraw(3)    # And the second\n",
    "    17\n",
    "    >>> ch.balance\n",
    "    17\n",
    "    >>> ch.withdraw(3)    # Ok, two free withdrawals is enough\n",
    "    13\n",
    "    >>> ch.withdraw(3)\n",
    "    9\n",
    "    >>> ch2 = FreeChecking('John')\n",
    "    >>> ch2.balance = 10\n",
    "    >>> ch2.withdraw(3) # No fee\n",
    "    7\n",
    "    >>> ch.withdraw(3)  # ch still charges a fee\n",
    "    5\n",
    "    >>> ch.withdraw(5)  # Not enough to cover fee + withdraw\n",
    "    'Insufficient funds'\n",
    "```"
   ]
  },
  {
   "cell_type": "markdown",
   "id": "5e5181ca",
   "metadata": {},
   "source": [
    "**Note: Class variables**\n",
    "\n",
    "Access class variable with ```self``` will shadow the class varaible, now that variable becomes the ```instance variable```"
   ]
  },
  {
   "cell_type": "code",
   "execution_count": 27,
   "id": "e465ff54",
   "metadata": {},
   "outputs": [],
   "source": [
    "class FreeChecking(Account):\n",
    "    withdraw_fee = 1\n",
    "    free_withdrawals = 2\n",
    "\n",
    "    def withdraw(self, amount):\n",
    "        if self.free_withdrawals > 0:\n",
    "            self.free_withdrawals -= 1\n",
    "            return Account.withdraw(self, amount)\n",
    "        else:\n",
    "            return Account.withdraw(self, amount + FreeChecking.withdraw_fee)"
   ]
  },
  {
   "cell_type": "code",
   "execution_count": 28,
   "id": "ab00c2bc",
   "metadata": {},
   "outputs": [
    {
     "data": {
      "text/plain": [
       "'Insufficient funds'"
      ]
     },
     "execution_count": 28,
     "metadata": {},
     "output_type": "execute_result"
    }
   ],
   "source": [
    "ch = FreeChecking('Jack')\n",
    "ch.balance = 20\n",
    "ch.withdraw(100)"
   ]
  },
  {
   "cell_type": "code",
   "execution_count": 29,
   "id": "f4305459",
   "metadata": {},
   "outputs": [
    {
     "data": {
      "text/plain": [
       "17"
      ]
     },
     "execution_count": 29,
     "metadata": {},
     "output_type": "execute_result"
    }
   ],
   "source": [
    "ch.withdraw(3)"
   ]
  },
  {
   "cell_type": "code",
   "execution_count": 30,
   "id": "810a0782",
   "metadata": {},
   "outputs": [
    {
     "data": {
      "text/plain": [
       "17"
      ]
     },
     "execution_count": 30,
     "metadata": {},
     "output_type": "execute_result"
    }
   ],
   "source": [
    "ch.balance"
   ]
  },
  {
   "cell_type": "code",
   "execution_count": 31,
   "id": "3adb3345",
   "metadata": {},
   "outputs": [
    {
     "data": {
      "text/plain": [
       "13"
      ]
     },
     "execution_count": 31,
     "metadata": {},
     "output_type": "execute_result"
    }
   ],
   "source": [
    "ch.withdraw(3) "
   ]
  },
  {
   "cell_type": "code",
   "execution_count": 32,
   "id": "151970c1",
   "metadata": {},
   "outputs": [
    {
     "data": {
      "text/plain": [
       "9"
      ]
     },
     "execution_count": 32,
     "metadata": {},
     "output_type": "execute_result"
    }
   ],
   "source": [
    "ch.withdraw(3)"
   ]
  },
  {
   "cell_type": "code",
   "execution_count": 33,
   "id": "77ec9ce7",
   "metadata": {},
   "outputs": [],
   "source": [
    "ch2 = FreeChecking('John')"
   ]
  },
  {
   "cell_type": "code",
   "execution_count": 34,
   "id": "d92bca64",
   "metadata": {},
   "outputs": [],
   "source": [
    "ch2.balance = 10"
   ]
  },
  {
   "cell_type": "code",
   "execution_count": 35,
   "id": "0840777e",
   "metadata": {},
   "outputs": [
    {
     "data": {
      "text/plain": [
       "7"
      ]
     },
     "execution_count": 35,
     "metadata": {},
     "output_type": "execute_result"
    }
   ],
   "source": [
    "ch2.withdraw(3)"
   ]
  },
  {
   "cell_type": "code",
   "execution_count": 36,
   "id": "332c2871",
   "metadata": {},
   "outputs": [
    {
     "data": {
      "text/plain": [
       "5"
      ]
     },
     "execution_count": 36,
     "metadata": {},
     "output_type": "execute_result"
    }
   ],
   "source": [
    "ch.withdraw(3)"
   ]
  },
  {
   "cell_type": "code",
   "execution_count": 37,
   "id": "829b1c69",
   "metadata": {},
   "outputs": [
    {
     "data": {
      "text/plain": [
       "'Insufficient funds'"
      ]
     },
     "execution_count": 37,
     "metadata": {},
     "output_type": "execute_result"
    }
   ],
   "source": [
    "ch.withdraw(5)"
   ]
  }
 ],
 "metadata": {
  "kernelspec": {
   "display_name": "Python 3",
   "language": "python",
   "name": "python3"
  },
  "language_info": {
   "codemirror_mode": {
    "name": "ipython",
    "version": 3
   },
   "file_extension": ".py",
   "mimetype": "text/x-python",
   "name": "python",
   "nbconvert_exporter": "python",
   "pygments_lexer": "ipython3",
   "version": "3.7.11"
  }
 },
 "nbformat": 4,
 "nbformat_minor": 5
}
