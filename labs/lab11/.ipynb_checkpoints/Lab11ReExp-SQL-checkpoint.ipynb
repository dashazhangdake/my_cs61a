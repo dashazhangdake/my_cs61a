{
 "cells": [
  {
   "cell_type": "code",
   "execution_count": 1,
   "id": "8b92b951",
   "metadata": {},
   "outputs": [],
   "source": [
    "import re"
   ]
  },
  {
   "cell_type": "markdown",
   "id": "962aea96",
   "metadata": {},
   "source": [
    "# Section I: Regular Expression\n",
    "# Q1. What would RegEx match?\n",
    "## Q1.1\n",
    "```\n",
    "Q: #[a-f0-9]{6}\n",
    "Choose the number of the correct choice:\n",
    "0) A hexadecimal color code with 3 letters and 3 numbers\n",
    "1) A hexadecimal color code that starts with letters and ends with numbers, like #gg1234\n",
    "2) Any 6-digit hexadecimal color code, like #fdb515\n",
    "3) Any hexadecimal color code with 0-6 digits\n",
    "```\n",
    "A: 2)"
   ]
  },
  {
   "cell_type": "markdown",
   "id": "5bd7e3d7",
   "metadata": {},
   "source": [
    "## Q1.2\n",
    "```\n",
    "Q: (fizz(buzz|)|buzz)\n",
    "Choose the number of the correct choice:\n",
    "0) Only fizzbuzz or buzz\n",
    "1) Only fizzbuzzbuzz\n",
    "2) Only fizz\n",
    "3) Only fizzbuzz, fizz, and buzz\n",
    "4) Only fizzbuzz\n",
    "```\n",
    "A: 3)"
   ]
  },
  {
   "cell_type": "markdown",
   "id": "318467c5",
   "metadata": {},
   "source": [
    "## Q1.3\n",
    "```\n",
    "Q: [-+]?\\d*\\.?\\d+\n",
    "Choose the number of the correct choice:\n",
    "0) Only signed numbers like +1000, -1.5\n",
    "1) Only signed or unsigned integers like +1000, -33\n",
    "2) Signed or unsigned numbers like +1000, -1.5, .051\n",
    "3) Only unsigned numbers like 0.051\n",
    "```\n",
    "A: 2)"
   ]
  },
  {
   "cell_type": "markdown",
   "id": "66fd695d",
   "metadata": {},
   "source": [
    "## Q1.4\n",
    "```\n",
    "Q: [1-9]+[05]+\n",
    "Choose the number of the correct choice:\n",
    "0) Any positive number\n",
    "1) Numbers that are both greater than 5 and divisible by 5 like 10, 25, 800\n",
    "2) Numbers that are divisible by 5 but do not have the digits 0 and 5 adjacent to each other as the last 2 digits\n",
    "3) Numbers that are divisible by 5 like 5, 20, 6325\n",
    "```\n",
    "A: 1)"
   ]
  },
  {
   "cell_type": "markdown",
   "id": "9555d0b8",
   "metadata": {},
   "source": [
    "# Q2: Scientific Name\n",
    "Returns whether the input string ```name``` follows the correct format for a scientific name. A scientific name's format is as follows: \n",
    "* Starts with a capital letter\n",
    "* Followed by a period, or a series of lowercase letters\n",
    "* Followed by a space\n",
    "* followed by a series of lowercase letters\n",
    "\n",
    "```python\n",
    "    >>> scientific_name(\"T. rex\")\n",
    "    True\n",
    "    >>> scientific_name(\"t. rex\")\n",
    "    False\n",
    "    >>> scientific_name(\"tyrannosurus rex\")\n",
    "    False\n",
    "    >>> scientific_name(\"t rex\")\n",
    "    False\n",
    "    >>> scientific_name(\"Falco peregrinus\")\n",
    "    True\n",
    "    >>> scientific_name(\"F peregrinus\")\n",
    "    False\n",
    "    >>> scientific_name(\"Annie the F. peregrinus\")\n",
    "    False\n",
    "    >>> scientific_name(\"I want a pet T. rex right now\")\n",
    "    False\n",
    "```"
   ]
  },
  {
   "cell_type": "code",
   "execution_count": 46,
   "id": "fd8ac29d",
   "metadata": {},
   "outputs": [],
   "source": [
    "def scientific_name(name):\n",
    "    pattern = r'^[A-Z]((\\.)|([a-z]+))\\s[a-z]+$'\n",
    "    return bool(re.search(pattern, name))"
   ]
  },
  {
   "cell_type": "code",
   "execution_count": 47,
   "id": "83a3faba",
   "metadata": {},
   "outputs": [
    {
     "data": {
      "text/plain": [
       "True"
      ]
     },
     "execution_count": 47,
     "metadata": {},
     "output_type": "execute_result"
    }
   ],
   "source": [
    "scientific_name(\"T. rex\")"
   ]
  },
  {
   "cell_type": "code",
   "execution_count": 48,
   "id": "df7c2333",
   "metadata": {},
   "outputs": [
    {
     "data": {
      "text/plain": [
       "False"
      ]
     },
     "execution_count": 48,
     "metadata": {},
     "output_type": "execute_result"
    }
   ],
   "source": [
    "scientific_name(\"t. rex\")"
   ]
  },
  {
   "cell_type": "code",
   "execution_count": 49,
   "id": "9559830c",
   "metadata": {},
   "outputs": [
    {
     "data": {
      "text/plain": [
       "False"
      ]
     },
     "execution_count": 49,
     "metadata": {},
     "output_type": "execute_result"
    }
   ],
   "source": [
    "scientific_name(\"tyrannosurus rex\")"
   ]
  },
  {
   "cell_type": "code",
   "execution_count": 50,
   "id": "0d5b5648",
   "metadata": {},
   "outputs": [
    {
     "data": {
      "text/plain": [
       "False"
      ]
     },
     "execution_count": 50,
     "metadata": {},
     "output_type": "execute_result"
    }
   ],
   "source": [
    "scientific_name(\"t rex\")"
   ]
  },
  {
   "cell_type": "code",
   "execution_count": 51,
   "id": "bee30381",
   "metadata": {},
   "outputs": [
    {
     "data": {
      "text/plain": [
       "True"
      ]
     },
     "execution_count": 51,
     "metadata": {},
     "output_type": "execute_result"
    }
   ],
   "source": [
    "scientific_name(\"Falco peregrinus\")"
   ]
  },
  {
   "cell_type": "code",
   "execution_count": 52,
   "id": "29e31016",
   "metadata": {},
   "outputs": [
    {
     "data": {
      "text/plain": [
       "False"
      ]
     },
     "execution_count": 52,
     "metadata": {},
     "output_type": "execute_result"
    }
   ],
   "source": [
    "scientific_name(\"F peregrinus\")"
   ]
  },
  {
   "cell_type": "code",
   "execution_count": 53,
   "id": "570c4d88",
   "metadata": {},
   "outputs": [
    {
     "data": {
      "text/plain": [
       "False"
      ]
     },
     "execution_count": 53,
     "metadata": {},
     "output_type": "execute_result"
    }
   ],
   "source": [
    "scientific_name(\"Annie the F. peregrinus\")"
   ]
  },
  {
   "cell_type": "code",
   "execution_count": 54,
   "id": "996f2ff3",
   "metadata": {},
   "outputs": [
    {
     "data": {
      "text/plain": [
       "False"
      ]
     },
     "execution_count": 54,
     "metadata": {},
     "output_type": "execute_result"
    }
   ],
   "source": [
    "scientific_name(\"I want a pet T. rex right now\")"
   ]
  },
  {
   "cell_type": "markdown",
   "id": "e678b2f5",
   "metadata": {},
   "source": [
    "## Q3: Calculator Ops\n",
    "\n",
    "```python\n",
    "    Returns True if an expression from the Calculator language that has two\n",
    "    numeric operands exists in calc_str, False otherwise.\n",
    "\n",
    "    >>> calculator_ops(\"(* 2 4)\")\n",
    "    True\n",
    "    >>> calculator_ops(\"(+ (* 3 (+ (* 2 4) (+ 3 5))) (+ (- 10 7) 6))\")\n",
    "    True\n",
    "    >>> calculator_ops(\"(* 2)\")\n",
    "    False\n",
    "    >>> calculator_ops(\"(/ 8 4 2)\")\n",
    "    False\n",
    "    >>> calculator_ops(\"(- 8 3)\")\n",
    "    True\n",
    "    >>> calculator_ops(\"+ 3 23\")\n",
    "    False\n",
    "```"
   ]
  },
  {
   "cell_type": "code",
   "execution_count": 61,
   "id": "e750b4e4",
   "metadata": {},
   "outputs": [],
   "source": [
    "def calculator_ops(calc_str):\n",
    "    pattern = r'\\(([+\\-/*]\\s+\\d+\\s+\\d+)\\)'\n",
    "    return bool(re.search(pattern, calc_str))"
   ]
  },
  {
   "cell_type": "code",
   "execution_count": 63,
   "id": "1f860503",
   "metadata": {},
   "outputs": [
    {
     "data": {
      "text/plain": [
       "True"
      ]
     },
     "execution_count": 63,
     "metadata": {},
     "output_type": "execute_result"
    }
   ],
   "source": [
    "calculator_ops(\"(+ (* 3 (+ (* 2 4) (+ 3 5))) (+ (- 10 7) 6))\")"
   ]
  },
  {
   "cell_type": "markdown",
   "id": "f71fc4e8",
   "metadata": {},
   "source": [
    "# Section II SQL\n",
    "## Q4: What would SQL print?\n",
    "```sql\n",
    "sqlite> SELECT * FROM students LIMIT 30; -- This is a comment. * is shorthand for all columns!\n",
    "```\n",
    "Get **ALL** contents of the first 30 rows in table ```students```"
   ]
  },
  {
   "cell_type": "markdown",
   "id": "53eb54d8",
   "metadata": {},
   "source": [
    "```sql\n",
    "sqlite> SELECT color FROM students WHERE number = 7;\n",
    "```\n",
    "Get the color column from students **where the \"number\" in that row** == 7"
   ]
  },
  {
   "cell_type": "markdown",
   "id": "49751824",
   "metadata": {},
   "source": [
    "```sql\n",
    " SELECT song, pet FROM students WHERE color = \"blue\" AND date = \"12/25\"\n",
    "```\n",
    "Get the colums ```song, pet``` from students, where color is \"blue\" and date is \"12/25\""
   ]
  },
  {
   "cell_type": "code",
   "execution_count": null,
   "id": "403cdc99",
   "metadata": {},
   "outputs": [],
   "source": []
  }
 ],
 "metadata": {
  "kernelspec": {
   "display_name": "Python 3 (ipykernel)",
   "language": "python",
   "name": "python3"
  },
  "language_info": {
   "codemirror_mode": {
    "name": "ipython",
    "version": 3
   },
   "file_extension": ".py",
   "mimetype": "text/x-python",
   "name": "python",
   "nbconvert_exporter": "python",
   "pygments_lexer": "ipython3",
   "version": "3.7.12"
  }
 },
 "nbformat": 4,
 "nbformat_minor": 5
}
