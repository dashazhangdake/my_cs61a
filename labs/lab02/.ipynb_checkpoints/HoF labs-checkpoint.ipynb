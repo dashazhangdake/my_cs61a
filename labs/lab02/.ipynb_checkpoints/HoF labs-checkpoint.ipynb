{
 "cells": [
  {
   "cell_type": "markdown",
   "id": "263f4bc0",
   "metadata": {},
   "source": [
    "# 1. WWPD: Lambda expressions"
   ]
  },
  {
   "cell_type": "markdown",
   "id": "e9920da0",
   "metadata": {},
   "source": [
    "## Prob1"
   ]
  },
  {
   "cell_type": "markdown",
   "id": "3d81d7f9",
   "metadata": {},
   "source": [
    "Lambda expression with one parameter x"
   ]
  },
  {
   "cell_type": "code",
   "execution_count": 2,
   "id": "47a55c4b",
   "metadata": {},
   "outputs": [
    {
     "data": {
      "text/plain": [
       "<function __main__.<lambda>(x)>"
      ]
     },
     "execution_count": 2,
     "metadata": {},
     "output_type": "execute_result"
    }
   ],
   "source": [
    "lambda x: x "
   ]
  },
  {
   "cell_type": "markdown",
   "id": "4ba91f59",
   "metadata": {},
   "source": [
    "Assign lambda function to a, and call \"function a\""
   ]
  },
  {
   "cell_type": "code",
   "execution_count": 4,
   "id": "06408949",
   "metadata": {},
   "outputs": [
    {
     "data": {
      "text/plain": [
       "5"
      ]
     },
     "execution_count": 4,
     "metadata": {},
     "output_type": "execute_result"
    }
   ],
   "source": [
    "a = lambda x: x\n",
    "a(5)"
   ]
  },
  {
   "cell_type": "markdown",
   "id": "64229b0e",
   "metadata": {},
   "source": [
    "Lambda expressionn as an operator in a call expression"
   ]
  },
  {
   "cell_type": "code",
   "execution_count": 67,
   "id": "8b1f2425",
   "metadata": {},
   "outputs": [
    {
     "data": {
      "text/plain": [
       "<function __main__.<lambda>()>"
      ]
     },
     "execution_count": 67,
     "metadata": {},
     "output_type": "execute_result"
    }
   ],
   "source": [
    "(lambda: 3) # a function of (none)"
   ]
  },
  {
   "cell_type": "code",
   "execution_count": 66,
   "id": "81d73888",
   "metadata": {},
   "outputs": [
    {
     "data": {
      "text/plain": [
       "3"
      ]
     },
     "execution_count": 66,
     "metadata": {},
     "output_type": "execute_result"
    }
   ],
   "source": [
    "(lambda: 3)()"
   ]
  },
  {
   "cell_type": "markdown",
   "id": "b3d78ccb",
   "metadata": {},
   "source": [
    "Lambda call another lambda,\n",
    "first lambda calls the second ```lambda:x```, which takes no argument and returns x"
   ]
  },
  {
   "cell_type": "code",
   "execution_count": 22,
   "id": "66ada53e",
   "metadata": {},
   "outputs": [
    {
     "data": {
      "text/plain": [
       "<function __main__.<lambda>.<locals>.<lambda>()>"
      ]
     },
     "execution_count": 22,
     "metadata": {},
     "output_type": "execute_result"
    }
   ],
   "source": [
    "b = lambda x: lambda: x\n",
    "c= b(88)\n",
    "c ## C is actually the second lambda"
   ]
  },
  {
   "cell_type": "code",
   "execution_count": 23,
   "id": "9c196ad8",
   "metadata": {},
   "outputs": [
    {
     "data": {
      "text/plain": [
       "88"
      ]
     },
     "execution_count": 23,
     "metadata": {},
     "output_type": "execute_result"
    }
   ],
   "source": [
    "c()"
   ]
  },
  {
   "cell_type": "markdown",
   "id": "ebb1f991",
   "metadata": {},
   "source": [
    "Lambda returns a fuction"
   ]
  },
  {
   "cell_type": "code",
   "execution_count": 25,
   "id": "f0cbf1eb",
   "metadata": {},
   "outputs": [
    {
     "data": {
      "text/plain": [
       "16"
      ]
     },
     "execution_count": 25,
     "metadata": {},
     "output_type": "execute_result"
    }
   ],
   "source": [
    "d = lambda f: f(4)\n",
    "def square(x):\n",
    "    return x * x\n",
    "d(square)"
   ]
  },
  {
   "cell_type": "markdown",
   "id": "05331a59",
   "metadata": {},
   "source": [
    "## Prob2"
   ]
  },
  {
   "cell_type": "code",
   "execution_count": 44,
   "id": "e939fbe9",
   "metadata": {},
   "outputs": [],
   "source": [
    "x = None\n",
    "x\n",
    "f = lambda x: x"
   ]
  },
  {
   "cell_type": "code",
   "execution_count": 47,
   "id": "a0dc96ea",
   "metadata": {},
   "outputs": [
    {
     "data": {
      "text/plain": [
       "<function __main__.<lambda>(x)>"
      ]
     },
     "execution_count": 47,
     "metadata": {},
     "output_type": "execute_result"
    }
   ],
   "source": [
    "f"
   ]
  },
  {
   "cell_type": "code",
   "execution_count": 46,
   "id": "26485f3b",
   "metadata": {},
   "outputs": [],
   "source": [
    "f(x)"
   ]
  },
  {
   "cell_type": "code",
   "execution_count": 28,
   "id": "b0c39453",
   "metadata": {},
   "outputs": [
    {
     "data": {
      "text/plain": [
       "4"
      ]
     },
     "execution_count": 28,
     "metadata": {},
     "output_type": "execute_result"
    }
   ],
   "source": [
    "z = 3\n",
    "e = lambda x: lambda y: lambda: x + y + z\n",
    "e(0)(1)() # Returns x + y + z"
   ]
  },
  {
   "cell_type": "code",
   "execution_count": 38,
   "id": "712efbf4",
   "metadata": {},
   "outputs": [
    {
     "name": "stdout",
     "output_type": "stream",
     "text": [
      "4\n"
     ]
    }
   ],
   "source": [
    "f = lambda z: x + z\n",
    "x = 1\n",
    "try:\n",
    "    print(f(z))\n",
    "except:\n",
    "    print(\"x not defined\")"
   ]
  },
  {
   "cell_type": "markdown",
   "id": "2d302474",
   "metadata": {},
   "source": [
    "## Prob3"
   ]
  },
  {
   "cell_type": "code",
   "execution_count": 53,
   "id": "17ee49a8",
   "metadata": {},
   "outputs": [
    {
     "name": "stdout",
     "output_type": "stream",
     "text": [
      "4\n"
     ]
    }
   ],
   "source": [
    "higher_order_lambda = lambda f: lambda x: f(x)\n",
    "g = lambda x: x * x\n",
    "try:\n",
    "    higher_order_lambda(2)(g) # Error, the first argument should be f, second is an imm value\n",
    "except:\n",
    "    print(higher_order_lambda(g)(2))"
   ]
  },
  {
   "cell_type": "code",
   "execution_count": 54,
   "id": "0aa33439",
   "metadata": {},
   "outputs": [
    {
     "data": {
      "text/plain": [
       "3"
      ]
     },
     "execution_count": 54,
     "metadata": {},
     "output_type": "execute_result"
    }
   ],
   "source": [
    "call_thrice = lambda f: lambda x: f(f(f(x)))\n",
    "call_thrice(lambda y: y+1)(0)"
   ]
  },
  {
   "cell_type": "code",
   "execution_count": 59,
   "id": "1903306a",
   "metadata": {},
   "outputs": [
    {
     "data": {
      "text/plain": [
       "<function __main__.<lambda>(z)>"
      ]
     },
     "execution_count": 59,
     "metadata": {},
     "output_type": "execute_result"
    }
   ],
   "source": [
    "print_lambda = lambda z: print(z)  # When is the return expression of a lambda expression executed?\n",
    "print_lambda # a function of z"
   ]
  },
  {
   "cell_type": "code",
   "execution_count": 68,
   "id": "39ce20d3",
   "metadata": {},
   "outputs": [
    {
     "name": "stdout",
     "output_type": "stream",
     "text": [
      "1000\n"
     ]
    }
   ],
   "source": [
    "one_thousand = print_lambda(1000)"
   ]
  },
  {
   "cell_type": "code",
   "execution_count": 70,
   "id": "81ca8742",
   "metadata": {},
   "outputs": [
    {
     "name": "stdout",
     "output_type": "stream",
     "text": [
      "None\n"
     ]
    }
   ],
   "source": [
    "print(one_thousand)"
   ]
  },
  {
   "cell_type": "markdown",
   "id": "f7c54b0d",
   "metadata": {},
   "source": [
    "# WWPD: HoFs"
   ]
  },
  {
   "cell_type": "markdown",
   "id": "9d2ca0f9",
   "metadata": {},
   "source": [
    "## Prob 1"
   ]
  },
  {
   "cell_type": "code",
   "execution_count": 79,
   "id": "545a7aaf",
   "metadata": {},
   "outputs": [],
   "source": [
    "def even(f):\n",
    "    def odd(x):\n",
    "        if x < 0:\n",
    "            return f(-x)\n",
    "        return f(x)\n",
    "    return odd"
   ]
  },
  {
   "cell_type": "code",
   "execution_count": 80,
   "id": "9da2705f",
   "metadata": {},
   "outputs": [
    {
     "data": {
      "text/plain": [
       "<function __main__.even.<locals>.odd(x)>"
      ]
     },
     "execution_count": 80,
     "metadata": {},
     "output_type": "execute_result"
    }
   ],
   "source": [
    "f0 = lambda x: x\n",
    "f1 = even(f0)\n",
    "f1"
   ]
  },
  {
   "cell_type": "code",
   "execution_count": 81,
   "id": "772aaa1d",
   "metadata": {},
   "outputs": [
    {
     "data": {
      "text/plain": [
       "4"
      ]
     },
     "execution_count": 81,
     "metadata": {},
     "output_type": "execute_result"
    }
   ],
   "source": [
    "f1(-4)"
   ]
  },
  {
   "cell_type": "code",
   "execution_count": 82,
   "id": "ab409958",
   "metadata": {},
   "outputs": [
    {
     "data": {
      "text/plain": [
       "80"
      ]
     },
     "execution_count": 82,
     "metadata": {},
     "output_type": "execute_result"
    }
   ],
   "source": [
    "f1(80)"
   ]
  },
  {
   "cell_type": "markdown",
   "id": "737b5487",
   "metadata": {},
   "source": [
    "## Prob 2"
   ]
  },
  {
   "cell_type": "code",
   "execution_count": 97,
   "id": "29c8b11d",
   "metadata": {},
   "outputs": [
    {
     "name": "stdout",
     "output_type": "stream",
     "text": [
      "beets\n"
     ]
    },
    {
     "data": {
      "text/plain": [
       "<function __main__.cake.<locals>.pie()>"
      ]
     },
     "execution_count": 97,
     "metadata": {},
     "output_type": "execute_result"
    }
   ],
   "source": [
    "def cake():\n",
    "    print(\"beets\")\n",
    "    def pie():\n",
    "        print(\"sweets\")\n",
    "        return 'cake'\n",
    "    return pie\n",
    "\n",
    "chocolate = cake()\n",
    "chocolate"
   ]
  },
  {
   "cell_type": "code",
   "execution_count": 98,
   "id": "f4654c5d",
   "metadata": {},
   "outputs": [
    {
     "name": "stdout",
     "output_type": "stream",
     "text": [
      "sweets\n"
     ]
    },
    {
     "data": {
      "text/plain": [
       "'cake'"
      ]
     },
     "execution_count": 98,
     "metadata": {},
     "output_type": "execute_result"
    }
   ],
   "source": [
    "chocolate()"
   ]
  },
  {
   "cell_type": "code",
   "execution_count": 99,
   "id": "1b09e253",
   "metadata": {},
   "outputs": [
    {
     "name": "stdout",
     "output_type": "stream",
     "text": [
      "sweets\n"
     ]
    }
   ],
   "source": [
    "more_chocolate, more_cake = chocolate(), cake"
   ]
  },
  {
   "cell_type": "code",
   "execution_count": 100,
   "id": "4f9a6d37",
   "metadata": {},
   "outputs": [
    {
     "data": {
      "text/plain": [
       "'cake'"
      ]
     },
     "execution_count": 100,
     "metadata": {},
     "output_type": "execute_result"
    }
   ],
   "source": [
    "more_chocolate"
   ]
  },
  {
   "cell_type": "code",
   "execution_count": 101,
   "id": "97880f4b",
   "metadata": {},
   "outputs": [],
   "source": [
    "def snake(x, y):\n",
    "    if cake == more_cake:\n",
    "        return chocolate\n",
    "    else:\n",
    "        return x + y"
   ]
  },
  {
   "cell_type": "code",
   "execution_count": 102,
   "id": "0833f32e",
   "metadata": {},
   "outputs": [
    {
     "data": {
      "text/plain": [
       "<function __main__.cake.<locals>.pie()>"
      ]
     },
     "execution_count": 102,
     "metadata": {},
     "output_type": "execute_result"
    }
   ],
   "source": [
    "snake(10, 20)"
   ]
  },
  {
   "cell_type": "code",
   "execution_count": 103,
   "id": "9726eb49",
   "metadata": {},
   "outputs": [
    {
     "name": "stdout",
     "output_type": "stream",
     "text": [
      "sweets\n"
     ]
    },
    {
     "data": {
      "text/plain": [
       "'cake'"
      ]
     },
     "execution_count": 103,
     "metadata": {},
     "output_type": "execute_result"
    }
   ],
   "source": [
    "snake(10, 20)()"
   ]
  },
  {
   "cell_type": "code",
   "execution_count": 104,
   "id": "1a765d89",
   "metadata": {},
   "outputs": [
    {
     "data": {
      "text/plain": [
       "30"
      ]
     },
     "execution_count": 104,
     "metadata": {},
     "output_type": "execute_result"
    }
   ],
   "source": [
    "cake = ''\n",
    "snake(10, 20)"
   ]
  },
  {
   "cell_type": "markdown",
   "id": "96d1c4b2",
   "metadata": {},
   "source": [
    "# 2. Parsons Problems"
   ]
  },
  {
   "cell_type": "code",
   "execution_count": 117,
   "id": "65a62c32",
   "metadata": {},
   "outputs": [],
   "source": [
    "def hop():\n",
    "    \"\"\"\n",
    "    Calling hop returns a curried version of the function f(x, y) = y.\n",
    "    >>> hop()(3)(2) # .Case 1\n",
    "    2\n",
    "    >>> hop()(3)(7) # .Case 2\n",
    "    7\n",
    "    >>> hop()(4)(7) # .Case 3\n",
    "    7\n",
    "    \"\"\"\n",
    "    \"*** YOUR CODE HERE ***\"\n",
    "    return lambda x: lambda y: y"
   ]
  },
  {
   "cell_type": "code",
   "execution_count": 118,
   "id": "f155bc1e",
   "metadata": {},
   "outputs": [
    {
     "data": {
      "text/plain": [
       "7"
      ]
     },
     "execution_count": 118,
     "metadata": {},
     "output_type": "execute_result"
    }
   ],
   "source": [
    "hop()(3)(7)"
   ]
  },
  {
   "cell_type": "code",
   "execution_count": 152,
   "id": "1d747146",
   "metadata": {},
   "outputs": [],
   "source": [
    "def digit_index_factory(num, k):\n",
    "    \"\"\"\n",
    "    Returns a function that takes no arguments, and outputs the offset\n",
    "    between k and the rightmost digit of num. If k is not in num, then\n",
    "    the returned function returns -1. Note that 0 is considered to\n",
    "    contain no digits (not even 0).\n",
    "    >>> digit_index_factory(34567, 4)() # .Case 1\n",
    "    3\n",
    "    >>> digit_index_factory(30001, 0)() # .Case 2\n",
    "    1\n",
    "    >>> digit_index_factory(999, 1)() # .Case 3\n",
    "    -1\n",
    "    >>> digit_index_factory(1234, 0)() # .Case 4\n",
    "    -1\n",
    "    \"\"\"\n",
    "    \"*** YOUR CODE HERE ***\"\n",
    "    def factory(num, k):\n",
    "        found = False\n",
    "        bitcnt = 0\n",
    "        bit_loc = 0\n",
    "        while (num > 0):\n",
    "            bitcnt += 1\n",
    "            if num % 10 == k and bitcnt > bit_loc:\n",
    "                bit_loc = bitcnt\n",
    "                found = True\n",
    "            num = num // 10\n",
    "        if found:\n",
    "            return bit_loc\n",
    "        else:\n",
    "            return -1\n",
    "        \n",
    "    def passfactory():\n",
    "        return factory(num, k)\n",
    "    \n",
    "    return passfactory # Using passing HoF\n",
    "#     return lambda : factory(num, k) # using lambda"
   ]
  },
  {
   "cell_type": "code",
   "execution_count": 153,
   "id": "d0f38782",
   "metadata": {},
   "outputs": [
    {
     "data": {
      "text/plain": [
       "4"
      ]
     },
     "execution_count": 153,
     "metadata": {},
     "output_type": "execute_result"
    }
   ],
   "source": [
    "digit_index_factory(34567, 4)()"
   ]
  },
  {
   "cell_type": "code",
   "execution_count": 154,
   "id": "61478787",
   "metadata": {},
   "outputs": [
    {
     "data": {
      "text/plain": [
       "1"
      ]
     },
     "execution_count": 154,
     "metadata": {},
     "output_type": "execute_result"
    }
   ],
   "source": [
    "digit_index_factory(30001, 1)()"
   ]
  },
  {
   "cell_type": "markdown",
   "id": "aae0c130",
   "metadata": {},
   "source": [
    "# Lab problems"
   ]
  },
  {
   "cell_type": "markdown",
   "id": "fc04ea5c",
   "metadata": {},
   "source": [
    "## Problem 1: Lambdas and Currying\n",
    "```\n",
    "    Returns a Curried version of a two-argument function FUNC.\n",
    "    >>> from operator import add, mul, mod\n",
    "    >>> curried_add = lambda_curry2(add)\n",
    "    >>> add_three = curried_add(3)\n",
    "    >>> add_three(5)\n",
    "    8\n",
    "    >>> curried_mul = lambda_curry2(mul)\n",
    "    >>> mul_5 = curried_mul(5)\n",
    "    >>> mul_5(42)\n",
    "    210\n",
    "    >>> lambda_curry2(mod)(123)(10)\n",
    "    3\n",
    "```"
   ]
  },
  {
   "cell_type": "code",
   "execution_count": 209,
   "id": "26779d7b",
   "metadata": {},
   "outputs": [],
   "source": [
    "from operator import add, mul, mod\n",
    "\n",
    "def lambda_curry2(func):\n",
    "    return lambda x: lambda y: func(x, y)"
   ]
  },
  {
   "cell_type": "code",
   "execution_count": 210,
   "id": "6871b612",
   "metadata": {},
   "outputs": [
    {
     "data": {
      "text/plain": [
       "3"
      ]
     },
     "execution_count": 210,
     "metadata": {},
     "output_type": "execute_result"
    }
   ],
   "source": [
    "lambda_curry2(mod)(123)(10)"
   ]
  },
  {
   "cell_type": "markdown",
   "id": "ed513b5e",
   "metadata": {},
   "source": [
    "## Problem 2: Count van Count\n",
    "Consider the following implementations of count_factors and count_primes:\n",
    "\n",
    "```python\n",
    "def count_factors(n):\n",
    "    \"\"\"Return the number of positive factors that n has.\n",
    "    >>> count_factors(6)\n",
    "    4   # 1, 2, 3, 6\n",
    "    >>> count_factors(4)\n",
    "    3   # 1, 2, 4\n",
    "    \"\"\"\n",
    "    i = 1\n",
    "    count = 0\n",
    "    while i <= n:\n",
    "        if n % i == 0:\n",
    "            count += 1\n",
    "        i += 1\n",
    "    return count\n",
    "\n",
    "def count_primes(n):\n",
    "    \"\"\"Return the number of prime numbers up to and including n.\n",
    "    >>> count_primes(6)\n",
    "    3   # 2, 3, 5\n",
    "    >>> count_primes(13)\n",
    "    6   # 2, 3, 5, 7, 11, 13\n",
    "    \"\"\"\n",
    "    i = 1\n",
    "    count = 0\n",
    "    while i <= n:\n",
    "        if is_prime(i):\n",
    "            count += 1\n",
    "        i += 1\n",
    "    return count\n",
    "\n",
    "def is_prime(n):\n",
    "    return count_factors(n) == 2 # only factors are 1 and n\n",
    "```\n",
    "\n",
    "The implementations look quite similar! Generalize this logic by writing a function count_cond, which takes in a two-argument predicate function ```condition(n, i)```. ```count_cond``` returns a one-argument function that takes in ```n```, which counts all the numbers from 1 to n that satisfy ```condition``` when called.\n",
    "\n",
    "```\n",
    "    Returns a function with one parameter N that counts all the numbers from\n",
    "    1 to N that satisfy the two-argument predicate function Condition, where\n",
    "    the first argument for Condition is N and the second argument is the\n",
    "    number from 1 to N.\n",
    "\n",
    "    >>> count_factors = count_cond(lambda n, i: n % i == 0)\n",
    "    >>> count_factors(2)   # 1, 2\n",
    "    2\n",
    "    >>> count_factors(4)   # 1, 2, 4\n",
    "    3\n",
    "    >>> count_factors(12)  # 1, 2, 3, 4, 6, 12\n",
    "    6\n",
    "\n",
    "    >>> is_prime = lambda n, i: count_factors(i) == 2\n",
    "    >>> count_primes = count_cond(is_prime)\n",
    "    >>> count_primes(2)    # 2\n",
    "    1\n",
    "    >>> count_primes(3)    # 2, 3\n",
    "    2\n",
    "    >>> count_primes(4)    # 2, 3\n",
    "    2\n",
    "    >>> count_primes(5)    # 2, 3, 5\n",
    "    3\n",
    "    >>> count_primes(20)   # 2, 3, 5, 7, 11, 13, 17, 19\n",
    "    8\n",
    " ```"
   ]
  },
  {
   "cell_type": "code",
   "execution_count": 211,
   "id": "7489645b",
   "metadata": {},
   "outputs": [],
   "source": [
    "def is_prime(n):\n",
    "    return count_factors(n) == 2 # only factors are 1 and n"
   ]
  },
  {
   "cell_type": "markdown",
   "id": "fcab2d50",
   "metadata": {},
   "source": [
    "### Solution:\n",
    "Condition is a function argument with two parameters. Which returns:\n",
    "* either whether i is a factor of n\n",
    "* or is i is a prime number"
   ]
  },
  {
   "cell_type": "code",
   "execution_count": 230,
   "id": "d821d2bd",
   "metadata": {},
   "outputs": [
    {
     "data": {
      "text/plain": [
       "False"
      ]
     },
     "execution_count": 230,
     "metadata": {},
     "output_type": "execute_result"
    }
   ],
   "source": [
    "f = lambda n, i: n % i == 0\n",
    "f(2, 10)"
   ]
  },
  {
   "cell_type": "code",
   "execution_count": 231,
   "id": "a404720f",
   "metadata": {},
   "outputs": [],
   "source": [
    "def count_cond(condition):\n",
    "    def counter(n):\n",
    "        i = 1\n",
    "        count = 0\n",
    "        while i <= n:\n",
    "            if condition(n, i):\n",
    "                count += 1\n",
    "            i += 1\n",
    "        return count\n",
    "    return counter"
   ]
  },
  {
   "cell_type": "code",
   "execution_count": 232,
   "id": "de1aee3a",
   "metadata": {},
   "outputs": [
    {
     "name": "stdout",
     "output_type": "stream",
     "text": [
      "True\n",
      "True\n"
     ]
    }
   ],
   "source": [
    "count_factors = count_cond(lambda n, i: n % i == 0)\n",
    "is_prime = lambda n, i: count_factors(i) == 2\n",
    "print((lambda n, i: n%i == 0)(10, 5))\n",
    "print(is_prime(10, 5))"
   ]
  },
  {
   "cell_type": "code",
   "execution_count": 233,
   "id": "b94ee910",
   "metadata": {},
   "outputs": [
    {
     "data": {
      "text/plain": [
       "3"
      ]
     },
     "execution_count": 233,
     "metadata": {},
     "output_type": "execute_result"
    }
   ],
   "source": [
    "count_factors(4)"
   ]
  },
  {
   "cell_type": "code",
   "execution_count": 234,
   "id": "1d47f740",
   "metadata": {},
   "outputs": [
    {
     "name": "stdout",
     "output_type": "stream",
     "text": [
      "False\n"
     ]
    }
   ],
   "source": [
    "is_prime = lambda n, i: count_factors(i) == 2\n",
    "print(is_prime(10, 6))"
   ]
  },
  {
   "cell_type": "markdown",
   "id": "c3b93c32",
   "metadata": {},
   "source": [
    "## Prob 3: Composite Identity Function\n",
    "Write a function that takes in two single-argument functions, ```f``` and ```g```, and returns another function that has a single parameter ```x```. The returned function should return True if ```f(g(x))``` is equal to ```g(f(x))```. You can assume the output of ```g(x)``` is a valid input for ```f``` and vice versa. Try to use the composer function defined below for more HOF practice."
   ]
  },
  {
   "cell_type": "code",
   "execution_count": 235,
   "id": "e920ca25",
   "metadata": {},
   "outputs": [],
   "source": [
    "def composer(f, g):\n",
    "    \"\"\"Return the composition function which given x, computes f(g(x)).\n",
    "\n",
    "    >>> add_one = lambda x: x + 1        # adds one to x\n",
    "    >>> square = lambda x: x**2\n",
    "    >>> a1 = composer(square, add_one)   # (x + 1)^2\n",
    "    >>> a1(4)\n",
    "    25\n",
    "    >>> mul_three = lambda x: x * 3      # multiplies 3 to x\n",
    "    >>> a2 = composer(mul_three, a1)    # ((x + 1)^2) * 3\n",
    "    >>> a2(4)\n",
    "    75\n",
    "    >>> a2(5)\n",
    "    108\n",
    "    \"\"\"\n",
    "    return lambda x: f(g(x))"
   ]
  },
  {
   "cell_type": "code",
   "execution_count": 239,
   "id": "4539a588",
   "metadata": {},
   "outputs": [
    {
     "name": "stdout",
     "output_type": "stream",
     "text": [
      "36\n"
     ]
    }
   ],
   "source": [
    "add_one = lambda x: x + 1\n",
    "square = lambda x: x**2\n",
    "a1 = composer(square, add_one)(5)\n",
    "print(a1)"
   ]
  },
  {
   "cell_type": "code",
   "execution_count": 243,
   "id": "b5179029",
   "metadata": {},
   "outputs": [],
   "source": [
    "def composite_identity(f, g):\n",
    "    def compare_res(x):\n",
    "        if composer(f, g)(x) == composer(g, f)(x):\n",
    "            return True\n",
    "        else:\n",
    "            return False\n",
    "    return lambda x: compare_res(x)"
   ]
  },
  {
   "cell_type": "code",
   "execution_count": 244,
   "id": "820a4126",
   "metadata": {},
   "outputs": [],
   "source": [
    " b1 = composite_identity(square, add_one)"
   ]
  },
  {
   "cell_type": "code",
   "execution_count": 245,
   "id": "beee0696",
   "metadata": {},
   "outputs": [
    {
     "data": {
      "text/plain": [
       "True"
      ]
     },
     "execution_count": 245,
     "metadata": {},
     "output_type": "execute_result"
    }
   ],
   "source": [
    "b1(0)"
   ]
  },
  {
   "cell_type": "markdown",
   "id": "885e0dbb",
   "metadata": {},
   "source": [
    "## Prob 3: Cycle through the function"
   ]
  }
 ],
 "metadata": {
  "kernelspec": {
   "display_name": "Python 3",
   "language": "python",
   "name": "python3"
  },
  "language_info": {
   "codemirror_mode": {
    "name": "ipython",
    "version": 3
   },
   "file_extension": ".py",
   "mimetype": "text/x-python",
   "name": "python",
   "nbconvert_exporter": "python",
   "pygments_lexer": "ipython3",
   "version": "3.7.11"
  }
 },
 "nbformat": 4,
 "nbformat_minor": 5
}
