{
 "cells": [
  {
   "cell_type": "markdown",
   "id": "28bb0d9b",
   "metadata": {},
   "source": [
    "# 1. WWPD: Lambda expressions"
   ]
  },
  {
   "cell_type": "markdown",
   "id": "007a6bf9",
   "metadata": {},
   "source": [
    "## Prob1"
   ]
  },
  {
   "cell_type": "markdown",
   "id": "6272816f",
   "metadata": {},
   "source": [
    "Lambda expression with one parameter x"
   ]
  },
  {
   "cell_type": "code",
   "execution_count": 1,
   "id": "290b1552",
   "metadata": {},
   "outputs": [
    {
     "data": {
      "text/plain": [
       "<function __main__.<lambda>(x)>"
      ]
     },
     "execution_count": 1,
     "metadata": {},
     "output_type": "execute_result"
    }
   ],
   "source": [
    "lambda x: x "
   ]
  },
  {
   "cell_type": "markdown",
   "id": "39b2377c",
   "metadata": {},
   "source": [
    "Assign lambda function to a, and call \"function a\""
   ]
  },
  {
   "cell_type": "code",
   "execution_count": 2,
   "id": "654826aa",
   "metadata": {},
   "outputs": [
    {
     "data": {
      "text/plain": [
       "5"
      ]
     },
     "execution_count": 2,
     "metadata": {},
     "output_type": "execute_result"
    }
   ],
   "source": [
    "a = lambda x: x\n",
    "a(5)"
   ]
  },
  {
   "cell_type": "markdown",
   "id": "269f9e85",
   "metadata": {},
   "source": [
    "Lambda expressionn as an operator in a call expression"
   ]
  },
  {
   "cell_type": "code",
   "execution_count": 3,
   "id": "1d343d33",
   "metadata": {},
   "outputs": [
    {
     "data": {
      "text/plain": [
       "<function __main__.<lambda>()>"
      ]
     },
     "execution_count": 3,
     "metadata": {},
     "output_type": "execute_result"
    }
   ],
   "source": [
    "(lambda: 3) # a function of (none)"
   ]
  },
  {
   "cell_type": "code",
   "execution_count": 4,
   "id": "7353de9c",
   "metadata": {},
   "outputs": [
    {
     "data": {
      "text/plain": [
       "3"
      ]
     },
     "execution_count": 4,
     "metadata": {},
     "output_type": "execute_result"
    }
   ],
   "source": [
    "(lambda: 3)()"
   ]
  },
  {
   "cell_type": "markdown",
   "id": "e5335488",
   "metadata": {},
   "source": [
    "Lambda call another lambda,\n",
    "first lambda calls the second ```lambda:x```, which takes no argument and returns x"
   ]
  },
  {
   "cell_type": "code",
   "execution_count": 5,
   "id": "3d71b203",
   "metadata": {},
   "outputs": [
    {
     "data": {
      "text/plain": [
       "<function __main__.<lambda>.<locals>.<lambda>()>"
      ]
     },
     "execution_count": 5,
     "metadata": {},
     "output_type": "execute_result"
    }
   ],
   "source": [
    "b = lambda x: lambda: x\n",
    "c= b(88)\n",
    "c ## C is actually the second lambda"
   ]
  },
  {
   "cell_type": "code",
   "execution_count": 6,
   "id": "5af5bd8d",
   "metadata": {},
   "outputs": [
    {
     "data": {
      "text/plain": [
       "88"
      ]
     },
     "execution_count": 6,
     "metadata": {},
     "output_type": "execute_result"
    }
   ],
   "source": [
    "c()"
   ]
  },
  {
   "cell_type": "markdown",
   "id": "7cea5216",
   "metadata": {},
   "source": [
    "Lambda returns a fuction"
   ]
  },
  {
   "cell_type": "code",
   "execution_count": 7,
   "id": "fc0688eb",
   "metadata": {},
   "outputs": [
    {
     "data": {
      "text/plain": [
       "16"
      ]
     },
     "execution_count": 7,
     "metadata": {},
     "output_type": "execute_result"
    }
   ],
   "source": [
    "d = lambda f: f(4)\n",
    "def square(x):\n",
    "    return x * x\n",
    "d(square)"
   ]
  },
  {
   "cell_type": "markdown",
   "id": "f82f4e91",
   "metadata": {},
   "source": [
    "## Prob2"
   ]
  },
  {
   "cell_type": "code",
   "execution_count": 8,
   "id": "953c143e",
   "metadata": {},
   "outputs": [],
   "source": [
    "x = None\n",
    "x\n",
    "f = lambda x: x"
   ]
  },
  {
   "cell_type": "code",
   "execution_count": 9,
   "id": "c59d3186",
   "metadata": {},
   "outputs": [
    {
     "data": {
      "text/plain": [
       "<function __main__.<lambda>(x)>"
      ]
     },
     "execution_count": 9,
     "metadata": {},
     "output_type": "execute_result"
    }
   ],
   "source": [
    "f"
   ]
  },
  {
   "cell_type": "code",
   "execution_count": 10,
   "id": "97617af7",
   "metadata": {},
   "outputs": [],
   "source": [
    "f(x)"
   ]
  },
  {
   "cell_type": "code",
   "execution_count": 11,
   "id": "3e379deb",
   "metadata": {},
   "outputs": [
    {
     "data": {
      "text/plain": [
       "4"
      ]
     },
     "execution_count": 11,
     "metadata": {},
     "output_type": "execute_result"
    }
   ],
   "source": [
    "z = 3\n",
    "e = lambda x: lambda y: lambda: x + y + z\n",
    "e(0)(1)() # Returns x + y + z"
   ]
  },
  {
   "cell_type": "code",
   "execution_count": 12,
   "id": "9bda516b",
   "metadata": {},
   "outputs": [
    {
     "name": "stdout",
     "output_type": "stream",
     "text": [
      "4\n"
     ]
    }
   ],
   "source": [
    "f = lambda z: x + z\n",
    "x = 1\n",
    "try:\n",
    "    print(f(z))\n",
    "except:\n",
    "    print(\"x not defined\")"
   ]
  },
  {
   "cell_type": "markdown",
   "id": "de14e8ef",
   "metadata": {},
   "source": [
    "## Prob3"
   ]
  },
  {
   "cell_type": "code",
   "execution_count": 13,
   "id": "eec425fd",
   "metadata": {},
   "outputs": [
    {
     "name": "stdout",
     "output_type": "stream",
     "text": [
      "4\n"
     ]
    }
   ],
   "source": [
    "higher_order_lambda = lambda f: lambda x: f(x)\n",
    "g = lambda x: x * x\n",
    "try:\n",
    "    higher_order_lambda(2)(g) # Error, the first argument should be f, second is an imm value\n",
    "except:\n",
    "    print(higher_order_lambda(g)(2))"
   ]
  },
  {
   "cell_type": "code",
   "execution_count": 14,
   "id": "a5480ce0",
   "metadata": {},
   "outputs": [
    {
     "data": {
      "text/plain": [
       "3"
      ]
     },
     "execution_count": 14,
     "metadata": {},
     "output_type": "execute_result"
    }
   ],
   "source": [
    "call_thrice = lambda f: lambda x: f(f(f(x)))\n",
    "call_thrice(lambda y: y+1)(0)"
   ]
  },
  {
   "cell_type": "code",
   "execution_count": 15,
   "id": "0bec28d8",
   "metadata": {},
   "outputs": [
    {
     "data": {
      "text/plain": [
       "<function __main__.<lambda>(z)>"
      ]
     },
     "execution_count": 15,
     "metadata": {},
     "output_type": "execute_result"
    }
   ],
   "source": [
    "print_lambda = lambda z: print(z)  # When is the return expression of a lambda expression executed?\n",
    "print_lambda # a function of z"
   ]
  },
  {
   "cell_type": "code",
   "execution_count": 16,
   "id": "9400ce95",
   "metadata": {},
   "outputs": [
    {
     "name": "stdout",
     "output_type": "stream",
     "text": [
      "1000\n"
     ]
    }
   ],
   "source": [
    "one_thousand = print_lambda(1000)"
   ]
  },
  {
   "cell_type": "code",
   "execution_count": 17,
   "id": "2ef3b82b",
   "metadata": {},
   "outputs": [
    {
     "name": "stdout",
     "output_type": "stream",
     "text": [
      "None\n"
     ]
    }
   ],
   "source": [
    "print(one_thousand)"
   ]
  },
  {
   "cell_type": "markdown",
   "id": "29237f5d",
   "metadata": {},
   "source": [
    "# WWPD: HoFs"
   ]
  },
  {
   "cell_type": "markdown",
   "id": "0ad98f47",
   "metadata": {},
   "source": [
    "## Prob 1"
   ]
  },
  {
   "cell_type": "code",
   "execution_count": 18,
   "id": "9561d930",
   "metadata": {},
   "outputs": [],
   "source": [
    "def even(f):\n",
    "    def odd(x):\n",
    "        if x < 0:\n",
    "            return f(-x)\n",
    "        return f(x)\n",
    "    return odd"
   ]
  },
  {
   "cell_type": "code",
   "execution_count": 19,
   "id": "5322dcc4",
   "metadata": {},
   "outputs": [
    {
     "data": {
      "text/plain": [
       "<function __main__.even.<locals>.odd(x)>"
      ]
     },
     "execution_count": 19,
     "metadata": {},
     "output_type": "execute_result"
    }
   ],
   "source": [
    "f0 = lambda x: x\n",
    "f1 = even(f0)\n",
    "f1"
   ]
  },
  {
   "cell_type": "code",
   "execution_count": 20,
   "id": "3263acaf",
   "metadata": {},
   "outputs": [
    {
     "data": {
      "text/plain": [
       "4"
      ]
     },
     "execution_count": 20,
     "metadata": {},
     "output_type": "execute_result"
    }
   ],
   "source": [
    "f1(-4)"
   ]
  },
  {
   "cell_type": "code",
   "execution_count": 21,
   "id": "2b9bedca",
   "metadata": {},
   "outputs": [
    {
     "data": {
      "text/plain": [
       "80"
      ]
     },
     "execution_count": 21,
     "metadata": {},
     "output_type": "execute_result"
    }
   ],
   "source": [
    "f1(80)"
   ]
  },
  {
   "cell_type": "markdown",
   "id": "eb9c64c8",
   "metadata": {},
   "source": [
    "## Prob 2"
   ]
  },
  {
   "cell_type": "code",
   "execution_count": 22,
   "id": "913f01e0",
   "metadata": {},
   "outputs": [
    {
     "name": "stdout",
     "output_type": "stream",
     "text": [
      "beets\n"
     ]
    },
    {
     "data": {
      "text/plain": [
       "<function __main__.cake.<locals>.pie()>"
      ]
     },
     "execution_count": 22,
     "metadata": {},
     "output_type": "execute_result"
    }
   ],
   "source": [
    "def cake():\n",
    "    print(\"beets\")\n",
    "    def pie():\n",
    "        print(\"sweets\")\n",
    "        return 'cake'\n",
    "    return pie\n",
    "\n",
    "chocolate = cake()\n",
    "chocolate"
   ]
  },
  {
   "cell_type": "code",
   "execution_count": 23,
   "id": "a8f3c17d",
   "metadata": {},
   "outputs": [
    {
     "name": "stdout",
     "output_type": "stream",
     "text": [
      "sweets\n"
     ]
    },
    {
     "data": {
      "text/plain": [
       "'cake'"
      ]
     },
     "execution_count": 23,
     "metadata": {},
     "output_type": "execute_result"
    }
   ],
   "source": [
    "chocolate()"
   ]
  },
  {
   "cell_type": "code",
   "execution_count": 24,
   "id": "1b5ead49",
   "metadata": {},
   "outputs": [
    {
     "name": "stdout",
     "output_type": "stream",
     "text": [
      "sweets\n"
     ]
    }
   ],
   "source": [
    "more_chocolate, more_cake = chocolate(), cake"
   ]
  },
  {
   "cell_type": "code",
   "execution_count": 25,
   "id": "8841d767",
   "metadata": {},
   "outputs": [
    {
     "data": {
      "text/plain": [
       "'cake'"
      ]
     },
     "execution_count": 25,
     "metadata": {},
     "output_type": "execute_result"
    }
   ],
   "source": [
    "more_chocolate"
   ]
  },
  {
   "cell_type": "code",
   "execution_count": 26,
   "id": "8942c8bd",
   "metadata": {},
   "outputs": [],
   "source": [
    "def snake(x, y):\n",
    "    if cake == more_cake:\n",
    "        return chocolate\n",
    "    else:\n",
    "        return x + y"
   ]
  },
  {
   "cell_type": "code",
   "execution_count": 27,
   "id": "687cc717",
   "metadata": {},
   "outputs": [
    {
     "data": {
      "text/plain": [
       "<function __main__.cake.<locals>.pie()>"
      ]
     },
     "execution_count": 27,
     "metadata": {},
     "output_type": "execute_result"
    }
   ],
   "source": [
    "snake(10, 20)"
   ]
  },
  {
   "cell_type": "code",
   "execution_count": 28,
   "id": "ec64ef30",
   "metadata": {},
   "outputs": [
    {
     "name": "stdout",
     "output_type": "stream",
     "text": [
      "sweets\n"
     ]
    },
    {
     "data": {
      "text/plain": [
       "'cake'"
      ]
     },
     "execution_count": 28,
     "metadata": {},
     "output_type": "execute_result"
    }
   ],
   "source": [
    "snake(10, 20)()"
   ]
  },
  {
   "cell_type": "code",
   "execution_count": 29,
   "id": "11de902f",
   "metadata": {},
   "outputs": [
    {
     "data": {
      "text/plain": [
       "30"
      ]
     },
     "execution_count": 29,
     "metadata": {},
     "output_type": "execute_result"
    }
   ],
   "source": [
    "cake = ''\n",
    "snake(10, 20)"
   ]
  },
  {
   "cell_type": "markdown",
   "id": "ea6723f9",
   "metadata": {},
   "source": [
    "# 2. Parsons Problems"
   ]
  },
  {
   "cell_type": "code",
   "execution_count": 30,
   "id": "070b1c8d",
   "metadata": {},
   "outputs": [],
   "source": [
    "def hop():\n",
    "    \"\"\"\n",
    "    Calling hop returns a curried version of the function f(x, y) = y.\n",
    "    >>> hop()(3)(2) # .Case 1\n",
    "    2\n",
    "    >>> hop()(3)(7) # .Case 2\n",
    "    7\n",
    "    >>> hop()(4)(7) # .Case 3\n",
    "    7\n",
    "    \"\"\"\n",
    "    \"*** YOUR CODE HERE ***\"\n",
    "    return lambda x: lambda y: y"
   ]
  },
  {
   "cell_type": "code",
   "execution_count": 31,
   "id": "42869815",
   "metadata": {},
   "outputs": [
    {
     "data": {
      "text/plain": [
       "7"
      ]
     },
     "execution_count": 31,
     "metadata": {},
     "output_type": "execute_result"
    }
   ],
   "source": [
    "hop()(3)(7)"
   ]
  },
  {
   "cell_type": "code",
   "execution_count": 32,
   "id": "6bdf621e",
   "metadata": {},
   "outputs": [],
   "source": [
    "def digit_index_factory(num, k):\n",
    "    \"\"\"\n",
    "    Returns a function that takes no arguments, and outputs the offset\n",
    "    between k and the rightmost digit of num. If k is not in num, then\n",
    "    the returned function returns -1. Note that 0 is considered to\n",
    "    contain no digits (not even 0).\n",
    "    >>> digit_index_factory(34567, 4)() # .Case 1\n",
    "    3\n",
    "    >>> digit_index_factory(30001, 0)() # .Case 2\n",
    "    1\n",
    "    >>> digit_index_factory(999, 1)() # .Case 3\n",
    "    -1\n",
    "    >>> digit_index_factory(1234, 0)() # .Case 4\n",
    "    -1\n",
    "    \"\"\"\n",
    "    \"*** YOUR CODE HERE ***\"\n",
    "    def factory(num, k):\n",
    "        found = False\n",
    "        bitcnt = 0\n",
    "        bit_loc = 0\n",
    "        while (num > 0):\n",
    "            bitcnt += 1\n",
    "            if num % 10 == k and bitcnt > bit_loc:\n",
    "                bit_loc = bitcnt\n",
    "                found = True\n",
    "            num = num // 10\n",
    "        if found:\n",
    "            return bit_loc\n",
    "        else:\n",
    "            return -1\n",
    "        \n",
    "    def passfactory():\n",
    "        return factory(num, k)\n",
    "    \n",
    "    return passfactory # Using passing HoF\n",
    "#     return lambda : factory(num, k) # using lambda"
   ]
  },
  {
   "cell_type": "code",
   "execution_count": 33,
   "id": "b2176cea",
   "metadata": {},
   "outputs": [
    {
     "data": {
      "text/plain": [
       "4"
      ]
     },
     "execution_count": 33,
     "metadata": {},
     "output_type": "execute_result"
    }
   ],
   "source": [
    "digit_index_factory(34567, 4)()"
   ]
  },
  {
   "cell_type": "code",
   "execution_count": 34,
   "id": "1b387a4f",
   "metadata": {},
   "outputs": [
    {
     "data": {
      "text/plain": [
       "1"
      ]
     },
     "execution_count": 34,
     "metadata": {},
     "output_type": "execute_result"
    }
   ],
   "source": [
    "digit_index_factory(30001, 1)()"
   ]
  },
  {
   "cell_type": "markdown",
   "id": "bc7c837e",
   "metadata": {},
   "source": [
    "# Lab problems"
   ]
  },
  {
   "cell_type": "markdown",
   "id": "db3ffc84",
   "metadata": {},
   "source": [
    "## Problem 1: Lambdas and Currying\n",
    "```\n",
    "    Returns a Curried version of a two-argument function FUNC.\n",
    "    >>> from operator import add, mul, mod\n",
    "    >>> curried_add = lambda_curry2(add)\n",
    "    >>> add_three = curried_add(3)\n",
    "    >>> add_three(5)\n",
    "    8\n",
    "    >>> curried_mul = lambda_curry2(mul)\n",
    "    >>> mul_5 = curried_mul(5)\n",
    "    >>> mul_5(42)\n",
    "    210\n",
    "    >>> lambda_curry2(mod)(123)(10)\n",
    "    3\n",
    "```"
   ]
  },
  {
   "cell_type": "code",
   "execution_count": 35,
   "id": "2c982474",
   "metadata": {},
   "outputs": [],
   "source": [
    "from operator import add, mul, mod\n",
    "\n",
    "def lambda_curry2(func):\n",
    "    return lambda x: lambda y: func(x, y)"
   ]
  },
  {
   "cell_type": "code",
   "execution_count": 36,
   "id": "c2896bba",
   "metadata": {},
   "outputs": [
    {
     "data": {
      "text/plain": [
       "3"
      ]
     },
     "execution_count": 36,
     "metadata": {},
     "output_type": "execute_result"
    }
   ],
   "source": [
    "lambda_curry2(mod)(123)(10)"
   ]
  },
  {
   "cell_type": "markdown",
   "id": "6f9aa2fb",
   "metadata": {},
   "source": [
    "## Problem 2: Count van Count\n",
    "Consider the following implementations of count_factors and count_primes:\n",
    "\n",
    "```python\n",
    "def count_factors(n):\n",
    "    \"\"\"Return the number of positive factors that n has.\n",
    "    >>> count_factors(6)\n",
    "    4   # 1, 2, 3, 6\n",
    "    >>> count_factors(4)\n",
    "    3   # 1, 2, 4\n",
    "    \"\"\"\n",
    "    i = 1\n",
    "    count = 0\n",
    "    while i <= n:\n",
    "        if n % i == 0:\n",
    "            count += 1\n",
    "        i += 1\n",
    "    return count\n",
    "\n",
    "def count_primes(n):\n",
    "    \"\"\"Return the number of prime numbers up to and including n.\n",
    "    >>> count_primes(6)\n",
    "    3   # 2, 3, 5\n",
    "    >>> count_primes(13)\n",
    "    6   # 2, 3, 5, 7, 11, 13\n",
    "    \"\"\"\n",
    "    i = 1\n",
    "    count = 0\n",
    "    while i <= n:\n",
    "        if is_prime(i):\n",
    "            count += 1\n",
    "        i += 1\n",
    "    return count\n",
    "\n",
    "def is_prime(n):\n",
    "    return count_factors(n) == 2 # only factors are 1 and n\n",
    "```\n",
    "\n",
    "The implementations look quite similar! Generalize this logic by writing a function count_cond, which takes in a two-argument predicate function ```condition(n, i)```. ```count_cond``` returns a one-argument function that takes in ```n```, which counts all the numbers from 1 to n that satisfy ```condition``` when called.\n",
    "\n",
    "```\n",
    "    Returns a function with one parameter N that counts all the numbers from\n",
    "    1 to N that satisfy the two-argument predicate function Condition, where\n",
    "    the first argument for Condition is N and the second argument is the\n",
    "    number from 1 to N.\n",
    "\n",
    "    >>> count_factors = count_cond(lambda n, i: n % i == 0)\n",
    "    >>> count_factors(2)   # 1, 2\n",
    "    2\n",
    "    >>> count_factors(4)   # 1, 2, 4\n",
    "    3\n",
    "    >>> count_factors(12)  # 1, 2, 3, 4, 6, 12\n",
    "    6\n",
    "\n",
    "    >>> is_prime = lambda n, i: count_factors(i) == 2\n",
    "    >>> count_primes = count_cond(is_prime)\n",
    "    >>> count_primes(2)    # 2\n",
    "    1\n",
    "    >>> count_primes(3)    # 2, 3\n",
    "    2\n",
    "    >>> count_primes(4)    # 2, 3\n",
    "    2\n",
    "    >>> count_primes(5)    # 2, 3, 5\n",
    "    3\n",
    "    >>> count_primes(20)   # 2, 3, 5, 7, 11, 13, 17, 19\n",
    "    8\n",
    " ```"
   ]
  },
  {
   "cell_type": "code",
   "execution_count": 37,
   "id": "3ab818c8",
   "metadata": {},
   "outputs": [],
   "source": [
    "def is_prime(n):\n",
    "    return count_factors(n) == 2 # only factors are 1 and n"
   ]
  },
  {
   "cell_type": "markdown",
   "id": "2e8e6502",
   "metadata": {},
   "source": [
    "### Solution:\n",
    "Condition is a function argument with two parameters. Which returns:\n",
    "* either whether i is a factor of n\n",
    "* or is i is a prime number"
   ]
  },
  {
   "cell_type": "code",
   "execution_count": 38,
   "id": "c1b66d70",
   "metadata": {},
   "outputs": [
    {
     "data": {
      "text/plain": [
       "False"
      ]
     },
     "execution_count": 38,
     "metadata": {},
     "output_type": "execute_result"
    }
   ],
   "source": [
    "f = lambda n, i: n % i == 0\n",
    "f(2, 10)"
   ]
  },
  {
   "cell_type": "code",
   "execution_count": 39,
   "id": "35a8d97a",
   "metadata": {},
   "outputs": [],
   "source": [
    "def count_cond(condition):\n",
    "    def counter(n):\n",
    "        i = 1\n",
    "        count = 0\n",
    "        while i <= n:\n",
    "            if condition(n, i):\n",
    "                count += 1\n",
    "            i += 1\n",
    "        return count\n",
    "    return counter"
   ]
  },
  {
   "cell_type": "code",
   "execution_count": 40,
   "id": "aca6125e",
   "metadata": {},
   "outputs": [
    {
     "name": "stdout",
     "output_type": "stream",
     "text": [
      "True\n",
      "True\n"
     ]
    }
   ],
   "source": [
    "count_factors = count_cond(lambda n, i: n % i == 0)\n",
    "is_prime = lambda n, i: count_factors(i) == 2\n",
    "print((lambda n, i: n%i == 0)(10, 5))\n",
    "print(is_prime(10, 5))"
   ]
  },
  {
   "cell_type": "code",
   "execution_count": 41,
   "id": "980eefd1",
   "metadata": {},
   "outputs": [
    {
     "data": {
      "text/plain": [
       "3"
      ]
     },
     "execution_count": 41,
     "metadata": {},
     "output_type": "execute_result"
    }
   ],
   "source": [
    "count_factors(4)"
   ]
  },
  {
   "cell_type": "code",
   "execution_count": 42,
   "id": "2bb18ee3",
   "metadata": {},
   "outputs": [
    {
     "name": "stdout",
     "output_type": "stream",
     "text": [
      "False\n"
     ]
    }
   ],
   "source": [
    "is_prime = lambda n, i: count_factors(i) == 2\n",
    "print(is_prime(10, 6))"
   ]
  },
  {
   "cell_type": "markdown",
   "id": "20f5c1b4",
   "metadata": {},
   "source": [
    "## Prob 3: Composite Identity Function\n",
    "Write a function that takes in two single-argument functions, ```f``` and ```g```, and returns another function that has a single parameter ```x```. The returned function should return True if ```f(g(x))``` is equal to ```g(f(x))```. You can assume the output of ```g(x)``` is a valid input for ```f``` and vice versa. Try to use the composer function defined below for more HOF practice."
   ]
  },
  {
   "cell_type": "code",
   "execution_count": 43,
   "id": "3b9b38d4",
   "metadata": {},
   "outputs": [],
   "source": [
    "def composer(f, g):\n",
    "    \"\"\"Return the composition function which given x, computes f(g(x)).\n",
    "\n",
    "    >>> add_one = lambda x: x + 1        # adds one to x\n",
    "    >>> square = lambda x: x**2\n",
    "    >>> a1 = composer(square, add_one)   # (x + 1)^2\n",
    "    >>> a1(4)\n",
    "    25\n",
    "    >>> mul_three = lambda x: x * 3      # multiplies 3 to x\n",
    "    >>> a2 = composer(mul_three, a1)    # ((x + 1)^2) * 3\n",
    "    >>> a2(4)\n",
    "    75\n",
    "    >>> a2(5)\n",
    "    108\n",
    "    \"\"\"\n",
    "    return lambda x: f(g(x))"
   ]
  },
  {
   "cell_type": "code",
   "execution_count": 44,
   "id": "84bc3f0d",
   "metadata": {},
   "outputs": [
    {
     "name": "stdout",
     "output_type": "stream",
     "text": [
      "36\n"
     ]
    }
   ],
   "source": [
    "add_one = lambda x: x + 1\n",
    "square = lambda x: x**2\n",
    "a1 = composer(square, add_one)(5)\n",
    "print(a1)"
   ]
  },
  {
   "cell_type": "code",
   "execution_count": 45,
   "id": "9c6b578a",
   "metadata": {},
   "outputs": [],
   "source": [
    "def composite_identity(f, g):\n",
    "    def compare_res(x):\n",
    "        if composer(f, g)(x) == composer(g, f)(x):\n",
    "            return True\n",
    "        else:\n",
    "            return False\n",
    "    return lambda x: compare_res(x)"
   ]
  },
  {
   "cell_type": "code",
   "execution_count": 46,
   "id": "ef44e3b7",
   "metadata": {},
   "outputs": [],
   "source": [
    " b1 = composite_identity(square, add_one)"
   ]
  },
  {
   "cell_type": "code",
   "execution_count": 47,
   "id": "897f09fc",
   "metadata": {},
   "outputs": [
    {
     "data": {
      "text/plain": [
       "True"
      ]
     },
     "execution_count": 47,
     "metadata": {},
     "output_type": "execute_result"
    }
   ],
   "source": [
    "b1(0)"
   ]
  },
  {
   "cell_type": "markdown",
   "id": "20dab4da",
   "metadata": {},
   "source": [
    "## Prob 4: Cycle through the functions"
   ]
  },
  {
   "cell_type": "code",
   "execution_count": 51,
   "id": "faf1dd38",
   "metadata": {},
   "outputs": [],
   "source": [
    "def add1(x):\n",
    "    return x + 1\n",
    "def times2(x):\n",
    "    return x * 2\n",
    "def add3(x):\n",
    "    return x + 3"
   ]
  },
  {
   "cell_type": "code",
   "execution_count": 68,
   "id": "20aef352",
   "metadata": {},
   "outputs": [],
   "source": [
    "def cycle(f1, f2, f3):\n",
    "    def ret_fn(n):\n",
    "        def ret(x):\n",
    "            i = 0\n",
    "            while i < n:\n",
    "                if i % 3 == 0:\n",
    "                    x = f1(x)\n",
    "                elif i % 3 == 1:\n",
    "                    x = f2(x)\n",
    "                else:\n",
    "                    x = f3(x)\n",
    "                i += 1\n",
    "            return x\n",
    "        return ret\n",
    "    \n",
    "    return ret_fn"
   ]
  },
  {
   "cell_type": "code",
   "execution_count": 69,
   "id": "d1f80f65",
   "metadata": {},
   "outputs": [
    {
     "data": {
      "text/plain": [
       "6"
      ]
     },
     "execution_count": 69,
     "metadata": {},
     "output_type": "execute_result"
    }
   ],
   "source": [
    "my_cycle = cycle(add1, times2, add3)\n",
    "identity = my_cycle(1)\n",
    "identity(5)"
   ]
  },
  {
   "cell_type": "code",
   "execution_count": 109,
   "id": "cb6cbac7",
   "metadata": {},
   "outputs": [],
   "source": [
    "def simplecycle(f1, f2):\n",
    "    def ret_fn(iters):\n",
    "        def retf(x):\n",
    "            i = 0\n",
    "            while(i < iters):\n",
    "                print(\"called\",i)\n",
    "                x = f1(x)\n",
    "                i += 1\n",
    "            return x\n",
    "        return retf\n",
    "    return ret_fn"
   ]
  },
  {
   "cell_type": "code",
   "execution_count": 110,
   "id": "02694d86",
   "metadata": {},
   "outputs": [],
   "source": [
    "my_cycle1 = simplecycle(add1, times2)\n",
    "res = my_cycle1"
   ]
  },
  {
   "cell_type": "code",
   "execution_count": 112,
   "id": "8ee46dce",
   "metadata": {},
   "outputs": [
    {
     "name": "stdout",
     "output_type": "stream",
     "text": [
      "called 0\n",
      "called 1\n",
      "called 2\n"
     ]
    },
    {
     "data": {
      "text/plain": [
       "8"
      ]
     },
     "execution_count": 112,
     "metadata": {},
     "output_type": "execute_result"
    }
   ],
   "source": [
    "res(3)(5)"
   ]
  },
  {
   "cell_type": "code",
   "execution_count": null,
   "id": "b26f460b",
   "metadata": {},
   "outputs": [],
   "source": []
  }
 ],
 "metadata": {
  "kernelspec": {
   "display_name": "Python 3",
   "language": "python",
   "name": "python3"
  },
  "language_info": {
   "codemirror_mode": {
    "name": "ipython",
    "version": 3
   },
   "file_extension": ".py",
   "mimetype": "text/x-python",
   "name": "python",
   "nbconvert_exporter": "python",
   "pygments_lexer": "ipython3",
   "version": "3.7.11"
  }
 },
 "nbformat": 4,
 "nbformat_minor": 5
}
