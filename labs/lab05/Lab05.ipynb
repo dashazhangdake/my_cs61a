{
 "cells": [
  {
   "cell_type": "markdown",
   "id": "b4f1f346",
   "metadata": {},
   "source": [
    "# Fundamental List mutation ops"
   ]
  },
  {
   "cell_type": "markdown",
   "id": "30bb10f4",
   "metadata": {},
   "source": [
    "### a. Append"
   ]
  },
  {
   "cell_type": "code",
   "execution_count": 35,
   "id": "ca516a8d",
   "metadata": {},
   "outputs": [
    {
     "data": {
      "text/plain": [
       "[5, 6, 7, 8, 6]"
      ]
     },
     "execution_count": 35,
     "metadata": {},
     "output_type": "execute_result"
    }
   ],
   "source": [
    "lst = [5, 6, 7, 8]\n",
    "lst.append(6)\n",
    "lst"
   ]
  },
  {
   "cell_type": "markdown",
   "id": "e77926b0",
   "metadata": {},
   "source": [
    "### b. insert\n",
    "```lst.insert(index, element)```\n",
    "* when index is positive, insert element to the **left** of index\n",
    "    * if **index is larger than length**, then insert to the tail of the list\n",
    "\n",
    "* when index is negative, insert element the left of index"
   ]
  },
  {
   "cell_type": "code",
   "execution_count": 36,
   "id": "df71dc98",
   "metadata": {},
   "outputs": [
    {
     "name": "stdout",
     "output_type": "stream",
     "text": [
      "[5, 91, 6, 7, 81, 8, 6]\n"
     ]
    }
   ],
   "source": [
    "lst.insert(1, 91)\n",
    "lst.insert(4, 81) \n",
    "print(lst)"
   ]
  },
  {
   "cell_type": "markdown",
   "id": "073ef601",
   "metadata": {},
   "source": [
    "### c. pop\n",
    "```pop(idx)```\n",
    "\n",
    "Evict the element at index==idx, and return ```lst[idx]```"
   ]
  },
  {
   "cell_type": "code",
   "execution_count": 3,
   "id": "961bda0a",
   "metadata": {},
   "outputs": [
    {
     "name": "stdout",
     "output_type": "stream",
     "text": [
      "[5, 6, 8, 81, 6, 91] 7\n"
     ]
    }
   ],
   "source": [
    "x = lst.pop(2)\n",
    "print(lst, x)"
   ]
  },
  {
   "cell_type": "markdown",
   "id": "1d49e718",
   "metadata": {},
   "source": [
    "### d. remove\n",
    "```remove(x)```\n",
    "remove the first occurance of ```element==x```"
   ]
  },
  {
   "cell_type": "code",
   "execution_count": 4,
   "id": "c3e17e31",
   "metadata": {},
   "outputs": [
    {
     "name": "stdout",
     "output_type": "stream",
     "text": [
      "[6, 8, 81, 6, 91]\n"
     ]
    }
   ],
   "source": [
    "lst.remove(5)\n",
    "print(lst)"
   ]
  },
  {
   "cell_type": "markdown",
   "id": "cab8d75e",
   "metadata": {},
   "source": [
    "### e. copying list"
   ]
  },
  {
   "cell_type": "code",
   "execution_count": 5,
   "id": "2c88a05c",
   "metadata": {},
   "outputs": [],
   "source": [
    "a, b = lst, lst[:]"
   ]
  },
  {
   "cell_type": "markdown",
   "id": "ddef0e51",
   "metadata": {},
   "source": [
    "a is the same lst as lst, b points to a copy of lst"
   ]
  },
  {
   "cell_type": "code",
   "execution_count": 6,
   "id": "6cae2765",
   "metadata": {},
   "outputs": [
    {
     "name": "stdout",
     "output_type": "stream",
     "text": [
      "True\n",
      "False\n"
     ]
    }
   ],
   "source": [
    "print(a is lst)\n",
    "print(b is lst)"
   ]
  },
  {
   "cell_type": "markdown",
   "id": "6e11887e",
   "metadata": {},
   "source": [
    "comparing by value, b == lst"
   ]
  },
  {
   "cell_type": "code",
   "execution_count": 7,
   "id": "de6ecd67",
   "metadata": {},
   "outputs": [
    {
     "name": "stdout",
     "output_type": "stream",
     "text": [
      "True\n"
     ]
    }
   ],
   "source": [
    "print(b == lst)"
   ]
  },
  {
   "cell_type": "markdown",
   "id": "6959c991",
   "metadata": {},
   "source": [
    "### f. extend\n",
    "lst1.extend(lst2)\n",
    "equivalent to lst1 = lst1 + lst2"
   ]
  },
  {
   "cell_type": "code",
   "execution_count": 8,
   "id": "6a92faf3",
   "metadata": {},
   "outputs": [
    {
     "data": {
      "text/plain": [
       "[1, 2, 3, 4, 5]"
      ]
     },
     "execution_count": 8,
     "metadata": {},
     "output_type": "execute_result"
    }
   ],
   "source": [
    "lst = [1, 2, 3]\n",
    "lst2 = [4, 5]\n",
    "lst.extend(lst2)\n",
    "\n",
    "# lst = lst + lst2\n",
    "lst"
   ]
  },
  {
   "cell_type": "markdown",
   "id": "a487e891",
   "metadata": {},
   "source": [
    "A weird exercise\n",
    "\n",
    "In this example, this line just append elements to the ```lst```.\n",
    "\n",
    "As ```[lst.append(9), lst.append(10)]``` returns```[None, None]```, lst is extended by ```[None, None]```"
   ]
  },
  {
   "cell_type": "code",
   "execution_count": 9,
   "id": "fb9d1608",
   "metadata": {},
   "outputs": [
    {
     "data": {
      "text/plain": [
       "[1, 2, 3, 4, 5, 101, 10, None, None]"
      ]
     },
     "execution_count": 9,
     "metadata": {},
     "output_type": "execute_result"
    }
   ],
   "source": [
    "lst.extend([lst.append(101), lst.append(10)])\n",
    "lst"
   ]
  },
  {
   "cell_type": "code",
   "execution_count": 10,
   "id": "e0c57f45",
   "metadata": {},
   "outputs": [
    {
     "data": {
      "text/plain": [
       "[None, None]"
      ]
     },
     "execution_count": 10,
     "metadata": {},
     "output_type": "execute_result"
    }
   ],
   "source": [
    "[lst.append(9), lst.append(10)]"
   ]
  },
  {
   "cell_type": "code",
   "execution_count": 11,
   "id": "319ce42f",
   "metadata": {},
   "outputs": [
    {
     "data": {
      "text/plain": [
       "[1, 2, 3, 4, 5, 101, 10, None, None, 9, 10]"
      ]
     },
     "execution_count": 11,
     "metadata": {},
     "output_type": "execute_result"
    }
   ],
   "source": [
    "lst"
   ]
  },
  {
   "cell_type": "markdown",
   "id": "82bcfc70",
   "metadata": {},
   "source": [
    "# Real Questions"
   ]
  },
  {
   "cell_type": "markdown",
   "id": "d44f9aca",
   "metadata": {},
   "source": [
    "## Q3. Flatten()\n",
    "Write a function flatten that takes a list and \"flattens\" it. The list could be a deep list, meaning that there could be a multiple layers of nesting within the list.\n",
    "\n",
    "```python \n",
    "    Returns a flattened version of list s.\n",
    "    >>> flatten([1, 2, 3])     # normal list\n",
    "    [1, 2, 3]\n",
    "    >>> x = [1, [2, 3], 4]     # deep list\n",
    "    >>> flatten(x)\n",
    "    [1, 2, 3, 4]\n",
    "    >>> x # Ensure x is not mutated\n",
    "    [1, [2, 3], 4]\n",
    "    >>> x = [[1, [1, 1]], 1, [1, 1]] # deep list\n",
    "    >>> flatten(x)\n",
    "    [1, 1, 1, 1, 1, 1]\n",
    "    >>> x\n",
    "    [[1, [1, 1]], 1, [1, 1]]\n",
    "```"
   ]
  },
  {
   "cell_type": "code",
   "execution_count": 15,
   "id": "1643f844",
   "metadata": {},
   "outputs": [],
   "source": [
    "def flatten(s):\n",
    "    if s == []:\n",
    "        return []\n",
    "    elif type(s[0])==list:\n",
    "        return flatten(s[0]) + flatten(s[1:])\n",
    "    else:\n",
    "        return [s[0]] + flatten(s[1:])"
   ]
  },
  {
   "cell_type": "code",
   "execution_count": 16,
   "id": "b8de09b6",
   "metadata": {},
   "outputs": [
    {
     "data": {
      "text/plain": [
       "[1, 2, 3, 4]"
      ]
     },
     "execution_count": 16,
     "metadata": {},
     "output_type": "execute_result"
    }
   ],
   "source": [
    "x = [1, [2, 3], 4]\n",
    "flatten(x)"
   ]
  },
  {
   "cell_type": "markdown",
   "id": "0e9876fb",
   "metadata": {},
   "source": [
    "## Q4. Couple\n",
    "Implement the function couple, which takes in two lists and returns a list that contains lists with i-th elements of two sequences coupled together. You can assume the lengths of two sequences are the same. Try using a list comprehension.\n",
    "\n",
    "```python\n",
    "    Return a list of two-element lists in which the i-th element is [s[i], t[i]].\n",
    "\n",
    "    >>> a = [1, 2, 3]\n",
    "    >>> b = [4, 5, 6]\n",
    "    >>> couple(a, b)\n",
    "    [[1, 4], [2, 5], [3, 6]]\n",
    "    >>> c = ['c', 6]\n",
    "    >>> d = ['s', '1']\n",
    "    >>> couple(c, d)\n",
    "    [['c', 's'], [6, '1']]\n",
    "```\n",
    "**Hint** apart from passing list elements, passing index in list comprehensions could also be useful"
   ]
  },
  {
   "cell_type": "code",
   "execution_count": 17,
   "id": "64dbdc62",
   "metadata": {},
   "outputs": [],
   "source": [
    "def couple(s, t):\n",
    "    assert len(s) == len(t)\n",
    "    res = [[s[i], t[i]] for i in range(len(s))]\n",
    "    return res"
   ]
  },
  {
   "cell_type": "code",
   "execution_count": 18,
   "id": "47958191",
   "metadata": {},
   "outputs": [
    {
     "data": {
      "text/plain": [
       "[[1, 4], [2, 5], [3, 6]]"
      ]
     },
     "execution_count": 18,
     "metadata": {},
     "output_type": "execute_result"
    }
   ],
   "source": [
    "a = [1, 2, 3]\n",
    "b = [4, 5, 6]\n",
    "couple(a, b)"
   ]
  },
  {
   "cell_type": "markdown",
   "id": "389e9622",
   "metadata": {},
   "source": [
    "## Q5. Insertion\n",
    "Write a function which takes in a list lst, an argument entry, and another argument elem. This function will check through each item in lst to see if it is equal to entry. Upon finding an item equal to entry, the function should modify the list by placing elem into lst right after the item. At the end of the function, the modified list should be returned.\n",
    "\n",
    "```python\n",
    "    Inserts elem into lst after each occurence of entry and then returns lst.\n",
    "\n",
    "    >>> test_lst = [1, 5, 8, 5, 2, 3]\n",
    "    >>> new_lst = insert_items(test_lst, 5, 7)\n",
    "    >>> new_lst\n",
    "    [1, 5, 7, 8, 5, 7, 2, 3]\n",
    "    >>> double_lst = [1, 2, 1, 2, 3, 3]\n",
    "    >>> double_lst = insert_items(double_lst, 3, 4)\n",
    "    >>> double_lst\n",
    "    [1, 2, 1, 2, 3, 4, 3, 4]\n",
    "    >>> large_lst = [1, 4, 8]\n",
    "    >>> large_lst2 = insert_items(large_lst, 4, 4)\n",
    "    >>> large_lst2\n",
    "    [1, 4, 4, 8]\n",
    "    >>> large_lst3 = insert_items(large_lst2, 4, 6)\n",
    "    >>> large_lst3\n",
    "    [1, 4, 6, 4, 6, 8]\n",
    "    >>> large_lst3 is large_lst\n",
    "    True\n",
    "```"
   ]
  },
  {
   "cell_type": "markdown",
   "id": "436b9701",
   "metadata": {},
   "source": [
    "### Solution1 by recursion: A new list is created"
   ]
  },
  {
   "cell_type": "code",
   "execution_count": 26,
   "id": "6a9666a8",
   "metadata": {},
   "outputs": [],
   "source": [
    "def insert_items0(lst, entry, elem):\n",
    "    if lst == []:\n",
    "        return []\n",
    "    elif lst[0] == entry:\n",
    "        return [lst[0]] + [elem] + insert_items0(lst[1:], entry, elem)\n",
    "    else:\n",
    "        return [lst[0]] + insert_items0(lst[1:], entry, elem)"
   ]
  },
  {
   "cell_type": "code",
   "execution_count": 27,
   "id": "8639a4fb",
   "metadata": {},
   "outputs": [
    {
     "name": "stdout",
     "output_type": "stream",
     "text": [
      "[1, 4, 4, 8]\n"
     ]
    }
   ],
   "source": [
    "large_lst = [1, 4, 8]\n",
    "large_lst2 = insert_items0(large_lst, 4, 4)\n",
    "print(large_lst2)"
   ]
  },
  {
   "cell_type": "markdown",
   "id": "ac922d44",
   "metadata": {},
   "source": [
    "### Solution2 by interation: Insert in place"
   ]
  },
  {
   "cell_type": "code",
   "execution_count": 1,
   "id": "8142770d",
   "metadata": {},
   "outputs": [],
   "source": [
    "def insert_items1(lst, entry, elem):\n",
    "    idx = 0\n",
    "    while idx < len(lst):\n",
    "        if entry == lst[idx]:\n",
    "            lst.insert(idx + 1, elem)\n",
    "#             if entry == elem:\n",
    "#                 idx += 1\n",
    "        idx += 1\n",
    "    return lst"
   ]
  },
  {
   "cell_type": "code",
   "execution_count": 2,
   "id": "f7e91448",
   "metadata": {},
   "outputs": [
    {
     "ename": "KeyboardInterrupt",
     "evalue": "",
     "output_type": "error",
     "traceback": [
      "\u001b[0;31m---------------------------------------------------------------------------\u001b[0m",
      "\u001b[0;31mKeyboardInterrupt\u001b[0m                         Traceback (most recent call last)",
      "\u001b[0;32m<ipython-input-2-35874b57f16c>\u001b[0m in \u001b[0;36m<module>\u001b[0;34m\u001b[0m\n\u001b[1;32m      1\u001b[0m \u001b[0mlarge_lst\u001b[0m \u001b[0;34m=\u001b[0m \u001b[0;34m[\u001b[0m\u001b[0;36m1\u001b[0m\u001b[0;34m,\u001b[0m \u001b[0;36m4\u001b[0m\u001b[0;34m,\u001b[0m \u001b[0;36m8\u001b[0m\u001b[0;34m]\u001b[0m\u001b[0;34m\u001b[0m\u001b[0;34m\u001b[0m\u001b[0m\n\u001b[0;32m----> 2\u001b[0;31m \u001b[0mlarge_lst2\u001b[0m \u001b[0;34m=\u001b[0m \u001b[0minsert_items1\u001b[0m\u001b[0;34m(\u001b[0m\u001b[0mlarge_lst\u001b[0m\u001b[0;34m,\u001b[0m \u001b[0;36m4\u001b[0m\u001b[0;34m,\u001b[0m \u001b[0;36m4\u001b[0m\u001b[0;34m)\u001b[0m\u001b[0;34m\u001b[0m\u001b[0;34m\u001b[0m\u001b[0m\n\u001b[0m",
      "\u001b[0;32m<ipython-input-1-2338db2ed6e3>\u001b[0m in \u001b[0;36minsert_items1\u001b[0;34m(lst, entry, elem)\u001b[0m\n\u001b[1;32m      3\u001b[0m     \u001b[0;32mwhile\u001b[0m \u001b[0midx\u001b[0m \u001b[0;34m<\u001b[0m \u001b[0mlen\u001b[0m\u001b[0;34m(\u001b[0m\u001b[0mlst\u001b[0m\u001b[0;34m)\u001b[0m\u001b[0;34m:\u001b[0m\u001b[0;34m\u001b[0m\u001b[0;34m\u001b[0m\u001b[0m\n\u001b[1;32m      4\u001b[0m         \u001b[0;32mif\u001b[0m \u001b[0mentry\u001b[0m \u001b[0;34m==\u001b[0m \u001b[0mlst\u001b[0m\u001b[0;34m[\u001b[0m\u001b[0midx\u001b[0m\u001b[0;34m]\u001b[0m\u001b[0;34m:\u001b[0m\u001b[0;34m\u001b[0m\u001b[0;34m\u001b[0m\u001b[0m\n\u001b[0;32m----> 5\u001b[0;31m             \u001b[0mlst\u001b[0m\u001b[0;34m.\u001b[0m\u001b[0minsert\u001b[0m\u001b[0;34m(\u001b[0m\u001b[0midx\u001b[0m \u001b[0;34m+\u001b[0m \u001b[0;36m1\u001b[0m\u001b[0;34m,\u001b[0m \u001b[0melem\u001b[0m\u001b[0;34m)\u001b[0m\u001b[0;34m\u001b[0m\u001b[0;34m\u001b[0m\u001b[0m\n\u001b[0m\u001b[1;32m      6\u001b[0m \u001b[0;31m#             if entry == elem:\u001b[0m\u001b[0;34m\u001b[0m\u001b[0;34m\u001b[0m\u001b[0;34m\u001b[0m\u001b[0m\n\u001b[1;32m      7\u001b[0m \u001b[0;31m#                 idx += 1\u001b[0m\u001b[0;34m\u001b[0m\u001b[0;34m\u001b[0m\u001b[0;34m\u001b[0m\u001b[0m\n",
      "\u001b[0;31mKeyboardInterrupt\u001b[0m: "
     ]
    }
   ],
   "source": [
    "large_lst = [1, 4, 8]\n",
    "large_lst2 = insert_items1(large_lst, 4, 4)"
   ]
  },
  {
   "cell_type": "code",
   "execution_count": null,
   "id": "a9d931da",
   "metadata": {},
   "outputs": [],
   "source": [
    "large_lst2"
   ]
  },
  {
   "cell_type": "code",
   "execution_count": null,
   "id": "f88f5df6",
   "metadata": {},
   "outputs": [],
   "source": [
    "double_lst = [1, 2, 1, 2, 3, 3]\n",
    "double_lst = insert_items1(double_lst, 3, 3)\n",
    "print(double_lst)"
   ]
  },
  {
   "cell_type": "code",
   "execution_count": null,
   "id": "04b3df6f",
   "metadata": {},
   "outputs": [],
   "source": []
  }
 ],
 "metadata": {
  "kernelspec": {
   "display_name": "Python 3",
   "language": "python",
   "name": "python3"
  },
  "language_info": {
   "codemirror_mode": {
    "name": "ipython",
    "version": 3
   },
   "file_extension": ".py",
   "mimetype": "text/x-python",
   "name": "python",
   "nbconvert_exporter": "python",
   "pygments_lexer": "ipython3",
   "version": "3.7.11"
  }
 },
 "nbformat": 4,
 "nbformat_minor": 5
}
