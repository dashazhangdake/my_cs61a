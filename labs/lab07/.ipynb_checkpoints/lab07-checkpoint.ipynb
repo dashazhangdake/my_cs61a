{
 "cells": [
  {
   "cell_type": "code",
   "execution_count": 1,
   "id": "da29be81",
   "metadata": {},
   "outputs": [],
   "source": [
    "from lab07 import *"
   ]
  },
  {
   "cell_type": "markdown",
   "id": "d1da829a",
   "metadata": {},
   "source": [
    "# Warmup Problems\n",
    "## Q2: Reverse Link\n",
    "\n",
    "Write a function that takes in a linked list and returns a reversed version of that linked list (with elements in the opposite order). It should not mutate the original list.\n",
    "```python\n",
    ">>> s = Link(1, Link(2, Link(3, Link.empty)))\n",
    ">>> reverse_link(s)\n",
    "Link(3, Link(2, Link(1)))\n",
    ">>> s\n",
    "Link(1, Link(2, Link(3)))\n",
    ">>> k = Link(3, Link(5, Link(7, Link(9))))\n",
    ">>> reverse_link(k)\n",
    "Link(9, Link(7, Link(5, Link(3))))\n",
    ">>> k\n",
    "Link(3, Link(5, Link(7, Link(9))))\n",
    "```"
   ]
  },
  {
   "cell_type": "code",
   "execution_count": 2,
   "id": "63997c51",
   "metadata": {},
   "outputs": [],
   "source": [
    "def reverse_link(lnk):\n",
    "    res = ()\n",
    "    while lnk != Link.empty:\n",
    "        curr_first = lnk.first\n",
    "        res = Link(curr_first, res)\n",
    "        lnk = lnk.rest\n",
    "    return res"
   ]
  },
  {
   "cell_type": "code",
   "execution_count": 3,
   "id": "0b898d32",
   "metadata": {},
   "outputs": [
    {
     "data": {
      "text/plain": [
       "Link(3, Link(2, Link(1)))"
      ]
     },
     "execution_count": 3,
     "metadata": {},
     "output_type": "execute_result"
    }
   ],
   "source": [
    "s = Link(1, Link(2, Link(3, Link.empty)))\n",
    "reverse_link(s)"
   ]
  },
  {
   "cell_type": "code",
   "execution_count": 4,
   "id": "4dc0d7d7",
   "metadata": {},
   "outputs": [
    {
     "data": {
      "text/plain": [
       "Link(9, Link(7, Link(5, Link(3))))"
      ]
     },
     "execution_count": 4,
     "metadata": {},
     "output_type": "execute_result"
    }
   ],
   "source": [
    "k = Link(3, Link(5, Link(7, Link(9))))\n",
    "reverse_link(k)"
   ]
  },
  {
   "cell_type": "code",
   "execution_count": 5,
   "id": "eba61e02",
   "metadata": {},
   "outputs": [
    {
     "data": {
      "text/plain": [
       "Link(3, Link(5, Link(7, Link(9))))"
      ]
     },
     "execution_count": 5,
     "metadata": {},
     "output_type": "execute_result"
    }
   ],
   "source": [
    "k"
   ]
  },
  {
   "cell_type": "markdown",
   "id": "ff506e3b",
   "metadata": {},
   "source": [
    "## Q3: Label Multiplier\n",
    "Write a function label_multiplier that takes in a Tree and an integer val. label_multiplier should mutate the tree's labels by multiplying their original value by val.\n",
    "```python\n",
    ">>> t1 = Tree(2, [Tree(4, [Tree(6)]), Tree(8)])\n",
    ">>> label_multiplier(t1, 10)\n",
    ">>> t1\n",
    "Tree(20, [Tree(40, [Tree(60)]), Tree(80)])\n",
    ">>> t2 = Tree(10, [Tree(9), Tree(8, [Tree(7), Tree(6)]), Tree(5, [Tree(4), Tree(3), Tree(2)])])\n",
    ">>> label_multiplier(t2, 3)\n",
    ">>> t2\n",
    "Tree(30, [Tree(27), Tree(24, [Tree(21), Tree(18)]), Tree(15, [Tree(12), Tree(9), Tree(6)])])\n",
    "```"
   ]
  },
  {
   "cell_type": "code",
   "execution_count": 6,
   "id": "37c120e1",
   "metadata": {},
   "outputs": [],
   "source": [
    "def label_multiplier(t, val):\n",
    "    t.label = t.label * val\n",
    "    for b in t.branches:\n",
    "        label_multiplier(b, val)\n",
    "    return"
   ]
  },
  {
   "cell_type": "code",
   "execution_count": 7,
   "id": "0daec317",
   "metadata": {},
   "outputs": [
    {
     "data": {
      "text/plain": [
       "Tree(20, [Tree(40, [Tree(60)]), Tree(80)])"
      ]
     },
     "execution_count": 7,
     "metadata": {},
     "output_type": "execute_result"
    }
   ],
   "source": [
    "t1 = Tree(2, [Tree(4, [Tree(6)]), Tree(8)])\n",
    "label_multiplier(t1, 10)\n",
    "t1"
   ]
  },
  {
   "cell_type": "code",
   "execution_count": 8,
   "id": "8e7b943e",
   "metadata": {},
   "outputs": [
    {
     "data": {
      "text/plain": [
       "Tree(30, [Tree(27), Tree(24, [Tree(21), Tree(18)]), Tree(15, [Tree(12), Tree(9), Tree(6)])])"
      ]
     },
     "execution_count": 8,
     "metadata": {},
     "output_type": "execute_result"
    }
   ],
   "source": [
    "t2 = Tree(10, [Tree(9), Tree(8, [Tree(7), Tree(6)]), Tree(5, [Tree(4), Tree(3), Tree(2)])])\n",
    "label_multiplier(t2, 3)\n",
    "t2"
   ]
  },
  {
   "cell_type": "markdown",
   "id": "b9a80dcc",
   "metadata": {},
   "source": [
    "# Coding Practice\n",
    "## Q4: Store Digits\n",
    "Write a function store_digits that takes in an integer n and returns a linked list where each element of the list is a digit of n."
   ]
  },
  {
   "cell_type": "code",
   "execution_count": 9,
   "id": "27a3ede8",
   "metadata": {},
   "outputs": [],
   "source": [
    "def store_digits(n):\n",
    "    templist = ()\n",
    "    while n > 0:\n",
    "        templist = Link(n % 10, templist)\n",
    "        n = n // 10\n",
    "    return templist"
   ]
  },
  {
   "cell_type": "code",
   "execution_count": 10,
   "id": "05d580b2",
   "metadata": {},
   "outputs": [
    {
     "data": {
      "text/plain": [
       "Link(1, Link(2, Link(3)))"
      ]
     },
     "execution_count": 10,
     "metadata": {},
     "output_type": "execute_result"
    }
   ],
   "source": [
    "res = store_digits(123)\n",
    "res"
   ]
  },
  {
   "cell_type": "code",
   "execution_count": 11,
   "id": "51db977f",
   "metadata": {},
   "outputs": [
    {
     "data": {
      "text/plain": [
       "Link(3, Link(2, Link(1)))"
      ]
     },
     "execution_count": 11,
     "metadata": {},
     "output_type": "execute_result"
    }
   ],
   "source": [
    "reverse_link(res)"
   ]
  },
  {
   "cell_type": "markdown",
   "id": "b7264d56",
   "metadata": {},
   "source": [
    "## Q5: Cumulative Mul\n",
    "Write a function cumulative_mul that mutates the Tree t so that each node's label becomes the product of its label and all labels in the subtrees rooted at the node.\n",
    "```python\n",
    "    \"\"\"Mutates t so that each node's label becomes the product of all labels in\n",
    "    the corresponding subtree rooted at t.\"\"\"\n",
    "\n",
    "    >>> t = Tree(1, [Tree(3, [Tree(5)]), Tree(7)])\n",
    "    >>> cumulative_mul(t)\n",
    "    >>> t\n",
    "    Tree(105, [Tree(15, [Tree(5)]), Tree(7)])\n",
    "    >>> otherTree = Tree(2, [Tree(1, [Tree(3), Tree(4), Tree(5)]), Tree(6, [Tree(7)])])\n",
    "    >>> cumulative_mul(otherTree)\n",
    "    >>> otherTree\n",
    "    Tree(5040, [Tree(60, [Tree(3), Tree(4), Tree(5)]), Tree(42, [Tree(7)])])\n",
    "  \n",
    "```\n"
   ]
  },
  {
   "cell_type": "code",
   "execution_count": 12,
   "id": "f5458717",
   "metadata": {},
   "outputs": [],
   "source": [
    "def cumulative_mul(t):\n",
    "    if t.is_leaf():\n",
    "        return\n",
    "    else:\n",
    "        for b in t.branches:\n",
    "            cumulative_mul(b)\n",
    "            t.label = t.label * b.label"
   ]
  },
  {
   "cell_type": "code",
   "execution_count": 13,
   "id": "39b39b37",
   "metadata": {},
   "outputs": [],
   "source": [
    "t = Tree(1, [Tree(3, [Tree(5)]), Tree(7)])"
   ]
  },
  {
   "cell_type": "code",
   "execution_count": 14,
   "id": "ac5d573e",
   "metadata": {},
   "outputs": [
    {
     "data": {
      "text/plain": [
       "Tree(105, [Tree(15, [Tree(5)]), Tree(7)])"
      ]
     },
     "execution_count": 14,
     "metadata": {},
     "output_type": "execute_result"
    }
   ],
   "source": [
    "cumulative_mul(t)\n",
    "t"
   ]
  },
  {
   "cell_type": "code",
   "execution_count": 15,
   "id": "d2be1d45",
   "metadata": {},
   "outputs": [
    {
     "data": {
      "text/plain": [
       "Tree(5040, [Tree(60, [Tree(3), Tree(4), Tree(5)]), Tree(42, [Tree(7)])])"
      ]
     },
     "execution_count": 15,
     "metadata": {},
     "output_type": "execute_result"
    }
   ],
   "source": [
    "otherTree = Tree(2, [Tree(1, [Tree(3), Tree(4), Tree(5)]), Tree(6, [Tree(7)])])\n",
    "cumulative_mul(otherTree)\n",
    "otherTree"
   ]
  },
  {
   "cell_type": "markdown",
   "id": "7bf2f030",
   "metadata": {},
   "source": [
    "# Optional Questions\n",
    "## Q6: Cycles\n",
    "The Link class can represent lists with cycles. That is, a list may contain itself as a sublist."
   ]
  },
  {
   "cell_type": "code",
   "execution_count": 16,
   "id": "91c471ef",
   "metadata": {},
   "outputs": [
    {
     "data": {
      "text/plain": [
       "3"
      ]
     },
     "execution_count": 16,
     "metadata": {},
     "output_type": "execute_result"
    }
   ],
   "source": [
    "s = Link(1, Link(2, Link(3)))\n",
    "s.rest.rest.rest = s\n",
    "s.rest.rest.rest.rest.rest.first"
   ]
  },
  {
   "cell_type": "markdown",
   "id": "dfbb0c3b",
   "metadata": {},
   "source": [
    "Implement ```has_cycle```,that returns whether its argument, a ```Link``` instance, contains a cycle.\n",
    "```python\n",
    "    \"\"\"Return whether link contains a cycle.\"\"\"\n",
    "\n",
    "    >>> s = Link(1, Link(2, Link(3)))\n",
    "    >>> s.rest.rest.rest = s\n",
    "    >>> has_cycle(s)\n",
    "    True\n",
    "    >>> t = Link(1, Link(2, Link(3)))\n",
    "    >>> has_cycle(t)\n",
    "    False\n",
    "    >>> u = Link(2, Link(2, Link(2)))\n",
    "    >>> has_cycle(u)\n",
    "    False\n",
    "```"
   ]
  },
  {
   "cell_type": "code",
   "execution_count": 19,
   "id": "b11431bb",
   "metadata": {},
   "outputs": [],
   "source": [
    "def has_cycle(link):\n",
    "    seen = []\n",
    "    while link != Link.empty:\n",
    "        seen += [link]\n",
    "        link = link.rest \n",
    "        if link in seen:\n",
    "            return True \n",
    "    return False  "
   ]
  },
  {
   "cell_type": "code",
   "execution_count": 20,
   "id": "baa55b16",
   "metadata": {},
   "outputs": [
    {
     "data": {
      "text/plain": [
       "True"
      ]
     },
     "execution_count": 20,
     "metadata": {},
     "output_type": "execute_result"
    }
   ],
   "source": [
    "has_cycle(s)"
   ]
  }
 ],
 "metadata": {
  "kernelspec": {
   "display_name": "Python 3 (ipykernel)",
   "language": "python",
   "name": "python3"
  },
  "language_info": {
   "codemirror_mode": {
    "name": "ipython",
    "version": 3
   },
   "file_extension": ".py",
   "mimetype": "text/x-python",
   "name": "python",
   "nbconvert_exporter": "python",
   "pygments_lexer": "ipython3",
   "version": "3.7.12"
  }
 },
 "nbformat": 4,
 "nbformat_minor": 5
}
