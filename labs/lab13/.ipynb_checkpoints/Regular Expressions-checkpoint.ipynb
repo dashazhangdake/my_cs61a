{
 "cells": [
  {
   "cell_type": "markdown",
   "id": "e5ac179b",
   "metadata": {},
   "source": [
    "# Regular Expressions\n",
    "## Q2: Roman Numerals\n",
    "Write a regular expression that finds any string of letters that resemble a Roman numeral and aren't part of another word. A Roman numeral is made up of the letters I, V, X, L, C, D, M and is at least one letter long."
   ]
  },
  {
   "cell_type": "code",
   "execution_count": 4,
   "id": "1d2cdd12",
   "metadata": {},
   "outputs": [],
   "source": [
    "import re\n",
    "\n",
    "def roman_numerals(text):\n",
    "    \"\"\"\n",
    "    Finds any string of letters that could be a Roman numeral\n",
    "    (made up of the letters I, V, X, L, C, D, M).\n",
    "\n",
    "    >>> roman_numerals(\"Sir Richard IIV, can you tell Richard VI that Richard IV is on the phone?\")\n",
    "    ['IIV', 'VI', 'IV']\n",
    "    >>> roman_numerals(\"My TODOs: I. Groceries II. Learn how to count in Roman IV. Profit\")\n",
    "    ['I', 'II', 'IV']\n",
    "    >>> roman_numerals(\"I. Act 1 II. Act 2 III. Act 3 IV. Act 4 V. Act 5\")\n",
    "    ['I', 'II', 'III', 'IV', 'V']\n",
    "    >>> roman_numerals(\"Let's play Civ VII\")\n",
    "    ['VII']\n",
    "    >>> roman_numerals(\"i love vi so much more than emacs.\")\n",
    "    []\n",
    "    >>> roman_numerals(\"she loves ALL editors equally.\")\n",
    "    []\n",
    "    \"\"\"\n",
    "    return re.findall(r\"\\b([IVXLCDM]+)\\b\", text)"
   ]
  },
  {
   "cell_type": "code",
   "execution_count": 5,
   "id": "2b1c086f",
   "metadata": {},
   "outputs": [
    {
     "data": {
      "text/plain": [
       "['VII']"
      ]
     },
     "execution_count": 5,
     "metadata": {},
     "output_type": "execute_result"
    }
   ],
   "source": [
    "roman_numerals(\"Let's play Civ VII\")"
   ]
  },
  {
   "cell_type": "markdown",
   "id": "96c63c86",
   "metadata": {},
   "source": [
    "## Q3: Calculator Ops\n",
    "Write a regular expression that parses strings written in the 61A Calculator language and returns any expressions which have two numeric operands, leaving out the parentheses around them."
   ]
  },
  {
   "cell_type": "code",
   "execution_count": 6,
   "id": "c261d442",
   "metadata": {},
   "outputs": [],
   "source": [
    "def calculator_ops(calc_str):\n",
    "    \"\"\"\n",
    "    Finds expressions from the Calculator language that have two\n",
    "    numeric operands and returns the expression without the parentheses.\n",
    "\n",
    "    >>> calculator_ops(\"(* 2 4)\")\n",
    "    ['* 2 4']\n",
    "    >>> calculator_ops(\"(+ (* 3 (+ (* 2 4) (+ 3 5))) (+ (- 10 7) 6))\")\n",
    "    ['* 2 4', '+ 3 5', '- 10 7']\n",
    "    >>> calculator_ops(\"(* 2)\")\n",
    "    []\n",
    "    \"\"\"\n",
    "    # Since hyphen is a special character inside [], it must be escaped\n",
    "    return re.findall(r\"\\(([+\\-/*]\\s+\\d+\\s+\\d+)\\)\", calc_str)\n",
    "\n",
    "    # Alternate solution: hyphen must be at either beginning or end inside []\n",
    "    return re.findall(r\"\\(([-+*/]\\s+\\d+\\s+\\d+)\\)\", calc_str)"
   ]
  },
  {
   "cell_type": "markdown",
   "id": "9242735f",
   "metadata": {},
   "source": [
    "## Q4: CS Classes\n",
    "On reddit.com, there is an /r/berkeley subreddit for discussions about everything UC Berkeley. However, there is such a large amount of CS-related posts that those posts are auto-tagged so that readers can choose to ignore them or read only them.\n",
    "\n",
    "Write a regular expression that finds strings that resemble a CS class- starting with \"CS\", followed by a number, and then optionally followed by \"A\", \"B\", or \"C\". Your search should be case insensitive, so both \"CS61A\" and \"cs61a\" would match."
   ]
  },
  {
   "cell_type": "code",
   "execution_count": 7,
   "id": "b672127c",
   "metadata": {},
   "outputs": [],
   "source": [
    "def cs_classes(post):\n",
    "    \"\"\"\n",
    "    Returns strings that look like a Berkeley CS class,\n",
    "    starting with \"CS\", followed by a number, optionally ending with A, B, or C.\n",
    "    Case insensitive.\n",
    "\n",
    "    >>> cs_classes(\"Is it unreasonable to take CS61A, CS61B, CS70, and EE16A in the summer?\")\n",
    "    True\n",
    "    >>> cs_classes(\"how do I become a TA for cs61a? that job sounds so fun\")\n",
    "    True\n",
    "    >>> cs_classes(\"Can I take ECON101 as a CS major?\")\n",
    "    False\n",
    "    >>> cs_classes(\"Should I do the lab lites or regular labs in EE16A?\")\n",
    "    False\n",
    "    \"\"\"\n",
    "    return bool(re.search(r\"(cs|CS)\\d+[a-cA-C]?\", post))"
   ]
  },
  {
   "cell_type": "code",
   "execution_count": null,
   "id": "36fffe74",
   "metadata": {},
   "outputs": [],
   "source": []
  }
 ],
 "metadata": {
  "kernelspec": {
   "display_name": "Python 3 (ipykernel)",
   "language": "python",
   "name": "python3"
  },
  "language_info": {
   "codemirror_mode": {
    "name": "ipython",
    "version": 3
   },
   "file_extension": ".py",
   "mimetype": "text/x-python",
   "name": "python",
   "nbconvert_exporter": "python",
   "pygments_lexer": "ipython3",
   "version": "3.7.12"
  }
 },
 "nbformat": 4,
 "nbformat_minor": 5
}
