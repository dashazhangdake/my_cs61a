{
 "cells": [
  {
   "cell_type": "markdown",
   "id": "44647f42",
   "metadata": {},
   "source": [
    "# Recursion Intro\n",
    "## Prob 3.1: Repeater\n",
    "An ```n-repeater``` for single arg function ```f(x)``` takes a single argument ```x```, calls ```f(x)``` for ```n``` times, and returns a ```n+1-repeater``` for f\n",
    "\n",
    "Implement ```repeater```, which takes single-arg function ```f``` and positive integer ```n```, returns an ```\"n-repeater\"``` for ```f```\n",
    "\n",
    "```python\n",
    "    >>> r =  repeater(print, 2)\n",
    "    >>> s = r('CS')\n",
    "    CS\n",
    "    CS\n",
    "```\n",
    "\n",
    "\n",
    "```python\n",
    "    >>> repeat(print, 'hello', 3)\n",
    "    hello\n",
    "    hello\n",
    "    hello\n",
    "```"
   ]
  },
  {
   "cell_type": "code",
   "execution_count": 10,
   "id": "c0c33534",
   "metadata": {},
   "outputs": [],
   "source": [
    "def repeat(f, x, n):\n",
    "    if n == 0:\n",
    "        return\n",
    "    else:\n",
    "        f(x)\n",
    "        repeat(f, x, n-1)"
   ]
  },
  {
   "cell_type": "code",
   "execution_count": 11,
   "id": "3569f271",
   "metadata": {},
   "outputs": [
    {
     "name": "stdout",
     "output_type": "stream",
     "text": [
      "hello\n",
      "hello\n",
      "hello\n"
     ]
    }
   ],
   "source": [
    "repeat(print, 'hello', 3)"
   ]
  },
  {
   "cell_type": "code",
   "execution_count": 19,
   "id": "b9bd543b",
   "metadata": {},
   "outputs": [],
   "source": [
    "def repeater(f, n):\n",
    "    def g(x):\n",
    "        repeat(f, x, n)\n",
    "        return repeater(f, n+1)\n",
    "    return g"
   ]
  },
  {
   "cell_type": "code",
   "execution_count": 20,
   "id": "37fefaa9",
   "metadata": {},
   "outputs": [
    {
     "name": "stdout",
     "output_type": "stream",
     "text": [
      "cs\n",
      "cs\n"
     ]
    }
   ],
   "source": [
    "r =  repeater(print, 2)\n",
    "s = r('cs')"
   ]
  },
  {
   "cell_type": "code",
   "execution_count": 21,
   "id": "389a27ec",
   "metadata": {},
   "outputs": [
    {
     "name": "stdout",
     "output_type": "stream",
     "text": [
      "cs\n",
      "cs\n",
      "cs\n"
     ]
    }
   ],
   "source": [
    "t = s('cs')"
   ]
  },
  {
   "cell_type": "markdown",
   "id": "f01ea602",
   "metadata": {},
   "source": [
    "## Prob 3.2: Camel Sequence\n",
    "A *camel sequence* is an integer in which each digit is either strictly less or strictly greater than both if its adjacent digits\n",
    "\n",
    "Write a function that determines whether n is a *camel sequence*\n",
    "```\n",
    "15263: True\n",
    "98989: True\n",
    "123: False\n",
    "4114: False\n",
    "12: True\n",
    "11: False\n",
    "```"
   ]
  },
  {
   "cell_type": "code",
   "execution_count": null,
   "id": "59c54e50",
   "metadata": {},
   "outputs": [],
   "source": [
    "def is_camel_sequence(n)\n",
    "    def helper(n, incr):\n",
    "        if n // 10 == 0:\n",
    "            return True\n",
    "        elif incr:\n",
    "            # return ___ and helper(__)\n",
    "            return \n",
    "        else:\n",
    "            # return ___ and helper(__)\n",
    "            return \n",
    "        # return__ or __\n",
    "    return "
   ]
  },
  {
   "cell_type": "markdown",
   "id": "dd92703d",
   "metadata": {},
   "source": [
    "## Prob 3.3: Significant Factors\n",
    "Implement ```significant(n, k)```, returns the k most significant digits of n\n",
    "\n",
    "if ```n``` has fewer than ```k``` digits, returns ```n```"
   ]
  },
  {
   "cell_type": "code",
   "execution_count": null,
   "id": "32c0d577",
   "metadata": {},
   "outputs": [],
   "source": [
    "def significant(n, k):\n",
    "    if ___\n",
    "        return n\n",
    "    else:\n",
    "        return significant()"
   ]
  }
 ],
 "metadata": {
  "kernelspec": {
   "display_name": "Python 3",
   "language": "python",
   "name": "python3"
  },
  "language_info": {
   "codemirror_mode": {
    "name": "ipython",
    "version": 3
   },
   "file_extension": ".py",
   "mimetype": "text/x-python",
   "name": "python",
   "nbconvert_exporter": "python",
   "pygments_lexer": "ipython3",
   "version": "3.7.11"
  }
 },
 "nbformat": 4,
 "nbformat_minor": 5
}
