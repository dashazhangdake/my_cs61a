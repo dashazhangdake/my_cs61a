{
 "cells": [
  {
   "cell_type": "markdown",
   "id": "2c6be19d",
   "metadata": {},
   "source": [
    "# Recursion with Container\n",
    "## Reference: Typical recursion methodologies on different data types\n",
    "| Data Type | Base conditions | Current item | Recursive case argument |\n",
    "| --- | --- | --- | --- |\n",
    "| PlainNumbers | ```n==0``` <br> ```n==1```| ```n``` | ```n-1``` |\n",
    "| Numbers with focus on digits | ```n==0``` <br> ```n<10``` | ```n%10``` | ```n//10``` |\n",
    "| Lists | ```L==[]``` <br> ```len(L)==0```| ```L[0]```<br>```L[-1]``` | ```L[1:]```<br>```L[:-1]``` |\n",
    "| Strings | ```S==''``` <br> ```len(s)==1```| ```S[0]``` | ```S[1:]``` |"
   ]
  },
  {
   "cell_type": "markdown",
   "id": "bbab7d31",
   "metadata": {},
   "source": [
    "#### Warmup: Sum a list\n",
    "   ```python\n",
    "    >>> sum_nums([6, 24, 1984])\n",
    "    2014\n",
    "    >>> sum_nums([-32, 0, 32])\n",
    "    0\n",
    "   ``` "
   ]
  },
  {
   "cell_type": "code",
   "execution_count": 1,
   "id": "9dbe396d",
   "metadata": {},
   "outputs": [],
   "source": [
    "def sum_nums(nums):\n",
    "    if nums == []:\n",
    "        return 0\n",
    "    else:\n",
    "        return nums[0] + sum_nums(nums[1:])"
   ]
  },
  {
   "cell_type": "code",
   "execution_count": 2,
   "id": "4ea5f50b",
   "metadata": {},
   "outputs": [
    {
     "data": {
      "text/plain": [
       "0"
      ]
     },
     "execution_count": 2,
     "metadata": {},
     "output_type": "execute_result"
    }
   ],
   "source": [
    "sum_nums([-32, 0, 32])"
   ]
  },
  {
   "cell_type": "code",
   "execution_count": 3,
   "id": "27bded0a",
   "metadata": {},
   "outputs": [
    {
     "data": {
      "text/plain": [
       "2014"
      ]
     },
     "execution_count": 3,
     "metadata": {},
     "output_type": "execute_result"
    }
   ],
   "source": [
    "sum_nums([6, 24, 1984])"
   ]
  },
  {
   "cell_type": "markdown",
   "id": "5d5a0aaa",
   "metadata": {},
   "source": [
    "#### <font color='red'>Q1: MaxProduct?</font>\n",
    "Write a function that takes in a list and returns the maximum product that can be formed using nonconsecutive elements of the list. \n",
    "\n",
    "The input list will contain only numbers greater than or equal to 1.\n",
    "\n",
    "```python\n",
    "    # Return the maximum product that can be formed using\n",
    "    # non-consecutive elements of s.\n",
    "    >>> max_product([10,3,1,9,2]) # 10 * 9\n",
    "    90\n",
    "    >>> max_product([5,10,5,10,5]) # 5 * 5 * 5\n",
    "    125\n",
    "    >>> max_product([])\n",
    "    1\n",
    "```"
   ]
  },
  {
   "cell_type": "code",
   "execution_count": 4,
   "id": "72da463a",
   "metadata": {},
   "outputs": [],
   "source": [
    "def max_product(lst):\n",
    "    if lst == []:\n",
    "        return 1\n",
    "#     elif len(lst) == 1:\n",
    "#         return lst[0]\n",
    "    else:\n",
    "        lstd = lst[1:]\n",
    "        res_from_idx0 = lst[0] * max_product(lst[2:])\n",
    "        res_from_idx1 = max_product(lst[1:])\n",
    "#         if lstd == []:\n",
    "#             res_from_idx1 = 1\n",
    "#         else:\n",
    "#             res_from_idx1 = lstd[0] * max_product(lstd[2:])\n",
    "        return max(res_from_idx0, res_from_idx1)"
   ]
  },
  {
   "cell_type": "code",
   "execution_count": 5,
   "id": "317e1866",
   "metadata": {},
   "outputs": [
    {
     "data": {
      "text/plain": [
       "125"
      ]
     },
     "execution_count": 5,
     "metadata": {},
     "output_type": "execute_result"
    }
   ],
   "source": [
    "max_product([5,10,5,10,5]) "
   ]
  },
  {
   "cell_type": "code",
   "execution_count": 6,
   "id": "86151962",
   "metadata": {},
   "outputs": [
    {
     "data": {
      "text/plain": [
       "90"
      ]
     },
     "execution_count": 6,
     "metadata": {},
     "output_type": "execute_result"
    }
   ],
   "source": [
    "max_product([10,3,1,9,2])"
   ]
  },
  {
   "cell_type": "markdown",
   "id": "419feaed",
   "metadata": {},
   "source": [
    "#### Q2: toggling cases\n",
    "\n",
    "Toggle a string to ```\"LULULULU....\"``` format\n",
    "\n",
    "```python\n",
    "    >>> fUnKyCaSe(\"wats up\")\n",
    "    'wAtS Up'\n",
    "```\n",
    "\n",
    "* Base case: when len(text)==1, toggle that char to lower case\n",
    "* Recursive: the leading char of ```text[1:]``` toggleed, pass"
   ]
  },
  {
   "cell_type": "code",
   "execution_count": 7,
   "id": "199cf715",
   "metadata": {},
   "outputs": [],
   "source": [
    "def fUnKyCaSe(s):\n",
    "    # need a varible to track which direction to toggle\n",
    "    def helper(s, up):\n",
    "        if len(s) == 1:\n",
    "            if up:\n",
    "                return s.upper()\n",
    "            else:\n",
    "                return s.lower()\n",
    "        else:\n",
    "            return helper(s[0], up) + helper(s[1:], not up)\n",
    "    return helper(s, False)"
   ]
  },
  {
   "cell_type": "code",
   "execution_count": 8,
   "id": "916dc0f4",
   "metadata": {},
   "outputs": [
    {
     "data": {
      "text/plain": [
       "'wAtS Up'"
      ]
     },
     "execution_count": 8,
     "metadata": {},
     "output_type": "execute_result"
    }
   ],
   "source": [
    "fUnKyCaSe(\"wats up\")"
   ]
  },
  {
   "cell_type": "markdown",
   "id": "7fc575be",
   "metadata": {},
   "source": [
    "#### Q3a: Recursively reversing a string\n",
    "```python\n",
    " >>> reverse('ward')\n",
    "    'draw'\n",
    "```"
   ]
  },
  {
   "cell_type": "code",
   "execution_count": 9,
   "id": "c2b7f5ef",
   "metadata": {},
   "outputs": [],
   "source": [
    "def reverse(s):\n",
    "    if len(s) == 1:\n",
    "        return s\n",
    "    else:\n",
    "        return reverse(s[1:]) + s[0] "
   ]
  },
  {
   "cell_type": "code",
   "execution_count": 10,
   "id": "3196b97c",
   "metadata": {},
   "outputs": [
    {
     "data": {
      "text/plain": [
       "'draw'"
      ]
     },
     "execution_count": 10,
     "metadata": {},
     "output_type": "execute_result"
    }
   ],
   "source": [
    "reverse('ward')"
   ]
  },
  {
   "cell_type": "markdown",
   "id": "edde2b19",
   "metadata": {},
   "source": [
    "#### Q3b: Recursively reversing a number\n",
    "```python\n",
    " >>> reverse(123)\n",
    "    321\n",
    "```"
   ]
  },
  {
   "cell_type": "code",
   "execution_count": 11,
   "id": "eb05cd62",
   "metadata": {},
   "outputs": [
    {
     "name": "stdout",
     "output_type": "stream",
     "text": [
      "1\n"
     ]
    }
   ],
   "source": [
    "import math\n",
    "def reverse(n):\n",
    "    assert n >= 1\n",
    "    def helper(n, i):\n",
    "        if n // 10 == 0:\n",
    "            return n\n",
    "        else:\n",
    "            last = n % 10\n",
    "            all_but_last = n // 10\n",
    "            return last * 10 ** i + helper(all_but_last, i-1)\n",
    "        \n",
    "    return helper(n, int(math.log(n, 10)))\n",
    "\n",
    "print(reverse(1))"
   ]
  },
  {
   "cell_type": "markdown",
   "id": "65f3dde2",
   "metadata": {},
   "source": [
    "#### Q4. Flatten()\n",
    "Write a function flatten that takes a list and \"flattens\" it. The list could be a deep list, meaning that there could be a multiple layers of nesting within the list.\n",
    "\n",
    "```python \n",
    "    Returns a flattened version of list s.\n",
    "    >>> flatten([1, 2, 3])     # normal list\n",
    "    [1, 2, 3]\n",
    "    >>> x = [1, [2, 3], 4]     # deep list\n",
    "    >>> flatten(x)\n",
    "    [1, 2, 3, 4]\n",
    "    >>> x # Ensure x is not mutated\n",
    "    [1, [2, 3], 4]\n",
    "    >>> x = [[1, [1, 1]], 1, [1, 1]] # deep list\n",
    "    >>> flatten(x)\n",
    "    [1, 1, 1, 1, 1, 1]\n",
    "    >>> x\n",
    "    [[1, [1, 1]], 1, [1, 1]]\n",
    "```"
   ]
  },
  {
   "cell_type": "code",
   "execution_count": 12,
   "id": "4c69b93a",
   "metadata": {},
   "outputs": [],
   "source": [
    "def flatten(l):\n",
    "    if l == []:\n",
    "        return []\n",
    "    elif type(l[0]) != list:\n",
    "        return [l[0]] + flatten(l[1:])\n",
    "    else:\n",
    "        return flatten(l[0]) + flatten(l[1:])"
   ]
  },
  {
   "cell_type": "code",
   "execution_count": 13,
   "id": "6d555fc3",
   "metadata": {},
   "outputs": [
    {
     "data": {
      "text/plain": [
       "[1, 1, 1, 1, 1, 1]"
      ]
     },
     "execution_count": 13,
     "metadata": {},
     "output_type": "execute_result"
    }
   ],
   "source": [
    "x = [[1, [1, 1]], 1, [1, 1]]\n",
    "flatten(x)"
   ]
  },
  {
   "cell_type": "markdown",
   "id": "d2d08518",
   "metadata": {},
   "source": [
    "#### Q5. Insertion\n",
    "Write a function which takes in a list lst, an argument entry, and another argument elem. This function will check through each item in lst to see if it is equal to entry. Upon finding an item equal to entry, the function should modify the list by placing elem into lst right after the item. At the end of the function, the modified list should be returned.\n",
    "\n",
    "```python\n",
    "    Inserts elem into lst after each occurence of entry and then returns lst.\n",
    "\n",
    "    >>> test_lst = [1, 5, 8, 5, 2, 3]\n",
    "    >>> new_lst = insert_items(test_lst, 5, 7)\n",
    "    >>> new_lst\n",
    "    [1, 5, 7, 8, 5, 7, 2, 3]\n",
    "    >>> double_lst = [1, 2, 1, 2, 3, 3]\n",
    "    >>> double_lst = insert_items(double_lst, 3, 4)\n",
    "    >>> double_lst\n",
    "    [1, 2, 1, 2, 3, 4, 3, 4]\n",
    "    >>> large_lst = [1, 4, 8]\n",
    "    >>> large_lst2 = insert_items(large_lst, 4, 4)\n",
    "    >>> large_lst2\n",
    "    [1, 4, 4, 8]\n",
    "    >>> large_lst3 = insert_items(large_lst2, 4, 6)\n",
    "    >>> large_lst3\n",
    "    [1, 4, 6, 4, 6, 8]\n",
    "```"
   ]
  },
  {
   "cell_type": "code",
   "execution_count": 36,
   "id": "9b5ed509",
   "metadata": {},
   "outputs": [
    {
     "name": "stdout",
     "output_type": "stream",
     "text": [
      "[1, 5, 4, 8, 5, 2, 3]\n"
     ]
    }
   ],
   "source": [
    "test_lst = [1, 5, 8, 5, 2, 3]\n",
    "test_lst.insert(2, 4)\n",
    "print(test_lst)"
   ]
  },
  {
   "cell_type": "markdown",
   "id": "ab031854",
   "metadata": {},
   "source": [
    "**Recursive** solution"
   ]
  },
  {
   "cell_type": "code",
   "execution_count": 15,
   "id": "15b6929a",
   "metadata": {},
   "outputs": [],
   "source": [
    "def insert_items(lst, target, value):\n",
    "    if lst == []:\n",
    "        return []\n",
    "    elif lst[0] == target:\n",
    "        return [lst[0]] + [value] + insert_items(lst[1:], target, value)\n",
    "    else:\n",
    "        return [lst[0]] + insert_items(lst[1:], target, value)"
   ]
  },
  {
   "cell_type": "code",
   "execution_count": 16,
   "id": "139752e6",
   "metadata": {},
   "outputs": [
    {
     "name": "stdout",
     "output_type": "stream",
     "text": [
      "[1, 4, 6, 4, 6, 8]\n"
     ]
    }
   ],
   "source": [
    "large_lst2 = [1, 4, 4, 8]\n",
    "large_lst3 = insert_items(large_lst2, 4, 6)\n",
    "print(large_lst3)"
   ]
  },
  {
   "cell_type": "code",
   "execution_count": 17,
   "id": "751241a3",
   "metadata": {},
   "outputs": [
    {
     "name": "stdout",
     "output_type": "stream",
     "text": [
      "[1, 2, 1, 2, 3, 4, 3, 4]\n"
     ]
    }
   ],
   "source": [
    "double_lst = [1, 2, 1, 2, 3, 3]\n",
    "double_lst = insert_items(double_lst, 3, 4)\n",
    "print(double_lst)"
   ]
  },
  {
   "cell_type": "markdown",
   "id": "b337a9e7",
   "metadata": {},
   "source": [
    "**iterative** solution: \n",
    "\n",
    "*Using list method*\n",
    "```python\n",
    "    lst.insert(idx, value)\n",
    "```\n",
    "where idx is the idx to place value"
   ]
  },
  {
   "cell_type": "code",
   "execution_count": 68,
   "id": "36b138b9",
   "metadata": {},
   "outputs": [],
   "source": [
    "def insert_items1(lst, target, value):\n",
    "    idx = 0\n",
    "    while idx < len(lst):\n",
    "        if lst[idx] == target:\n",
    "            lst.insert(idx+1, value)\n",
    "            if target == value:\n",
    "                idx += 1\n",
    "        idx += 1\n",
    "    return lst"
   ]
  },
  {
   "cell_type": "code",
   "execution_count": 69,
   "id": "f1223162",
   "metadata": {},
   "outputs": [
    {
     "name": "stdout",
     "output_type": "stream",
     "text": [
      "[1, 5, 7, 8, 5, 7, 2, 3]\n"
     ]
    }
   ],
   "source": [
    "test_lst = [1, 5, 8, 5, 2, 3]\n",
    "new_lst = insert_items1(test_lst, 5, 7)\n",
    "print(new_lst)"
   ]
  },
  {
   "cell_type": "code",
   "execution_count": 70,
   "id": "10aae8c0",
   "metadata": {},
   "outputs": [
    {
     "name": "stdout",
     "output_type": "stream",
     "text": [
      "[1, 2, 1, 2, 3, 4, 3, 4]\n"
     ]
    }
   ],
   "source": [
    "double_lst = [1, 2, 1, 2, 3, 3]\n",
    "double_lst = insert_items1(double_lst, 3, 4)\n",
    "print(double_lst)"
   ]
  },
  {
   "cell_type": "code",
   "execution_count": 71,
   "id": "305899ee",
   "metadata": {},
   "outputs": [
    {
     "name": "stdout",
     "output_type": "stream",
     "text": [
      "[1, 4, 4, 4, 4, 8]\n"
     ]
    }
   ],
   "source": [
    "large_lst2 = [1, 4, 4, 8]\n",
    "large_lst3 = insert_items1(large_lst2, 4, 4)\n",
    "print(large_lst3)"
   ]
  },
  {
   "cell_type": "markdown",
   "id": "d711bc2a",
   "metadata": {},
   "source": [
    "**iterative** solution for inserting to the **left**"
   ]
  },
  {
   "cell_type": "code",
   "execution_count": 76,
   "id": "4cb29dc7",
   "metadata": {},
   "outputs": [],
   "source": [
    "def insert_left(lst, target, value):\n",
    "    idx = 0\n",
    "    while idx < len(lst):\n",
    "        if lst[idx] == target:\n",
    "            lst.insert(idx, value)\n",
    "            idx += 1\n",
    "        idx += 1\n",
    "    return lst"
   ]
  },
  {
   "cell_type": "code",
   "execution_count": 77,
   "id": "d4ad939a",
   "metadata": {},
   "outputs": [
    {
     "name": "stdout",
     "output_type": "stream",
     "text": [
      "[1, 5, 5, 8, 5, 5, 2, 3]\n"
     ]
    }
   ],
   "source": [
    "test_lst = [1, 5, 8, 5, 2, 3]\n",
    "new_lst = insert_left(test_lst, 5, 5)\n",
    "print(new_lst)"
   ]
  },
  {
   "cell_type": "code",
   "execution_count": 78,
   "id": "88cd0e72",
   "metadata": {},
   "outputs": [
    {
     "name": "stdout",
     "output_type": "stream",
     "text": [
      "[1, 4, 4, 4, 4, 8]\n"
     ]
    }
   ],
   "source": [
    "large_lst2 = [1, 4, 4, 8]\n",
    "large_lst3 = insert_left(large_lst2, 4, 4)\n",
    "print(large_lst3)"
   ]
  },
  {
   "cell_type": "code",
   "execution_count": 79,
   "id": "e621043e",
   "metadata": {},
   "outputs": [
    {
     "name": "stdout",
     "output_type": "stream",
     "text": [
      "[1, 2, 1, 2, 4, 3, 4, 3]\n"
     ]
    }
   ],
   "source": [
    "double_lst = [1, 2, 1, 2, 3, 3]\n",
    "double_lst = insert_left(double_lst, 3, 4)\n",
    "print(double_lst)"
   ]
  },
  {
   "cell_type": "markdown",
   "id": "72d35a0c",
   "metadata": {},
   "source": [
    "#### Q6: Merge\n",
    "```python\n",
    "Merges two sorted lists.\n",
    "\n",
    "    >>> merge([1, 3, 5], [2, 4, 6])\n",
    "    [1, 2, 3, 4, 5, 6]\n",
    "    >>> merge([], [2, 4, 6])\n",
    "    [2, 4, 6]\n",
    "    >>> merge([1, 2, 3], [])\n",
    "    [1, 2, 3]\n",
    "    >>> merge([5, 7], [2, 4, 6])\n",
    "    [2, 4, 5, 6, 7]\n",
    "```"
   ]
  },
  {
   "cell_type": "code",
   "execution_count": 22,
   "id": "6dd28a6b",
   "metadata": {},
   "outputs": [],
   "source": [
    "def merge(l, r):\n",
    "    if l == []:\n",
    "        return r\n",
    "    elif r == []:\n",
    "        return l\n",
    "    elif l[0] < r[0]:\n",
    "        return [l[0]] + merge(l[1:], r)\n",
    "    else:\n",
    "        return [r[0]] + merge(l, r[1:])"
   ]
  },
  {
   "cell_type": "code",
   "execution_count": 23,
   "id": "7367d1e0",
   "metadata": {},
   "outputs": [
    {
     "data": {
      "text/plain": [
       "[2, 4, 5, 6, 7]"
      ]
     },
     "execution_count": 23,
     "metadata": {},
     "output_type": "execute_result"
    }
   ],
   "source": [
    "merge([5, 7], [2, 4, 6])"
   ]
  }
 ],
 "metadata": {
  "kernelspec": {
   "display_name": "Python 3",
   "language": "python",
   "name": "python3"
  },
  "language_info": {
   "codemirror_mode": {
    "name": "ipython",
    "version": 3
   },
   "file_extension": ".py",
   "mimetype": "text/x-python",
   "name": "python",
   "nbconvert_exporter": "python",
   "pygments_lexer": "ipython3",
   "version": "3.7.11"
  }
 },
 "nbformat": 4,
 "nbformat_minor": 5
}
