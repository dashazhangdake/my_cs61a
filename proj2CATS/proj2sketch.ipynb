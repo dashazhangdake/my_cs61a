{
 "cells": [
  {
   "cell_type": "code",
   "execution_count": 5,
   "id": "61ba8739",
   "metadata": {},
   "outputs": [
    {
     "data": {
      "text/plain": [
       "1"
      ]
     },
     "execution_count": 5,
     "metadata": {},
     "output_type": "execute_result"
    }
   ],
   "source": [
    "lst = [2, 1, 1, 1]\n",
    "lst.index(1)"
   ]
  },
  {
   "cell_type": "code",
   "execution_count": 32,
   "id": "6dbf85ab",
   "metadata": {},
   "outputs": [],
   "source": [
    "def sphinx_swaps(start, goal, limit):\n",
    "    \"\"\"A diff function for autocorrect that determines how many letters\n",
    "    in START need to be substituted to create GOAL, then adds the difference in\n",
    "    their lengths and returns the result.\n",
    "\n",
    "    Arguments:\n",
    "        start: a starting word\n",
    "        goal: a string representing a desired goal word\n",
    "        limit: a number representing an upper bound on the number of chars that must change\n",
    "\n",
    "    >>> big_limit = 10\n",
    "    >>> sphinx_swaps(\"nice\", \"rice\", big_limit)    # Substitute: n -> r\n",
    "    1\n",
    "    >>> sphinx_swaps(\"range\", \"rungs\", big_limit)  # Substitute: a -> u, e -> s\n",
    "    2\n",
    "    >>> sphinx_swaps(\"pill\", \"pillage\", big_limit) # Don't substitute anything, length difference of 3.\n",
    "    3\n",
    "    >>> sphinx_swaps(\"roses\", \"arose\", big_limit)  # Substitute: r -> a, o -> r, s -> o, e -> s, s -> e\n",
    "    5\n",
    "    >>> sphinx_swaps(\"rose\", \"hello\", big_limit)   # Substitute: r->h, o->e, s->l, e->l, length difference of 1.\n",
    "    5\n",
    "    \"\"\"\n",
    "    # BEGIN PROBLEM 6\n",
    "    change = 0\n",
    "    print(change)\n",
    "    if start == '':\n",
    "        return len(goal)\n",
    "    else:\n",
    "        if start[0] != goal[0]:\n",
    "            return change + 1 + sphinx_swaps(start[1:], goal[1:], limit)\n",
    "        else:\n",
    "            return change + sphinx_swaps(start[1:], goal[1:], limit)"
   ]
  },
  {
   "cell_type": "code",
   "execution_count": 33,
   "id": "0117075c",
   "metadata": {},
   "outputs": [
    {
     "name": "stdout",
     "output_type": "stream",
     "text": [
      "0\n",
      "0\n",
      "0\n",
      "0\n",
      "0\n"
     ]
    },
    {
     "data": {
      "text/plain": [
       "1"
      ]
     },
     "execution_count": 33,
     "metadata": {},
     "output_type": "execute_result"
    }
   ],
   "source": [
    "big_limit = 10\n",
    "sphinx_swaps(\"nice\", \"rice\", big_limit) "
   ]
  },
  {
   "cell_type": "code",
   "execution_count": 34,
   "id": "c9c46774",
   "metadata": {},
   "outputs": [
    {
     "name": "stdout",
     "output_type": "stream",
     "text": [
      "0\n",
      "0\n",
      "0\n",
      "0\n",
      "0\n",
      "0\n"
     ]
    },
    {
     "data": {
      "text/plain": [
       "5"
      ]
     },
     "execution_count": 34,
     "metadata": {},
     "output_type": "execute_result"
    }
   ],
   "source": [
    "sphinx_swaps(\"roses\", \"arose\", big_limit)"
   ]
  },
  {
   "cell_type": "code",
   "execution_count": 35,
   "id": "48e277e1",
   "metadata": {},
   "outputs": [
    {
     "name": "stdout",
     "output_type": "stream",
     "text": [
      "0\n",
      "0\n",
      "0\n",
      "0\n",
      "0\n"
     ]
    },
    {
     "data": {
      "text/plain": [
       "3"
      ]
     },
     "execution_count": 35,
     "metadata": {},
     "output_type": "execute_result"
    }
   ],
   "source": [
    "sphinx_swaps(\"pill\", \"pillage\", big_limit)"
   ]
  },
  {
   "cell_type": "code",
   "execution_count": 36,
   "id": "ec94fd12",
   "metadata": {},
   "outputs": [
    {
     "name": "stdout",
     "output_type": "stream",
     "text": [
      "0\n",
      "0\n",
      "0\n",
      "0\n",
      "0\n",
      "0\n"
     ]
    },
    {
     "data": {
      "text/plain": [
       "2"
      ]
     },
     "execution_count": 36,
     "metadata": {},
     "output_type": "execute_result"
    }
   ],
   "source": [
    "sphinx_swaps(\"range\", \"rungs\", big_limit)"
   ]
  },
  {
   "cell_type": "code",
   "execution_count": 38,
   "id": "77562249",
   "metadata": {},
   "outputs": [],
   "source": [
    "pd = {'a':'', 'b':0}"
   ]
  },
  {
   "cell_type": "code",
   "execution_count": 39,
   "id": "f6646e96",
   "metadata": {},
   "outputs": [
    {
     "data": {
      "text/plain": [
       "{'a': '', 'b': 0}"
      ]
     },
     "execution_count": 39,
     "metadata": {},
     "output_type": "execute_result"
    }
   ],
   "source": [
    "pd"
   ]
  },
  {
   "cell_type": "code",
   "execution_count": 48,
   "id": "47baa71b",
   "metadata": {},
   "outputs": [],
   "source": [
    "def match(words, times):\n",
    "    \"\"\"A dictionary containing all words typed and their times.\n",
    "\n",
    "    Arguments:\n",
    "        words: A list of strings, each string representing a word typed.\n",
    "        times: A list of lists for how long it took for each player to type\n",
    "            each word.\n",
    "            times[i][j] = time it took for player i to type words[j].\n",
    "\n",
    "    Example input:\n",
    "        words: ['Hello', 'world']\n",
    "        times: [[5, 1], [4, 2]]\n",
    "    \"\"\"\n",
    "    assert all([type(w) == str for w in words]), 'words should be a list of strings'\n",
    "    assert all([type(t) == list for t in times]), 'times should be a list of lists'\n",
    "    assert all([isinstance(i, (int, float)) for t in times for i in t]), 'times lists should contain numbers'\n",
    "    assert all([len(t) == len(words) for t in times]), 'There should be one word per time.'\n",
    "    return {\"words\": words, \"times\": times}"
   ]
  },
  {
   "cell_type": "code",
   "execution_count": 95,
   "id": "811b50f1",
   "metadata": {},
   "outputs": [],
   "source": [
    "def fastest_words(match):\n",
    "    \"\"\"Return a list of lists of which words each player typed fastest.\n",
    "\n",
    "    Arguments:\n",
    "        match: a match dictionary as returned by time_per_word.\n",
    "\n",
    "    >>> p0 = [5, 1, 3]\n",
    "    >>> p1 = [4, 1, 6]\n",
    "    >>> fastest_words(match(['Just', 'have', 'fun'], [p0, p1]))\n",
    "    [['have', 'fun'], ['Just']]\n",
    "    >>> p0  # input lists should not be mutated\n",
    "    [5, 1, 3]\n",
    "    >>> p1\n",
    "    [4, 1, 6]\n",
    "    \"\"\"\n",
    "    player_indices = range(len(match[\"times\"]))  # contains an *index* for each player\n",
    "    word_indices = range(len(match[\"words\"]))    # contains an *index* for each word\n",
    "    res = []\n",
    "    for i in player_indices:\n",
    "        res.append([])\n",
    "    def fast_one_word(word_idx, time_record):\n",
    "        scoreboard_word = []\n",
    "        for i in player_indices:\n",
    "            scoreboard_word.append(time_record[i][word_idx])\n",
    "        fastp_idx = scoreboard_word.index(min(scoreboard_word))\n",
    "#         print(scoreboard_word)\n",
    "#         print(fastp_idx)\n",
    "        return fastp_idx\n",
    "\n",
    "    # BEGIN PROBLEM 10\n",
    "    \"*** YOUR CODE HERE ***\"\n",
    "    for i in word_indices:\n",
    "        curr_word = match['words'][i]\n",
    "        fastp_currwd = fast_one_word(i, match[\"times\"])\n",
    "        print(fastp_currwd)\n",
    "        res[fastp_currwd].append(curr_word)\n",
    "    return res\n",
    "    # END PROBLEM 10"
   ]
  },
  {
   "cell_type": "code",
   "execution_count": 96,
   "id": "e24043ee",
   "metadata": {},
   "outputs": [
    {
     "name": "stdout",
     "output_type": "stream",
     "text": [
      "0\n",
      "0\n",
      "0\n"
     ]
    },
    {
     "data": {
      "text/plain": [
       "[['What', 'great', 'luck']]"
      ]
     },
     "execution_count": 96,
     "metadata": {},
     "output_type": "execute_result"
    }
   ],
   "source": [
    "p1 = [6, 1, 2]\n",
    "fastest_words(match(['What', 'great', 'luck'], [p1]))"
   ]
  },
  {
   "cell_type": "code",
   "execution_count": 97,
   "id": "fbbc9356",
   "metadata": {},
   "outputs": [
    {
     "name": "stdout",
     "output_type": "stream",
     "text": [
      "[[], []]\n"
     ]
    }
   ],
   "source": [
    "\n",
    "a = [[]] * 2\n",
    "print(a)"
   ]
  },
  {
   "cell_type": "code",
   "execution_count": 98,
   "id": "832b78f2",
   "metadata": {},
   "outputs": [],
   "source": [
    "a[0].append(1)"
   ]
  },
  {
   "cell_type": "code",
   "execution_count": 94,
   "id": "9d6af9d3",
   "metadata": {},
   "outputs": [
    {
     "data": {
      "text/plain": [
       "[[1], [1]]"
      ]
     },
     "execution_count": 94,
     "metadata": {},
     "output_type": "execute_result"
    }
   ],
   "source": [
    "a"
   ]
  },
  {
   "cell_type": "code",
   "execution_count": null,
   "id": "b63611a1",
   "metadata": {},
   "outputs": [],
   "source": []
  }
 ],
 "metadata": {
  "kernelspec": {
   "display_name": "Python 3",
   "language": "python",
   "name": "python3"
  },
  "language_info": {
   "codemirror_mode": {
    "name": "ipython",
    "version": 3
   },
   "file_extension": ".py",
   "mimetype": "text/x-python",
   "name": "python",
   "nbconvert_exporter": "python",
   "pygments_lexer": "ipython3",
   "version": "3.7.11"
  }
 },
 "nbformat": 4,
 "nbformat_minor": 5
}
