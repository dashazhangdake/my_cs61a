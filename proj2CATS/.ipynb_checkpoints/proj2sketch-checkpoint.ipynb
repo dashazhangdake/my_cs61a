{
 "cells": [
  {
   "cell_type": "code",
   "execution_count": 5,
   "id": "53d74981",
   "metadata": {},
   "outputs": [
    {
     "data": {
      "text/plain": [
       "1"
      ]
     },
     "execution_count": 5,
     "metadata": {},
     "output_type": "execute_result"
    }
   ],
   "source": [
    "lst = [2, 1, 1, 1]\n",
    "lst.index(1)"
   ]
  },
  {
   "cell_type": "code",
   "execution_count": 27,
   "id": "c66ea14a",
   "metadata": {},
   "outputs": [],
   "source": [
    "def sphinx_swaps(start, goal, limit):\n",
    "    \"\"\"A diff function for autocorrect that determines how many letters\n",
    "    in START need to be substituted to create GOAL, then adds the difference in\n",
    "    their lengths and returns the result.\n",
    "\n",
    "    Arguments:\n",
    "        start: a starting word\n",
    "        goal: a string representing a desired goal word\n",
    "        limit: a number representing an upper bound on the number of chars that must change\n",
    "\n",
    "    >>> big_limit = 10\n",
    "    >>> sphinx_swaps(\"nice\", \"rice\", big_limit)    # Substitute: n -> r\n",
    "    1\n",
    "    >>> sphinx_swaps(\"range\", \"rungs\", big_limit)  # Substitute: a -> u, e -> s\n",
    "    2\n",
    "    >>> sphinx_swaps(\"pill\", \"pillage\", big_limit) # Don't substitute anything, length difference of 3.\n",
    "    3\n",
    "    >>> sphinx_swaps(\"roses\", \"arose\", big_limit)  # Substitute: r -> a, o -> r, s -> o, e -> s, s -> e\n",
    "    5\n",
    "    >>> sphinx_swaps(\"rose\", \"hello\", big_limit)   # Substitute: r->h, o->e, s->l, e->l, length difference of 1.\n",
    "    5\n",
    "    \"\"\"\n",
    "    # BEGIN PROBLEM 6\n",
    "    def recur_body(change, start, goal, limit):\n",
    "        print(change)\n",
    "        if start == '':\n",
    "            return len(goal)\n",
    "        elif goal == '':\n",
    "            return len(start)\n",
    "        else:\n",
    "            if start[0] != goal[0]:\n",
    "                return change + 1 + recur_body(change, start[1:], goal[1:], limit)\n",
    "            else:\n",
    "                return change + recur_body(change, start[1:], goal[1:], limit)\n",
    "    return recur_body(0, start, goal, limit)"
   ]
  },
  {
   "cell_type": "code",
   "execution_count": 28,
   "id": "96d33b34",
   "metadata": {},
   "outputs": [
    {
     "name": "stdout",
     "output_type": "stream",
     "text": [
      "0\n",
      "0\n",
      "0\n"
     ]
    },
    {
     "data": {
      "text/plain": [
       "1"
      ]
     },
     "execution_count": 28,
     "metadata": {},
     "output_type": "execute_result"
    }
   ],
   "source": [
    "big_limit = 10\n",
    "sphinx_swaps(\"nice\", \"rice\", big_limit) "
   ]
  },
  {
   "cell_type": "code",
   "execution_count": 29,
   "id": "e9779c1c",
   "metadata": {},
   "outputs": [
    {
     "data": {
      "text/plain": [
       "5"
      ]
     },
     "execution_count": 29,
     "metadata": {},
     "output_type": "execute_result"
    }
   ],
   "source": [
    "sphinx_swaps(\"roses\", \"arose\", big_limit)"
   ]
  },
  {
   "cell_type": "code",
   "execution_count": 30,
   "id": "6982d236",
   "metadata": {},
   "outputs": [
    {
     "name": "stdout",
     "output_type": "stream",
     "text": [
      "0\n",
      "0\n",
      "0\n",
      "0\n"
     ]
    },
    {
     "data": {
      "text/plain": [
       "3"
      ]
     },
     "execution_count": 30,
     "metadata": {},
     "output_type": "execute_result"
    }
   ],
   "source": [
    "sphinx_swaps(\"pill\", \"pillage\", big_limit)"
   ]
  },
  {
   "cell_type": "code",
   "execution_count": 31,
   "id": "84409512",
   "metadata": {},
   "outputs": [
    {
     "name": "stdout",
     "output_type": "stream",
     "text": [
      "0\n",
      "0\n",
      "0\n"
     ]
    },
    {
     "data": {
      "text/plain": [
       "2"
      ]
     },
     "execution_count": 31,
     "metadata": {},
     "output_type": "execute_result"
    }
   ],
   "source": [
    "sphinx_swaps(\"range\", \"rungs\", big_limit)"
   ]
  },
  {
   "cell_type": "code",
   "execution_count": null,
   "id": "f9c27407",
   "metadata": {},
   "outputs": [],
   "source": []
  }
 ],
 "metadata": {
  "kernelspec": {
   "display_name": "Python 3",
   "language": "python",
   "name": "python3"
  },
  "language_info": {
   "codemirror_mode": {
    "name": "ipython",
    "version": 3
   },
   "file_extension": ".py",
   "mimetype": "text/x-python",
   "name": "python",
   "nbconvert_exporter": "python",
   "pygments_lexer": "ipython3",
   "version": "3.7.11"
  }
 },
 "nbformat": 4,
 "nbformat_minor": 5
}
