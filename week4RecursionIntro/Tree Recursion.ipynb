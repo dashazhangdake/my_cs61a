{
 "cells": [
  {
   "cell_type": "markdown",
   "id": "9069e1d7",
   "metadata": {},
   "source": [
    "# Tree recursion\n",
    "Tree recursion happens when a recursive function makes more than one recursive call to that function"
   ]
  },
  {
   "cell_type": "markdown",
   "id": "62f25e61",
   "metadata": {},
   "source": [
    "## Example 0, fibonacii\n",
    "```fib(n) = :```\n",
    "* 0 if (n==0)\n",
    "* 1 if (n==1)\n",
    "* fib(n-1) + fib(n-2) otherwise"
   ]
  },
  {
   "cell_type": "code",
   "execution_count": 1,
   "id": "54f508ef",
   "metadata": {},
   "outputs": [],
   "source": [
    "def fib(n):\n",
    "    if n == 0:\n",
    "        return 0\n",
    "    elif n == 1:\n",
    "        return 1\n",
    "    else:\n",
    "        return fib(n-1) + fib(n-2)"
   ]
  },
  {
   "cell_type": "code",
   "execution_count": 7,
   "id": "98a425e9",
   "metadata": {},
   "outputs": [
    {
     "data": {
      "text/plain": [
       "8"
      ]
     },
     "execution_count": 7,
     "metadata": {},
     "output_type": "execute_result"
    }
   ],
   "source": [
    "fib(6)"
   ]
  },
  {
   "cell_type": "markdown",
   "id": "0cc5364a",
   "metadata": {},
   "source": [
    "## Example 1, Counting Partitions\n",
    "The number of partitions of a positive integer ```n```, using parts up to size of ```m```, is the number of ways in which ways ```n``` can be expressed as the sum of positive integer parts up to ```m``` in an increasing order\n",
    "\n",
    "1. Split the problem into simpler cases:\n",
    "* count the partitions when using m as a part: ```count_partitions(n - m, m)```\n",
    "* count the partitions that we don't use m: ```count_partitions(n, m - 1)```\n",
    "\n",
    "2. Figure out the base conditions:\n",
    "* When m == 0, there is 0 possibility\n",
    "* When n < 0: there is 0 possiblity\n",
    "* When n == 1: there is 1 possibility "
   ]
  },
  {
   "cell_type": "code",
   "execution_count": 1,
   "id": "7ceed9f6",
   "metadata": {},
   "outputs": [],
   "source": [
    "def count_partition(n, m):\n",
    "    if m == 0:\n",
    "        return 0\n",
    "    elif n < 0:\n",
    "        return 0\n",
    "    elif m == 1:\n",
    "        return 1\n",
    "    else:\n",
    "        return count_partition(n - m, m) + count_partition(n, m - 1)"
   ]
  },
  {
   "cell_type": "code",
   "execution_count": 2,
   "id": "b915e33a",
   "metadata": {},
   "outputs": [
    {
     "data": {
      "text/plain": [
       "9"
      ]
     },
     "execution_count": 2,
     "metadata": {},
     "output_type": "execute_result"
    }
   ],
   "source": [
    "count_partition(6, 4)"
   ]
  },
  {
   "cell_type": "code",
   "execution_count": 3,
   "id": "12fed47b",
   "metadata": {},
   "outputs": [],
   "source": [
    "def count_partition1(n, m):\n",
    "    if m == 0:\n",
    "        return 0\n",
    "    elif n < 0:\n",
    "        return 0\n",
    "    elif n == 0:\n",
    "        return 1\n",
    "    else:\n",
    "        return count_partition(n - m, m) + count_partition(n, m - 1)"
   ]
  },
  {
   "cell_type": "code",
   "execution_count": 4,
   "id": "70919207",
   "metadata": {},
   "outputs": [
    {
     "name": "stdout",
     "output_type": "stream",
     "text": [
      "test passed\n"
     ]
    }
   ],
   "source": [
    "import random\n",
    "\n",
    "samples = 300\n",
    "for i in range(samples):\n",
    "    test_n = random.randint(5, 35)\n",
    "    test_m = test_n - 5\n",
    "    assert(count_partition(test_n, test_m) == count_partition1(test_n, test_m))\n",
    "#     count_partition1(test_n, test_m)\n",
    "print('test passed')\n",
    "    "
   ]
  },
  {
   "cell_type": "markdown",
   "id": "20ad9840",
   "metadata": {},
   "source": [
    "## Exercises"
   ]
  },
  {
   "cell_type": "markdown",
   "id": "333a8b4f",
   "metadata": {},
   "source": [
    "### Q1. Neighbor Digits\n",
    "Implement the function ```neighbor_digits```. ```neighbor_digits``` takes in a positive integer ```num``` and an optional argument ```prev_digit```. ```neighbor_digits``` outputs the number of digits in ```num``` that have the same digit to its right or left."
   ]
  },
  {
   "cell_type": "code",
   "execution_count": 50,
   "id": "61a6f9b4",
   "metadata": {},
   "outputs": [],
   "source": [
    "def neighbor_digits(num, prev_digit=-1):\n",
    "    \"\"\"\n",
    "    Returns the number of digits in num that have the same digit to its right\n",
    "    or left.\n",
    "    >>> neighbor_digits(111)\n",
    "    3\n",
    "    >>> neighbor_digits(123)\n",
    "    0\n",
    "    >>> neighbor_digits(112)\n",
    "    2\n",
    "    >>> neighbor_digits(1122)\n",
    "    4\n",
    "    \"\"\"\n",
    "    \"*** YOUR CODE HERE ***\"\n",
    "    if num // 10 == 0:\n",
    "        return int(num == prev_digit)\n",
    "    else:\n",
    "        last = num % 10\n",
    "        all_but_last = num // 10\n",
    "        return neighbor_digits(num // 10, last) + int(all_but_last%10 == last or prev_digit == last)\n",
    "        "
   ]
  },
  {
   "cell_type": "code",
   "execution_count": 51,
   "id": "0a846383",
   "metadata": {},
   "outputs": [
    {
     "data": {
      "text/plain": [
       "4"
      ]
     },
     "execution_count": 51,
     "metadata": {},
     "output_type": "execute_result"
    }
   ],
   "source": [
    "neighbor_digits(1122)"
   ]
  },
  {
   "cell_type": "markdown",
   "id": "49b0470b",
   "metadata": {},
   "source": [
    "## Q2. Has sequence\n",
    "Implement the function has_subseq, which takes in a number n and a \"sequence\" of digits seq. The function returns whether n contains seq as a subsequence, which does not have to be consecutive.\n",
    "\n",
    "For example, 141 contains the sequence 11 because the first digit of the sequence, 1, is the first digit of 141, and the next digit of the sequence, 1, is found later in 141."
   ]
  },
  {
   "cell_type": "code",
   "execution_count": 3,
   "id": "540f32de",
   "metadata": {},
   "outputs": [],
   "source": [
    "def has_subseq(n, seq):\n",
    "    \"\"\"\n",
    "    Complete has_subseq, a function which takes in a number n and a \"sequence\"\n",
    "    of digits seq and returns whether n contains seq as a subsequence, which\n",
    "    does not have to be consecutive.\n",
    "\n",
    "    >>> has_subseq(123, 12)\n",
    "    True\n",
    "    >>> has_subseq(141, 11)\n",
    "    True\n",
    "    >>> has_subseq(144, 12)\n",
    "    False\n",
    "    >>> has_subseq(144, 1441)\n",
    "    False\n",
    "    >>> has_subseq(1343412, 134)\n",
    "    True\n",
    "    \"\"\"\n",
    "    \"*** YOUR CODE HERE ***\"\n",
    "    if n == seq:\n",
    "        return True\n",
    "    if n < seq:\n",
    "        return False\n",
    "    without = has_subseq(n // 10, seq)\n",
    "    if seq % 10 == n % 10:\n",
    "        return has_subseq(n // 10, seq // 10)\n",
    "#         return True\n",
    "    return without"
   ]
  },
  {
   "cell_type": "code",
   "execution_count": 20,
   "id": "8f201a2d",
   "metadata": {},
   "outputs": [],
   "source": [
    "def has_subseq1(n, seq):\n",
    "    if n == seq:\n",
    "        return True\n",
    "    if n < seq:\n",
    "        return False\n",
    "    if seq % 10 == n % 10:\n",
    "        return has_subseq1(n // 10, seq // 10)\n",
    "    else:\n",
    "        return has_subseq1(n // 10, seq)"
   ]
  },
  {
   "cell_type": "code",
   "execution_count": 21,
   "id": "9b8d71da",
   "metadata": {},
   "outputs": [
    {
     "data": {
      "text/plain": [
       "True"
      ]
     },
     "execution_count": 21,
     "metadata": {},
     "output_type": "execute_result"
    }
   ],
   "source": [
    "has_subseq1(14401, 1441)"
   ]
  },
  {
   "cell_type": "code",
   "execution_count": 22,
   "id": "1882f5ba",
   "metadata": {},
   "outputs": [
    {
     "name": "stdout",
     "output_type": "stream",
     "text": [
      "test passed\n"
     ]
    }
   ],
   "source": [
    "import random\n",
    "\n",
    "samples = 3000\n",
    "for i in range(samples):\n",
    "    test_n = random.randint(0, 1000)\n",
    "    test_m = random.randint(0, 1000)\n",
    "    assert(has_subseq1(test_m, test_n) == has_subseq(test_m, test_n))\n",
    "print('test passed')"
   ]
  },
  {
   "cell_type": "code",
   "execution_count": 65,
   "id": "083ee4cf",
   "metadata": {},
   "outputs": [],
   "source": [
    "def num_eights(pos):\n",
    "    \"\"\"Returns the number of times 8 appears as a digit of pos.\n",
    "\n",
    "    >>> num_eights(3)\n",
    "    0\n",
    "    >>> num_eights(8)\n",
    "    1\n",
    "    >>> num_eights(88888888)\n",
    "    8\n",
    "    >>> num_eights(2638)\n",
    "    1\n",
    "    >>> num_eights(86380)\n",
    "    2\n",
    "    >>> num_eights(12345)\n",
    "    0\n",
    "    >>> from construct_check import check\n",
    "    >>> # ban all assignment statements\n",
    "    >>> check(HW_SOURCE_FILE, 'num_eights',\n",
    "    ...       ['Assign', 'AnnAssign', 'AugAssign', 'NamedExpr'])\n",
    "    True\n",
    "    \"\"\"\n",
    "    \"*** YOUR CODE HERE ***\"\n",
    "    if pos == 0:\n",
    "        return 0\n",
    "    elif pos % 10 == 8:\n",
    "        return num_eights(pos // 10) + 1\n",
    "    else:\n",
    "        return num_eights(pos // 10)\n"
   ]
  },
  {
   "cell_type": "code",
   "execution_count": 44,
   "id": "cc70f481",
   "metadata": {},
   "outputs": [],
   "source": [
    "def direction(n):\n",
    "    if n < 8:\n",
    "        return 1\n",
    "    elif n % 8 == 0 or num_eights(n) > 0:\n",
    "        return direction(n - 1) * -1\n",
    "    else:\n",
    "        return direction(n - 1)"
   ]
  },
  {
   "cell_type": "code",
   "execution_count": 49,
   "id": "a78362da",
   "metadata": {},
   "outputs": [
    {
     "data": {
      "text/plain": [
       "-1"
      ]
     },
     "execution_count": 49,
     "metadata": {},
     "output_type": "execute_result"
    }
   ],
   "source": [
    "direction(8)"
   ]
  },
  {
   "cell_type": "code",
   "execution_count": null,
   "id": "43a782e0",
   "metadata": {},
   "outputs": [],
   "source": []
  }
 ],
 "metadata": {
  "kernelspec": {
   "display_name": "Python 3",
   "language": "python",
   "name": "python3"
  },
  "language_info": {
   "codemirror_mode": {
    "name": "ipython",
    "version": 3
   },
   "file_extension": ".py",
   "mimetype": "text/x-python",
   "name": "python",
   "nbconvert_exporter": "python",
   "pygments_lexer": "ipython3",
   "version": "3.7.11"
  }
 },
 "nbformat": 4,
 "nbformat_minor": 5
}
