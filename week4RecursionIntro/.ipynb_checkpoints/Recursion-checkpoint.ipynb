{
 "cells": [
  {
   "cell_type": "markdown",
   "id": "26ab7c5c",
   "metadata": {},
   "source": [
    "# Recurive Functions"
   ]
  },
  {
   "cell_type": "markdown",
   "id": "208c4108",
   "metadata": {},
   "source": [
    "A function is called recursive if the body of the **function calls the function itself**, either directly or indirectly. \n",
    "\n",
    "That is, the process of executing the body of a recursive function may in turn require applying that function again. Recursive functions do not use any special syntax in Python, but they do require some effort to understand and create."
   ]
  },
  {
   "cell_type": "markdown",
   "id": "d1311f13",
   "metadata": {},
   "source": [
    "## 1. Intro\n",
    "### Example 0, sum digits\n",
    "Write a function that sums the digits of a natural number. \n",
    "\n",
    "When designing recursive functions, we look for ways in which a problem can be broken down into simpler problems. \n",
    "\n",
    "In this case, the operators % and // can be used to separate a number into two parts: its last digit and all but its last digit."
   ]
  },
  {
   "cell_type": "code",
   "execution_count": 1,
   "id": "3fe28a64",
   "metadata": {},
   "outputs": [],
   "source": [
    "def split(n):\n",
    "    return n // 10, n % 10"
   ]
  },
  {
   "cell_type": "code",
   "execution_count": 2,
   "id": "aefdf1e7",
   "metadata": {},
   "outputs": [],
   "source": [
    "def sum_digits(n):\n",
    "    all_but_last, last = split(n)\n",
    "    if all_but_last == 0: # Check for base cases\n",
    "        return last # Base cases are evaluated without recursive calls\n",
    "    else:\n",
    "        return sum_digits(all_but_last) + last # Recursive cases are evaluated with recursive calls"
   ]
  },
  {
   "cell_type": "code",
   "execution_count": 3,
   "id": "7146288a",
   "metadata": {},
   "outputs": [
    {
     "data": {
      "text/plain": [
       "6"
      ]
     },
     "execution_count": 3,
     "metadata": {},
     "output_type": "execute_result"
    }
   ],
   "source": [
    "sum_digits(123)"
   ]
  },
  {
   "cell_type": "code",
   "execution_count": 4,
   "id": "2e181a38",
   "metadata": {},
   "outputs": [
    {
     "data": {
      "text/plain": [
       "5"
      ]
     },
     "execution_count": 4,
     "metadata": {},
     "output_type": "execute_result"
    }
   ],
   "source": [
    "sum_digits(203)"
   ]
  },
  {
   "cell_type": "code",
   "execution_count": 5,
   "id": "877ab69a",
   "metadata": {},
   "outputs": [
    {
     "data": {
      "text/plain": [
       "0"
      ]
     },
     "execution_count": 5,
     "metadata": {},
     "output_type": "execute_result"
    }
   ],
   "source": [
    "sum_digits(0)"
   ]
  },
  {
   "cell_type": "markdown",
   "id": "d007ff0a",
   "metadata": {},
   "source": [
    "### Exampe 0a, recursion to iteration"
   ]
  },
  {
   "cell_type": "code",
   "execution_count": 6,
   "id": "c8146f06",
   "metadata": {},
   "outputs": [],
   "source": [
    "def sum_digits_iter(n):\n",
    "    res = 0\n",
    "    while (n > 0):\n",
    "        last = n % 10\n",
    "        n = n // 10\n",
    "        res = res + last\n",
    "    return res"
   ]
  },
  {
   "cell_type": "code",
   "execution_count": 7,
   "id": "eab7a179",
   "metadata": {},
   "outputs": [
    {
     "data": {
      "text/plain": [
       "5"
      ]
     },
     "execution_count": 7,
     "metadata": {},
     "output_type": "execute_result"
    }
   ],
   "source": [
    "sum_digits_iter(203)"
   ]
  },
  {
   "cell_type": "markdown",
   "id": "2173f07a",
   "metadata": {},
   "source": [
    "### Example 1, Luhn algorithm"
   ]
  },
  {
   "cell_type": "markdown",
   "id": "fa06925e",
   "metadata": {},
   "source": [
    "From the rightmost digit, which is the check digit, move left, double the value of every second digit\n",
    "\n",
    "If the product of the doubling operation is greater than 9, then sum the digits of that product"
   ]
  },
  {
   "cell_type": "code",
   "execution_count": 8,
   "id": "c91265d5",
   "metadata": {},
   "outputs": [],
   "source": [
    "def luhn_sum(n):\n",
    "    all_but_last, curr_last = split(n)\n",
    "    every_other_all, every_other_last = split(all_but_last)\n",
    "    if all_but_last == 0:\n",
    "        return sum_digits(every_other_last * 2)\n",
    "    else:\n",
    "        return sum_digits(every_other_last * 2) + curr_last + luhn_sum(every_other_all)"
   ]
  },
  {
   "cell_type": "code",
   "execution_count": 9,
   "id": "4c2cc20c",
   "metadata": {},
   "outputs": [
    {
     "data": {
      "text/plain": [
       "80"
      ]
     },
     "execution_count": 9,
     "metadata": {},
     "output_type": "execute_result"
    }
   ],
   "source": [
    "luhn_sum(5466160547579894)"
   ]
  },
  {
   "cell_type": "code",
   "execution_count": 10,
   "id": "1053f60f",
   "metadata": {},
   "outputs": [
    {
     "data": {
      "text/plain": [
       "50"
      ]
     },
     "execution_count": 10,
     "metadata": {},
     "output_type": "execute_result"
    }
   ],
   "source": [
    "luhn_sum(5466042032180224)"
   ]
  },
  {
   "cell_type": "markdown",
   "id": "9bb9efa6",
   "metadata": {},
   "source": [
    "## 2. Mutual Recursion"
   ]
  },
  {
   "cell_type": "markdown",
   "id": "324b03f2",
   "metadata": {},
   "source": [
    "When a recursive procedure is divided among two functions that call each other, the functions are said to be **mutually recursive*"
   ]
  },
  {
   "cell_type": "markdown",
   "id": "1a096d30",
   "metadata": {},
   "source": [
    "### Example 0\n",
    "Considering the following definition of even/odd numbers\n",
    "* a number is even if one more than an odd number\n",
    "* a number is odd if one more than an even number\n",
    "* when n == 0, it is even\n",
    "\n",
    "By this defintion, we have:\n",
    "* the base case for n == 0\n",
    "* n - 1 is odd, then n is even\n",
    "* n - 1 is also even, then n is odd"
   ]
  },
  {
   "cell_type": "code",
   "execution_count": 11,
   "id": "32ca94d5",
   "metadata": {},
   "outputs": [],
   "source": [
    "def is_even(n):\n",
    "    if n == 0:\n",
    "        return True\n",
    "    else:\n",
    "        return is_odd(n - 1)\n",
    "    \n",
    "def is_odd(n):\n",
    "    if n == 0:\n",
    "        return False\n",
    "    else:\n",
    "        return is_even(n - 1)"
   ]
  },
  {
   "cell_type": "code",
   "execution_count": 12,
   "id": "c5b7001a",
   "metadata": {},
   "outputs": [
    {
     "data": {
      "text/plain": [
       "False"
      ]
     },
     "execution_count": 12,
     "metadata": {},
     "output_type": "execute_result"
    }
   ],
   "source": [
    "is_even(29)"
   ]
  },
  {
   "cell_type": "markdown",
   "id": "578dbfa4",
   "metadata": {},
   "source": [
    "Mutually recursive functions can be turned into a single recursive function by breaking the abstraction boundary between two functions."
   ]
  },
  {
   "cell_type": "code",
   "execution_count": 13,
   "id": "6177b511",
   "metadata": {},
   "outputs": [],
   "source": [
    "def is_even_a(n):\n",
    "    if n == 0:\n",
    "        return True\n",
    "    else:\n",
    "        if n == 1:\n",
    "            return False\n",
    "        else:\n",
    "            return is_even_a(n - 2)"
   ]
  },
  {
   "cell_type": "code",
   "execution_count": 14,
   "id": "1775afda",
   "metadata": {},
   "outputs": [
    {
     "data": {
      "text/plain": [
       "False"
      ]
     },
     "execution_count": 14,
     "metadata": {},
     "output_type": "execute_result"
    }
   ],
   "source": [
    "is_even_a(29)"
   ]
  },
  {
   "cell_type": "markdown",
   "id": "8c787f31",
   "metadata": {},
   "source": [
    "### Example 1"
   ]
  },
  {
   "cell_type": "markdown",
   "id": "5c1eca0c",
   "metadata": {},
   "source": [
    "From the rightmost digit, which is the check digit, move left, double the value of every second digit\n",
    "\n",
    "If the product of the doubling operation is greater than 9, then sum the digits of that product"
   ]
  },
  {
   "cell_type": "code",
   "execution_count": 15,
   "id": "8183a6ff",
   "metadata": {},
   "outputs": [],
   "source": [
    "def split(n):\n",
    "    return n // 10, n % 10\n",
    "\n",
    "def sum_digits(n):\n",
    "    if n < 10:\n",
    "        return n\n",
    "    else:\n",
    "        all_but_last, last = split(n)\n",
    "        return sum_digits(all_but_last) + last\n",
    "    \n",
    "def luhn_sum(n):\n",
    "    if n < 10:\n",
    "        return n\n",
    "    else:\n",
    "        all_but_last, last = split(n)\n",
    "        return last + doubling(all_but_last)\n",
    "\n",
    "def doubling(n):\n",
    "    all_but_last, last = split(n)\n",
    "    if n < 10:\n",
    "        return sum_digits(2 * last)\n",
    "    else:\n",
    "        return sum_digits(2 * last) + luhn_sum(all_but_last)"
   ]
  },
  {
   "cell_type": "code",
   "execution_count": 18,
   "id": "8517fcaf",
   "metadata": {},
   "outputs": [],
   "source": [
    "def luhn_sum_iter(n):\n",
    "    all_but_last, curr_last = split(n) # N-1 bit and Last digit\n",
    "    every_other_all, every_other_last = split(all_but_last) # N-1 digit of prev N-1 digit, and the last digit of N-1\n",
    "    if all_but_last == 0: # Base case when there is ONLY one digit\n",
    "        return curr_last\n",
    "    else:\n",
    "        return sum_digits(every_other_last * 2) + curr_last + luhn_sum_iter(every_other_all) \n",
    "        # Otherwise, add up last_digit, second_last_digit * 2, "
   ]
  },
  {
   "cell_type": "code",
   "execution_count": 30,
   "id": "d6a1c486",
   "metadata": {},
   "outputs": [
    {
     "name": "stdout",
     "output_type": "stream",
     "text": [
      "test passed\n"
     ]
    }
   ],
   "source": [
    "import random\n",
    "\n",
    "samples = 1000\n",
    "for i in range(samples):\n",
    "    testnum = random.randint(0, 1e15)\n",
    "    assert(luhn_sum(testnum) == luhn_sum_iter(testnum))\n",
    "print('test passed')\n",
    "    "
   ]
  },
  {
   "cell_type": "markdown",
   "id": "f8e8c1f4",
   "metadata": {},
   "source": [
    "## 3. Visualizing Recursive Functions"
   ]
  },
  {
   "cell_type": "code",
   "execution_count": 97,
   "id": "aa46f9c5",
   "metadata": {},
   "outputs": [],
   "source": [
    "def cascade(n):\n",
    "    \"\"\"Print a cascade of prefix of n\"\"\"\n",
    "    if n < 10:\n",
    "        print(n)\n",
    "    else:\n",
    "        print(n) # Going into the base case\n",
    "        cascade(n // 10)\n",
    "        \n",
    "        print(n) # Expand from the base case"
   ]
  },
  {
   "cell_type": "code",
   "execution_count": 98,
   "id": "be69ab0b",
   "metadata": {},
   "outputs": [
    {
     "name": "stdout",
     "output_type": "stream",
     "text": [
      "2013\n",
      "201\n",
      "20\n",
      "2\n",
      "20\n",
      "201\n",
      "2013\n"
     ]
    }
   ],
   "source": [
    "cascade(2013)"
   ]
  },
  {
   "cell_type": "code",
   "execution_count": 58,
   "id": "4ee56f9f",
   "metadata": {},
   "outputs": [],
   "source": [
    "def cascade1(n):\n",
    "    print(n)\n",
    "    if n >= 10:\n",
    "        cascade1(n // 10)\n",
    "#         print(n)"
   ]
  },
  {
   "cell_type": "code",
   "execution_count": 59,
   "id": "62c8112f",
   "metadata": {},
   "outputs": [
    {
     "name": "stdout",
     "output_type": "stream",
     "text": [
      "2013\n",
      "201\n",
      "20\n",
      "2\n"
     ]
    }
   ],
   "source": [
    "cascade1(2013)"
   ]
  },
  {
   "cell_type": "markdown",
   "id": "311efe48",
   "metadata": {},
   "source": [
    "### Now reverse cascade as a primaid\n",
    "### method in a naive way\n",
    "1. Print from low to high: print after recursive call"
   ]
  },
  {
   "cell_type": "code",
   "execution_count": 1,
   "id": "589f2a02",
   "metadata": {},
   "outputs": [],
   "source": [
    "def print_after_call(n): # Grow\n",
    "    if n < 10:\n",
    "        print(n)\n",
    "    else:\n",
    "        print_after_call(n // 10)\n",
    "        print(n)"
   ]
  },
  {
   "cell_type": "code",
   "execution_count": 2,
   "id": "93ea8d2a",
   "metadata": {},
   "outputs": [
    {
     "name": "stdout",
     "output_type": "stream",
     "text": [
      "2\n",
      "20\n",
      "201\n",
      "2013\n"
     ]
    }
   ],
   "source": [
    "print_after_call(2013)"
   ]
  },
  {
   "cell_type": "markdown",
   "id": "228cb685",
   "metadata": {},
   "source": [
    "2. print from high to low: print before recursive call"
   ]
  },
  {
   "cell_type": "code",
   "execution_count": 3,
   "id": "37150e0a",
   "metadata": {},
   "outputs": [],
   "source": [
    "def print_before_call(n): # Shrink\n",
    "    if n < 10:\n",
    "        print(n)\n",
    "    else:\n",
    "        print(n)\n",
    "        print_before_call(n // 10)"
   ]
  },
  {
   "cell_type": "code",
   "execution_count": 4,
   "id": "fd35619a",
   "metadata": {},
   "outputs": [
    {
     "name": "stdout",
     "output_type": "stream",
     "text": [
      "2013\n",
      "201\n",
      "20\n",
      "2\n"
     ]
    }
   ],
   "source": [
    "print_before_call(2013)"
   ]
  },
  {
   "cell_type": "markdown",
   "id": "36f3c3c2",
   "metadata": {},
   "source": [
    "3. Combine the helpers we created"
   ]
  },
  {
   "cell_type": "code",
   "execution_count": 5,
   "id": "5c04800b",
   "metadata": {},
   "outputs": [],
   "source": [
    "def inverse_cascade_0(n): \n",
    "    print_after_call(n)\n",
    "    print_before_call(n // 10)"
   ]
  },
  {
   "cell_type": "code",
   "execution_count": 6,
   "id": "fd35ec38",
   "metadata": {},
   "outputs": [
    {
     "name": "stdout",
     "output_type": "stream",
     "text": [
      "2\n",
      "20\n",
      "201\n",
      "2013\n",
      "201\n",
      "20\n",
      "2\n"
     ]
    }
   ],
   "source": [
    "inverse_cascade_0(2013)"
   ]
  },
  {
   "cell_type": "markdown",
   "id": "ef6eaaa0",
   "metadata": {},
   "source": [
    "### a suggested method in the tutorial"
   ]
  },
  {
   "cell_type": "code",
   "execution_count": 7,
   "id": "a1eef9d2",
   "metadata": {},
   "outputs": [],
   "source": [
    "def inverse_cascade(n):\n",
    "    grow(n)\n",
    "    print(n)\n",
    "    shrink(n)\n",
    "    \n",
    "def f_then_g(f, g, n):\n",
    "    if n:\n",
    "        f(n)\n",
    "        g(n)\n",
    "        \n",
    "grow = lambda n: f_then_g(grow, print, n // 10)\n",
    "shrink = lambda n: f_then_g(print, shrink, n // 10)"
   ]
  },
  {
   "cell_type": "code",
   "execution_count": 8,
   "id": "48cfe760",
   "metadata": {},
   "outputs": [
    {
     "name": "stdout",
     "output_type": "stream",
     "text": [
      "2\n",
      "20\n",
      "201\n",
      "2013\n",
      "201\n",
      "20\n",
      "2\n"
     ]
    }
   ],
   "source": [
    "inverse_cascade(2013)"
   ]
  }
 ],
 "metadata": {
  "kernelspec": {
   "display_name": "Python 3",
   "language": "python",
   "name": "python3"
  },
  "language_info": {
   "codemirror_mode": {
    "name": "ipython",
    "version": 3
   },
   "file_extension": ".py",
   "mimetype": "text/x-python",
   "name": "python",
   "nbconvert_exporter": "python",
   "pygments_lexer": "ipython3",
   "version": "3.7.11"
  }
 },
 "nbformat": 4,
 "nbformat_minor": 5
}
