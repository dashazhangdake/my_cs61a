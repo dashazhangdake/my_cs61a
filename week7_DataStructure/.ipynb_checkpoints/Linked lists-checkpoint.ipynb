{
 "cells": [
  {
   "cell_type": "markdown",
   "id": "5bd548f8",
   "metadata": {},
   "source": [
    "# Linked lists\n",
    "## Introduction, A linked list class\n",
    "A linked list is a chain of objects where each object holds a **value** and a **reference to the next link**. The list ends when the final reference is empty."
   ]
  },
  {
   "cell_type": "code",
   "execution_count": 108,
   "id": "dce83a21",
   "metadata": {},
   "outputs": [],
   "source": [
    "class Link:\n",
    "    empty = ()\n",
    "\n",
    "    def __init__(self, first, rest=empty):\n",
    "        self.first = first\n",
    "        self.rest = rest"
   ]
  },
  {
   "cell_type": "code",
   "execution_count": 109,
   "id": "ab7b5074",
   "metadata": {},
   "outputs": [],
   "source": [
    "ll = Link(\"A\", Link(\"B\", Link(\"C\")))"
   ]
  },
  {
   "cell_type": "code",
   "execution_count": 110,
   "id": "a5e12f7a",
   "metadata": {},
   "outputs": [],
   "source": [
    "class Link:\n",
    "    \"\"\"A linked list.\"\"\"\n",
    "    empty = ()\n",
    "\n",
    "    def __init__(self, first, rest=empty):\n",
    "        assert rest is Link.empty or isinstance(rest, Link)\n",
    "        self.first = first\n",
    "        self.rest = rest\n",
    "\n",
    "    def __repr__(self):\n",
    "        if self.rest:\n",
    "            rest_repr = ', ' + repr(self.rest)\n",
    "        else:\n",
    "            rest_repr = ''\n",
    "        return 'Link(' + repr(self.first) + rest_repr + ')'\n",
    "\n",
    "    def __str__(self):\n",
    "        string = '<'\n",
    "        while self.rest is not Link.empty:\n",
    "            string += str(self.first) + ' '\n",
    "            self = self.rest\n",
    "        return string + str(self.first) + '>'"
   ]
  },
  {
   "cell_type": "code",
   "execution_count": 111,
   "id": "48abc702",
   "metadata": {},
   "outputs": [],
   "source": [
    "ll = Link(\"A\", Link(\"B\", Link(\"C\")))"
   ]
  },
  {
   "cell_type": "code",
   "execution_count": 112,
   "id": "49f88288",
   "metadata": {},
   "outputs": [
    {
     "data": {
      "text/plain": [
       "Link('A', Link('B', Link('C')))"
      ]
     },
     "execution_count": 112,
     "metadata": {},
     "output_type": "execute_result"
    }
   ],
   "source": [
    "ll"
   ]
  },
  {
   "cell_type": "code",
   "execution_count": 113,
   "id": "adc61a00",
   "metadata": {},
   "outputs": [
    {
     "name": "stdout",
     "output_type": "stream",
     "text": [
      "<A B C>\n"
     ]
    }
   ],
   "source": [
    "print(ll)"
   ]
  },
  {
   "cell_type": "markdown",
   "id": "b2b77c15",
   "metadata": {},
   "source": [
    "# 1. Creating Linked Lists Methods Exercises\n",
    "## 1.1 Creating a range\n",
    "```python\n",
    "    \"\"\"Return a Link containing consecutive integers\n",
    "    from START to END, not including END.\"\"\"\n",
    "    >>> range_link(3, 6)\n",
    "    Link(3, Link(4, Link(5)))\n",
    "```\n",
    "\n",
    "**Method 1**: iterative"
   ]
  },
  {
   "cell_type": "code",
   "execution_count": 114,
   "id": "2ed7ddf4",
   "metadata": {},
   "outputs": [],
   "source": [
    "def range_link(start, end):\n",
    "    res = Link(start)\n",
    "    curr = res\n",
    "    for i in range(start + 1, end):\n",
    "        curr.rest = Link(i)\n",
    "        curr = curr.rest\n",
    "    return res"
   ]
  },
  {
   "cell_type": "code",
   "execution_count": 115,
   "id": "48e8102f",
   "metadata": {},
   "outputs": [
    {
     "data": {
      "text/plain": [
       "Link(3, Link(4, Link(5)))"
      ]
     },
     "execution_count": 115,
     "metadata": {},
     "output_type": "execute_result"
    }
   ],
   "source": [
    "range_link(3, 6)"
   ]
  },
  {
   "cell_type": "markdown",
   "id": "0698850a",
   "metadata": {},
   "source": [
    "**Method 2**: Recursive"
   ]
  },
  {
   "cell_type": "code",
   "execution_count": 116,
   "id": "4294e61a",
   "metadata": {},
   "outputs": [],
   "source": [
    "def range_link(start, end):\n",
    "    if start >= end:\n",
    "        return Link.empty\n",
    "    else:\n",
    "        return Link(start, range_link(start+1, end))"
   ]
  },
  {
   "cell_type": "code",
   "execution_count": 117,
   "id": "5d2067a4",
   "metadata": {},
   "outputs": [
    {
     "data": {
      "text/plain": [
       "Link(3, Link(4, Link(5)))"
      ]
     },
     "execution_count": 117,
     "metadata": {},
     "output_type": "execute_result"
    }
   ],
   "source": [
    "range_link(3, 6)"
   ]
  },
  {
   "cell_type": "markdown",
   "id": "51469688",
   "metadata": {},
   "source": [
    "## 1.2 Mapping a linked list\n",
    "```python\n",
    "    \"\"\"Return a Link that contains f(x) for each x in Link LL.\"\"\"\n",
    "    >>> square = lambda x: x * x\n",
    "    >>> map_link(square, range_link(3, 6))\n",
    "    Link(9, Link(16, Link(25)))\n",
    "```"
   ]
  },
  {
   "cell_type": "code",
   "execution_count": 118,
   "id": "c591c324",
   "metadata": {},
   "outputs": [],
   "source": [
    "def map_link(f, ll):\n",
    "    \"\"\"Return a Link that contains f(x) for each x in Link LL.\n",
    "    >>> square = lambda x: x * x\n",
    "    >>> map_link(square, range_link(3, 6))\n",
    "    Link(9, Link(16, Link(25)))\n",
    "    \"\"\"\n",
    "    if ll == ():\n",
    "        return Link.empty\n",
    "    else:\n",
    "        return Link(f(ll.first), map_link(f, ll.rest))"
   ]
  },
  {
   "cell_type": "code",
   "execution_count": 119,
   "id": "3e1bd301",
   "metadata": {},
   "outputs": [
    {
     "data": {
      "text/plain": [
       "Link(9, Link(16, Link(25)))"
      ]
     },
     "execution_count": 119,
     "metadata": {},
     "output_type": "execute_result"
    }
   ],
   "source": [
    "square = lambda x: x * x\n",
    "map_link(square, range_link(3, 6))"
   ]
  },
  {
   "cell_type": "markdown",
   "id": "4c4584ba",
   "metadata": {},
   "source": [
    "## 1.3 Filtering a linked list\n",
    "```python\n",
    "    \"\"\"Return a Link that contains only the elements x of Link LL\n",
    "    for which f(x) is a true value.\"\"\"\n",
    "    >>> is_odd = lambda x: x % 2 == 1\n",
    "    >>> filter_link(is_odd, range_link(3, 6))\n",
    "    Link(3, Link(5))\n",
    "```"
   ]
  },
  {
   "cell_type": "code",
   "execution_count": 120,
   "id": "9bc515fb",
   "metadata": {},
   "outputs": [],
   "source": [
    "def filter_link(f, ll):\n",
    "    if ll == ():\n",
    "        return Link.empty\n",
    "    else:\n",
    "        if f(ll.first):\n",
    "            return Link(ll.first, filter_link(f, ll.rest))\n",
    "        else:\n",
    "            return filter_link(f, ll.rest)"
   ]
  },
  {
   "cell_type": "code",
   "execution_count": 121,
   "id": "a9b0bd64",
   "metadata": {},
   "outputs": [
    {
     "data": {
      "text/plain": [
       "Link(3, Link(5))"
      ]
     },
     "execution_count": 121,
     "metadata": {},
     "output_type": "execute_result"
    }
   ],
   "source": [
    "is_odd = lambda x: x % 2 == 1\n",
    "filter_link(is_odd, range_link(3, 6))"
   ]
  },
  {
   "cell_type": "markdown",
   "id": "8e96c899",
   "metadata": {},
   "source": [
    "# 2. Mutating a linked list\n",
    "Attribute assignments can change ```first and rest``` attributes of a ```Link```."
   ]
  },
  {
   "cell_type": "code",
   "execution_count": 122,
   "id": "e3201a70",
   "metadata": {},
   "outputs": [
    {
     "data": {
      "text/plain": [
       "Link('A', Link('B', Link('C')))"
      ]
     },
     "execution_count": 122,
     "metadata": {},
     "output_type": "execute_result"
    }
   ],
   "source": [
    "s = Link(\"A\", Link(\"B\", Link(\"C\")))\n",
    "s"
   ]
  },
  {
   "cell_type": "code",
   "execution_count": 123,
   "id": "6f1ba55c",
   "metadata": {},
   "outputs": [
    {
     "data": {
      "text/plain": [
       "Link('Hi', Link('Hola', Link('Oi')))"
      ]
     },
     "execution_count": 123,
     "metadata": {},
     "output_type": "execute_result"
    }
   ],
   "source": [
    "s.first = \"Hi\"\n",
    "s.rest.first = \"Hola\"\n",
    "s.rest.rest.first = \"Oi\"\n",
    "s"
   ]
  },
  {
   "cell_type": "code",
   "execution_count": 124,
   "id": "900b401e",
   "metadata": {},
   "outputs": [
    {
     "name": "stdout",
     "output_type": "stream",
     "text": [
      "<B C>\n"
     ]
    }
   ],
   "source": [
    "s = Link(\"A\", Link(\"B\", Link(\"C\")))\n",
    "t = s.rest\n",
    "print(t)\n",
    "t.rest = s"
   ]
  },
  {
   "cell_type": "code",
   "execution_count": 125,
   "id": "be108c53",
   "metadata": {},
   "outputs": [
    {
     "data": {
      "text/plain": [
       "'A'"
      ]
     },
     "execution_count": 125,
     "metadata": {},
     "output_type": "execute_result"
    }
   ],
   "source": [
    "s.first"
   ]
  },
  {
   "cell_type": "code",
   "execution_count": 126,
   "id": "c3e84350",
   "metadata": {},
   "outputs": [
    {
     "data": {
      "text/plain": [
       "'B'"
      ]
     },
     "execution_count": 126,
     "metadata": {},
     "output_type": "execute_result"
    }
   ],
   "source": [
    "s.rest.rest.rest.rest.rest.first"
   ]
  },
  {
   "cell_type": "markdown",
   "id": "59c2e304",
   "metadata": {},
   "source": [
    "## 2.1 Insert to front\n",
    "```python\n",
    "    \"\"\"Inserts NEW_VAL in front of LINKED_LIST,\n",
    "    returning new linked list.\"\"\"\n",
    "\n",
    "    >>> ll = Link(1, Link(3, Link(5)))\n",
    "    >>> insert_front(ll, 0)\n",
    "    Link(0, Link(1, Link(3, Link(5))))\n",
    "```"
   ]
  },
  {
   "cell_type": "markdown",
   "id": "ad835810",
   "metadata": {},
   "source": [
    "**Creating a new list**"
   ]
  },
  {
   "cell_type": "code",
   "execution_count": 127,
   "id": "97691969",
   "metadata": {},
   "outputs": [],
   "source": [
    "def insert_front(linked_list, new_val):\n",
    "    return Link(new_val, linked_list)"
   ]
  },
  {
   "cell_type": "code",
   "execution_count": 128,
   "id": "797b5ad8",
   "metadata": {},
   "outputs": [
    {
     "data": {
      "text/plain": [
       "Link(0, Link(1, Link(3, Link(5))))"
      ]
     },
     "execution_count": 128,
     "metadata": {},
     "output_type": "execute_result"
    }
   ],
   "source": [
    "ll = Link(1, Link(3, Link(5)))\n",
    "res = insert_front(ll, 0)\n",
    "res"
   ]
  },
  {
   "cell_type": "markdown",
   "id": "9ca2e921",
   "metadata": {},
   "source": [
    "**In-place**"
   ]
  },
  {
   "cell_type": "code",
   "execution_count": 129,
   "id": "db57c663",
   "metadata": {},
   "outputs": [],
   "source": [
    "def insert_front(linked_list, new_val):\n",
    "    old_first = linked_list.first\n",
    "    linked_list.first = new_val\n",
    "    linked_list.rest = Link(old_first, linked_list.rest)"
   ]
  },
  {
   "cell_type": "code",
   "execution_count": 130,
   "id": "326bf59c",
   "metadata": {},
   "outputs": [],
   "source": [
    "ll = Link(1, Link(3, Link(5)))\n",
    "insert_front(ll, 0)"
   ]
  },
  {
   "cell_type": "code",
   "execution_count": 131,
   "id": "4df1154f",
   "metadata": {},
   "outputs": [
    {
     "data": {
      "text/plain": [
       "Link(0, Link(1, Link(3, Link(5))))"
      ]
     },
     "execution_count": 131,
     "metadata": {},
     "output_type": "execute_result"
    }
   ],
   "source": [
    "ll"
   ]
  },
  {
   "cell_type": "markdown",
   "id": "b7c3745d",
   "metadata": {},
   "source": [
    "## 2.2 Adding to an ordered linked list\n",
    "```python\n",
    "\"\"\"Add NEW_VAL to ORDERED_LIST, returning modified ORDERED_LIST.\"\"\"\n",
    "    >>> s = Link(1, Link(3, Link(5)))\n",
    "    >>> add(s, 0)\n",
    "    Link(0, Link(1, Link(3, Link(5))))\n",
    "    >>> add(s, 3)\n",
    "    Link(0, Link(1, Link(3, Link(5))))\n",
    "    >>> add(s, 4)\n",
    "    Link(0, Link(1, Link(3, Link(4, Link(5)))))\n",
    "    >>> add(s, 6)\n",
    "    Link(0, Link(1, Link(3, Link(4, Link(5, Link(6))))))\n",
    "```"
   ]
  },
  {
   "cell_type": "code",
   "execution_count": 151,
   "id": "3fda6817",
   "metadata": {},
   "outputs": [],
   "source": [
    "def add(ordered_list, new_val):\n",
    "    if new_val < ordered_list.first:\n",
    "        old_first = ordered_list.first\n",
    "        ordered_list.first = new_val\n",
    "        ordered_list.rest = Link(old_first, ordered_list.rest)\n",
    "    elif new_val > ordered_list.first and ordered_list.rest is Link.empty:\n",
    "        ordered_list.rest = Link(new_val)\n",
    "    elif new_val > ordered_list.first:\n",
    "        print('recur', ordered_list.first)\n",
    "        add(ordered_list.rest, new_val)\n",
    "        print('recur', ordered_list.first)\n",
    "    return ordered_list"
   ]
  },
  {
   "cell_type": "code",
   "execution_count": 152,
   "id": "ca1251ff",
   "metadata": {},
   "outputs": [
    {
     "data": {
      "text/plain": [
       "Link(0, Link(1, Link(3, Link(5))))"
      ]
     },
     "execution_count": 152,
     "metadata": {},
     "output_type": "execute_result"
    }
   ],
   "source": [
    "s = Link(1, Link(3, Link(5)))\n",
    "add(s, 0)"
   ]
  },
  {
   "cell_type": "code",
   "execution_count": 153,
   "id": "a2d137ea",
   "metadata": {},
   "outputs": [
    {
     "name": "stdout",
     "output_type": "stream",
     "text": [
      "recur 0\n",
      "recur 1\n",
      "recur 1\n",
      "recur 0\n"
     ]
    },
    {
     "data": {
      "text/plain": [
       "Link(0, Link(1, Link(3, Link(5))))"
      ]
     },
     "execution_count": 153,
     "metadata": {},
     "output_type": "execute_result"
    }
   ],
   "source": [
    "add(s, 3)"
   ]
  },
  {
   "cell_type": "code",
   "execution_count": 154,
   "id": "6c33e248",
   "metadata": {},
   "outputs": [
    {
     "name": "stdout",
     "output_type": "stream",
     "text": [
      "recur 0\n",
      "recur 1\n",
      "recur 3\n",
      "recur 3\n",
      "recur 1\n",
      "recur 0\n"
     ]
    },
    {
     "data": {
      "text/plain": [
       "Link(0, Link(1, Link(3, Link(4, Link(5)))))"
      ]
     },
     "execution_count": 154,
     "metadata": {},
     "output_type": "execute_result"
    }
   ],
   "source": [
    "add(s, 4)"
   ]
  },
  {
   "cell_type": "code",
   "execution_count": 155,
   "id": "5f0e51c1",
   "metadata": {},
   "outputs": [
    {
     "name": "stdout",
     "output_type": "stream",
     "text": [
      "recur 0\n",
      "recur 1\n",
      "recur 3\n",
      "recur 4\n",
      "recur 4\n",
      "recur 3\n",
      "recur 1\n",
      "recur 0\n"
     ]
    },
    {
     "data": {
      "text/plain": [
       "Link(0, Link(1, Link(3, Link(4, Link(5, Link(6))))))"
      ]
     },
     "execution_count": 155,
     "metadata": {},
     "output_type": "execute_result"
    }
   ],
   "source": [
    "add(s, 6)"
   ]
  },
  {
   "cell_type": "markdown",
   "id": "13410c40",
   "metadata": {},
   "source": [
    "## 2.4 Example Performance comparison"
   ]
  },
  {
   "cell_type": "code",
   "execution_count": 157,
   "id": "335afe74",
   "metadata": {},
   "outputs": [
    {
     "name": "stdout",
     "output_type": "stream",
     "text": [
      "26.8460801000183\n",
      "0.03762379998806864\n"
     ]
    }
   ],
   "source": [
    "import timeit\n",
    "\n",
    "class Link:\n",
    "    empty = ()\n",
    "\n",
    "    def __init__(self, first, rest=empty):\n",
    "        self.first = first\n",
    "        self.rest = rest\n",
    "\n",
    "    def insert_at_start(self, value):\n",
    "        original_first = self.first\n",
    "        self.first = value\n",
    "        self.rest = Link(original_first, self.rest)\n",
    "\n",
    "# From https://www.gutenberg.org/files/2600/2600-0.txt\n",
    "filename = \"warandpeace.txt\"\n",
    "big_file = open(filename, encoding=\"utf8\")\n",
    "big_str = big_file.read()\n",
    "# Make a big python list\n",
    "big_list = big_str.split(\" \")\n",
    "\n",
    "# Make a big linked list\n",
    "big_ll = Link(big_list[0])\n",
    "word_num = 1\n",
    "current_link = big_ll\n",
    "while word_num < len(big_list):\n",
    "   current_link.rest = Link(big_list[word_num])\n",
    "   current_link = current_link.rest\n",
    "   word_num += 1\n",
    "\n",
    "# Time the Python list\n",
    "time_taken = timeit.timeit(lambda: big_list.insert(0, \"happy\"), number=100000)\n",
    "print(time_taken)\n",
    "\n",
    "# Time the linked list\n",
    "time_taken = timeit.timeit(lambda: big_ll.insert_at_start(\"happy\"), number=100000)\n",
    "print(time_taken)"
   ]
  },
  {
   "cell_type": "markdown",
   "id": "d5ab430f",
   "metadata": {},
   "source": [
    "# Summary: Recursive Objects"
   ]
  },
  {
   "cell_type": "markdown",
   "id": "501f3bff",
   "metadata": {},
   "source": [
    "## Tree and linked List are considered as recursive objects because\n",
    "\n",
    "Each type of object contains references to the same type of object.\n",
    "\n",
    "* An instance of ```Tree``` can contain additional instances of ```Tree```, in the ```branches``` variable.\n",
    "* An instance of ```Link``` can contain an additional instance of ```Link```, in the ```rest``` variable\n",
    "\n",
    "Both classes lend themselves to recursive algorithms. Generally:\n",
    "\n",
    "* **For ```Tree```**: \n",
    "The base case is when ```is_leaf()``` is true;\n",
    "the recursive call is on the ```branches```.\n",
    "* **For ```Link```**: The base case is when the ```rest``` is empty;\n",
    "the recursive call is on the ```rest```."
   ]
  },
  {
   "cell_type": "code",
   "execution_count": null,
   "id": "03bfafe1",
   "metadata": {},
   "outputs": [],
   "source": []
  }
 ],
 "metadata": {
  "kernelspec": {
   "display_name": "Python 3",
   "language": "python",
   "name": "python3"
  },
  "language_info": {
   "codemirror_mode": {
    "name": "ipython",
    "version": 3
   },
   "file_extension": ".py",
   "mimetype": "text/x-python",
   "name": "python",
   "nbconvert_exporter": "python",
   "pygments_lexer": "ipython3",
   "version": "3.7.11"
  }
 },
 "nbformat": 4,
 "nbformat_minor": 5
}
