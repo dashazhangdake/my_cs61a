{
 "cells": [
  {
   "cell_type": "markdown",
   "id": "5900e737",
   "metadata": {},
   "source": [
    "# Regular Experessions\n",
    "Regular expressions are a way to describe sets of strings that meet certain criteria, and are incredibly useful for pattern matching.\n",
    "## Character classes\n",
    "A character class makes it possible to search for **any one** of a set of characters, you can **specify the set** or **use pre-defined** sets\n",
    "\n",
    "|Class| Explanation |\n",
    "| --- | --- |\n",
    "| ```[abc]``` | Matches **a, b, or c** |\n",
    "| ```[a-z]``` | Matches **ANY** character **between a and z**|\n",
    "| ```[^A-Z]``` | Matches **ANY** character that is **NOT** between **A and Z**|\n",
    "| ```\\d``` | Matches **digits**, equivalent to ```[0-9]``` |\n",
    "| ```\\D``` | Matches any **NON-digits**, opposite of ```\\d```, shortcuts below also have opposites|\n",
    "| ```\\w``` | Matches **ANY word characters**, equivalent to ```[A-Za-z0-9_]``` (*opposite of ```\\W```*)|\n",
    "| ```\\s``` | Matches **white space characters** (spaces, tabs, linebreaks), (*opposite of ```\\S```*) |\n",
    "| ```.``` | Matches **ANY** non-newline character |\n",
    "\n",
    "Character classes can be combined, like in ```[a-zA-Z0-9]```.\n",
    "\n",
    "\n",
    "## Combining Patterns\n",
    "There are multiple ways to combine patterns together in ReExp\n",
    "\n",
    "|Combo| Explanation |\n",
    "| --- | --- |\n",
    "| ```AB``` | A match for **A followed immediately by one for B**. **Example**: **```x[.,]y```** matches ```x.y``` or ```x,y``` |\n",
    "|```A\\|B```| Matches **either A or B**. **Example**: **```\\d+\\|Inf```** matches either a sequence of digits or Inf|\n",
    "\n",
    "A pattern can be followed by one of these **quantifiers** to **specify how many instance** of that pattern **can occur**\n",
    "\n",
    "| Quantifiers Symbol| Explanation |\n",
    "| --- | --- |\n",
    "| ```a*``` | **zero or more** occurences of ```a``` |\n",
    "| ```a+``` | **one or more** occurences of ```a```|\n",
    "| ```a?``` | **zero or one** occurences of ```a``` |\n",
    "| ```a{2, 6}``` | **2 ~ 6** occurences (including 2 and 6) of ```a```, additionaly, ```a{2, }```means **At least 2** occurences of ```a```, and ```a{2}``` means **Exactly 2** occurences of ```a```|\n",
    "\n",
    "\n",
    "## Groups\n",
    "* **Parentheses** are used similarly as in arithmetic expressions, to **create groups**. For example, ```(Mahna)+``` matches strings with **1 or more \"Mahna\"**, like ```\"MahnaMahna\"```. \n",
    "* As a comparison, **Without** the **parentheses**, ```Mahna+``` would match strings with **\"Mahn\"** followed by 1 or more \"a\" characters, like **\"Mahnaaaa\"**.\n",
    "\n",
    "## Anchors\n",
    "Anchors are **unique** in that they **don't match characters** - instead, they **match positions** in a string where an expression could land\n",
    "\n",
    "| Anchors | Explanation |\n",
    "| --- | --- |\n",
    "| ```^``` | matches the **beginning** of a string |\n",
    "| ```$``` | matches the **end** of a string|\n",
    "| ```\\b``` | matches the **word boundary** (whitespace, punctuation)|\n",
    "\n",
    "## Special Characters\n",
    "The following **special characters** are used above to denote types of patterns:\n",
    "\n",
    "```\\ / ( ) [ ] { } + * ? | $ ^ .```\n",
    "\n",
    "This means if you want to match one of those characters, you have to escape it using a backslash. For example, when trying to match ```\"(1+3)\"```, the corresponding **pattern** should be:\n",
    "\n",
    "```python\n",
    "r'\\(1\\+3\\)'\n",
    "```"
   ]
  },
  {
   "cell_type": "code",
   "execution_count": 22,
   "id": "855a62cf",
   "metadata": {},
   "outputs": [],
   "source": [
    "import re"
   ]
  },
  {
   "cell_type": "markdown",
   "id": "735abbb1",
   "metadata": {},
   "source": [
    "## Q1: Email Domain Validator\n",
    "Create a regular expression that makes sure a given string email is a **valid email address** and that **its domain name is in the provided list** of domains.\n",
    "\n",
    "* An email address is valid if it contains letters, number, or underscores, followed by an @ symbol, then a domain.\n",
    "* All domains will have a 3 letter extension following the period.\n",
    "\n",
    "```python\n",
    "    >>> email_validator(\"oski@berkeley.edu\", [\"berkeley.edu\", \"gmail.com\"])\n",
    "    True\n",
    "    >>> email_validator(\"oski@gmail.com\", [\"berkeley.edu\", \"gmail.com\"])\n",
    "    True\n",
    "    >>> email_validator(\"oski@berkeley.com\", [\"berkeley.edu\", \"gmail.com\"])\n",
    "    False\n",
    "    >>> email_validator(\"oski@berkeley.edu\", [\"yahoo.com\"])\n",
    "    False\n",
    "    >>> email_validator(\"xX123_iii_OSKI_iii_123Xx@berkeley.edu\", [\"berkeley.edu\", \"gmail.com\"])\n",
    "    True\n",
    "    >>> email_validator(\"oski@oski@berkeley.edu\", [\"berkeley.edu\", \"gmail.com\"])\n",
    "    False\n",
    "    >>> email_validator(\"oski@berkeleysedu\", [\"berkeley.edu\", \"gmail.com\"])\n",
    "    False\n",
    "```"
   ]
  },
  {
   "cell_type": "code",
   "execution_count": 23,
   "id": "0fae4112",
   "metadata": {},
   "outputs": [],
   "source": [
    "def email_validator(email, domains):\n",
    "    pattern = r\"(\\w+@)(\\w+\\.\\w+)\"\n",
    "    valid = False\n",
    "    for domain in domains:\n",
    "        if re.fullmatch(pattern, email) and re.search(pattern, email).group(2) == domain:\n",
    "            valid = True\n",
    "        else:\n",
    "            valid = valid\n",
    "    return valid"
   ]
  },
  {
   "cell_type": "code",
   "execution_count": 24,
   "id": "f168ec7f",
   "metadata": {},
   "outputs": [
    {
     "data": {
      "text/plain": [
       "True"
      ]
     },
     "execution_count": 24,
     "metadata": {},
     "output_type": "execute_result"
    }
   ],
   "source": [
    "email_validator(\"oski@berkeley.edu\", [\"berkeley.edu\", \"gmail.com\"])"
   ]
  },
  {
   "cell_type": "code",
   "execution_count": 25,
   "id": "0d57485a",
   "metadata": {},
   "outputs": [
    {
     "data": {
      "text/plain": [
       "True"
      ]
     },
     "execution_count": 25,
     "metadata": {},
     "output_type": "execute_result"
    }
   ],
   "source": [
    "email_validator(\"oski@gmail.com\", [\"berkeley.edu\", \"gmail.com\"])"
   ]
  },
  {
   "cell_type": "code",
   "execution_count": 26,
   "id": "dad77a62",
   "metadata": {},
   "outputs": [
    {
     "data": {
      "text/plain": [
       "False"
      ]
     },
     "execution_count": 26,
     "metadata": {},
     "output_type": "execute_result"
    }
   ],
   "source": [
    "email_validator(\"oski@berkeley.com\", [\"berkeley.edu\", \"gmail.com\"])"
   ]
  },
  {
   "cell_type": "code",
   "execution_count": 27,
   "id": "62b1657f",
   "metadata": {},
   "outputs": [
    {
     "data": {
      "text/plain": [
       "False"
      ]
     },
     "execution_count": 27,
     "metadata": {},
     "output_type": "execute_result"
    }
   ],
   "source": [
    "email_validator(\"oski@berkeley.edu\", [\"yahoo.com\"])"
   ]
  },
  {
   "cell_type": "code",
   "execution_count": 28,
   "id": "03102493",
   "metadata": {},
   "outputs": [
    {
     "data": {
      "text/plain": [
       "True"
      ]
     },
     "execution_count": 28,
     "metadata": {},
     "output_type": "execute_result"
    }
   ],
   "source": [
    "email_validator(\"xX123_iii_OSKI_iii_123Xx@berkeley.edu\", [\"berkeley.edu\", \"gmail.com\"])"
   ]
  },
  {
   "cell_type": "code",
   "execution_count": 29,
   "id": "96527b33",
   "metadata": {},
   "outputs": [
    {
     "data": {
      "text/plain": [
       "False"
      ]
     },
     "execution_count": 29,
     "metadata": {},
     "output_type": "execute_result"
    }
   ],
   "source": [
    "email_validator(\"oski@oski@berkeley.edu\", [\"berkeley.edu\", \"gmail.com\"])"
   ]
  },
  {
   "cell_type": "code",
   "execution_count": 30,
   "id": "11ca8d23",
   "metadata": {},
   "outputs": [
    {
     "data": {
      "text/plain": [
       "False"
      ]
     },
     "execution_count": 30,
     "metadata": {},
     "output_type": "execute_result"
    }
   ],
   "source": [
    "email_validator(\"oski@berkeleysedu\", [\"berkeley.edu\", \"gmail.com\"])"
   ]
  },
  {
   "cell_type": "markdown",
   "id": "2ba9e1d9",
   "metadata": {},
   "source": [
    "## Q2: Basic URL validation\n",
    "\n",
    "```python\n",
    ">>> match_url(\"https://cs61a.org/resources/#regular-expressions\")\n",
    "True\n",
    ">>> match_url(\"https://pythontutor.com/composingprograms.html\")\n",
    "True\n",
    ">>> match_url(\"https://pythontutor.com/should/not.match.this\")\n",
    "False\n",
    ">>> match_url(\"https://link.com/nor.this/\")\n",
    "False\n",
    ">>> match_url(\"http://insecure.net\")\n",
    "True\n",
    ">>> match_url(\"htp://domain.org\")\n",
    "False\n",
    "```\n"
   ]
  },
  {
   "cell_type": "code",
   "execution_count": 126,
   "id": "5b6f450d",
   "metadata": {},
   "outputs": [],
   "source": [
    "def match_url(text):\n",
    "\n",
    "    scheme = r'http://|https://'\n",
    "    domain = r'\\w+\\.\\w{3}'\n",
    "    path = r'(/\\w+)*(\\.\\w+)?'\n",
    "    anchor = r'(/\\#[\\w-]+)?$'\n",
    "    full_string = scheme + domain + path + anchor\n",
    "    return bool(re.match(full_string, text))"
   ]
  },
  {
   "cell_type": "code",
   "execution_count": 127,
   "id": "f9e57bed",
   "metadata": {},
   "outputs": [
    {
     "name": "stdout",
     "output_type": "stream",
     "text": [
      "<re.Match object; span=(0, 7), match='http://'>\n"
     ]
    }
   ],
   "source": [
    "scheme = r'http://|https://'\n",
    "print(re.search(scheme, 'http://'))"
   ]
  },
  {
   "cell_type": "code",
   "execution_count": 128,
   "id": "8f7cca9c",
   "metadata": {},
   "outputs": [
    {
     "data": {
      "text/plain": [
       "True"
      ]
     },
     "execution_count": 128,
     "metadata": {},
     "output_type": "execute_result"
    }
   ],
   "source": [
    "match_url(\"https://cs61a.org/resources/#regular-expressions\")"
   ]
  },
  {
   "cell_type": "code",
   "execution_count": 129,
   "id": "792d0047",
   "metadata": {},
   "outputs": [
    {
     "data": {
      "text/plain": [
       "True"
      ]
     },
     "execution_count": 129,
     "metadata": {},
     "output_type": "execute_result"
    }
   ],
   "source": [
    "match_url(\"https://pythontutor.com/composingprograms.html\")"
   ]
  },
  {
   "cell_type": "code",
   "execution_count": 130,
   "id": "c262f53d",
   "metadata": {},
   "outputs": [
    {
     "data": {
      "text/plain": [
       "False"
      ]
     },
     "execution_count": 130,
     "metadata": {},
     "output_type": "execute_result"
    }
   ],
   "source": [
    "match_url(\"https://pythontutor.com/should/not.match.this\")"
   ]
  },
  {
   "cell_type": "code",
   "execution_count": 131,
   "id": "65c604a7",
   "metadata": {},
   "outputs": [
    {
     "data": {
      "text/plain": [
       "False"
      ]
     },
     "execution_count": 131,
     "metadata": {},
     "output_type": "execute_result"
    }
   ],
   "source": [
    "match_url(\"https://link.com/nor.this/\")"
   ]
  },
  {
   "cell_type": "code",
   "execution_count": 132,
   "id": "8baae267",
   "metadata": {},
   "outputs": [
    {
     "data": {
      "text/plain": [
       "True"
      ]
     },
     "execution_count": 132,
     "metadata": {},
     "output_type": "execute_result"
    }
   ],
   "source": [
    "match_url(\"http://insecure.net\")"
   ]
  },
  {
   "cell_type": "code",
   "execution_count": 133,
   "id": "0f98c5b4",
   "metadata": {},
   "outputs": [
    {
     "data": {
      "text/plain": [
       "False"
      ]
     },
     "execution_count": 133,
     "metadata": {},
     "output_type": "execute_result"
    }
   ],
   "source": [
    "match_url(\"htp://domain.org\")"
   ]
  },
  {
   "cell_type": "markdown",
   "id": "a4e5f0f5",
   "metadata": {},
   "source": [
    "# SQL"
   ]
  },
  {
   "cell_type": "code",
   "execution_count": null,
   "id": "3872043a",
   "metadata": {},
   "outputs": [],
   "source": []
  }
 ],
 "metadata": {
  "kernelspec": {
   "display_name": "Python 3 (ipykernel)",
   "language": "python",
   "name": "python3"
  },
  "language_info": {
   "codemirror_mode": {
    "name": "ipython",
    "version": 3
   },
   "file_extension": ".py",
   "mimetype": "text/x-python",
   "name": "python",
   "nbconvert_exporter": "python",
   "pygments_lexer": "ipython3",
   "version": "3.7.12"
  }
 },
 "nbformat": 4,
 "nbformat_minor": 5
}
