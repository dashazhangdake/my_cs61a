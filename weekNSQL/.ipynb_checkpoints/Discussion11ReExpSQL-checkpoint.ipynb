{
 "cells": [
  {
   "cell_type": "markdown",
   "id": "5900e737",
   "metadata": {},
   "source": [
    "# Regular Experessions\n",
    "Regular expressions are a way to describe sets of strings that meet certain criteria, and are incredibly useful for pattern matching.\n",
    "## Character classes\n",
    "A character class makes it possible to search for **any one** of a set of characters, you can **specify the set** or **use pre-defined** sets\n",
    "\n",
    "|Class| Explanation |\n",
    "| --- | --- |\n",
    "| ```[abc]``` | Matches **a, b, or c** |\n",
    "| ```[a-z]``` | Matches **ANY** character **between a and z**|\n",
    "| ```[^A-Z]``` | Matches **ANY** character that is **NOT** between **A and Z**|\n",
    "| ```\\d``` | Matches **digits**, equivalent to ```[0-9]``` |\n",
    "| ```\\D``` | Matches any **NON-digits**, opposite of ```\\d```, shortcuts below also have opposites|\n",
    "| ```\\w``` | Matches **ANY word characters**, equivalent to ```[A-Za-z0-9_]``` (*opposite of ```\\W```*)|\n",
    "| ```\\s``` | Matches **white space characters** (spaces, tabs, linebreaks), (*opposite of ```\\S```*) |\n",
    "| ```.``` | Matches **ANY** non-newline character |\n",
    "\n",
    "Character classes can be combined, like in ```[a-zA-Z0-9]```.\n",
    "\n",
    "\n",
    "## Combining Patterns\n",
    "There are multiple ways to combine patterns together in ReExp\n",
    "\n",
    "|Combo| Explanation |\n",
    "| --- | --- |\n",
    "| ```AB``` | A match for **A followed immediately by one for B**. **Example**: **```x[.,]y```** matches ```x.y``` or ```x,y``` |\n",
    "|```A\\|B```| Matches **either A or B**. **Example**: **```\\d+\\|Inf```** matches either a sequence of digits or Inf|\n",
    "\n",
    "A pattern can be followed by one of these **quantifiers** to **specify how many instance** of that pattern **can occur**\n",
    "\n",
    "| Quantifiers Symbol| Explanation |\n",
    "| --- | --- |\n",
    "| ```a*``` | **zero or more** occurences of ```a``` |\n",
    "| ```a+``` | **one or more** occurences of ```a```|\n",
    "| ```a?``` | **zero or one** occurences of ```a``` |\n",
    "| ```a{2, 6}``` | **2 ~ 6** occurences (including 2 and 6) of ```a```, additionaly, ```a{2, }```means **At least 2** occurences of ```a```, and ```a{2}``` means **Exactly 2** occurences of ```a```|\n",
    "\n",
    "\n",
    "## Groups\n",
    "* **Parentheses** are used similarly as in arithmetic expressions, to **create groups**. For example, ```(Mahna)+``` matches strings with **1 or more \"Mahna\"**, like ```\"MahnaMahna\"```. \n",
    "* As a comparison, **Without** the **parentheses**, ```Mahna+``` would match strings with **\"Mahn\"** followed by 1 or more \"a\" characters, like **\"Mahnaaaa\"**.\n",
    "\n",
    "## Anchors\n",
    "Anchors are **unique** in that they **don't match characters** - instead, they **match positions** in a string where an expression could land\n",
    "\n",
    "| Anchors | Explanation |\n",
    "| --- | --- |\n",
    "| ```^``` | matches the **beginning** of a string |\n",
    "| ```$``` | matches the **end** of a string|\n",
    "| ```\\b``` | matches the **word boundary** (whitespace, punctuation)|\n",
    "\n",
    "## Special Characters\n",
    "The following **special characters** are used above to denote types of patterns:\n",
    "\n",
    "```\\ / ( ) [ ] { } + * ? | $ ^ .```\n",
    "\n",
    "This means if you want to match one of those characters, you have to escape it using a backslash. For example, when trying to match ```\"(1+3)\"```, the corresponding **pattern** should be:\n",
    "\n",
    "```python\n",
    "r'\\(1\\+3\\)'\n",
    "```"
   ]
  },
  {
   "cell_type": "code",
   "execution_count": 1,
   "id": "855a62cf",
   "metadata": {},
   "outputs": [],
   "source": [
    "import re"
   ]
  },
  {
   "cell_type": "markdown",
   "id": "735abbb1",
   "metadata": {},
   "source": [
    "## Q1: Email Domain Validator\n",
    "Create a regular expression that makes sure a given string email is a **valid email address** and that **its domain name is in the provided list** of domains.\n",
    "\n",
    "* An email address is valid if it contains letters, number, or underscores, followed by an @ symbol, then a domain.\n",
    "* All domains will have a 3 letter extension following the period.\n",
    "\n",
    "```python\n",
    "    >>> email_validator(\"oski@berkeley.edu\", [\"berkeley.edu\", \"gmail.com\"])\n",
    "    True\n",
    "    >>> email_validator(\"oski@gmail.com\", [\"berkeley.edu\", \"gmail.com\"])\n",
    "    True\n",
    "    >>> email_validator(\"oski@berkeley.com\", [\"berkeley.edu\", \"gmail.com\"])\n",
    "    False\n",
    "    >>> email_validator(\"oski@berkeley.edu\", [\"yahoo.com\"])\n",
    "    False\n",
    "    >>> email_validator(\"xX123_iii_OSKI_iii_123Xx@berkeley.edu\", [\"berkeley.edu\", \"gmail.com\"])\n",
    "    True\n",
    "    >>> email_validator(\"oski@oski@berkeley.edu\", [\"berkeley.edu\", \"gmail.com\"])\n",
    "    False\n",
    "    >>> email_validator(\"oski@berkeleysedu\", [\"berkeley.edu\", \"gmail.com\"])\n",
    "    False\n",
    "```"
   ]
  },
  {
   "cell_type": "code",
   "execution_count": 2,
   "id": "0fae4112",
   "metadata": {},
   "outputs": [],
   "source": [
    "def email_validator(email, domains):\n",
    "    pattern = r\"(\\w+@)(\\w+\\.\\w+)\"\n",
    "    valid = False\n",
    "    for domain in domains:\n",
    "        if re.fullmatch(pattern, email) and re.search(pattern, email).group(2) == domain:\n",
    "            valid = True\n",
    "        else:\n",
    "            valid = valid\n",
    "    return valid"
   ]
  },
  {
   "cell_type": "code",
   "execution_count": 3,
   "id": "f168ec7f",
   "metadata": {},
   "outputs": [
    {
     "data": {
      "text/plain": [
       "True"
      ]
     },
     "execution_count": 3,
     "metadata": {},
     "output_type": "execute_result"
    }
   ],
   "source": [
    "email_validator(\"oski@berkeley.edu\", [\"berkeley.edu\", \"gmail.com\"])"
   ]
  },
  {
   "cell_type": "code",
   "execution_count": 4,
   "id": "0d57485a",
   "metadata": {},
   "outputs": [
    {
     "data": {
      "text/plain": [
       "True"
      ]
     },
     "execution_count": 4,
     "metadata": {},
     "output_type": "execute_result"
    }
   ],
   "source": [
    "email_validator(\"oski@gmail.com\", [\"berkeley.edu\", \"gmail.com\"])"
   ]
  },
  {
   "cell_type": "code",
   "execution_count": 5,
   "id": "dad77a62",
   "metadata": {},
   "outputs": [
    {
     "data": {
      "text/plain": [
       "False"
      ]
     },
     "execution_count": 5,
     "metadata": {},
     "output_type": "execute_result"
    }
   ],
   "source": [
    "email_validator(\"oski@berkeley.com\", [\"berkeley.edu\", \"gmail.com\"])"
   ]
  },
  {
   "cell_type": "code",
   "execution_count": 6,
   "id": "62b1657f",
   "metadata": {},
   "outputs": [
    {
     "data": {
      "text/plain": [
       "False"
      ]
     },
     "execution_count": 6,
     "metadata": {},
     "output_type": "execute_result"
    }
   ],
   "source": [
    "email_validator(\"oski@berkeley.edu\", [\"yahoo.com\"])"
   ]
  },
  {
   "cell_type": "code",
   "execution_count": 7,
   "id": "03102493",
   "metadata": {},
   "outputs": [
    {
     "data": {
      "text/plain": [
       "True"
      ]
     },
     "execution_count": 7,
     "metadata": {},
     "output_type": "execute_result"
    }
   ],
   "source": [
    "email_validator(\"xX123_iii_OSKI_iii_123Xx@berkeley.edu\", [\"berkeley.edu\", \"gmail.com\"])"
   ]
  },
  {
   "cell_type": "code",
   "execution_count": 8,
   "id": "96527b33",
   "metadata": {},
   "outputs": [
    {
     "data": {
      "text/plain": [
       "False"
      ]
     },
     "execution_count": 8,
     "metadata": {},
     "output_type": "execute_result"
    }
   ],
   "source": [
    "email_validator(\"oski@oski@berkeley.edu\", [\"berkeley.edu\", \"gmail.com\"])"
   ]
  },
  {
   "cell_type": "code",
   "execution_count": 9,
   "id": "11ca8d23",
   "metadata": {},
   "outputs": [
    {
     "data": {
      "text/plain": [
       "False"
      ]
     },
     "execution_count": 9,
     "metadata": {},
     "output_type": "execute_result"
    }
   ],
   "source": [
    "email_validator(\"oski@berkeleysedu\", [\"berkeley.edu\", \"gmail.com\"])"
   ]
  },
  {
   "cell_type": "markdown",
   "id": "2ba9e1d9",
   "metadata": {},
   "source": [
    "## Q2: Basic URL validation\n",
    "<img src=\"resources/url.png\" alt=\"Drawing\" style=\"width: 800px;\"/>\n",
    "For example, in the link ```https://cs61a.org/resources/#regular-expressions```, we would have:\n",
    "\n",
    "* Scheme: ```https://```\n",
    "* Domain Name: ```cs61a.org```\n",
    "* Path to the file: ```/resources```\n",
    "* Anchor: ```/#regular-expressions```\n",
    "\n",
    "The port and parameters are not present in this example and you will not be required to match them for this problem.\n",
    "\n",
    "For this problem:\n",
    "* a valid **domain name** consists of two \"words\" separated by a single period. Recall that a \"word\" can consist of letters, numbers, and underscores. The second \"word\" should be exactly 3 characters long and represents the domain's extension. In the case of the above example, \"cs61a\" and \"org\" are the two \"words\" that are joined by a period.\n",
    "    * For a URL to be \"valid,\" it must contain a valid domain name and will optionally have a scheme, path, and anchor. \n",
    "\n",
    "* A valid scheme will either be ```http://``` or ```https://```.\n",
    "\n",
    "* A valid path starts with a slash and then must be a valid path to a file or directory. A path to a directory should look something like path/to/directory, while a path to a file might look something like ```/composingprograms.html``` (note the period followed by the extension). Paths should not end with a slash or have more than one period -- ```/composing.programs.html/``` is not a valid path. Any non-slash and non-period character in a path should be a letter, number, or underscore.\n",
    "\n",
    "* A valid anchor starts with ```/#```. While they are more complicated, for this problem assume that valid anchors will then be followed by **letters, numbers, hyphens, or underscores**.\n",
    "\n",
    "\n",
    "```python\n",
    ">>> match_url(\"https://cs61a.org/resources/#regular-expressions\")\n",
    "True\n",
    ">>> match_url(\"https://pythontutor.com/composingprograms.html\")\n",
    "True\n",
    ">>> match_url(\"https://pythontutor.com/should/not.match.this\")\n",
    "False\n",
    ">>> match_url(\"https://link.com/nor.this/\")\n",
    "False\n",
    ">>> match_url(\"http://insecure.net\")\n",
    "True\n",
    ">>> match_url(\"htp://domain.org\")\n",
    "False\n",
    "```\n"
   ]
  },
  {
   "cell_type": "code",
   "execution_count": 10,
   "id": "5b6f450d",
   "metadata": {},
   "outputs": [],
   "source": [
    "def match_url(text):\n",
    "\n",
    "    scheme = r'http://|https://'\n",
    "    domain = r'\\w+\\.\\w{3}'\n",
    "    path = r'(/\\w+)*(\\.\\w+)?'\n",
    "    anchor = r'(\\#[\\w-]+)?$'\n",
    "    full_string = scheme + domain + path + anchor\n",
    "    return bool(re.match(full_string, text))"
   ]
  },
  {
   "cell_type": "code",
   "execution_count": 11,
   "id": "f9e57bed",
   "metadata": {},
   "outputs": [
    {
     "name": "stdout",
     "output_type": "stream",
     "text": [
      "<re.Match object; span=(0, 7), match='http://'>\n"
     ]
    }
   ],
   "source": [
    "scheme = r'http://|https://'\n",
    "print(re.search(scheme, 'http://'))"
   ]
  },
  {
   "cell_type": "code",
   "execution_count": 12,
   "id": "8f7cca9c",
   "metadata": {},
   "outputs": [
    {
     "data": {
      "text/plain": [
       "False"
      ]
     },
     "execution_count": 12,
     "metadata": {},
     "output_type": "execute_result"
    }
   ],
   "source": [
    "match_url(\"https://cs61a.org/resources/#regular-expressions\")"
   ]
  },
  {
   "cell_type": "code",
   "execution_count": 13,
   "id": "792d0047",
   "metadata": {},
   "outputs": [
    {
     "data": {
      "text/plain": [
       "True"
      ]
     },
     "execution_count": 13,
     "metadata": {},
     "output_type": "execute_result"
    }
   ],
   "source": [
    "match_url(\"https://pythontutor.com/composingprograms.html\")"
   ]
  },
  {
   "cell_type": "code",
   "execution_count": 14,
   "id": "c262f53d",
   "metadata": {},
   "outputs": [
    {
     "data": {
      "text/plain": [
       "False"
      ]
     },
     "execution_count": 14,
     "metadata": {},
     "output_type": "execute_result"
    }
   ],
   "source": [
    "match_url(\"https://pythontutor.com/should/not.match.this\")"
   ]
  },
  {
   "cell_type": "code",
   "execution_count": 15,
   "id": "65c604a7",
   "metadata": {},
   "outputs": [
    {
     "data": {
      "text/plain": [
       "False"
      ]
     },
     "execution_count": 15,
     "metadata": {},
     "output_type": "execute_result"
    }
   ],
   "source": [
    "match_url(\"https://link.com/nor.this/\")"
   ]
  },
  {
   "cell_type": "code",
   "execution_count": 16,
   "id": "8baae267",
   "metadata": {},
   "outputs": [
    {
     "data": {
      "text/plain": [
       "True"
      ]
     },
     "execution_count": 16,
     "metadata": {},
     "output_type": "execute_result"
    }
   ],
   "source": [
    "match_url(\"http://insecure.net\")"
   ]
  },
  {
   "cell_type": "code",
   "execution_count": 17,
   "id": "0f98c5b4",
   "metadata": {},
   "outputs": [
    {
     "data": {
      "text/plain": [
       "False"
      ]
     },
     "execution_count": 17,
     "metadata": {},
     "output_type": "execute_result"
    }
   ],
   "source": [
    "match_url(\"htp://domain.org\")"
   ]
  },
  {
   "cell_type": "markdown",
   "id": "4ca057f0",
   "metadata": {},
   "source": [
    "# SQL\n",
    "## 1. Select Statements\n",
    "### Create table with ```SELECT```\n",
    "We can use **```SELECT```** statement to create tables, the following statement **creates** a table with a single row, with columns named ```\"first\"``` and ```\"last\"```"
   ]
  },
  {
   "cell_type": "markdown",
   "id": "1380d9f0",
   "metadata": {},
   "source": [
    "```sql\n",
    "sqlite> SELECT \"Ben\" AS first, \"Bitdiddle\" AS last;\n",
    "Ben|Bitdiddle\n",
    "```"
   ]
  },
  {
   "cell_type": "markdown",
   "id": "ef8dfc05",
   "metadata": {},
   "source": [
    "Given two tables with the **same number of columns**, we can combine their rows into a larger table with **```UNION```**\n",
    "\n",
    "For example, we want to append another row to the table we just created\n",
    "\n",
    "```sql\n",
    "sqlite> SELECT \"Ben\" AS first, \"Bitdiddle\" AS last UNION SELECT \"Louis\", \"Reasoner\";\n",
    "Ben|Bitdiddle\n",
    "Louis|Reasoner\n",
    "```"
   ]
  },
  {
   "cell_type": "markdown",
   "id": "392601fe",
   "metadata": {},
   "source": [
    "### Select Values with ```SELECT ... FROM```\n",
    "We can select specific values from an existing table using a ```FROM``` clause. This query creates a table with the selected columns from a table.\n",
    "\n",
    "By using the special syntax **```SELECT * FROM```**, you will select **all** columns from a table, it's an easy way to **print the contents** of a table.\n",
    "\n",
    "Use the statements:\n",
    "```sql\n",
    "sqlite> SELECT * FROM records;\n",
    "```\n",
    "We found table ```records``` looks like:\n",
    "\n",
    "<img src=\"resources/table_example0.png\" alt=\"Drawing\" style=\"width: 640px;\"/>"
   ]
  },
  {
   "cell_type": "markdown",
   "id": "bf9f41ed",
   "metadata": {},
   "source": [
    "Then we **select** values in columns ```name```, and ```division``` **from** ```records``` using:\n",
    "\n",
    "```sql\n",
    "SELECT name, division FROM records;\n",
    "```\n",
    "\n",
    "You get:\n",
    "<img src=\"resources/table_example1.png\" alt=\"Drawing\" style=\"width: 256px;\"/>\n"
   ]
  },
  {
   "cell_type": "markdown",
   "id": "9509d1b8",
   "metadata": {},
   "source": [
    "### Filter selected values using **```WHERE```**, and **```ORDER BY```**\n",
    "\n",
    "We can also choose which columns to show in the first part of the **```SELECT```**, we can filter out rows using **```WHERE```** clause, and sort the resulting rows with an **```ORDER BY```** clause. The syntax is:\n",
    "```sql\n",
    "SELECT [columns] FROM [tables]\n",
    "WHERE [condition] ORDER BY [criteria];\n",
    "```"
   ]
  },
  {
   "cell_type": "markdown",
   "id": "1636a535",
   "metadata": {},
   "source": [
    "For instance, the following statement lists all informaton about employees with the ```\"Programmer\"``` title.\n",
    "```sql\n",
    "SELECT * FROM records WHERE title = \"Programmer\";\n",
    "```\n",
    "\n",
    "<img src=\"resources/table_example2.png\" alt=\"Drawing\" style=\"width: 640px;\"/>"
   ]
  },
  {
   "cell_type": "markdown",
   "id": "16191a91",
   "metadata": {},
   "source": [
    "The following statement lists the **names and salaries** of each employee under the **accounting** division, **sorted** in descending order by their salaries\n",
    "```sql\n",
    "SELECT name, division FROM records WHERE division = \"Accounting\" ORDER BY salary desc;\n",
    "```\n",
    "<img src=\"resources/table_example3.png\" alt=\"Drawing\" style=\"width: 256px;\"/>"
   ]
  },
  {
   "cell_type": "markdown",
   "id": "bb15e7e4",
   "metadata": {},
   "source": [
    "## Questions for SELECT statements\n",
    "### Q3:  Select Oliver Employees\n",
    "Write a query that outputs the names of employees that Oliver Warbucks directly supervises.\n",
    "\n",
    "```sql\n",
    "SELECT name FROM records WHERE supervisor = \"Oliver Warbucks\";\n",
    "```\n",
    "<img src=\"resources/q1.png\" alt=\"Drawing\" style=\"width: 128px;\"/>"
   ]
  },
  {
   "cell_type": "markdown",
   "id": "1f85c1ca",
   "metadata": {},
   "source": [
    "### Q4: Self Supervisor\n",
    "Write a query that outputs all information about employees that supervise themselves.\n",
    "```sql\n",
    "SELECT * FROM records WHERE supervisor = name;\n",
    "```\n",
    "<img src=\"resources/q2.png\" alt=\"Drawing\" style=\"width: 640px;\"/>"
   ]
  },
  {
   "cell_type": "markdown",
   "id": "405b6093",
   "metadata": {},
   "source": [
    "### Q5: Rich Employees\n",
    "Write a query that outputs the names of all employees with salary greater than 50,000 in alphabetical order.\n",
    "```sql\n",
    "SELECT name FROM records WHERE salary > 50000 ORDER BY name asc;\n",
    "```\n",
    "<img src=\"resources/q3.png\" alt=\"Drawing\" style=\"width: 128px;\"/>"
   ]
  },
  {
   "cell_type": "markdown",
   "id": "83238a71",
   "metadata": {},
   "source": [
    "## 2. Join statements\n",
    "Given a table looks like:\n",
    "<img src=\"resources/q4.png\" alt=\"Drawing\" style=\"width: 320px;\"/>\n",
    "\n",
    "Data are **combined by joining multple tables together** into one, a fundamental operation in database systems. There are many methods of joining, all closely related, but we will focus on **```the inner join```** in the class.\n",
    "\n",
    "When tables are joined, the resulting table contains a new row for each combination of rows in the input tables. If two tables are joined and the left table gas ```m``` rows and the right table has ```n``` rows, then the joined table will have ```m*n``` rows. Joins are expressed in SQL by seperating table names by commas in the **```FROM```** clause of a **```SELECT```** statement"
   ]
  },
  {
   "cell_type": "markdown",
   "id": "b01618c7",
   "metadata": {},
   "source": [
    "```sql\n",
    "SELECT name, day FROM records, meetings;\n",
    "```\n",
    "\n",
    "<img src=\"resources/table_example4.png\" alt=\"Drawing\" style=\"width: 256px;\"/>"
   ]
  },
  {
   "cell_type": "markdown",
   "id": "e18e1124",
   "metadata": {},
   "source": [
    "Note that table may have **overlapping column names**, and so we need a method for **disambiguating column names** by table. \n",
    "\n",
    "A table may also be joined with itself, so we need a method for disambiguating tables. To do so, SQL allows us to give **aliases** to tables within a ```FROM``` cluse using the **keyword** **```AS```** and to refer to a column with a partucular table using a **dot expression**. \n",
    "\n",
    "In the example, we find the **name and title** of Louis Reasoner's supervisor."
   ]
  },
  {
   "cell_type": "markdown",
   "id": "70b45d0d",
   "metadata": {},
   "source": [
    "```sql\n",
    "SELECT b.name, b.title FROM records AS a, records AS b WHERE a.name = 'Louis Reasoner' AND a.supervisor = b.name;\n",
    "```\n",
    "\n",
    "Get: ```Alyssa P Hacker | Programmer```"
   ]
  },
  {
   "cell_type": "markdown",
   "id": "86a95b78",
   "metadata": {},
   "source": [
    "## Questions for Join statements\n",
    "Considering the following two tables\n",
    "**records**\n",
    "<img src=\"resources/table_example0.png\" alt=\"Drawing\" style=\"width: 640px;\"/>\n",
    "**meetings**\n",
    "<img src=\"resources/q4.png\" alt=\"Drawing\" style=\"width: 320px;\"/>\n",
    "\n",
    "### Q6: Oliver Employee Meetings\n",
    "Write a query that outputs the meeting days and times of all employees directly supervised by Oliver Warbucks."
   ]
  },
  {
   "cell_type": "markdown",
   "id": "179d4aa9",
   "metadata": {},
   "source": [
    "```sql\n",
    "SELECT day, time FROM records AS lhs, meetings AS rhs WHERE lhs.division = rhs.division AND lhs.supervisor = \"Oliver Warbucks\";\n",
    "```\n",
    "\n",
    "<img src=\"resources/q5.png\" alt=\"Drawing\" style=\"width: 128px;\"/>"
   ]
  },
  {
   "cell_type": "markdown",
   "id": "68aa5229",
   "metadata": {},
   "source": [
    "### Q7: Different Division\n",
    "Write a query that outputs the names of employees whose supervisor is in a different division."
   ]
  },
  {
   "cell_type": "markdown",
   "id": "5c32eabe",
   "metadata": {},
   "source": [
    "```sql\n",
    "SELECT a.name FROM records AS a, records AS b WHERE a.supervisor = b.name AND a.division != b.division;\n",
    "```\n",
    "<img src=\"resources/q7.png\" alt=\"Drawing\" style=\"width: 128px;\"/>"
   ]
  },
  {
   "cell_type": "markdown",
   "id": "77218f35",
   "metadata": {},
   "source": [
    "### Q8: Middle Manager\n",
    "A middle manager is a person who is both **supervising someone** and is **supervised by someone different**. Write a query that outputs the names of all middle managers."
   ]
  },
  {
   "cell_type": "markdown",
   "id": "3e0b65de",
   "metadata": {},
   "source": [
    "```sql\n",
    "SELECT b.name FROM records AS a, records AS b WHERE a.supervisor = b.name AND b.supervisor != b.name;\n",
    "```\n",
    "<img src=\"resources/q8.png\" alt=\"Drawing\" style=\"width: 128px;\"/>"
   ]
  },
  {
   "cell_type": "markdown",
   "id": "2a03e9e0",
   "metadata": {},
   "source": [
    "# 3. Aggregation\n",
    "We can also perform aggregation operations over multiple rows with the same ```SELECT``` statements\n",
    "\n",
    "We can use the ```MAX, MIN, COUNT, SUM``` functions to retrieve more information from our intitial tables. If we want to find the name and salary of the employee who makes the most money, we can try:\n",
    "\n",
    "```sql\n",
    "SELECT name, MAX(salary) FROM records;\n",
    "```\n",
    "\n",
    "Getting:\n",
    "```Oliver Warbucks|150000```\n"
   ]
  },
  {
   "cell_type": "markdown",
   "id": "6b02858b",
   "metadata": {},
   "source": [
    "Using the special **```COUNT(*)```** syntax, we can count the number of rows in our table to see the number of employees at the company\n",
    "\n",
    "```sql\n",
    "SELECT COUNT(*) from RECORDS;\n",
    "```\n",
    "Getting: ```8```"
   ]
  },
  {
   "cell_type": "markdown",
   "id": "c55f8267",
   "metadata": {},
   "source": [
    "These commands can be performed on **specific sets of rows** in our table by using the **```GROUP BY [colname]**``` clause. This clause takes all of the rows that have the same value in column name and groups together.\n",
    "\n",
    "We can find the minimum salary earned in each division of the company\n",
    "```sql\n",
    "SELECT division, MIN(salary) FROM records GROUP BY division;\n",
    "```\n",
    "\n",
    "<img src=\"resources/table_example5.png\" alt=\"Drawing\" style=\"width: 256px;\"/>"
   ]
  },
  {
   "cell_type": "markdown",
   "id": "f5bcd0ed",
   "metadata": {},
   "source": [
    "These groupings can be additionally filtered by **```HAVING```** clause. In contrast to ```WHERE``` clause, which **filters out rows.** The **```HAVING```** clause filters out entire groups. \n",
    "\n",
    "To find all titles that are held by more than one persoon, we use:"
   ]
  },
  {
   "cell_type": "markdown",
   "id": "0a238b63",
   "metadata": {},
   "source": [
    "```sql\n",
    "SELECT title FROM records GROUP BY title HAVING count(*)>1;\n",
    "```\n",
    "\n",
    "Getting: ```Programmer```"
   ]
  },
  {
   "cell_type": "markdown",
   "id": "d7047c65",
   "metadata": {},
   "source": [
    "Similiarly, we can find all divisions that have one or more person using, and find the lowest salary\n",
    "\n",
    "```sql\n",
    "SELECT division, MIN(salary) FROM records GROUP BY division HAVING count(*)>1;\n",
    "```\n",
    "<img src=\"resources/table_example6.png\" alt=\"Drawing\" style=\"width: 256px;\"/>"
   ]
  },
  {
   "cell_type": "markdown",
   "id": "67edc66d",
   "metadata": {},
   "source": [
    "## Questions for Aggregation\n",
    "### Q9: Supervisor Sum Salary\n",
    "```sql\n",
    "SELECT supervisor, SUM(salary) FROM records GROUP BY supervisor\n",
    "```\n",
    "<img src=\"resources/q9.png\" alt=\"Drawing\" style=\"width: 256px;\"/>"
   ]
  },
  {
   "cell_type": "markdown",
   "id": "c6534ba2",
   "metadata": {},
   "source": [
    "### Q10: Num of Meetings\n",
    "Write a query that outputs the days of a week for which fewer than 5 employees have a meeting\n",
    "```sql\n",
    "SELECT m.day FROM records AS e, meetings AS m WHERE e.division = m.division GROUP BY m.day HAVING COUNT(*) < 5;\n",
    "```\n",
    "Getting: ```Monday```"
   ]
  },
  {
   "cell_type": "markdown",
   "id": "153477c0",
   "metadata": {},
   "source": [
    "### Q11: Rich Pairs\n",
    "Write a query that outputs all divisions for which there is more than one employee, and all pairs of employees within that division that have a combined salary less than 100,000.\n",
    "```sql\n",
    "SELECT a.division FROM records AS a, records AS b WHERE a.name != b.name AND a.division = b.division GROUP BY a.division HAVING MAX(a.salary + b.salary) < 100000\n",
    "```\n",
    "Getting ```Accounting```"
   ]
  },
  {
   "cell_type": "markdown",
   "id": "fc0d4ef9",
   "metadata": {},
   "source": [
    "# Additional questions from Discussion 12\n",
    "Given a table(s):\n",
    "```sql\n",
    "CREATE TABLE scoring AS\n",
    "    SELECT \"Donald Stewart\" AS player, 7 AS points, 1 AS quarter UNION\n",
    "    SELECT \"Christopher Brown Jr.\", 7, 1 UNION\n",
    "    SELECT \"Ryan Sanborn\", 3, 2 UNION\n",
    "    SELECT \"Greg Thomas\", 3, 2 UNION\n",
    "    SELECT \"Cameron Scarlett\", 7, 3 UNION\n",
    "    SELECT \"Nikko Remigio\", 7, 4 UNION\n",
    "    SELECT \"Ryan Sanborn\", 3, 4 UNION\n",
    "    SELECT \"Chase Garbers\", 7, 4;\n",
    "\n",
    "CREATE TABLE players AS\n",
    "    SELECT \"Ryan Sanborn\" AS name, \"Stanford\" AS team UNION\n",
    "    SELECT \"Donald Stewart\", \"Stanford\" UNION\n",
    "    SELECT \"Cameron Scarlett\", \"Stanford\" UNION\n",
    "    SELECT \"Christopher Brown Jr.\", \"Cal\" UNION\n",
    "    SELECT \"Greg Thomas\", \"Cal\" UNION\n",
    "    SELECT \"Nikko Remigio\", \"Cal\" UNION\n",
    "    SELECT \"Chase Garbers\", \"Cal\";\n",
    "```"
   ]
  },
  {
   "cell_type": "markdown",
   "id": "38fa1dde",
   "metadata": {},
   "source": [
    "## Q1: Big Quarters\n",
    "Write a SQL statement to select a one-column table of quarters in which more than 10 total points were scored.\n",
    "\n",
    "```sql\n",
    "SELECT quarter FROM scoring GROUP BY quarter HAVING SUM(points)>10;\n",
    "```"
   ]
  },
  {
   "cell_type": "markdown",
   "id": "eb346783",
   "metadata": {},
   "source": [
    "## Q2: Score\n",
    "Write a SQL statement to select a two-column table where the first column is the team name and the second column is the total points scored by that team. Assume that no two players have the same name.\n",
    "```sql\n",
    "SELECT a.team, SUM(b.points) FROM players AS a, scoring AS b WHERE a.name=b.player GROUP BY team;\n",
    "```"
   ]
  }
 ],
 "metadata": {
  "kernelspec": {
   "display_name": "Python 3 (ipykernel)",
   "language": "python",
   "name": "python3"
  },
  "language_info": {
   "codemirror_mode": {
    "name": "ipython",
    "version": 3
   },
   "file_extension": ".py",
   "mimetype": "text/x-python",
   "name": "python",
   "nbconvert_exporter": "python",
   "pygments_lexer": "ipython3",
   "version": "3.7.12"
  }
 },
 "nbformat": 4,
 "nbformat_minor": 5
}
