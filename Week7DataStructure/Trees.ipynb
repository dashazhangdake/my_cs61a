{
 "cells": [
  {
   "cell_type": "markdown",
   "id": "f5ae67b9",
   "metadata": {},
   "source": [
    "# 1. Tree definitions"
   ]
  },
  {
   "cell_type": "markdown",
   "id": "640162a8",
   "metadata": {},
   "source": [
    "<img src=\"resources/week7p2.png\" alt=\"Drawing\" style=\"width: 640px;\"/>\n",
    "\n",
    "## 1.1. Recursive Description\n",
    "\n",
    "* A tree has a **root** label and a list of **branches**\n",
    "* Each **branch** is itself a tree\n",
    "* A tree with **zero** branches is called a **leaf**\n",
    "* A tree starts at the **root**\n",
    "\n",
    "## 1.2. Relative Description\n",
    "* Each location in a tree is called a **node**\n",
    "* Each note has a **label** that can be any value\n",
    "* One node can be the **parent/child** of another\n",
    "* The top node is the **root node**"
   ]
  },
  {
   "cell_type": "markdown",
   "id": "91ed35f9",
   "metadata": {},
   "source": [
    "# 2. Tree class\n",
    "\n",
    "A tree is an object composed of other Tree objects, so its constructor must have a way of passing in children trees\n",
    "\n",
    "A possible approach:\n",
    "<img src=\"resources/week7p3.png\" alt=\"Drawing\" style=\"width: 640px;\"/>\n",
    "## 2.1 Tree class design goals\n",
    "With this approach: \n",
    "A tree should store these instance variables:\n",
    "* **```label```**: The root label of the tree\n",
    "* **```branches```**: A list of branches(subtrees) of the tree\n",
    "\n",
    "And expose the instance method:\n",
    "* **```is_leaf```**: return a boolean indicating if a tree is a leaf\n",
    "\n",
    "We anticiptate the following outputs:\n",
    "```python\n",
    "t = Tree(3, [Tree(1), Tree(2, [Tree(1), Tree(1)])])\n",
    "\n",
    "t.label                  # 3\n",
    "t.is_leaf()              # False\n",
    "t.branches[0].is_leaf()  # True\n",
    "```"
   ]
  },
  {
   "cell_type": "code",
   "execution_count": 13,
   "id": "98453ffd",
   "metadata": {},
   "outputs": [
    {
     "data": {
      "text/plain": [
       "False"
      ]
     },
     "execution_count": 13,
     "metadata": {},
     "output_type": "execute_result"
    }
   ],
   "source": [
    "not [1]"
   ]
  },
  {
   "cell_type": "code",
   "execution_count": 14,
   "id": "172c82eb",
   "metadata": {},
   "outputs": [],
   "source": [
    "class Tree:\n",
    "    def __init__(self, label, branches=[]):\n",
    "        self.label = label\n",
    "        for branch in branches:\n",
    "            assert isinstance(branch, Tree)\n",
    "        self.branches = list(branches)\n",
    "    \n",
    "    def is_leaf(self):\n",
    "        return self.branches==[]\n",
    "    \n",
    "    def __repr__(self):\n",
    "        if self.branches:\n",
    "            branch_str = ', ' + repr(self.branches)\n",
    "        else:\n",
    "            branch_str = ''\n",
    "        return 'Tree({0}{1})'.format(self.label, branch_str)\n",
    "    def __str__(self):\n",
    "        return '\\n'.join(self.indented())\n",
    "    \n",
    "    def indented(self):\n",
    "        lines = []\n",
    "        for b in self.branches:\n",
    "            for line in b.indented():\n",
    "                lines.append(' ' + line)\n",
    "            return [str(self.label)] + lines"
   ]
  },
  {
   "cell_type": "code",
   "execution_count": 15,
   "id": "52531dd8",
   "metadata": {},
   "outputs": [
    {
     "name": "stdout",
     "output_type": "stream",
     "text": [
      "False\n"
     ]
    },
    {
     "data": {
      "text/plain": [
       "'Tree(3, [Tree(1), Tree(2, [Tree(1), Tree(1)])])'"
      ]
     },
     "execution_count": 15,
     "metadata": {},
     "output_type": "execute_result"
    }
   ],
   "source": [
    "t1 = Tree(3, [Tree(1), Tree(2, [Tree(1), Tree(1)])])\n",
    "print(t1.is_leaf())\n",
    "# print(t1)\n",
    "repr(t1)"
   ]
  },
  {
   "cell_type": "markdown",
   "id": "e5979d25",
   "metadata": {},
   "source": [
    "# 3. Tree Processing\n",
    "A tree is a recursive structure\n",
    "\n",
    "Each tree has:\n",
    "* A label\n",
    "* 0 or more branches, for each tree\n",
    "\n",
    "## 3.1. Count leaves\n",
    "```python\n",
    "def count_leaves(t):\n",
    "    \"\"\"Returns the number of leaf nodes in T.\"\"\"\n",
    "    if t.is_leaf():\n",
    "        return 1 # if t is a leaf, then there is only one leaf\n",
    "    else:\n",
    "        # Accumulating leave in all branches\n",
    "        return res += count_leave(branches)\n",
    "```\n",
    "* Base case: when t is leaf, return 0\n",
    "* otherwise, return sum += count leaves(t.branches)"
   ]
  },
  {
   "cell_type": "code",
   "execution_count": 21,
   "id": "fc831cf8",
   "metadata": {},
   "outputs": [],
   "source": [
    "def count_leaves(t):\n",
    "    \"\"\"Returns the number of leaf nodes in T.\"\"\"\n",
    "    assert isinstance(t, Tree)\n",
    "    if t.is_leaf():\n",
    "        return 1\n",
    "    else:\n",
    "        res = 0\n",
    "        for b in t.branches:\n",
    "            res += count_leaves(b)\n",
    "        return res"
   ]
  },
  {
   "cell_type": "code",
   "execution_count": 24,
   "id": "fe7f029d",
   "metadata": {},
   "outputs": [],
   "source": [
    "def count_leaves(t):\n",
    "    \"\"\"Alternative method using sum and list comprehension\"\"\"\n",
    "    assert isinstance(t, Tree)\n",
    "    print(repr(t))\n",
    "    if t.is_leaf():\n",
    "        return 1\n",
    "    else:\n",
    "        branch_count_list = [count_leaves(b) for b in t.branches]\n",
    "        print(branch_count_list)\n",
    "        return sum(branch_count_list)"
   ]
  },
  {
   "cell_type": "code",
   "execution_count": 25,
   "id": "2f66f664",
   "metadata": {},
   "outputs": [
    {
     "name": "stdout",
     "output_type": "stream",
     "text": [
      "Tree(3, [Tree(1), Tree(2, [Tree(1), Tree(1)])])\n",
      "Tree(1)\n",
      "Tree(2, [Tree(1), Tree(1)])\n",
      "Tree(1)\n",
      "Tree(1)\n",
      "[1, 1]\n",
      "[1, 2]\n"
     ]
    },
    {
     "data": {
      "text/plain": [
       "3"
      ]
     },
     "execution_count": 25,
     "metadata": {},
     "output_type": "execute_result"
    }
   ],
   "source": [
    "count_leaves(t1)"
   ]
  },
  {
   "cell_type": "markdown",
   "id": "28b81d9f",
   "metadata": {},
   "source": [
    "#### Exercise: Print trees\n",
    "Prints the labels of T with depth-based indent.\n",
    "```python\n",
    ">>> t = Tree(3, [Tree(1), Tree(2, [Tree(1), Tree(1)])])\n",
    ">>> print(t)\n",
    "3\n",
    "  1\n",
    "  2\n",
    "    1\n",
    "    1\n",
    "```"
   ]
  },
  {
   "cell_type": "code",
   "execution_count": 26,
   "id": "bc2d74ae",
   "metadata": {},
   "outputs": [],
   "source": [
    "def print_tree(t, indent=0):\n",
    "    print(indent * ' ' + str(t.label))\n",
    "    assert isinstance(t, Tree)\n",
    "    for b in t.branches:\n",
    "        print_tree(b, indent + 2)"
   ]
  },
  {
   "cell_type": "code",
   "execution_count": 27,
   "id": "5ec2900b",
   "metadata": {},
   "outputs": [
    {
     "name": "stdout",
     "output_type": "stream",
     "text": [
      "3\n",
      "  1\n",
      "  2\n",
      "    1\n",
      "    1\n"
     ]
    }
   ],
   "source": [
    "t = Tree(3, [Tree(1), Tree(2, [Tree(1), Tree(1)])])\n",
    "print_tree(t)"
   ]
  },
  {
   "cell_type": "markdown",
   "id": "855ef3ef",
   "metadata": {},
   "source": [
    "#### Exercise: list of leaves\n",
    "```python\n",
    "    Return a list containing the leaf labels of T.\n",
    "    >>> t = Tree(20, [Tree(12, [Tree(9, [Tree(7), Tree(2)]), Tree(3)]), Tree(8, [Tree(4), Tree(4)])])\n",
    "    >>> leaves(t)\n",
    "    [7, 2, 3, 4, 4]\n",
    "```"
   ]
  },
  {
   "cell_type": "code",
   "execution_count": 34,
   "id": "9f9cbdfb",
   "metadata": {},
   "outputs": [],
   "source": [
    "def leaves(t):\n",
    "    res = []\n",
    "    if t.is_leaf():\n",
    "        return t.label\n",
    "    else:\n",
    "        for b in t.branches:\n",
    "            res.append(leaves(b))\n",
    "        print(res)\n",
    "        return res"
   ]
  },
  {
   "cell_type": "code",
   "execution_count": 35,
   "id": "ac973089",
   "metadata": {},
   "outputs": [
    {
     "name": "stdout",
     "output_type": "stream",
     "text": [
      "[7, 2]\n",
      "[[7, 2], 3]\n",
      "[4, 4]\n",
      "[[[7, 2], 3], [4, 4]]\n"
     ]
    },
    {
     "data": {
      "text/plain": [
       "[[[7, 2], 3], [4, 4]]"
      ]
     },
     "execution_count": 35,
     "metadata": {},
     "output_type": "execute_result"
    }
   ],
   "source": [
    "t = Tree(20, [Tree(12, [Tree(9, [Tree(7), Tree(2)]), Tree(3)]), Tree(8, [Tree(4), Tree(4)])])\n",
    "leaves(t)"
   ]
  },
  {
   "cell_type": "code",
   "execution_count": 41,
   "id": "c22b2f54",
   "metadata": {},
   "outputs": [],
   "source": [
    "def flatten(l):\n",
    "    if l == []:\n",
    "        return []\n",
    "    if type(l[0])!=list:\n",
    "        return [l[0]] + flatten(l[1:])\n",
    "    else:\n",
    "        return flatten(l[0]) + flatten(l[1:])"
   ]
  },
  {
   "cell_type": "code",
   "execution_count": 42,
   "id": "a1e929f3",
   "metadata": {},
   "outputs": [
    {
     "data": {
      "text/plain": [
       "[7, 2, 3, 4, 4]"
      ]
     },
     "execution_count": 42,
     "metadata": {},
     "output_type": "execute_result"
    }
   ],
   "source": [
    "flatten([[[7, 2], 3], [4, 4]])"
   ]
  },
  {
   "cell_type": "markdown",
   "id": "f5f6bffc",
   "metadata": {},
   "source": [
    "#### Counting Paths\n",
    "```python\n",
    "    Return the number of paths from the root to any node in T for which the labels along the path sum to TOTAL.\n",
    "\n",
    "    >>> t = Tree(3, [Tree(-1), Tree(1, [Tree(2, [Tree(1)]), Tree(3)]), Tree(1, [Tree(-1)])])\n",
    "    >>> count_paths(t, 3)\n",
    "    2\n",
    "    >>> count_paths(t, 4)\n",
    "    2\n",
    "    >>> count_paths(t, 5)\n",
    "    0\n",
    "    >>> count_paths(t, 6)\n",
    "    1\n",
    "    >>> count_paths(t, 7)\n",
    "    2\n",
    "```"
   ]
  },
  {
   "cell_type": "code",
   "execution_count": 69,
   "id": "9c0de98a",
   "metadata": {},
   "outputs": [],
   "source": [
    "def count_paths(t, total):\n",
    "    if t.label == total:\n",
    "        found = 1\n",
    "    else:\n",
    "        found = 0\n",
    "    return found + sum([count_paths(b, total - t.label) for b in t.branches])"
   ]
  },
  {
   "cell_type": "code",
   "execution_count": 70,
   "id": "0a3fdce4",
   "metadata": {},
   "outputs": [
    {
     "data": {
      "text/plain": [
       "2"
      ]
     },
     "execution_count": 70,
     "metadata": {},
     "output_type": "execute_result"
    }
   ],
   "source": [
    "t = Tree(3, [Tree(-1), Tree(1, [Tree(2, [Tree(1)]), Tree(3)]), Tree(1, [Tree(-1)])])\n",
    "count_paths(t, 3)"
   ]
  },
  {
   "cell_type": "markdown",
   "id": "d7c2e62f",
   "metadata": {},
   "source": [
    "# Tree Creation\n",
    "## Doubling labels"
   ]
  },
  {
   "cell_type": "code",
   "execution_count": 72,
   "id": "1cf85d2f",
   "metadata": {},
   "outputs": [],
   "source": [
    "def double(t):\n",
    "    if t.isleaf():\n",
    "        return Tree(t.label*2)\n",
    "    else:\n",
    "        return Tree(t.label*2, [double(b) for b in t.branches])"
   ]
  },
  {
   "cell_type": "markdown",
   "id": "ab32d7e2",
   "metadata": {},
   "source": [
    "# Tree mutation\n",
    "### Prunig Trees\n",
    "Prune all sub-trees whose label is n\n",
    "```python\n",
    "    >>> t = Tree(3, [Tree(1, [Tree(0), Tree(1)]), Tree(2, [Tree(1), Tree(1, [Tree(0), Tree(1)])])])\n",
    "    >>> prune(t, 1)\n",
    "    >>> t\n",
    "    Tree(3, [Tree(2)])\n",
    "```"
   ]
  },
  {
   "cell_type": "code",
   "execution_count": 74,
   "id": "2b213119",
   "metadata": {},
   "outputs": [],
   "source": [
    "def prune(t, n):\n",
    "    t.branches = [b for b in t.branches if b.label==n]\n",
    "    for b in t.branches:\n",
    "        prune(b, n)"
   ]
  },
  {
   "cell_type": "code",
   "execution_count": 75,
   "id": "ed69d990",
   "metadata": {},
   "outputs": [],
   "source": [
    "t = Tree(3, [Tree(1, [Tree(0), Tree(1)]), Tree(2, [Tree(1), Tree(1, [Tree(0), Tree(1)])])])"
   ]
  },
  {
   "cell_type": "code",
   "execution_count": 76,
   "id": "42f63975",
   "metadata": {},
   "outputs": [],
   "source": [
    "prune(t, 1)"
   ]
  },
  {
   "cell_type": "code",
   "execution_count": 77,
   "id": "df10c6de",
   "metadata": {},
   "outputs": [
    {
     "data": {
      "text/plain": [
       "Tree(3, [Tree(1, [Tree(1)])])"
      ]
     },
     "execution_count": 77,
     "metadata": {},
     "output_type": "execute_result"
    }
   ],
   "source": [
    "t"
   ]
  },
  {
   "cell_type": "code",
   "execution_count": null,
   "id": "9b89357e",
   "metadata": {},
   "outputs": [],
   "source": []
  }
 ],
 "metadata": {
  "kernelspec": {
   "display_name": "Python 3",
   "language": "python",
   "name": "python3"
  },
  "language_info": {
   "codemirror_mode": {
    "name": "ipython",
    "version": 3
   },
   "file_extension": ".py",
   "mimetype": "text/x-python",
   "name": "python",
   "nbconvert_exporter": "python",
   "pygments_lexer": "ipython3",
   "version": "3.7.11"
  }
 },
 "nbformat": 4,
 "nbformat_minor": 5
}
