{
 "cells": [
  {
   "cell_type": "markdown",
   "id": "f5ae67b9",
   "metadata": {},
   "source": [
    "# 1. Tree definitions"
   ]
  },
  {
   "cell_type": "markdown",
   "id": "640162a8",
   "metadata": {},
   "source": [
    "<img src=\"resources/week7p2.png\" alt=\"Drawing\" style=\"width: 640px;\"/>\n",
    "\n",
    "## 1.1. Recursive Description\n",
    "\n",
    "* A tree has a **root** label and a list of **branches**\n",
    "* Each **branch** is itself a tree\n",
    "* A tree with **zero** branches is called a **leaf**\n",
    "* A tree starts at the **root**\n",
    "\n",
    "## 1.2. Relative Description\n",
    "* Each location in a tree is called a **node**\n",
    "* Each note has a **label** that can be any value\n",
    "* One node can be the **parent/child** of another\n",
    "* The top node is the **root node**"
   ]
  },
  {
   "cell_type": "markdown",
   "id": "91ed35f9",
   "metadata": {},
   "source": [
    "# 2. Tree class\n",
    "\n",
    "A tree is an object composed of other Tree objects, so its constructor must have a way of passing in children trees\n",
    "\n",
    "A possible approach:\n",
    "<img src=\"resources/week7p3.png\" alt=\"Drawing\" style=\"width: 640px;\"/>\n",
    "## 2.1 Tree class design goals\n",
    "With this approach: \n",
    "A tree should store these instance variables:\n",
    "* **```label```**: The root label of the tree\n",
    "* **```branches```**: A list of branches(subtrees) of the tree\n",
    "\n",
    "And expose the instance method:\n",
    "* **```is_leaf```**: return a boolean indicating if a tree is a leaf\n",
    "\n",
    "We anticiptate the following outputs:\n",
    "```python\n",
    "t = Tree(3, [Tree(1), Tree(2, [Tree(1), Tree(1)])])\n",
    "\n",
    "t.label                  # 3\n",
    "t.is_leaf()              # False\n",
    "t.branches[0].is_leaf()  # True\n",
    "```"
   ]
  },
  {
   "cell_type": "code",
   "execution_count": 62,
   "id": "172c82eb",
   "metadata": {},
   "outputs": [],
   "source": [
    "class Tree:\n",
    "    def __init__(self, label, branches=[]):\n",
    "        self.label = label\n",
    "        for branch in branches:\n",
    "            assert isinstance(branch, Tree)\n",
    "        self.branches = list(branches)\n",
    "    \n",
    "    def is_leaf(self):\n",
    "        return not self.branches\n",
    "    \n",
    "    def __repr__(self):\n",
    "        if self.branches:\n",
    "            branch_str = ', ' + repr(self.branches)\n",
    "        else:\n",
    "            branch_str = ''\n",
    "        return 'Tree({0}{1})'.format(self.label, branch_str)\n",
    "    \n",
    "    def __str__(self):\n",
    "        return '\\n'.join(self.indented())\n",
    "    \n",
    "    def indented(self):\n",
    "        lines = []\n",
    "        for b in self.branches:\n",
    "            for line in b.indented():\n",
    "                lines.append(' ' + line)\n",
    "            return [str(self.label)] + lines"
   ]
  },
  {
   "cell_type": "code",
   "execution_count": 63,
   "id": "52531dd8",
   "metadata": {},
   "outputs": [
    {
     "name": "stdout",
     "output_type": "stream",
     "text": [
      "False\n"
     ]
    },
    {
     "data": {
      "text/plain": [
       "'Tree(3, [Tree(1), Tree(2, [Tree(1), Tree(1)])])'"
      ]
     },
     "execution_count": 63,
     "metadata": {},
     "output_type": "execute_result"
    }
   ],
   "source": [
    "t1 = Tree(3, [Tree(1), Tree(2, [Tree(1), Tree(1)])])\n",
    "print(t1.is_leaf())\n",
    "# print(t1)\n",
    "repr(t1)"
   ]
  },
  {
   "cell_type": "markdown",
   "id": "e5979d25",
   "metadata": {},
   "source": [
    "# 3. Tree Processing\n",
    "A tree is a recursive structure\n",
    "\n",
    "Each tree has:\n",
    "* A label\n",
    "* 0 or more branches, for each tree\n",
    "\n",
    "## 3.1. Count leaves\n",
    "```python\n",
    "def count_leaves(t):\n",
    "    \"\"\"Returns the number of leaf nodes in T.\"\"\"\n",
    "    if t.is_leaf():\n",
    "        \n",
    "    else:\n",
    "```\n",
    "* Base case: when t is leaf, return 0\n",
    "* otherwise, return sum += count leaves(t.branches)"
   ]
  },
  {
   "cell_type": "code",
   "execution_count": 33,
   "id": "fc831cf8",
   "metadata": {},
   "outputs": [],
   "source": [
    "def count_leaves(t):\n",
    "    \"\"\"Returns the number of leaf nodes in T.\"\"\"\n",
    "    assert isinstance(t, Tree)\n",
    "    if t.is_leaf():\n",
    "        return 1\n",
    "    else:\n",
    "        res = 0\n",
    "        for b in t.branches:\n",
    "            res += count_leaves(b)\n",
    "        return res"
   ]
  },
  {
   "cell_type": "code",
   "execution_count": 34,
   "id": "fe7f029d",
   "metadata": {},
   "outputs": [],
   "source": [
    "def count_leaves(t):\n",
    "    \"\"\"Alternative method using sum and list comprehension\"\"\"\n",
    "    assert isinstance(t, Tree)\n",
    "    if t.is_leaf():\n",
    "        return 1\n",
    "    else:\n",
    "        branch_count_list = [count_leaves(b) for b in t.branches]\n",
    "        return sum(branch_count_list)"
   ]
  },
  {
   "cell_type": "code",
   "execution_count": 35,
   "id": "2f66f664",
   "metadata": {},
   "outputs": [
    {
     "data": {
      "text/plain": [
       "3"
      ]
     },
     "execution_count": 35,
     "metadata": {},
     "output_type": "execute_result"
    }
   ],
   "source": [
    "count_leaves(t1)"
   ]
  },
  {
   "cell_type": "markdown",
   "id": "28b81d9f",
   "metadata": {},
   "source": [
    "#### Exercise: Print trees\n",
    "Prints the labels of T with depth-based indent.\n",
    "```python\n",
    ">>> t = Tree(3, [Tree(1), Tree(2, [Tree(1), Tree(1)])])\n",
    ">>> print(t)\n",
    "3\n",
    "  1\n",
    "  2\n",
    "    1\n",
    "    1\n",
    "```"
   ]
  },
  {
   "cell_type": "code",
   "execution_count": 36,
   "id": "bc2d74ae",
   "metadata": {},
   "outputs": [],
   "source": [
    "def print_tree(t, indent=0):\n",
    "    print(indent * ' ' + str(t.label))\n",
    "    assert isinstance(t, Tree)\n",
    "    for b in t.branches:\n",
    "        print_tree(b, indent + 2)"
   ]
  },
  {
   "cell_type": "code",
   "execution_count": 37,
   "id": "5ec2900b",
   "metadata": {},
   "outputs": [
    {
     "name": "stdout",
     "output_type": "stream",
     "text": [
      "3\n",
      "  1\n",
      "  2\n",
      "    1\n",
      "    1\n"
     ]
    }
   ],
   "source": [
    "t = Tree(3, [Tree(1), Tree(2, [Tree(1), Tree(1)])])\n",
    "print_tree(t)"
   ]
  },
  {
   "cell_type": "markdown",
   "id": "d7c2e62f",
   "metadata": {},
   "source": [
    "# Tree Creation"
   ]
  },
  {
   "cell_type": "markdown",
   "id": "ab32d7e2",
   "metadata": {},
   "source": [
    "# Tree mutation"
   ]
  },
  {
   "cell_type": "code",
   "execution_count": null,
   "id": "2b213119",
   "metadata": {},
   "outputs": [],
   "source": []
  }
 ],
 "metadata": {
  "kernelspec": {
   "display_name": "Python 3",
   "language": "python",
   "name": "python3"
  },
  "language_info": {
   "codemirror_mode": {
    "name": "ipython",
    "version": 3
   },
   "file_extension": ".py",
   "mimetype": "text/x-python",
   "name": "python",
   "nbconvert_exporter": "python",
   "pygments_lexer": "ipython3",
   "version": "3.7.11"
  }
 },
 "nbformat": 4,
 "nbformat_minor": 5
}
