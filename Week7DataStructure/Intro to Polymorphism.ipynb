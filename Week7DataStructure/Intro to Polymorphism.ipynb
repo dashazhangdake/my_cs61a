{
 "cells": [
  {
   "cell_type": "markdown",
   "id": "5080fc0a",
   "metadata": {},
   "source": [
    "# 1. Composition\n",
    "\n",
    "An object can contain references to objects of other classes: \"has-a\" relationship\n",
    "\n",
    "**Animal example**\n",
    "* An animal has a mate.\n",
    "* An animal has a mother.\n",
    "* An animal has children.\n",
    "* A conservatory has animals."
   ]
  },
  {
   "cell_type": "markdown",
   "id": "762607b0",
   "metadata": {},
   "source": [
    "## 1.1 Referencing other instances\n",
    "An instance variable can refer to another instance\n",
    "\n",
    "We an add methods to the ```base class``` that adds a mate instance variable"
   ]
  },
  {
   "cell_type": "code",
   "execution_count": 1,
   "id": "c148e4aa",
   "metadata": {},
   "outputs": [],
   "source": [
    "class Animal:\n",
    "    #-------------Base Class-------------#\n",
    "    species_name = \"Animal\"\n",
    "    scientific_name = \"Animalia\"\n",
    "    play_multiplier = 2\n",
    "    interact_increment = 1\n",
    "\n",
    "    def __init__(self, name, age=0):\n",
    "        self.name = name\n",
    "        self.age = age\n",
    "        self.calories_eaten  = 0\n",
    "        self.happiness = 0\n",
    "\n",
    "    def play(self, num_hours):\n",
    "        self.happiness += (num_hours * self.play_multiplier)\n",
    "        print(\"WHEEE PLAY TIME!\")\n",
    "\n",
    "    def eat(self, food):\n",
    "        self.calories_eaten += food.calories\n",
    "        print(f\"Om nom nom yummy {food.name}\")\n",
    "        if self.calories_eaten > self.calories_needed:\n",
    "            self.happiness -= 1\n",
    "            print(\"Ugh so full\")\n",
    "\n",
    "    def interact_with(self, animal2):\n",
    "        self.happiness += self.interact_increment\n",
    "        print(f\"Yay happy fun time with {animal2.name}\")\n",
    "        \n",
    "    #-------------Reference other instances-------------#\n",
    "    def mate_with(self, other):\n",
    "        if other is not self and other.species_name == self.species_name:\n",
    "            self.mate = other\n",
    "            other.mate = self"
   ]
  },
  {
   "cell_type": "markdown",
   "id": "97e52a84",
   "metadata": {},
   "source": [
    "Call ```mate_with``` to add a new attribute"
   ]
  },
  {
   "cell_type": "code",
   "execution_count": 2,
   "id": "705bb234",
   "metadata": {},
   "outputs": [
    {
     "name": "stdout",
     "output_type": "stream",
     "text": [
      "q\n",
      "k\n"
     ]
    }
   ],
   "source": [
    "a1 = Animal('k', 10)\n",
    "a2 = Animal('q', 8)\n",
    "a1.mate_with(a2)\n",
    "print(a1.mate.name)\n",
    "print(a2.mate.name)"
   ]
  },
  {
   "cell_type": "markdown",
   "id": "4b06cbb2",
   "metadata": {},
   "source": [
    "## 1.2. Reference a list of instances\n",
    "\n",
    "An instance variable can also store **a list of instances.**\n",
    "\n",
    "We can add this method to the Rabbit class that adds a babies instance variable"
   ]
  },
  {
   "cell_type": "code",
   "execution_count": 3,
   "id": "52ce9b2d",
   "metadata": {},
   "outputs": [],
   "source": [
    "class Rabbit(Animal):\n",
    "    species_name = \"European rabbit\"\n",
    "    scientific_name = \"Oryctolagus cuniculus\"\n",
    "    calories_needed = 200\n",
    "    play_multiplier = 8\n",
    "    interact_increment = 4\n",
    "    num_in_litter = 12\n",
    "    \n",
    "    #-------------Reference list of instances-------------#\n",
    "    def reproduce_like_rabbits(self):\n",
    "        if self.mate is None:\n",
    "            print(\"oh no! better go on ZoOkCupid\")\n",
    "            return\n",
    "        self.babies = []\n",
    "        for _ in range(0, self.num_in_litter):\n",
    "            self.babies.append(Rabbit(\"bunny\", 0))"
   ]
  },
  {
   "cell_type": "markdown",
   "id": "7d586993",
   "metadata": {},
   "source": [
    "Call ```reproduce``` method with ```r2``` to produce a list of babies"
   ]
  },
  {
   "cell_type": "code",
   "execution_count": 4,
   "id": "0bca90f2",
   "metadata": {},
   "outputs": [
    {
     "name": "stdout",
     "output_type": "stream",
     "text": [
      "[<__main__.Rabbit object at 0x7fd9fc050450>, <__main__.Rabbit object at 0x7fd9fc050490>, <__main__.Rabbit object at 0x7fd9fc0504d0>, <__main__.Rabbit object at 0x7fd9fc050550>, <__main__.Rabbit object at 0x7fd9fc050510>, <__main__.Rabbit object at 0x7fd9fc050410>, <__main__.Rabbit object at 0x7fd9fc050190>, <__main__.Rabbit object at 0x7fd9fc050390>, <__main__.Rabbit object at 0x7fd9fc050350>, <__main__.Rabbit object at 0x7fd9fc0501d0>, <__main__.Rabbit object at 0x7fd9fc050110>, <__main__.Rabbit object at 0x7fd9fc050150>]\n"
     ]
    }
   ],
   "source": [
    "r1 = Rabbit('joe', 10)\n",
    "r2 = Rabbit('doe', 10)\n",
    "r1.mate_with(r2)\n",
    "r2.reproduce_like_rabbits()\n",
    "print(r2.babies)"
   ]
  },
  {
   "cell_type": "markdown",
   "id": "4cedf620",
   "metadata": {},
   "source": [
    "## 1.3 Common interface"
   ]
  },
  {
   "cell_type": "code",
   "execution_count": 5,
   "id": "43cfe6f0",
   "metadata": {},
   "outputs": [],
   "source": [
    "r1 = Rabbit('joe', 10)\n",
    "r2 = Rabbit('doe', 10)\n",
    "r3 = Rabbit('joe', 10)\n",
    "r4 = Animal('doe', 10)\n",
    "def partytime(animals):\n",
    "    \"\"\"Assuming ANIMALS is a list of Animals, cause each\n",
    "    to interact with all the others exactly once.\"\"\"\n",
    "    for i in range(len(animals)):\n",
    "        for j in range(i + 1, len(animals)):\n",
    "            animals[i].interact_with(animals[j])"
   ]
  },
  {
   "cell_type": "code",
   "execution_count": 6,
   "id": "4f3b7c8f",
   "metadata": {},
   "outputs": [
    {
     "name": "stdout",
     "output_type": "stream",
     "text": [
      "Yay happy fun time with doe\n",
      "Yay happy fun time with joe\n",
      "Yay happy fun time with doe\n",
      "Yay happy fun time with joe\n",
      "Yay happy fun time with doe\n",
      "Yay happy fun time with doe\n"
     ]
    }
   ],
   "source": [
    "partytime([r1, r2, r3, r4])"
   ]
  },
  {
   "cell_type": "markdown",
   "id": "02396521",
   "metadata": {},
   "source": [
    "## 1.4. Composition vs. Inheritance\n",
    "Inheritance is best for **\"is-a\"** relationships\n",
    "* Rabbit is a specific type of Animal\n",
    "* So Rabbot inherits from Animal\n",
    "\n",
    "Composition is best for **\"has-a\"** relationships\n",
    "* A Conservatory has a collection of animals\n",
    "* So conservatory has a list of animals as an instance variable"
   ]
  },
  {
   "cell_type": "code",
   "execution_count": 7,
   "id": "e6d1a7d3",
   "metadata": {},
   "outputs": [
    {
     "data": {
      "text/plain": [
       "['__class__',\n",
       " '__delattr__',\n",
       " '__dict__',\n",
       " '__dir__',\n",
       " '__doc__',\n",
       " '__eq__',\n",
       " '__format__',\n",
       " '__ge__',\n",
       " '__getattribute__',\n",
       " '__gt__',\n",
       " '__hash__',\n",
       " '__init__',\n",
       " '__init_subclass__',\n",
       " '__le__',\n",
       " '__lt__',\n",
       " '__module__',\n",
       " '__ne__',\n",
       " '__new__',\n",
       " '__reduce__',\n",
       " '__reduce_ex__',\n",
       " '__repr__',\n",
       " '__setattr__',\n",
       " '__sizeof__',\n",
       " '__str__',\n",
       " '__subclasshook__',\n",
       " '__weakref__',\n",
       " 'age',\n",
       " 'calories_eaten',\n",
       " 'calories_needed',\n",
       " 'eat',\n",
       " 'happiness',\n",
       " 'interact_increment',\n",
       " 'interact_with',\n",
       " 'mate_with',\n",
       " 'name',\n",
       " 'num_in_litter',\n",
       " 'play',\n",
       " 'play_multiplier',\n",
       " 'reproduce_like_rabbits',\n",
       " 'scientific_name',\n",
       " 'species_name']"
      ]
     },
     "execution_count": 7,
     "metadata": {},
     "output_type": "execute_result"
    }
   ],
   "source": [
    "dir(r1)"
   ]
  },
  {
   "cell_type": "markdown",
   "id": "2e2c5f08",
   "metadata": {},
   "source": [
    "# 2. Object\n",
    "What are the objects in this code?"
   ]
  },
  {
   "cell_type": "code",
   "execution_count": 8,
   "id": "a18e074c",
   "metadata": {},
   "outputs": [],
   "source": [
    "class Lamb:\n",
    "    species_name = \"Lamb\"\n",
    "    scientific_name = \"Ovis aries\"\n",
    "\n",
    "    def __init__(self, name):\n",
    "        self.name = name\n",
    "\n",
    "    def play(self):\n",
    "        self.happy = True\n",
    "\n",
    "lamb = Lamb(\"Lil\")\n",
    "owner = \"Mary\"\n",
    "had_a_lamb = True\n",
    "fleece = {\"color\": \"white\", \"fluffiness\": 100}\n",
    "kids_at_school = [\"Billy\", \"Tilly\", \"Jilly\"]\n",
    "day = 1"
   ]
  },
  {
   "cell_type": "markdown",
   "id": "168a66ab",
   "metadata": {},
   "source": [
    "One can use ```object.__class__.__bases__``` to report the base class of the object's class"
   ]
  },
  {
   "cell_type": "code",
   "execution_count": 9,
   "id": "ff9fbc22",
   "metadata": {},
   "outputs": [
    {
     "data": {
      "text/plain": [
       "__main__.Lamb"
      ]
     },
     "execution_count": 9,
     "metadata": {},
     "output_type": "execute_result"
    }
   ],
   "source": [
    "lamb.__class__ # lamb is Lamb class"
   ]
  },
  {
   "cell_type": "code",
   "execution_count": 10,
   "id": "73a6964e",
   "metadata": {},
   "outputs": [
    {
     "data": {
      "text/plain": [
       "(object,)"
      ]
     },
     "execution_count": 10,
     "metadata": {},
     "output_type": "execute_result"
    }
   ],
   "source": [
    "lamb.__class__.__bases__ # Lamb's base class is object"
   ]
  },
  {
   "cell_type": "code",
   "execution_count": 11,
   "id": "d3b0723c",
   "metadata": {},
   "outputs": [
    {
     "data": {
      "text/plain": [
       "(__main__.Animal,)"
      ]
     },
     "execution_count": 11,
     "metadata": {},
     "output_type": "execute_result"
    }
   ],
   "source": [
    "r1.__class__.__bases__ # Rabbits's base class is Animal"
   ]
  },
  {
   "cell_type": "code",
   "execution_count": 12,
   "id": "ab12bba3",
   "metadata": {},
   "outputs": [
    {
     "data": {
      "text/plain": [
       "(object,)"
      ]
     },
     "execution_count": 12,
     "metadata": {},
     "output_type": "execute_result"
    }
   ],
   "source": [
    "r1.__class__.__bases__.__class__.__bases__ # Rabbits's base class's base class is object"
   ]
  },
  {
   "cell_type": "markdown",
   "id": "bd85bcfa",
   "metadata": {},
   "source": [
    "**All built-in types inherit from object**\n",
    "\n",
    "So, what are built-in types inheriting?\n",
    "\n",
    "**Just ask ```dir()```**, a built in function returns a list of all \"interesting\" attributes on an object"
   ]
  },
  {
   "cell_type": "code",
   "execution_count": 13,
   "id": "e382ec50",
   "metadata": {},
   "outputs": [
    {
     "name": "stdout",
     "output_type": "stream",
     "text": [
      "['__abs__', '__add__', '__and__', '__bool__', '__ceil__', '__class__', '__delattr__', '__dir__', '__divmod__', '__doc__', '__eq__', '__float__', '__floor__', '__floordiv__', '__format__', '__ge__', '__getattribute__', '__getnewargs__', '__gt__', '__hash__', '__index__', '__init__', '__init_subclass__', '__int__', '__invert__', '__le__', '__lshift__', '__lt__', '__mod__', '__mul__', '__ne__', '__neg__', '__new__', '__or__', '__pos__', '__pow__', '__radd__', '__rand__', '__rdivmod__', '__reduce__', '__reduce_ex__', '__repr__', '__rfloordiv__', '__rlshift__', '__rmod__', '__rmul__', '__ror__', '__round__', '__rpow__', '__rrshift__', '__rshift__', '__rsub__', '__rtruediv__', '__rxor__', '__setattr__', '__sizeof__', '__str__', '__sub__', '__subclasshook__', '__truediv__', '__trunc__', '__xor__', 'bit_length', 'conjugate', 'denominator', 'from_bytes', 'imag', 'numerator', 'real', 'to_bytes']\n"
     ]
    }
   ],
   "source": [
    "int_attr = dir(int)\n",
    "print(int_attr)"
   ]
  },
  {
   "cell_type": "markdown",
   "id": "700310e6",
   "metadata": {},
   "source": [
    "Python calls these methods behind these scenes, so we are often not aware when the \"dunder\" methods are being called"
   ]
  },
  {
   "cell_type": "markdown",
   "id": "efeb9119",
   "metadata": {},
   "source": [
    "# 3. Implicit attributes called  in string representation\n",
    "### 3.1. ```__str__```\n",
    "```__str__``` returns a human readable string representation of an object"
   ]
  },
  {
   "cell_type": "code",
   "execution_count": 14,
   "id": "926a0b87",
   "metadata": {},
   "outputs": [],
   "source": [
    "from fractions import Fraction\n",
    "one_third = 1 / 3\n",
    "one_half = Fraction(1, 2)"
   ]
  },
  {
   "cell_type": "code",
   "execution_count": 15,
   "id": "a8664397",
   "metadata": {},
   "outputs": [
    {
     "name": "stdout",
     "output_type": "stream",
     "text": [
      "0\n",
      "0.3333333333333333\n",
      "1/2\n"
     ]
    }
   ],
   "source": [
    "print(int.__str__(int(one_third)))\n",
    "print(float.__str__(one_third))\n",
    "print(Fraction.__str__(one_half))"
   ]
  },
  {
   "cell_type": "markdown",
   "id": "f4d41122",
   "metadata": {},
   "source": [
    "### 3.1.a. ``` __str__``` usage\n",
    "The ```__str__```  is used in multiple places by Python. print, str, f-strings, constructor, etc. "
   ]
  },
  {
   "cell_type": "code",
   "execution_count": 16,
   "id": "ee3b84fc",
   "metadata": {},
   "outputs": [
    {
     "name": "stdout",
     "output_type": "stream",
     "text": [
      "1/2 > 0.3333333333333333\n"
     ]
    },
    {
     "data": {
      "text/plain": [
       "'1/2'"
      ]
     },
     "execution_count": 16,
     "metadata": {},
     "output_type": "execute_result"
    }
   ],
   "source": [
    "print(f\"{one_half} > {one_third}\")\n",
    "str(one_half)                "
   ]
  },
  {
   "cell_type": "markdown",
   "id": "63103399",
   "metadata": {},
   "source": [
    "### 3.1.b. Customized ```__str__``` behavior\n",
    "When making custom classes, we can override ```__str__ ```to define our human readable string representation"
   ]
  },
  {
   "cell_type": "code",
   "execution_count": 17,
   "id": "cd200bf9",
   "metadata": {},
   "outputs": [],
   "source": [
    "class Lamb:\n",
    "    species_name = \"Lamb\"\n",
    "    scientific_name = \"Ovis aries\"\n",
    "\n",
    "    def __init__(self, name):\n",
    "        self.name = name\n",
    "    ## Override __str__ operation\n",
    "    def __str__(self):\n",
    "        return \"Lamb named \" + self.name"
   ]
  },
  {
   "cell_type": "code",
   "execution_count": 18,
   "id": "44db9d27",
   "metadata": {},
   "outputs": [
    {
     "name": "stdout",
     "output_type": "stream",
     "text": [
      "Lamb named lil lamb\n"
     ]
    },
    {
     "data": {
      "text/plain": [
       "<__main__.Lamb at 0x7fd9fc06c710>"
      ]
     },
     "execution_count": 18,
     "metadata": {},
     "output_type": "execute_result"
    }
   ],
   "source": [
    "lil = Lamb('lil lamb')\n",
    "print(lil)\n",
    "lil # But __repr__ is not being overriden yet"
   ]
  },
  {
   "cell_type": "markdown",
   "id": "d156ce32",
   "metadata": {},
   "source": [
    "### 3.2.a. ```__repr__``` method\n",
    "\n",
    "By definition, ```__repr__``` means: **Returns a string as a representation of the object.**\n",
    "\n",
    "```__repr___``` returns a string that would evalute to an object with the same values"
   ]
  },
  {
   "cell_type": "code",
   "execution_count": 35,
   "id": "45e7c176",
   "metadata": {},
   "outputs": [
    {
     "name": "stdout",
     "output_type": "stream",
     "text": [
      "[1, 2, 3, 4, 5]\n",
      "[1, 2, 3, 4, 5]\n"
     ]
    }
   ],
   "source": [
    "n = [1, 2, 3, 4, 5]\n",
    "printable = repr(n)\n",
    "print(n)\n",
    "print(printable)"
   ]
  },
  {
   "cell_type": "code",
   "execution_count": 19,
   "id": "54d6d260",
   "metadata": {},
   "outputs": [],
   "source": [
    "from fractions import Fraction\n",
    "\n",
    "two_thirds = Fraction(2, 3)\n",
    "two_thirds_str = Fraction.__repr__(two_thirds)           # 'Fraction(1, 2)'"
   ]
  },
  {
   "cell_type": "markdown",
   "id": "053da7f9",
   "metadata": {},
   "source": [
    "If implemented correctly, calling eval() on the ```__repr__```result should return back that same-valued object."
   ]
  },
  {
   "cell_type": "code",
   "execution_count": 20,
   "id": "7f5e3736",
   "metadata": {},
   "outputs": [],
   "source": [
    "two_thirds_alter = eval(two_thirds_str)"
   ]
  },
  {
   "cell_type": "code",
   "execution_count": 21,
   "id": "9ea62566",
   "metadata": {},
   "outputs": [
    {
     "data": {
      "text/plain": [
       "0.6666666666666666"
      ]
     },
     "execution_count": 21,
     "metadata": {},
     "output_type": "execute_result"
    }
   ],
   "source": [
    "float(two_thirds_alter)"
   ]
  },
  {
   "cell_type": "markdown",
   "id": "2b7f63be",
   "metadata": {},
   "source": [
    "### 3.2.b. ```__repr__``` method Usage\n",
    "The ```__repr__``` is used in multiple places, when ```repr(object)``` is called and when displaying an object in an interactive python session"
   ]
  },
  {
   "cell_type": "code",
   "execution_count": 22,
   "id": "ff5c89ad",
   "metadata": {},
   "outputs": [],
   "source": [
    "class Lamb:\n",
    "    species_name = \"Lamb\"\n",
    "    scientific_name = \"Ovis aries\"\n",
    "\n",
    "    def __init__(self, name):\n",
    "        self.name = name\n",
    "\n",
    "    def __str__(self):\n",
    "        return \"Lamb named \" + self.name\n",
    "    # Override __repr__ method\n",
    "    def __repr__(self):\n",
    "        return f\"Lamb({repr(self.name)})\""
   ]
  },
  {
   "cell_type": "code",
   "execution_count": 23,
   "id": "6bcfe34e",
   "metadata": {},
   "outputs": [
    {
     "name": "stdout",
     "output_type": "stream",
     "text": [
      "Lamb('lil lamb')\n"
     ]
    },
    {
     "data": {
      "text/plain": [
       "Lamb('lil lamb')"
      ]
     },
     "execution_count": 23,
     "metadata": {},
     "output_type": "execute_result"
    }
   ],
   "source": [
    "lil = Lamb('lil lamb')\n",
    "print(repr(lil))\n",
    "lil # __repr__ got overriden"
   ]
  },
  {
   "cell_type": "markdown",
   "id": "4b1d80e1",
   "metadata": {},
   "source": [
    "## 3.3. The rules of repr and str\n",
    "\n",
    "When the ```repr(obj)``` is called:\n",
    "* Python calls the ```ClassName.__repr__``` method if it exists.\n",
    "* If ```ClassName.__repr__``` does not exist, Python will look up the chain of parent classes until it finds one with ```__repr__``` defined.\n",
    "* If all else fails, ```object.__repr__``` will be called.\n",
    "\n",
    "When the ```str(obj)``` class constructor is called:\n",
    "* Python calls the ```ClassName.__str__``` method if it exists.\n",
    "* If no ```__str__``` method is found on that class, Python calls ```repr()``` on the object instead."
   ]
  },
  {
   "cell_type": "markdown",
   "id": "f048e094",
   "metadata": {},
   "source": [
    "# 4. Special Methods\n",
    "Special methods have built-in behavior. Special method names always start and end with **double underscores**\n",
    "<img src=\"resources/week7p1.png\" alt=\"Drawing\" style=\"width: 800px;\"/>\n",
    "\n",
    "### 4.0. Special method examples"
   ]
  },
  {
   "cell_type": "code",
   "execution_count": 24,
   "id": "5d45707b",
   "metadata": {},
   "outputs": [],
   "source": [
    "zero, one, two = 0, 1, 2"
   ]
  },
  {
   "cell_type": "code",
   "execution_count": 25,
   "id": "d62bfae3",
   "metadata": {},
   "outputs": [],
   "source": [
    "# Standard <=> Dunder equivalent\n",
    "assert(one + two == one.__add__(two))\n",
    "assert(bool(zero) == zero.__bool__())\n",
    "assert(bool(one) == one.__bool__())"
   ]
  },
  {
   "cell_type": "markdown",
   "id": "c365ebb0",
   "metadata": {},
   "source": [
    "## 4.1. Override ```__add__``` to add together custom objects\n",
    "Make ```Rational(1, 2) + Rational(3, 4)``` work"
   ]
  },
  {
   "cell_type": "code",
   "execution_count": 26,
   "id": "e26a41f0",
   "metadata": {},
   "outputs": [],
   "source": [
    "from math import gcd\n",
    "\n",
    "class Rational:\n",
    "    def __init__(self, numerator, denominator):\n",
    "        g = gcd(numerator, denominator)\n",
    "        self.numer = numerator // g\n",
    "        self.denom = denominator // g\n",
    "\n",
    "    def __str__(self):\n",
    "        return f\"{self.numer}/{self.denom}\"\n",
    "\n",
    "    def __repr__(self):\n",
    "        return f\"Rational({self.numer}, {self.denom})\"\n",
    "    \n",
    "    def __add__(self, other):\n",
    "        numer = self.numer * other.denom + other.numer * self.denom\n",
    "        demom = self.denom * other.denom\n",
    "        return Rational(numer, demom)"
   ]
  },
  {
   "cell_type": "markdown",
   "id": "4ad01525",
   "metadata": {},
   "source": [
    "Use ```+``` is possble after definiting ```__add__``` method"
   ]
  },
  {
   "cell_type": "code",
   "execution_count": 27,
   "id": "e4632ed8",
   "metadata": {},
   "outputs": [
    {
     "data": {
      "text/plain": [
       "Rational(5, 4)"
      ]
     },
     "execution_count": 27,
     "metadata": {},
     "output_type": "execute_result"
    }
   ],
   "source": [
    "Rational(1, 2) + Rational(3, 4)"
   ]
  },
  {
   "cell_type": "markdown",
   "id": "181fc82b",
   "metadata": {},
   "source": [
    "# 5. Polymorphism\n",
    "Polymorphic function: A function that applies to **many (poly)** and **different forms (morph)** of data"
   ]
  },
  {
   "cell_type": "markdown",
   "id": "df80e0af",
   "metadata": {},
   "source": [
    "### 5.1.a Generic function a\n",
    "A generic function can apply to argument of different types\n",
    "\n",
    "```python\n",
    "def sum_two(a, b):\n",
    "    return a + b\n",
    "```\n",
    "\n",
    "Any summable objects apply to ```sum_two``` function, therefore, ```sum_two``` is **generic** in the type of a and b"
   ]
  },
  {
   "cell_type": "markdown",
   "id": "3f2713f7",
   "metadata": {},
   "source": [
    "### 5.1.b Generic Function 2\n",
    "```python\n",
    "def sum_em(items, initial_value):\n",
    "    \"\"\"Returns the sum of ITEMS,\n",
    "    starting with a value of INITIAL_VALUE.\"\"\"\n",
    "    sum = initial_value\n",
    "    for item in items:\n",
    "        sum += item\n",
    "    return sum\n",
    "```\n",
    "item could be anything that is summable, initial value is anything summable with items\n",
    "\n",
    "The function ```sum_em``` is generic in the ```type of items``` and the ```type of initial_value```."
   ]
  },
  {
   "cell_type": "markdown",
   "id": "86905747",
   "metadata": {},
   "source": [
    "### 5.1.c. Type dispatching\n",
    "\n",
    "Another way to make generic function is to select a behavior based on the type of the argument\n"
   ]
  },
  {
   "cell_type": "code",
   "execution_count": 28,
   "id": "3bc69bd4",
   "metadata": {},
   "outputs": [],
   "source": [
    "def is_valid_month(month):\n",
    "    if isinstance(month, int):\n",
    "        return month >= 1 and month <= 12\n",
    "    elif isinstance(month, str):\n",
    "        return month in [\"January\", \"February\", \"March\", \"April\",\n",
    "                        \"May\", \"June\", \"July\", \"August\", \"September\",\n",
    "                        \"October\", \"November\", \"December\"]\n",
    "    return False"
   ]
  },
  {
   "cell_type": "markdown",
   "id": "03c164c2",
   "metadata": {},
   "source": [
    "month can be either ```int``` or ```str```"
   ]
  },
  {
   "cell_type": "code",
   "execution_count": 29,
   "id": "da857e74",
   "metadata": {},
   "outputs": [
    {
     "data": {
      "text/plain": [
       "False"
      ]
     },
     "execution_count": 29,
     "metadata": {},
     "output_type": "execute_result"
    }
   ],
   "source": [
    "is_valid_month(1.3213)"
   ]
  },
  {
   "cell_type": "markdown",
   "id": "56a78dd3",
   "metadata": {},
   "source": [
    "### 5.1.d. Type coercion\n",
    "Anotherway to make generic functions is to coere an argument into the desired type"
   ]
  },
  {
   "cell_type": "code",
   "execution_count": 30,
   "id": "0379094b",
   "metadata": {},
   "outputs": [],
   "source": [
    "def sum_numbers(nums):\n",
    "    \"\"\"Returns the sum of NUMS\"\"\"\n",
    "    sum = Rational(0, 1)\n",
    "    for num in nums:\n",
    "        if isinstance(num, int):\n",
    "            num = Rational(num, 1)\n",
    "        sum += num\n",
    "    return sum"
   ]
  },
  {
   "cell_type": "markdown",
   "id": "5c0dcc29",
   "metadata": {},
   "source": [
    "Without line5-6, only type of Rational is allowable in this function\n",
    "\n",
    "If statement makes sum could also be any ```iterable with ints```"
   ]
  },
  {
   "cell_type": "code",
   "execution_count": 31,
   "id": "b4d221e1",
   "metadata": {},
   "outputs": [
    {
     "data": {
      "text/plain": [
       "Rational(7, 3)"
      ]
     },
     "execution_count": 31,
     "metadata": {},
     "output_type": "execute_result"
    }
   ],
   "source": [
    "sum_numbers([Rational(2,1), Rational(1,3)])"
   ]
  },
  {
   "cell_type": "code",
   "execution_count": 32,
   "id": "3c5132c7",
   "metadata": {},
   "outputs": [
    {
     "data": {
      "text/plain": [
       "Rational(9, 1)"
      ]
     },
     "execution_count": 32,
     "metadata": {},
     "output_type": "execute_result"
    }
   ],
   "source": [
    "sum_numbers([2, 3, 4])"
   ]
  }
 ],
 "metadata": {
  "kernelspec": {
   "display_name": "Python 3",
   "language": "python",
   "name": "python3"
  },
  "language_info": {
   "codemirror_mode": {
    "name": "ipython",
    "version": 3
   },
   "file_extension": ".py",
   "mimetype": "text/x-python",
   "name": "python",
   "nbconvert_exporter": "python",
   "pygments_lexer": "ipython3",
   "version": "3.7.11"
  }
 },
 "nbformat": 4,
 "nbformat_minor": 5
}
