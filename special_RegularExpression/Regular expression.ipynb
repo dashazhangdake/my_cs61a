{
 "cells": [
  {
   "cell_type": "code",
   "execution_count": 8,
   "id": "a09f08ba",
   "metadata": {},
   "outputs": [],
   "source": [
    "import re"
   ]
  },
  {
   "cell_type": "markdown",
   "id": "b7f49a54",
   "metadata": {},
   "source": [
    "# 1. General re classes"
   ]
  },
  {
   "cell_type": "markdown",
   "id": "6c4b9334",
   "metadata": {},
   "source": [
    "### 1. 0. Matching exact strings & Special characters\n",
    "\n",
    "The following are special characters in regular expressions: \n",
    "```python\n",
    "    \\ ( ) [ ] { } + * ? | $ ^ .\n",
    "```\n",
    "\n",
    "* Matching a string without special character, just use string\n",
    "* Matching string with special character, use backslash for escaping: e.g. ```\\(``` to match ```(```"
   ]
  },
  {
   "cell_type": "markdown",
   "id": "b1ba73a8",
   "metadata": {},
   "source": [
    "### 1.1. The dot\n",
    "The dot ```.``` matches any single character that is not a new line:\n",
    "\n",
    "```.a.a.a``` <=> ```banana```"
   ]
  },
  {
   "cell_type": "markdown",
   "id": "3bee7591",
   "metadata": {},
   "source": [
    "### 1.2. Character classes\n",
    "<img src=\"resources/re_p0.png\" alt=\"Drawing\" style=\"width: 1024px;\"/>\n"
   ]
  },
  {
   "cell_type": "markdown",
   "id": "f3c2d0ca",
   "metadata": {},
   "source": [
    "### 1.3. Quanlifiers\n",
    "\n",
    "<img src=\"resources/re_p1.png\" alt=\"Drawing\" style=\"width: 960px;\"/>\n"
   ]
  },
  {
   "cell_type": "markdown",
   "id": "648a7619",
   "metadata": {},
   "source": [
    "### 1.4. Comparing Patterns\n",
    "<img src=\"resources/re_p2.png\" alt=\"Drawing\" style=\"width: 960px;\"/>\n"
   ]
  },
  {
   "attachments": {},
   "cell_type": "markdown",
   "id": "ec79f9d6",
   "metadata": {},
   "source": [
    "### 1.5. Anchors\n",
    "\n",
    "<img src=\"resources/re_p3.png\" alt=\"Drawing\" style=\"width: 960px;\"/>\n"
   ]
  },
  {
   "cell_type": "markdown",
   "id": "de18af27",
   "metadata": {},
   "source": [
    "# 2. RE in python"
   ]
  },
  {
   "cell_type": "code",
   "execution_count": 18,
   "id": "ba1f4f38",
   "metadata": {},
   "outputs": [
    {
     "name": "stdout",
     "output_type": "stream",
     "text": [
      "1\n"
     ]
    }
   ],
   "source": [
    "if (re.search(r'-?\\d+', '123 peeps'))\n"
   ]
  },
  {
   "cell_type": "code",
   "execution_count": null,
   "id": "2c961b69",
   "metadata": {},
   "outputs": [],
   "source": []
  }
 ],
 "metadata": {
  "kernelspec": {
   "display_name": "Python 3",
   "language": "python",
   "name": "python3"
  },
  "language_info": {
   "codemirror_mode": {
    "name": "ipython",
    "version": 3
   },
   "file_extension": ".py",
   "mimetype": "text/x-python",
   "name": "python",
   "nbconvert_exporter": "python",
   "pygments_lexer": "ipython3",
   "version": "3.7.11"
  }
 },
 "nbformat": 4,
 "nbformat_minor": 5
}
