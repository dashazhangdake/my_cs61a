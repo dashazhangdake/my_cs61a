{
 "cells": [
  {
   "cell_type": "markdown",
   "id": "bdad7ea2",
   "metadata": {},
   "source": [
    "# 217. Contains Duplicate\n",
    "Given an integer array ```nums```, return true if any value appears at least twice in the array, and return ```false``` if every element is distinct.\n",
    "\n",
    "Example 1: \n",
    "```\n",
    "Input: nums = [1,2,3,1]\n",
    "Output: true\n",
    "```\n",
    "\n",
    "Example 2: \n",
    "```\n",
    "Input: nums = [1,2,3,4]\n",
    "Output: false\n",
    "```\n",
    "\n",
    "Example 3: \n",
    "```\n",
    "Input: nums = [1,1,1,3,3,4,3,2,4,2]\n",
    "Output: true\n",
    "```\n",
    "\n",
    "Constraints:\n",
    "* ```1 <= nums.length <= 10^5```\n",
    "* ```-10^9 <= nums[i] <= 10^9```"
   ]
  },
  {
   "cell_type": "markdown",
   "id": "794e6940",
   "metadata": {},
   "source": [
    "## 217.a. Hashing Solution"
   ]
  },
  {
   "cell_type": "code",
   "execution_count": 10,
   "id": "fb862ca8",
   "metadata": {},
   "outputs": [],
   "source": [
    "def containsDuplicate(nums) -> bool:\n",
    "    hashtable = {}\n",
    "    for num in nums:\n",
    "        if num in hashtable:\n",
    "            return True\n",
    "        else:\n",
    "            hashtable[num] = 1\n",
    "    return False"
   ]
  },
  {
   "cell_type": "code",
   "execution_count": 11,
   "id": "cedacb46",
   "metadata": {},
   "outputs": [
    {
     "data": {
      "text/plain": [
       "True"
      ]
     },
     "execution_count": 11,
     "metadata": {},
     "output_type": "execute_result"
    }
   ],
   "source": [
    "nums = [1,1,1,3,3,4,3,2,4,2]\n",
    "containsDuplicate(nums)"
   ]
  },
  {
   "cell_type": "markdown",
   "id": "50db909b",
   "metadata": {},
   "source": [
    "## 217.b. Sorting solution"
   ]
  },
  {
   "cell_type": "code",
   "execution_count": 13,
   "id": "44c13780",
   "metadata": {},
   "outputs": [],
   "source": [
    "def containsDuplicate(nums) -> bool:\n",
    "    l = len(nums)\n",
    "    if l < 2:\n",
    "        return False\n",
    "    nums.sort()\n",
    "    for i in range(l-1):\n",
    "        if nums[i] == nums[i+1]:\n",
    "            return True\n",
    "    return False"
   ]
  },
  {
   "cell_type": "code",
   "execution_count": 14,
   "id": "be639cf0",
   "metadata": {},
   "outputs": [
    {
     "data": {
      "text/plain": [
       "True"
      ]
     },
     "execution_count": 14,
     "metadata": {},
     "output_type": "execute_result"
    }
   ],
   "source": [
    "nums = [1,1,1,3,3,4,3,2,4,2]\n",
    "containsDuplicate(nums)"
   ]
  },
  {
   "cell_type": "markdown",
   "id": "906b02cc",
   "metadata": {},
   "source": [
    "# 485. Max Consecutive Ones\n",
    "Given a binary array ```nums```, return the *maximum number* of consecutive 1's in the array.\n",
    "\n",
    "Example 1:\n",
    "```\n",
    "Input: nums = [1,1,0,1,1,1]\n",
    "Output: 3\n",
    "Explanation: The first two digits or the last three digits are consecutive 1s. The maximum number of consecutive 1s is 3.\n",
    "```\n",
    "\n",
    "Example 2:\n",
    "```\n",
    "Input: nums = [1,0,1,1,0,1]\n",
    "Output: 2\n",
    "```\n",
    "\n",
    "Constraints:\n",
    "* 1 <= ```nums.length``` <= 105\n",
    "* ```nums[i]``` is either 0 or 1."
   ]
  },
  {
   "cell_type": "markdown",
   "id": "8a4f3ad1",
   "metadata": {},
   "source": [
    "## 485.a. An intuitive solution"
   ]
  },
  {
   "cell_type": "code",
   "execution_count": 4,
   "id": "2148d925",
   "metadata": {},
   "outputs": [],
   "source": [
    "def findMaxConsecutiveOnes(nums) -> int:\n",
    "    cnt, maxcnt = 0, 0\n",
    "    for n in nums:\n",
    "        if n:\n",
    "            cnt = cnt + 1\n",
    "            maxcnt = max(cnt, maxcnt)\n",
    "        else:\n",
    "            cnt = 0\n",
    "    return maxcnt"
   ]
  },
  {
   "cell_type": "code",
   "execution_count": 7,
   "id": "c6d34c5a",
   "metadata": {},
   "outputs": [
    {
     "data": {
      "text/plain": [
       "3"
      ]
     },
     "execution_count": 7,
     "metadata": {},
     "output_type": "execute_result"
    }
   ],
   "source": [
    "nums = [1,1,0,1,1,1]\n",
    "findMaxConsecutiveOnes(nums)"
   ]
  }
 ],
 "metadata": {
  "kernelspec": {
   "display_name": "Python 3 (ipykernel)",
   "language": "python",
   "name": "python3"
  },
  "language_info": {
   "codemirror_mode": {
    "name": "ipython",
    "version": 3
   },
   "file_extension": ".py",
   "mimetype": "text/x-python",
   "name": "python",
   "nbconvert_exporter": "python",
   "pygments_lexer": "ipython3",
   "version": "3.7.12"
  }
 },
 "nbformat": 4,
 "nbformat_minor": 5
}
