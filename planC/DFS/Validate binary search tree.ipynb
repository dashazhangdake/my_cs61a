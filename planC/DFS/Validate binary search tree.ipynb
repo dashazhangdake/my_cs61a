{
 "cells": [
  {
   "cell_type": "code",
   "execution_count": 7,
   "id": "7668a1b6",
   "metadata": {},
   "outputs": [],
   "source": [
    "import math\n",
    "from typing import *\n",
    "class TreeNode:\n",
    "    def __init__(self, val=0, left=None, right=None):\n",
    "        self.val = val\n",
    "        self.left = left\n",
    "        self.right = right"
   ]
  },
  {
   "cell_type": "markdown",
   "id": "2e2feb82",
   "metadata": {},
   "source": [
    "# 98. Validate Binary Search Tree\n",
    "## Problem description\n",
    "\n",
    "A **valid BST** is defined as follows:\n",
    "\n",
    "* The **left subtree** of a **node** contains only **nodes** with **keys less than** the node's key.\n",
    "* The **right subtree** of a **node** contains only nodes with keys **greater than** the node's key.\n",
    "* Both the left and right **subtrees must also be binary search trees**."
   ]
  },
  {
   "cell_type": "markdown",
   "id": "a79338a8",
   "metadata": {},
   "source": [
    "## Solution a. Recursion w/ valid range"
   ]
  },
  {
   "cell_type": "code",
   "execution_count": 8,
   "id": "1809748e",
   "metadata": {},
   "outputs": [],
   "source": [
    "# Definition for a binary tree node.\n",
    "class Solution:\n",
    "    def isValidBST(self, root: Optional[TreeNode]) -> bool:\n",
    "        def validate (node, low=-math.inf, high=math.inf):\n",
    "            if not node:\n",
    "                return True\n",
    "            if node.val <= low or node.val >= high:\n",
    "                return False        \n",
    "            return (validate(node.left, low, node.val) and validate(node.right, node.val, high))\n",
    "        \n",
    "        return validate(root)    "
   ]
  },
  {
   "cell_type": "code",
   "execution_count": 10,
   "id": "ebecb13c",
   "metadata": {},
   "outputs": [
    {
     "data": {
      "text/plain": [
       "False"
      ]
     },
     "execution_count": 10,
     "metadata": {},
     "output_type": "execute_result"
    }
   ],
   "source": [
    "testree = TreeNode(2, TreeNode(3), TreeNode(3))\n",
    "s = Solution()\n",
    "s.isValidBST(testree)"
   ]
  },
  {
   "cell_type": "code",
   "execution_count": null,
   "id": "84e41536",
   "metadata": {},
   "outputs": [],
   "source": []
  }
 ],
 "metadata": {
  "kernelspec": {
   "display_name": "Python 3 (ipykernel)",
   "language": "python",
   "name": "python3"
  },
  "language_info": {
   "codemirror_mode": {
    "name": "ipython",
    "version": 3
   },
   "file_extension": ".py",
   "mimetype": "text/x-python",
   "name": "python",
   "nbconvert_exporter": "python",
   "pygments_lexer": "ipython3",
   "version": "3.7.12"
  }
 },
 "nbformat": 4,
 "nbformat_minor": 5
}
