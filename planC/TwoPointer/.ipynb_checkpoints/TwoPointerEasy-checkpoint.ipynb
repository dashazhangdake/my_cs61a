{
 "cells": [
  {
   "cell_type": "code",
   "execution_count": 21,
   "id": "be064a0d",
   "metadata": {},
   "outputs": [],
   "source": [
    "from typing import *"
   ]
  },
  {
   "cell_type": "markdown",
   "id": "67b0173e",
   "metadata": {},
   "source": [
    "# 88. Merge Sorted Array\n",
    "You are given two integer arrays ```nums1 and nums2```, sorted in **non-decreasing** order, and two integers **m and n**, representing the number of elements in ```nums1 and nums2``` respectively.\n",
    "\n",
    "Merge ```nums1 and nums2``` into a single array sorted in non-decreasing order.\n",
    "\n",
    "The final sorted array should not be returned by the function, but instead be stored inside the array ```nums1```. \n",
    "\n",
    "To accommodate this, ```nums1``` has a length of ```m + n```, where the first m elements denote the elements that should be merged, and the last ```n elements``` are set to 0 and should be ignored. nums2 has a length of n.\n",
    "\n",
    "Example 1:\n",
    "```\n",
    "Input: nums1 = [1,2,3,0,0,0], m = 3, nums2 = [2,5,6], n = 3\n",
    "Output: [1,2,2,3,5,6]\n",
    "Explanation: The arrays we are merging are [1,2,3] and [2,5,6].\n",
    "The result of the merge is [1,2,2,3,5,6] with the underlined elements coming from nums1.\n",
    "```\n",
    "\n",
    "Example 2:\n",
    "```\n",
    "Input: nums1 = [1], m = 1, nums2 = [], n = 0\n",
    "Output: [1]\n",
    "Explanation: The arrays we are merging are [1] and [].\n",
    "The result of the merge is [1].\n",
    "```\n",
    "\n",
    "Example 3:\n",
    "```\n",
    "Input: nums1 = [0], m = 0, nums2 = [1], n = 1\n",
    "Output: [1]\n",
    "Explanation: The arrays we are merging are [] and [1].\n",
    "The result of the merge is [1].\n",
    "Note that because m = 0, there are no elements in nums1. The 0 is only there to ensure the merge result can fit in nums1.\n",
    "```"
   ]
  },
  {
   "cell_type": "markdown",
   "id": "eefb5823",
   "metadata": {},
   "source": [
    "## 88.a. Two (Three) pointer solution"
   ]
  },
  {
   "cell_type": "code",
   "execution_count": 22,
   "id": "be0f5194",
   "metadata": {},
   "outputs": [],
   "source": [
    "class Solution:\n",
    "    def merge(self, nums1: List[int], m: int, nums2: List[int], n: int) -> None:\n",
    "        \"\"\"\n",
    "        Do not return anything, modify nums1 in-place instead.\n",
    "        \"\"\"\n",
    "        nums1_cpy = nums1[:m]\n",
    "        p1 = 0\n",
    "        p2 = 0\n",
    "        \n",
    "        for p in range(m + n):\n",
    "            if p2 >= n or ((p1 <= m-1) and nums1_cpy[p1] <= nums2[p2]):\n",
    "                nums1[p] = nums1_cpy[p1]\n",
    "                p1 = p1 + 1\n",
    "            else:\n",
    "                nums1[p] = nums2[p2]\n",
    "                p2 = p2 + 1"
   ]
  },
  {
   "cell_type": "markdown",
   "id": "4e0f8800",
   "metadata": {},
   "source": [
    "# 977. Squares of a Sorted Array\n",
    "Given an integer array ```nums``` sorted in non-decreasing order, return an array of the **squares of each number** sorted in non-decreasing order.\n",
    "\n",
    "Example 1:\n",
    "```\n",
    "Input: nums = [-4,-1,0,3,10]\n",
    "Output: [0,1,9,16,100]\n",
    "Explanation: After squaring, the array becomes [16,1,0,9,100].\n",
    "After sorting, it becomes [0,1,9,16,100].\n",
    "```\n",
    "\n",
    "Example 2:\n",
    "```\n",
    "Input: nums = [-7,-3,2,3,11]\n",
    "Output: [4,9,9,49,121]\n",
    "```"
   ]
  },
  {
   "cell_type": "markdown",
   "id": "f9afd064",
   "metadata": {},
   "source": [
    "## 977.a. Solution using two pointer\n",
    "* Use two pointers to track two ends of the array\n",
    "    * left tracks more negative side\n",
    "    * right tracks more positive side\n",
    "* if abs(left) < abs(right)\n",
    "    * Should be as it is, put ^2 in ```arr[i]```\n",
    "    * add left by 1\n",
    "* if abs(left) > abs(right)\n",
    "    * put abs(right)^2 in ```arr[i]```\n",
    "    * subtract right by 1\n",
    "    \n",
    "For ascending order, traverse the array from hi to low (the square of the most negative is also the largest)"
   ]
  },
  {
   "cell_type": "code",
   "execution_count": 23,
   "id": "c6a63b67",
   "metadata": {},
   "outputs": [],
   "source": [
    "class Solution:\n",
    "    def sortedSquares(self, nums: List[int]) -> List[int]:\n",
    "        n = len(nums)\n",
    "        result = [0] * n\n",
    "        left = 0\n",
    "        right = n - 1\n",
    "        for i in range(n - 1, -1, -1):\n",
    "            n_left = nums[left]\n",
    "            n_right = nums[right]\n",
    "            if abs(n_left) < abs(n_right):\n",
    "                result[i] = n_right * n_right\n",
    "                right = right - 1\n",
    "            else:\n",
    "                result[i] = n_left * n_left\n",
    "                left = left + 1\n",
    "        return result"
   ]
  },
  {
   "cell_type": "markdown",
   "id": "04334017",
   "metadata": {},
   "source": [
    "### 977.a.1. What if we want to reverse the ordering ?\n",
    "Recall that the the square of the most negative is the largest, adjust the initial condition of for loop. Placing the largest element to the lowest index"
   ]
  },
  {
   "cell_type": "code",
   "execution_count": 24,
   "id": "15523639",
   "metadata": {},
   "outputs": [],
   "source": [
    "class Solution:\n",
    "    def sortedSquares(self, nums: List[int]) -> List[int]:\n",
    "        n = len(nums)\n",
    "        result = [0] * n\n",
    "        left = 0\n",
    "        right = n - 1\n",
    "        for i in range(0, n):\n",
    "            n_left = nums[left]\n",
    "            n_right = nums[right]\n",
    "            if abs(n_left) < abs(n_right):\n",
    "                result[i] = n_right * n_right\n",
    "                right = right - 1\n",
    "            else:\n",
    "                result[i] = n_left * n_left\n",
    "                left = left + 1\n",
    "        return result"
   ]
  },
  {
   "cell_type": "code",
   "execution_count": 25,
   "id": "504fae40",
   "metadata": {},
   "outputs": [
    {
     "data": {
      "text/plain": [
       "[100, 16, 9, 1, 0]"
      ]
     },
     "execution_count": 25,
     "metadata": {},
     "output_type": "execute_result"
    }
   ],
   "source": [
    "Solution().sortedSquares([-4,-1,0,3,10])"
   ]
  }
 ],
 "metadata": {
  "kernelspec": {
   "display_name": "Python 3 (ipykernel)",
   "language": "python",
   "name": "python3"
  },
  "language_info": {
   "codemirror_mode": {
    "name": "ipython",
    "version": 3
   },
   "file_extension": ".py",
   "mimetype": "text/x-python",
   "name": "python",
   "nbconvert_exporter": "python",
   "pygments_lexer": "ipython3",
   "version": "3.7.12"
  }
 },
 "nbformat": 4,
 "nbformat_minor": 5
}
