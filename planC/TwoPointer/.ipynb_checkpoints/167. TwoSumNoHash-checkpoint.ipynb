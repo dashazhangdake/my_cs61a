{
 "cells": [
  {
   "cell_type": "code",
   "execution_count": 2,
   "id": "58072ddd",
   "metadata": {},
   "outputs": [],
   "source": [
    "from typing import *"
   ]
  },
  {
   "cell_type": "markdown",
   "id": "3ade207f",
   "metadata": {},
   "source": [
    "# 167. Two Sum II - Input Array Is Sorted\n",
    "Given a **1-indexed** array of integers numbers that is already sorted in ***non-decreasing order***, find two numbers such that they add up to a specific ```target``` number. Let these two numbers be ```numbers[index1]``` and ```numbers[index2]``` where ```1 <= index1 < index2 <= numbers.length```.\n",
    "\n",
    "Return the indices of the two numbers, index1 and index2, added by one as an integer array ```[index1, index2]``` of length 2.\n",
    "\n",
    "The tests are generated such that there is exactly one solution. You may not use the same element twice.\n",
    "\n",
    "Your solution must use only constant extra space - *No more hash table I guess*"
   ]
  },
  {
   "cell_type": "markdown",
   "id": "23aa3a56",
   "metadata": {},
   "source": [
    "Example 1:\n",
    "```\n",
    "Input: numbers = [2,7,11,15], target = 9\n",
    "Output: [1,2]\n",
    "Explanation: The sum of 2 and 7 is 9. Therefore, index1 = 1, index2 = 2. We return [1, 2].\n",
    "```\n",
    "Example 2:\n",
    "```\n",
    "Input: numbers = [2,3,4], target = 6\n",
    "Output: [1,3]\n",
    "Explanation: The sum of 2 and 4 is 6. Therefore index1 = 1, index2 = 3. We return [1, 3].\n",
    "```\n",
    "Example 3:\n",
    "```\n",
    "Input: numbers = [-1,0], target = -1\n",
    "Output: [1,2]\n",
    "Explanation: The sum of -1 and 0 is -1. Therefore index1 = 1, index2 = 2. We return [1, 2].\n",
    "```"
   ]
  },
  {
   "cell_type": "markdown",
   "id": "989790cf",
   "metadata": {},
   "source": [
    "## 167.a. Solution using two pointers\n",
    "Exploit the fact we get a **sorted** array now!\n",
    "* Set two pointers: one to the end of the array(high), one to the beginning of the array(low)\n",
    "    * Sum them up, if result is smaller, increment low by 1\n",
    "    * if larger, decrement high by 1\n",
    "    * Equal: problem solved"
   ]
  },
  {
   "cell_type": "code",
   "execution_count": 3,
   "id": "95080eac",
   "metadata": {},
   "outputs": [],
   "source": [
    "class Solution:\n",
    "    def twoSum(self, numbers: List[int], target: int) -> List[int]:\n",
    "        p2low, p2high = 0, len(numbers) - 1\n",
    "        while(p2low < p2high):\n",
    "            temp_sum = numbers[p2low] + numbers[p2high]\n",
    "            if temp_sum == target:\n",
    "                return [p2low + 1, p2high + 1]\n",
    "            elif temp_sum > target:\n",
    "                p2high -= 1\n",
    "            else:\n",
    "                p2low += 1\n",
    "        return [-1, -1]"
   ]
  },
  {
   "cell_type": "code",
   "execution_count": 4,
   "id": "bfd1ec8e",
   "metadata": {},
   "outputs": [
    {
     "data": {
      "text/plain": [
       "[1, 2]"
      ]
     },
     "execution_count": 4,
     "metadata": {},
     "output_type": "execute_result"
    }
   ],
   "source": [
    "Solution().twoSum([2,7,11,15], 9)"
   ]
  }
 ],
 "metadata": {
  "kernelspec": {
   "display_name": "Python 3 (ipykernel)",
   "language": "python",
   "name": "python3"
  },
  "language_info": {
   "codemirror_mode": {
    "name": "ipython",
    "version": 3
   },
   "file_extension": ".py",
   "mimetype": "text/x-python",
   "name": "python",
   "nbconvert_exporter": "python",
   "pygments_lexer": "ipython3",
   "version": "3.7.12"
  }
 },
 "nbformat": 4,
 "nbformat_minor": 5
}
