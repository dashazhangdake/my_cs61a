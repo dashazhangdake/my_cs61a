{
 "cells": [
  {
   "cell_type": "code",
   "execution_count": 59,
   "id": "e48e25a8",
   "metadata": {},
   "outputs": [],
   "source": [
    "from typing import *"
   ]
  },
  {
   "cell_type": "markdown",
   "id": "85fbca31",
   "metadata": {},
   "source": [
    "# 189. Rotate Array\n",
    "Given an array, rotate the array to the right by k steps, where k is non-negative.\n",
    "\n",
    "Example 1:\n",
    "```\n",
    "Input: nums = [1,2,3,4,5,6,7], k = 3\n",
    "Output: [5,6,7,1,2,3,4]\n",
    "Explanation:\n",
    "rotate 1 steps to the right: [7,1,2,3,4,5,6]\n",
    "rotate 2 steps to the right: [6,7,1,2,3,4,5]\n",
    "rotate 3 steps to the right: [5,6,7,1,2,3,4]\n",
    "```\n",
    "Example 2:\n",
    "```\n",
    "Input: nums = [-1,-100,3,99], k = 2\n",
    "Output: [3,99,-1,-100]\n",
    "Explanation: \n",
    "rotate 1 steps to the right: [99,-1,-100,3]\n",
    "rotate 2 steps to the right: [3,99,-1,-100]\n",
    "```"
   ]
  },
  {
   "cell_type": "markdown",
   "id": "9a12e0ae",
   "metadata": {},
   "source": [
    "## 189.1. Rotate by Array manipulation\n",
    "Note that: to update an array ```arr``` in-place, use ```arr[:] = another_arr``` \n",
    "\n",
    "And treat this problem as a ```\"RAM based shift register\"```"
   ]
  },
  {
   "cell_type": "code",
   "execution_count": 60,
   "id": "c0b04c7f",
   "metadata": {},
   "outputs": [],
   "source": [
    "class Solution:\n",
    "    def rotate(self, nums: List[int], k: int) -> None:\n",
    "        \"\"\"\n",
    "        Do not return anything, modify nums in-place instead.\n",
    "        \"\"\"\n",
    "        n = len(nums)\n",
    "        k = k%n\n",
    "        nums[:] = nums[n-k:] + nums[:n-k]"
   ]
  },
  {
   "cell_type": "code",
   "execution_count": 61,
   "id": "5e584357",
   "metadata": {},
   "outputs": [
    {
     "name": "stdout",
     "output_type": "stream",
     "text": [
      "[4, 5, 6, 7, 1, 2, 3]\n"
     ]
    }
   ],
   "source": [
    "s = Solution()\n",
    "lst = [1,2,3,4,5,6,7]\n",
    "s.rotate(lst, 11)\n",
    "print(lst)"
   ]
  },
  {
   "cell_type": "markdown",
   "id": "e735e0c3",
   "metadata": {},
   "source": [
    "## 189.2. Rotate Using Reverse\n",
    "This algorithm is similiar to array manipulation I guess\n",
    "```\n",
    "Original List                   : 1 2 3 4 5 6 7\n",
    "After reversing all numbers     : 7 6 5 4 3 2 1\n",
    "After reversing first k numbers : 5 6 7 4 3 2 1\n",
    "After revering last n-k numbers : 5 6 7 1 2 3 4 --> Result\n",
    "```\n",
    "\n",
    "But it may save space for temporal arrays which were invocated during the manipulation"
   ]
  },
  {
   "cell_type": "code",
   "execution_count": 62,
   "id": "1673b483",
   "metadata": {},
   "outputs": [],
   "source": [
    "class Solution:\n",
    "    def reverse(self, nums:List[int], start:int, end:int) -> None:\n",
    "        while start < end:\n",
    "            temp = nums[start]\n",
    "            nums[start] = nums[end]\n",
    "            nums[end] = temp\n",
    "            start = start + 1\n",
    "            end = end - 1\n",
    "    \n",
    "    def rotate(self, nums: List[int], k: int) -> None:\n",
    "        \"\"\"\n",
    "        Do not return anything, modify nums in-place instead.\n",
    "        \"\"\"\n",
    "        n = len(nums)\n",
    "        k = k%n\n",
    "        \n",
    "        self.reverse(nums, 0, n - 1)\n",
    "        self.reverse(nums, 0, k - 1)\n",
    "        self.reverse(nums, k, n - 1)"
   ]
  },
  {
   "cell_type": "code",
   "execution_count": 63,
   "id": "5c808017",
   "metadata": {},
   "outputs": [
    {
     "name": "stdout",
     "output_type": "stream",
     "text": [
      "[4, 5, 6, 7, 1, 2, 3]\n"
     ]
    }
   ],
   "source": [
    "s = Solution()\n",
    "lst = [1,2,3,4,5,6,7]\n",
    "s.rotate(lst, 11)\n",
    "print(lst)"
   ]
  }
 ],
 "metadata": {
  "kernelspec": {
   "display_name": "Python 3 (ipykernel)",
   "language": "python",
   "name": "python3"
  },
  "language_info": {
   "codemirror_mode": {
    "name": "ipython",
    "version": 3
   },
   "file_extension": ".py",
   "mimetype": "text/x-python",
   "name": "python",
   "nbconvert_exporter": "python",
   "pygments_lexer": "ipython3",
   "version": "3.7.12"
  }
 },
 "nbformat": 4,
 "nbformat_minor": 5
}
