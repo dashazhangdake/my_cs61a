{
 "cells": [
  {
   "cell_type": "markdown",
   "id": "9819fb28",
   "metadata": {},
   "source": [
    "# Using lambda"
   ]
  },
  {
   "cell_type": "code",
   "execution_count": 4,
   "id": "6e0b2cee",
   "metadata": {},
   "outputs": [],
   "source": [
    "x = 100\n",
    "sign = (lambda x: x > 0)(x)"
   ]
  },
  {
   "cell_type": "code",
   "execution_count": 6,
   "id": "514fd357",
   "metadata": {},
   "outputs": [
    {
     "data": {
      "text/plain": [
       "True"
      ]
     },
     "execution_count": 6,
     "metadata": {},
     "output_type": "execute_result"
    }
   ],
   "source": [
    "sign"
   ]
  }
 ],
 "metadata": {
  "kernelspec": {
   "display_name": "Python 3 (ipykernel)",
   "language": "python",
   "name": "python3"
  },
  "language_info": {
   "codemirror_mode": {
    "name": "ipython",
    "version": 3
   },
   "file_extension": ".py",
   "mimetype": "text/x-python",
   "name": "python",
   "nbconvert_exporter": "python",
   "pygments_lexer": "ipython3",
   "version": "3.7.12"
  }
 },
 "nbformat": 4,
 "nbformat_minor": 5
}
