{
 "cells": [
  {
   "cell_type": "code",
   "execution_count": 7,
   "id": "95f0951f",
   "metadata": {},
   "outputs": [],
   "source": [
    "from typing import *\n",
    "import math"
   ]
  },
  {
   "cell_type": "code",
   "execution_count": null,
   "id": "4bfbb041",
   "metadata": {},
   "outputs": [],
   "source": [
    "stack = []\n",
    "stack"
   ]
  },
  {
   "cell_type": "markdown",
   "id": "c0d36f83",
   "metadata": {},
   "source": [
    "# 496. Next Greater Element I\n",
    "The **next greater element** of some element x in an array is the **first greater element** that is to the **right of x (by index)** in that array."
   ]
  },
  {
   "cell_type": "markdown",
   "id": "acab6820",
   "metadata": {},
   "source": [
    "## 496.a. BruteForce completed by myself"
   ]
  },
  {
   "cell_type": "code",
   "execution_count": 12,
   "id": "1e99adcf",
   "metadata": {},
   "outputs": [],
   "source": [
    "class Solution:\n",
    "    def nextGreaterElement(self, nums1: List[int], nums2: List[int]) -> List[int]:\n",
    "        res = []\n",
    "        def findnextGreater(n, nums):\n",
    "            idx_n = math.inf\n",
    "            for i, m in enumerate(nums):\n",
    "                if m == n:\n",
    "                    idx_n = i\n",
    "                if i > idx_n and m > n:\n",
    "                    return m\n",
    "            return -1\n",
    "        \n",
    "        for n in nums1:\n",
    "            res.append(findnextGreater(n, nums2))\n",
    "        return res"
   ]
  },
  {
   "cell_type": "code",
   "execution_count": 13,
   "id": "2ff2e3fd",
   "metadata": {},
   "outputs": [
    {
     "data": {
      "text/plain": [
       "[-1, 3, -1]"
      ]
     },
     "execution_count": 13,
     "metadata": {},
     "output_type": "execute_result"
    }
   ],
   "source": [
    "Solution().nextGreaterElement([4,1,2], [1,3,4,2])"
   ]
  },
  {
   "cell_type": "markdown",
   "id": "3b87de1d",
   "metadata": {},
   "source": [
    "## 496.b. Hash map and Stack\n",
    "* Dictionary for every possible number in nums2 in the form of ```{element: next_greater_element}```\n"
   ]
  },
  {
   "cell_type": "code",
   "execution_count": 20,
   "id": "aa7e9a0d",
   "metadata": {},
   "outputs": [],
   "source": [
    "class Solution:\n",
    "    def nextGreaterElement(self, nums1: List[int], nums2: List[int]) -> List[int]:\n",
    "        res = []\n",
    "        mapping = {}\n",
    "        stack = []\n",
    "        \n",
    "        for n in nums2:\n",
    "            while stack and n > stack[-1]: # When stack is not empty AND current n is greater than the top of stack\n",
    "                mapping[stack.pop()] = n # POP and save {popped_value: current_n}, where current n is the next greater element\n",
    "            stack.append(n) # Otherwise, keep growing stack unitl n > top_of_stack\n",
    "        \n",
    "        for n in stack: # For the elements remaining in the stack, i.e. those don't have next_greater number\n",
    "            if n not in mapping: # Assign -1 to the corresponding entry\n",
    "                mapping[n] = -1\n",
    "        \n",
    "        for n in nums1:\n",
    "            res.append(mapping[n])\n",
    "        \n",
    "        return res"
   ]
  },
  {
   "cell_type": "code",
   "execution_count": 21,
   "id": "990ef667",
   "metadata": {},
   "outputs": [
    {
     "data": {
      "text/plain": [
       "[-1, 3, -1]"
      ]
     },
     "execution_count": 21,
     "metadata": {},
     "output_type": "execute_result"
    }
   ],
   "source": [
    "Solution().nextGreaterElement([4,1,2], [1,3,4,2])"
   ]
  }
 ],
 "metadata": {
  "kernelspec": {
   "display_name": "Python 3",
   "language": "python",
   "name": "python3"
  },
  "language_info": {
   "codemirror_mode": {
    "name": "ipython",
    "version": 3
   },
   "file_extension": ".py",
   "mimetype": "text/x-python",
   "name": "python",
   "nbconvert_exporter": "python",
   "pygments_lexer": "ipython3",
   "version": "3.7.11"
  }
 },
 "nbformat": 4,
 "nbformat_minor": 5
}
