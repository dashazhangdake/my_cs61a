{
 "cells": [
  {
   "cell_type": "code",
   "execution_count": 1,
   "id": "c86ffb71",
   "metadata": {},
   "outputs": [],
   "source": [
    "from typing import *"
   ]
  },
  {
   "cell_type": "markdown",
   "id": "a42213e4",
   "metadata": {},
   "source": [
    "# 1. Introduction\n",
    "The simplest binary search is used to find a specific value in an ordered collection\n",
    "## 1.0 Terminology\n",
    "* **Target**: The value that you are searching for\n",
    "* **Index**: The current location that you are searching\n",
    "* **Left, Right**: The indicies from which we use to maintain our search Space\n",
    "* **Mid**: The index that we use to apply a condition to determine if we should search left or right"
   ]
  },
  {
   "cell_type": "markdown",
   "id": "ab086272",
   "metadata": {},
   "source": [
    "## 1.1. The simplest form\n",
    "\n",
    "Binary Search operates on a **contiguous sequence** with a **specified left and right index**. This is called the Search Space. \n",
    "\n",
    "Binary Search maintains the **left, right, and middle** indicies of the search space and compares the search target or applies the search condition to the middle value of the collection:\n",
    "* if the condition is **unsatisfied** or **values unequal**: \n",
    "    * the **half** in which the **target cannot** lie is eliminated \n",
    "    * and the **search continues on the remaining half** until it is successful. \n",
    "* If the search ends with an empty half, the condition cannot be fulfilled and target is not found."
   ]
  },
  {
   "cell_type": "markdown",
   "id": "99a602a4",
   "metadata": {},
   "source": [
    "## 1.2. Three Part Of BinarySearch\n",
    "1. **Pre-processing**: Sort if collection is unsorted\n",
    "2. **Binary Search**: Use loop/recursion to divide search space in half after each comparison\n",
    "3. **Post-processing**: Determine viable candidates in the remaining space"
   ]
  },
  {
   "cell_type": "markdown",
   "id": "0051fa3f",
   "metadata": {},
   "source": [
    "# 2. [Generalized Template for Binary Search](https://leetcode.com/problems/first-bad-version/discuss/769685/Python-Clear-explanation-Powerful-Ultimate-Binary-Search-Template.-Solved-many-problems.)\n",
    "\n",
    "\n",
    "In this template, The **goal** is to **minimize** ```k```, such that the **condition(k) is True**\n",
    "```python\n",
    "def binary_search(array) -> int:\n",
    "    def condition(value) -> bool:\n",
    "        pass\n",
    "\n",
    "    left, right = 0, len(array)\n",
    "    while left < right:\n",
    "        mid = left + (right - left) // 2\n",
    "        if condition(mid):\n",
    "            right = mid\n",
    "        else:\n",
    "            left = mid + 1\n",
    "    return left\n",
    "```\n",
    "\n",
    "We need to modify three parts in real problems:\n",
    "1. Correctly inititalize the searching boundaries: ```left``` and ```right```. The **ONLY** rule is setting up the boundary to **include all possible elements**\n",
    "2. Design the ```condition``` function. The **most difficult** part of the problem\n",
    "3. Decide return value: ```return left``` or ```return left-1``` ? \n",
    "After exiting the while loop:\n",
    "    * ```left``` is the **minimal** ```k``` satisfying ```condition(k) = T```\n",
    "    * ```left - 1``` is then the **max** ```k``` satisfying ```condition(k) = F```\n"
   ]
  },
  {
   "cell_type": "markdown",
   "id": "cefc3391",
   "metadata": {},
   "source": [
    "## 2.0. Simpler Cases\n",
    "### 2.0.1.  [704.Binary Search](https://leetcode.com/problems/binary-search/)\n",
    "\n",
    "Given an array of integers ```nums``` which is sorted in **ascending order**, and an integer ```target```, write a function to search ```target``` in ```nums```. If ```target``` exists, then return its index. Otherwise, return ```-1```.\n",
    "\n",
    "Example 1:\n",
    "```python\n",
    "Input: nums = [-1,0,3,5,9,12], target = 9\n",
    "Output: 4\n",
    "Explanation: 9 exists in nums and its index is 4\n",
    "```\n",
    "Example 2:\n",
    "```python\n",
    "Input: nums = [-1,0,3,5,9,12], target = 2\n",
    "Output: -1\n",
    "Explanation: 2 does not exist in nums so return -1\n",
    "```"
   ]
  },
  {
   "cell_type": "code",
   "execution_count": 14,
   "id": "30e92ab5",
   "metadata": {},
   "outputs": [],
   "source": [
    "class Solution:\n",
    "    def search(self, nums: List[int], target: int) -> int:\n",
    "        l = 0\n",
    "        r = len(nums)\n",
    "        while l < r:\n",
    "            mid = (l + r) // 2\n",
    "            if (nums[mid] >= target) == True: # Condition(k) is larger or equal to target\n",
    "                r = mid\n",
    "            else:\n",
    "                l = mid + 1\n",
    "        if l == len(nums) or nums[l] != target:  # k is the minimal index that is larger or equal to target\n",
    "            return -1 # if it is greater than the max index, or the corresponding element is not target, return -1\n",
    "        else:\n",
    "            return l # Otherwise return l"
   ]
  },
  {
   "cell_type": "code",
   "execution_count": 15,
   "id": "cf7e0f0c",
   "metadata": {},
   "outputs": [
    {
     "data": {
      "text/plain": [
       "4"
      ]
     },
     "execution_count": 15,
     "metadata": {},
     "output_type": "execute_result"
    }
   ],
   "source": [
    "nums = [-1,0,3,5,9,12] \n",
    "target = 9\n",
    "Solution().search(nums, target)"
   ]
  },
  {
   "cell_type": "markdown",
   "id": "08419817",
   "metadata": {},
   "source": [
    "### 2.0.2. [278. FirstBadVersion](https://leetcode.com/problems/first-bad-version/submissions/)\n",
    "All the versions after a bad version are also bad. Suppose you have ```n``` versions ```[1, 2, ..., n]``` and you want to find out the **first bad one**, which causes all the following ones to be bad. \n",
    "\n",
    "You are given an API bool ```isBadVersion(version)``` which will return whether version is bad."
   ]
  },
  {
   "cell_type": "markdown",
   "id": "5881d994",
   "metadata": {},
   "source": [
    "**Helper:** ```isBad``` API"
   ]
  },
  {
   "cell_type": "code",
   "execution_count": 16,
   "id": "d2188ecb",
   "metadata": {},
   "outputs": [],
   "source": [
    "isBadVersion = lambda x: True if (x>=25) else False "
   ]
  },
  {
   "cell_type": "markdown",
   "id": "73e8d7c3",
   "metadata": {},
   "source": [
    "The ```condition(k)``` function is ```isBadVersion```, we will find the minimum ```k``` satisfying the condition that ```isBadVersion(k) == True```"
   ]
  },
  {
   "cell_type": "code",
   "execution_count": 17,
   "id": "7b8fb0be",
   "metadata": {},
   "outputs": [],
   "source": [
    "class Solution:\n",
    "    def firstBadVersion(self, n: int) -> int:\n",
    "        l = 1\n",
    "        r = n\n",
    "        while l < r:\n",
    "            mid = (l + r) // 2\n",
    "            if isBadVersion(mid) == True:\n",
    "                r = mid\n",
    "            else:\n",
    "                l = mid + 1\n",
    "        return l # l is the minimum x that isBadVersion==True"
   ]
  },
  {
   "cell_type": "code",
   "execution_count": 18,
   "id": "d77ec92d",
   "metadata": {},
   "outputs": [
    {
     "data": {
      "text/plain": [
       "10"
      ]
     },
     "execution_count": 18,
     "metadata": {},
     "output_type": "execute_result"
    }
   ],
   "source": [
    "Solution().firstBadVersion(10)"
   ]
  },
  {
   "cell_type": "code",
   "execution_count": 19,
   "id": "d8b08224",
   "metadata": {},
   "outputs": [
    {
     "data": {
      "text/plain": [
       "25"
      ]
     },
     "execution_count": 19,
     "metadata": {},
     "output_type": "execute_result"
    }
   ],
   "source": [
    "Solution().firstBadVersion(100)"
   ]
  },
  {
   "cell_type": "markdown",
   "id": "32ab7833",
   "metadata": {},
   "source": [
    "### 2.0.3. 69. [Sqrt(x)](https://leetcode.com/problems/sqrtx/)\n",
    "Given a **non-negative integer x**, compute and return the square root of ```x```.\n",
    "\n",
    "Since the return type is an integer, the decimal digits are **truncated, and only the integer part** of the result is returned."
   ]
  },
  {
   "cell_type": "code",
   "execution_count": 20,
   "id": "ac96d663",
   "metadata": {},
   "outputs": [],
   "source": [
    "class Solution:\n",
    "    def mySqrt(self, x: int) -> int:\n",
    "        l = 0\n",
    "        l_f = 0\n",
    "        r = x\n",
    "        while l < r:\n",
    "            mid = (l + r) // 2\n",
    "            if mid * mid > x:\n",
    "                r = mid\n",
    "            else:\n",
    "                l = mid + 1\n",
    "        return l - 1"
   ]
  },
  {
   "cell_type": "code",
   "execution_count": 21,
   "id": "f080d8ce",
   "metadata": {},
   "outputs": [
    {
     "data": {
      "text/plain": [
       "1"
      ]
     },
     "execution_count": 21,
     "metadata": {},
     "output_type": "execute_result"
    }
   ],
   "source": [
    "Solution().mySqrt(2)"
   ]
  },
  {
   "cell_type": "markdown",
   "id": "0effc571",
   "metadata": {},
   "source": [
    "What if we want a higher resolution ? I.e. we want a float solution to ```sqrt(x)```"
   ]
  },
  {
   "cell_type": "code",
   "execution_count": 22,
   "id": "dfe03bbd",
   "metadata": {},
   "outputs": [],
   "source": [
    "class Solution:\n",
    "    def mySqrt(self, x: int, resolution: float) -> float:\n",
    "        l = 0\n",
    "        l_old = 0\n",
    "        r = x\n",
    "        while l < r:\n",
    "            mid = (l + r) / 2\n",
    "            if mid * mid > x:\n",
    "                r = mid\n",
    "            else:\n",
    "                l_old = l\n",
    "                l = mid + resolution\n",
    "                if abs(l_old - l) <= resolution * 10e2:\n",
    "                    break\n",
    "        return l"
   ]
  },
  {
   "cell_type": "code",
   "execution_count": 23,
   "id": "c31863bb",
   "metadata": {},
   "outputs": [
    {
     "data": {
      "text/plain": [
       "31622.776585223157"
      ]
     },
     "execution_count": 23,
     "metadata": {},
     "output_type": "execute_result"
    }
   ],
   "source": [
    "Solution().mySqrt(999999999, 10e-10)"
   ]
  },
  {
   "cell_type": "markdown",
   "id": "0c1699f5",
   "metadata": {},
   "source": [
    "### 2.0.4. 35. [SearchInsertPosition](https://leetcode.com/problems/search-insert-position/)\n",
    "Given a sorted ```array``` of distinct integers and a ```target``` value, return the ```index``` if the ```target``` is found. If not, return the ```index``` where it would be if it were inserted in order."
   ]
  },
  {
   "cell_type": "code",
   "execution_count": 24,
   "id": "8ab15301",
   "metadata": {},
   "outputs": [],
   "source": [
    "class Solution:\n",
    "    def searchInsert(self, nums: List[int], target: int) -> int:\n",
    "        l = 0\n",
    "        r = len(nums)\n",
    "        \n",
    "        while l < r:\n",
    "            mid = (l + r) // 2\n",
    "            if nums[mid] >= target:\n",
    "                r = mid\n",
    "            else:\n",
    "                l = l + 1\n",
    "        return l"
   ]
  },
  {
   "cell_type": "code",
   "execution_count": 25,
   "id": "7cb81ae8",
   "metadata": {},
   "outputs": [
    {
     "data": {
      "text/plain": [
       "2"
      ]
     },
     "execution_count": 25,
     "metadata": {},
     "output_type": "execute_result"
    }
   ],
   "source": [
    "nums = [1,3,5,6]\n",
    "target = 4\n",
    "Solution().searchInsert(nums, target)"
   ]
  },
  {
   "cell_type": "markdown",
   "id": "20c56427",
   "metadata": {},
   "source": [
    "## 2.1. Advanced applications\n",
    "Some problems are not explicitly binary search problems, However:\n",
    "\n",
    "If we can discover some kind of **monotonicity**, for example, if **condition(k)** is True then **condition(k + 1)** is True, then we can consider binary search."
   ]
  },
  {
   "cell_type": "markdown",
   "id": "fb022deb",
   "metadata": {},
   "source": [
    "### 2.1.1. 1011. [Capacity To Ship Package within D days](https://leetcode.com/problems/capacity-to-ship-packages-within-d-days/)\n",
    "Packages must be shipped from one port to another within ```days``` days.\n",
    "The ```i<sup>th</sup>``` package has the ```weight[i]```. Each day, a number of packages will be shipped, but the ```total weight``` cannot exceeds the ```max capacity``` of the ship\n",
    "\n",
    "Return the least weight capacity of the ship that will result in all packages being shipped within ```days``` days\n",
    "```\n",
    "Input: weights = [3,2,2,4,1,4], days = 3\n",
    "Output: 6\n",
    "Explanation: A ship capacity of 6 is the minimum to ship all the packages in 3 days like this:\n",
    "1st day: 3, 2\n",
    "2nd day: 2, 4\n",
    "3rd day: 1, 4\n",
    "```"
   ]
  },
  {
   "cell_type": "markdown",
   "id": "ba17763e",
   "metadata": {},
   "source": [
    "#### Step.1.Helper\n",
    "First, we need a helper function ```feasible(weight, capacity, days)``` that returns:\n",
    "* **True**: If the cargos could be shipped within ```days``` with a certain ```capacity```\n",
    "* **False**: If the cargos could not be shipped within ```days``` with a certain ```capacity```\n",
    "\n",
    "#### Step.2. BinarySearch\n",
    "Then this problem is similiar to ```FirstBadVersion```, Given an array: ```weights```, any ```feasible(capacity)``` will be ```True```. if ```capacity``` is greater than first ```capacity``` value that makes ```feasible``` be ```True```\n",
    "\n",
    "Binary search to find min capacity: we will try from the heaviest item, upto the total weight.\n",
    " - If ```feasible(x)``` is F, we need more capacity\n",
    " - Otherwise, we hope to have as smaller capacity as possible. I.e., find the **smallest capacity**, such that\n",
    "   ```feaible(x)``` is ```T```\n",
    "\n",
    "In this case, using the generalized template will solve the problem"
   ]
  },
  {
   "cell_type": "code",
   "execution_count": 33,
   "id": "76ca052b",
   "metadata": {},
   "outputs": [],
   "source": [
    "class Solution:\n",
    "    def shipWithinDays(self, weights: List[int], days: int) -> int:\n",
    "        # Helper feasible(weight, capacity, days)\n",
    "        def feasible(capacity):\n",
    "            d = 1\n",
    "            shipped = 0\n",
    "            for w in weights:\n",
    "                shipped = shipped + w\n",
    "                if shipped > capacity:\n",
    "                    shipped = w\n",
    "                    d += 1\n",
    "                    if d > days:\n",
    "                        return False\n",
    "            return True\n",
    "        \n",
    "        \"\"\"\n",
    "\n",
    "        \"\"\" \n",
    "        l = max(weights) # The capacity cannot be smaller than any weight in the cargo array (will be illegal)\n",
    "        r = sum(weights) # The capacity is the total weight, then just 1 day is needed\n",
    "        while l < r:\n",
    "            mid = (l + r) // 2\n",
    "            if feasible(mid):\n",
    "                r = mid\n",
    "            else:\n",
    "                l = mid + 1\n",
    "        return l"
   ]
  },
  {
   "cell_type": "code",
   "execution_count": 36,
   "id": "272b6660",
   "metadata": {},
   "outputs": [
    {
     "data": {
      "text/plain": [
       "21"
      ]
     },
     "execution_count": 36,
     "metadata": {},
     "output_type": "execute_result"
    }
   ],
   "source": [
    "Solution().shipWithinDays([1,2,3,4,5,6,7,8,9,10], 3)"
   ]
  }
 ],
 "metadata": {
  "kernelspec": {
   "display_name": "Python 3 (ipykernel)",
   "language": "python",
   "name": "python3"
  },
  "language_info": {
   "codemirror_mode": {
    "name": "ipython",
    "version": 3
   },
   "file_extension": ".py",
   "mimetype": "text/x-python",
   "name": "python",
   "nbconvert_exporter": "python",
   "pygments_lexer": "ipython3",
   "version": "3.7.12"
  }
 },
 "nbformat": 4,
 "nbformat_minor": 5
}
