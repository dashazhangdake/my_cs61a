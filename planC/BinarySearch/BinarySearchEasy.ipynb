{
 "cells": [
  {
   "cell_type": "code",
   "execution_count": 20,
   "id": "6f31c5e6",
   "metadata": {},
   "outputs": [],
   "source": [
    "from typing import *"
   ]
  },
  {
   "cell_type": "markdown",
   "id": "7e6cef06",
   "metadata": {},
   "source": [
    "# 704. Binary Search\n",
    "Given an array of integers ```nums``` which is sorted in ascending order, and an integer ```target```, write a function to search ```target``` in ```nums```. If ```target``` exists, then return its index. Otherwise, return -1.\n",
    "\n",
    "You must write an algorithm with ```O(log n)``` runtime complexity.\n",
    "\n",
    "Example 1:\n",
    "```\n",
    "Input: nums = [-1,0,3,5,9,12], target = 9\n",
    "Output: 4\n",
    "Explanation: 9 exists in nums and its index is 4\n",
    "```\n",
    "\n",
    "Example 2:\n",
    "```\n",
    "Input: nums = [-1,0,3,5,9,12], target = 2\n",
    "Output: -1\n",
    "Explanation: 2 does not exist in nums so return -1\n",
    "```\n",
    "\n",
    "Constraints:\n",
    "* ```1 <= nums.length <= 10^4```\n",
    "* ```-10^4 < nums[i], target < 10^4```\n",
    "* All the integers in nums are unique.\n",
    "* nums is sorted in ascending order."
   ]
  },
  {
   "cell_type": "markdown",
   "id": "e0cbc468",
   "metadata": {},
   "source": [
    "## 704.a. Binary Search Intuitive"
   ]
  },
  {
   "cell_type": "code",
   "execution_count": 21,
   "id": "6967ddc5",
   "metadata": {},
   "outputs": [],
   "source": [
    "def search(self, nums, target: int) -> int:\n",
    "    lhs = 0\n",
    "    rhs = 1\n",
    "    while (lhs < rhs):\n",
    "        pivot = lhs + (rhs - lhs) // 2\n",
    "        if target > nums[pivot]:\n",
    "            lhs += 1\n",
    "        elif target < nums[pivot]:\n",
    "            rhs -= 1\n",
    "        else:\n",
    "            return pivot\n",
    "    return -1"
   ]
  },
  {
   "cell_type": "markdown",
   "id": "18f16ea9",
   "metadata": {},
   "source": [
    "# 278. First Bad Version\n",
    "Suppose you have n versions ```[1, 2, ..., n]``` and you want to find out the first bad one, which causes all the following ones to be bad.\n",
    "\n",
    "You are given an API bool ```isBadVersion(version)``` which returns whether version is bad. Implement a function to find the **first** bad version. You should minimize the number of calls to the API.\n",
    "\n",
    "Example 1:\n",
    "```\n",
    "Input: n = 5, bad = 4\n",
    "Output: 4\n",
    "Explanation:\n",
    "call isBadVersion(3) -> false\n",
    "call isBadVersion(5) -> true\n",
    "call isBadVersion(4) -> true\n",
    "Then 4 is the first bad version.\n",
    "```\n",
    "\n",
    "Example 2:\n",
    "```\n",
    "Input: n = 1, bad = 1\n",
    "Output: 1\n",
    "```"
   ]
  },
  {
   "cell_type": "markdown",
   "id": "90111787",
   "metadata": {},
   "source": [
    "Helper API for the solution"
   ]
  },
  {
   "cell_type": "code",
   "execution_count": 54,
   "id": "311e6ead",
   "metadata": {},
   "outputs": [],
   "source": [
    "def isBadVersion(version, k = 4):\n",
    "    if version%k == 0:\n",
    "        return True\n",
    "    else:\n",
    "        return False"
   ]
  },
  {
   "cell_type": "code",
   "execution_count": 56,
   "id": "d5a97a60",
   "metadata": {},
   "outputs": [
    {
     "data": {
      "text/plain": [
       "True"
      ]
     },
     "execution_count": 56,
     "metadata": {},
     "output_type": "execute_result"
    }
   ],
   "source": [
    "isBadVersion(4)"
   ]
  },
  {
   "cell_type": "markdown",
   "id": "e18e3381",
   "metadata": {},
   "source": [
    "## 278.b Safe Binary Search (what if we never failed?)"
   ]
  },
  {
   "cell_type": "code",
   "execution_count": 64,
   "id": "dbbad456",
   "metadata": {},
   "outputs": [],
   "source": [
    "class Solution:\n",
    "    def firstBadVersion(self, n: int) -> int:\n",
    "        lhs = 1\n",
    "        rhs = n\n",
    "        failed  = False\n",
    "        while rhs >= lhs:\n",
    "            pivot = lhs + (rhs - lhs) // 2\n",
    "            if isBadVersion(pivot):\n",
    "                rhs = pivot - 1\n",
    "                if not failed:\n",
    "                    failed = True\n",
    "            else:\n",
    "                lhs = pivot + 1\n",
    "        if failed:\n",
    "            return lhs\n",
    "        else:\n",
    "            return -1"
   ]
  },
  {
   "cell_type": "code",
   "execution_count": 65,
   "id": "a114d879",
   "metadata": {},
   "outputs": [
    {
     "data": {
      "text/plain": [
       "4"
      ]
     },
     "execution_count": 65,
     "metadata": {},
     "output_type": "execute_result"
    }
   ],
   "source": [
    "s = Solution()\n",
    "s.firstBadVersion(4)"
   ]
  },
  {
   "cell_type": "markdown",
   "id": "3669700f",
   "metadata": {},
   "source": [
    "# 35. Select Insert Position\n",
    "Given a sorted array of distinct integers and a target value, return the index if the target is found. If not, return the index where it would be if it were inserted in order.\n",
    "\n",
    "Example 1:\n",
    "```\n",
    "Input: nums = [1,3,5,6], target = 5\n",
    "Output: 2\n",
    "```\n",
    "\n",
    "Example 2:\n",
    "```\n",
    "Input: nums = [1,3,5,6], target = 2\n",
    "Output: 1\n",
    "```\n",
    "\n",
    "Example 3:\n",
    "```\n",
    "Input: nums = [1,3,5,6], target = 7\n",
    "Output: 4\n",
    "```"
   ]
  },
  {
   "cell_type": "markdown",
   "id": "a1b09262",
   "metadata": {},
   "source": [
    "## 35.a. Binary Search Intuitive"
   ]
  },
  {
   "cell_type": "code",
   "execution_count": 22,
   "id": "dab8b398",
   "metadata": {},
   "outputs": [],
   "source": [
    "class Solution:\n",
    "    def searchInsert(self,  nums: List[int], target: int) -> int:\n",
    "        lhs = 0\n",
    "        rhs = len(nums) - 1\n",
    "        while lhs <= rhs:\n",
    "            pivot = lhs + (rhs - lhs) // 2\n",
    "            if nums[pivot] == target:\n",
    "                return pivot\n",
    "            elif nums[pivot] > target:\n",
    "                rhs = pivot - 1\n",
    "            else:\n",
    "                lhs = pivot + 1\n",
    "        return lhs"
   ]
  },
  {
   "cell_type": "code",
   "execution_count": 23,
   "id": "8d99251f",
   "metadata": {},
   "outputs": [],
   "source": [
    "s = Solution()"
   ]
  },
  {
   "cell_type": "code",
   "execution_count": 24,
   "id": "2f6fdf90",
   "metadata": {},
   "outputs": [
    {
     "data": {
      "text/plain": [
       "2"
      ]
     },
     "execution_count": 24,
     "metadata": {},
     "output_type": "execute_result"
    }
   ],
   "source": [
    "s.searchInsert([1,3,5,6], 5)"
   ]
  }
 ],
 "metadata": {
  "kernelspec": {
   "display_name": "Python 3 (ipykernel)",
   "language": "python",
   "name": "python3"
  },
  "language_info": {
   "codemirror_mode": {
    "name": "ipython",
    "version": 3
   },
   "file_extension": ".py",
   "mimetype": "text/x-python",
   "name": "python",
   "nbconvert_exporter": "python",
   "pygments_lexer": "ipython3",
   "version": "3.7.12"
  }
 },
 "nbformat": 4,
 "nbformat_minor": 5
}
