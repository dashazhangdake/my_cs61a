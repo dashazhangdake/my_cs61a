{
 "cells": [
  {
   "cell_type": "code",
   "execution_count": 1,
   "id": "a5e40c4b",
   "metadata": {},
   "outputs": [],
   "source": [
    "from typing import *"
   ]
  },
  {
   "cell_type": "markdown",
   "id": "f3329503",
   "metadata": {},
   "source": [
    "## 153.[Find Minimum in Rotated Sorted Array](https://leetcode.com/problems/find-minimum-in-rotated-sorted-array/)\n",
    "Suppose an array of length n sorted in ascending order is rotated between 1 and n times. For example, the array \n",
    "\n",
    "```nums = [0,1,2,4,5,6,7]``` might become:\n",
    "\n",
    "* ```[4,5,6,7,0,1,2]``` if it was rotated 4 times.\n",
    "* ```[0,1,2,4,5,6,7]``` if it was rotated 7 times.\n",
    "\n",
    "Given the sorted rotated array nums of unique elements, return the **minimum element** of this array."
   ]
  },
  {
   "cell_type": "markdown",
   "id": "e79b4d40",
   "metadata": {},
   "source": [
    "### Approach 2\n",
    "* If rotated by n step, the goal is to find the **\"transition point\"**, i.e. the largest value in the first \"half\"\n",
    "    * ```arr[i - 1] > arr[i]```\n",
    "    * ```arr[0, i - 1]``` and ```arr[i, n]```  are always increasing\n",
    "    * The goal is to look for the smallest value in RHS sub array\n",
    "* If bin search, start from l, r = 0, len - 1\n",
    "    * If mid satisfies the condition, good to go\n",
    "    * If mid falls on the RHS, ```arr[mid] < arr[r]```, we are good, update r to find the smallest value\n",
    "    * If mid falls on the RHS, ```arr[mid] > arr[r]```, we are on the wrong side, update l to get to the correct side\n",
    "* Therefore, the goal is to find the min value, that satisfies ```nums[mid] < nums[r]```"
   ]
  },
  {
   "cell_type": "code",
   "execution_count": 2,
   "id": "8764877f",
   "metadata": {},
   "outputs": [],
   "source": [
    "class Solution:\n",
    "    def findMin(self, nums: List[int]) -> int:\n",
    "        l = 0\n",
    "        r = len(nums) - 1\n",
    "        while l < r:\n",
    "            mid = (l + r) // 2\n",
    "            print(f\"l:{l}, r:{r}; mid: arr[{mid}]={nums[mid]}\")\n",
    "            if nums[mid] < nums[r]:\n",
    "                r = mid\n",
    "            else:\n",
    "                l = mid + 1 \n",
    "        return nums[l] # Corner case for only one element in RHS subarray"
   ]
  },
  {
   "cell_type": "code",
   "execution_count": 3,
   "id": "72438d9b",
   "metadata": {},
   "outputs": [
    {
     "name": "stdout",
     "output_type": "stream",
     "text": [
      "l:0, r:1; mid: arr[0]=6\n"
     ]
    },
    {
     "data": {
      "text/plain": [
       "1"
      ]
     },
     "execution_count": 3,
     "metadata": {},
     "output_type": "execute_result"
    }
   ],
   "source": [
    "nums = [6, 1]\n",
    "Solution().findMin(nums)"
   ]
  },
  {
   "cell_type": "code",
   "execution_count": 4,
   "id": "1e67df2e",
   "metadata": {},
   "outputs": [
    {
     "name": "stdout",
     "output_type": "stream",
     "text": [
      "l:0, r:5; mid: arr[2]=2\n",
      "l:0, r:2; mid: arr[1]=1\n",
      "l:0, r:1; mid: arr[0]=6\n"
     ]
    },
    {
     "data": {
      "text/plain": [
       "1"
      ]
     },
     "execution_count": 4,
     "metadata": {},
     "output_type": "execute_result"
    }
   ],
   "source": [
    "nums = [6,1,2,3,4,5]\n",
    "Solution().findMin(nums)"
   ]
  },
  {
   "attachments": {},
   "cell_type": "markdown",
   "id": "a1c2050b",
   "metadata": {},
   "source": [
    "## 154. [Find Minimum in Rotated Sorted Array II](https://leetcode.com/problems/find-minimum-in-rotated-sorted-array-ii/)\n",
    "Suppose an array of length n sorted in ascending order is rotated between 1 and n times. For example, the array nums = ```[0,1,4,4,5,6,7]``` might become:\n",
    "\n",
    "* ```[4,5,6,7,0,1,4]``` if it was rotated 4 times.\n",
    "* ```[0,1,4,4,5,6,7]``` if it was rotated 7 times.\n",
    "\n",
    "Notice that rotating an array ```[a[0], a[1], a[2], ..., a[n-1]]``` 1 time results in the array ```[a[n-1], a[0], a[1], a[2], ..., a[n-2]].```\n",
    "\n",
    "Given the sorted rotated array nums that may contain duplicates, return the minimum element of this array.\n",
    "\n",
    "<img src=\"resource/rotated_array.png\" alt=\"Drawing\" style=\"width: 640px;\"/>"
   ]
  },
  {
   "attachments": {},
   "cell_type": "markdown",
   "id": "a17acdde",
   "metadata": {},
   "source": [
    "In this case, the binary serach will compare the ```arr[mid]``` with ```arr[r]``` until ```r``` and ```l``` converge (l == r)\n",
    "\n",
    "```max(RHS) <= min(LHS)```\n",
    "\n",
    "There are three cases:\n",
    "\n",
    "**Case 1**: ```arr[mid] < arr[r]```\n",
    "<img src=\"resource/rotated_array1.png\" alt=\"Drawing\" style=\"width: 640px;\"/>\n",
    "Mid falls in the RHS subarray, the desired element is on LHS of the mid\n",
    "* Update r, i.e. ```r = mid```\n",
    "\n",
    "**Case 2**: ```arr[mid] > arr[r]```\n",
    "<img src=\"resource/rotated_array2.png\" alt=\"Drawing\" style=\"width: 640px;\"/>\n",
    "Mid falls in the LHS subarray, the desired element is on the RHS of the mid\n",
    "* Update l, i.e. ```l = mid + 1```\n",
    "\n",
    "**Case 3**: ```arr[mid] == arr[r]```\n",
    "<img src=\"resource/rotated_array3.png\" alt=\"Drawing\" style=\"width: 640px;\"/>\n",
    "Mid can be at either the LHS or RHS, update RHS with caution"
   ]
  },
  {
   "cell_type": "code",
   "execution_count": 5,
   "id": "c3d7e3fb",
   "metadata": {},
   "outputs": [],
   "source": [
    "class Solution:\n",
    "    def findMin(self, nums: List[int]) -> int:\n",
    "        l = 0\n",
    "        r = len(nums) - 1\n",
    "        while l < r:\n",
    "            mid = (l + r) // 2\n",
    "            print(f\"l:{l}, r:{r}; mid: arr[{mid}]={nums[mid]}\")\n",
    "            if nums[mid] < nums[r]:\n",
    "                r = mid\n",
    "            elif nums[mid] > nums[r]:\n",
    "                l = mid + 1 \n",
    "            else:\n",
    "                r = r - 1\n",
    "        return nums[l]"
   ]
  },
  {
   "cell_type": "code",
   "execution_count": 6,
   "id": "30cf31e5",
   "metadata": {},
   "outputs": [
    {
     "name": "stdout",
     "output_type": "stream",
     "text": [
      "l:0, r:4; mid: arr[2]=2\n",
      "l:3, r:4; mid: arr[3]=0\n"
     ]
    },
    {
     "data": {
      "text/plain": [
       "0"
      ]
     },
     "execution_count": 6,
     "metadata": {},
     "output_type": "execute_result"
    }
   ],
   "source": [
    "nums = [2,2,2,0,1]\n",
    "Solution().findMin(nums)"
   ]
  },
  {
   "cell_type": "markdown",
   "id": "e9cadd7c",
   "metadata": {},
   "source": [
    "## 349. [Intersection of Two Arrays](https://leetcode.com/problems/intersection-of-two-arrays/)\n",
    "Given two integer arrays nums1 and nums2, return an array of their intersection. Each element in the result must be unique and you may return the result in any order.\n",
    "\n",
    "Algorithm:\n",
    "* Sort the arrays, convert one of them to set\n",
    "* Traverse the set, and find the duplicate using binary search\n",
    "    * Condtion is ```arr[m] >= target```\n",
    "    * result will be ```l```, which is the **min** element that satisfiies the condition"
   ]
  },
  {
   "cell_type": "code",
   "execution_count": 31,
   "id": "890701e1",
   "metadata": {},
   "outputs": [],
   "source": [
    "class Solution:\n",
    "    def intersection(self, nums1: List[int], nums2: List[int]) -> List[int]:\n",
    "        res = []\n",
    "        nums2 = sorted(nums2) # Sort num1. get it ready for binary search        \n",
    "        for n in sorted(set(nums1)): # \n",
    "            print(n)\n",
    "            l,r = 0, len(nums2)-1\n",
    "            while l < r:\n",
    "                m = (l+r)>>1\n",
    "                if nums2[m] >= n:\n",
    "                    r = m\n",
    "                else:\n",
    "                    l = m + 1\n",
    "            if nums2[l] == n:\n",
    "                res.append(n)\n",
    "        return res"
   ]
  },
  {
   "cell_type": "code",
   "execution_count": 32,
   "id": "51a416c5",
   "metadata": {},
   "outputs": [
    {
     "name": "stdout",
     "output_type": "stream",
     "text": [
      "4\n",
      "5\n",
      "9\n"
     ]
    },
    {
     "data": {
      "text/plain": [
       "[4, 9]"
      ]
     },
     "execution_count": 32,
     "metadata": {},
     "output_type": "execute_result"
    }
   ],
   "source": [
    "a = [4,9,5]\n",
    "b = [9,4,9,8,4]\n",
    "Solution().intersection(a, b)"
   ]
  }
 ],
 "metadata": {
  "kernelspec": {
   "display_name": "Python 3",
   "language": "python",
   "name": "python3"
  },
  "language_info": {
   "codemirror_mode": {
    "name": "ipython",
    "version": 3
   },
   "file_extension": ".py",
   "mimetype": "text/x-python",
   "name": "python",
   "nbconvert_exporter": "python",
   "pygments_lexer": "ipython3",
   "version": "3.7.11"
  }
 },
 "nbformat": 4,
 "nbformat_minor": 5
}
