{
 "cells": [
  {
   "cell_type": "code",
   "execution_count": 113,
   "id": "8270c838",
   "metadata": {},
   "outputs": [],
   "source": [
    "from typing import *"
   ]
  },
  {
   "cell_type": "markdown",
   "id": "918eee67",
   "metadata": {},
   "source": [
    "# Practice Problems\n",
    "## 658. [Search K closest elements](https://leetcode.com/problems/find-k-closest-elements/)\n",
    "Given a sorted integer array arr, two integers ```k``` and ```x```, return the ```kth``` closest integers to ```x``` in the array. The result should also be sorted in ascending order.\n",
    "\n",
    "An integer a is closer to x than an integer b if:\n",
    "\n",
    "```|a - x| < |b - x|, or ```\n",
    "\n",
    "```|a - x| == |b - x| and a < b```\n",
    "\n",
    "Actually, in this case, ```a <= b```. All possible cases are:\n",
    "* Case 1: x > b > a \n",
    "    * Then a is NOT closer than b, as ```(x - b) < (x - a)```\n",
    "* Case 2: b > x > a\n",
    "    * ```(x - a) <= (b - x)```, a is closer than b\n",
    "* Case 3: b > a > x\n",
    "    * a must be closer than b to x\n",
    "* Case 4: a = b, x > a\n",
    "\n",
    "\n",
    "Algorithm: BinarySearch + Two ptr\n",
    "1. Initialize ptrs for bin-search boundaries\n",
    "2. Each search, compute mid, compare ```arr[mid]``` and ```arr[mid+k]```\n",
    "    * if ```arr[mid]``` is closer, then move the upper bound\n",
    "    * if ```arr[mid + k]``` is closer, then move the lower bound\n",
    "3. We want the small "
   ]
  },
  {
   "cell_type": "code",
   "execution_count": 133,
   "id": "4523a2b2",
   "metadata": {},
   "outputs": [],
   "source": [
    "class Solution:\n",
    "    def closer(self, a, b, x):\n",
    "        return (x - a) <= (b - x)\n",
    "    \n",
    "    def findClosestElements(self, arr: List[int], k: int, x: int) -> List[int]:\n",
    "        l = 0\n",
    "        r = len(arr) - k\n",
    "        while (l < r):\n",
    "            mid = (l + r) // 2\n",
    "            print(mid)\n",
    "            if self.closer(arr[mid], arr[mid + k], x):\n",
    "                r = mid\n",
    "            else:\n",
    "                l = mid + 1\n",
    "        return arr[l: l + k]"
   ]
  },
  {
   "cell_type": "code",
   "execution_count": 134,
   "id": "e945d33f",
   "metadata": {},
   "outputs": [
    {
     "name": "stdout",
     "output_type": "stream",
     "text": [
      "3\n",
      "1\n",
      "0\n"
     ]
    },
    {
     "data": {
      "text/plain": [
       "[2, 3, 4]"
      ]
     },
     "execution_count": 134,
     "metadata": {},
     "output_type": "execute_result"
    }
   ],
   "source": [
    "arr = [1,2,3,4,4,4,4,5,5]\n",
    "k = 3\n",
    "x = 3\n",
    "Solution().findClosestElements(arr, k, x)"
   ]
  },
  {
   "cell_type": "markdown",
   "id": "73c431b1",
   "metadata": {},
   "source": [
    "## 702. [Search an element in a sorted array](https://leetcode.com/problems/search-in-a-sorted-array-of-unknown-size/)\n",
    "You have a sorted array of unique elements and an unknown size. You do not have an access to the array but you can use the ```ArrayReader``` interface to access it. You can call ```ArrayReader.get(i)``` that:\n",
    "\n",
    "returns the value at the ith index (0-indexed) of the secret array (i.e., ```secret[i]```), or\n",
    "returns ```2^31 - 1``` if the ```i``` is out of the boundary of the array.\n",
    "You are also given an integer target.\n",
    "\n",
    "Return the index k of the hidden array where secret[k] == target or return -1 otherwise."
   ]
  },
  {
   "cell_type": "code",
   "execution_count": 135,
   "id": "0c9f0c94",
   "metadata": {},
   "outputs": [],
   "source": [
    "class Solution:\n",
    "    def search(self, reader: 'ArrayReader', target: int) -> int:\n",
    "        if reader.get(0) == target:\n",
    "            return 0\n",
    "        \n",
    "        l, r = 0, 1\n",
    "        while reader.get(r) < target:\n",
    "            l = r\n",
    "            r = r << 1\n",
    "        \n",
    "        while l < r:\n",
    "            mid = (l + r) // 2\n",
    "            num = reader.get(mid)\n",
    "            if num >= target:\n",
    "                r = mid\n",
    "            else:\n",
    "                l = mid + 1\n",
    "                \n",
    "        if reader.get(l) == target:\n",
    "            return l\n",
    "        else:\n",
    "            return -1"
   ]
  },
  {
   "cell_type": "code",
   "execution_count": 136,
   "id": "262bc220",
   "metadata": {},
   "outputs": [],
   "source": [
    "class ArrayReader:\n",
    "    def __init__(self, arr):\n",
    "        self.arr = arr\n",
    "        \n",
    "    def get(self, idx):\n",
    "        try:\n",
    "            return self.arr[idx]\n",
    "        except:\n",
    "            return 2**31 - 1"
   ]
  },
  {
   "cell_type": "code",
   "execution_count": 137,
   "id": "de9ec317",
   "metadata": {},
   "outputs": [
    {
     "data": {
      "text/plain": [
       "4"
      ]
     },
     "execution_count": 137,
     "metadata": {},
     "output_type": "execute_result"
    }
   ],
   "source": [
    "secret = [-1,0,3,5,9,12]\n",
    "reader = ArrayReader(secret)\n",
    "Solution().search(reader, 9)"
   ]
  },
  {
   "attachments": {},
   "cell_type": "markdown",
   "id": "167ca375",
   "metadata": {},
   "source": [
    "## 50. [Pow(x, n)](https://leetcode.com/problems/powx-n/)\n",
    "Algorithm, other than BruteForce\n",
    "<img src=\"resource/pow.png\" alt=\"Drawing\" style=\"width: 320px;\"/>"
   ]
  },
  {
   "cell_type": "code",
   "execution_count": 138,
   "id": "2441e737",
   "metadata": {},
   "outputs": [],
   "source": [
    "class Solution:\n",
    "    def myPow(self, x: float, n: int) -> float:\n",
    "        if n < 0:\n",
    "            x = 1 / x\n",
    "            n = -n\n",
    "            \n",
    "        def helper(base, exponent):\n",
    "            if exponent == 0:\n",
    "                return 1\n",
    "            if exponent % 2:\n",
    "                return base * helper(base * base, exponent // 2)\n",
    "            else:\n",
    "                return helper(base * base, exponent // 2)\n",
    "\n",
    "        res = helper(x, n)\n",
    "        return res"
   ]
  },
  {
   "cell_type": "code",
   "execution_count": 139,
   "id": "170b8071",
   "metadata": {},
   "outputs": [
    {
     "data": {
      "text/plain": [
       "1024.0"
      ]
     },
     "execution_count": 139,
     "metadata": {},
     "output_type": "execute_result"
    }
   ],
   "source": [
    "x = 2.00000\n",
    "n = 10\n",
    "Solution().myPow(x, n)"
   ]
  },
  {
   "cell_type": "code",
   "execution_count": 140,
   "id": "1e1d19a7",
   "metadata": {},
   "outputs": [],
   "source": [
    "class Solution1:\n",
    "    def myPow(self, x: float, n: int) -> float:\n",
    "        if n < 0:\n",
    "            x = 1 / x\n",
    "            n = -n\n",
    "        \n",
    "        res = 1\n",
    "        while (n > 0):\n",
    "            if n % 2:\n",
    "                res = res * x\n",
    "            x = x * x\n",
    "            n = n // 2\n",
    "        return res"
   ]
  },
  {
   "cell_type": "code",
   "execution_count": 132,
   "id": "9eac64be",
   "metadata": {},
   "outputs": [
    {
     "data": {
      "text/plain": [
       "0.25"
      ]
     },
     "execution_count": 132,
     "metadata": {},
     "output_type": "execute_result"
    }
   ],
   "source": [
    "x = 2.00000\n",
    "n = -2\n",
    "Solution1().myPow(x, n)"
   ]
  }
 ],
 "metadata": {
  "kernelspec": {
   "display_name": "Python 3 (ipykernel)",
   "language": "python",
   "name": "python3"
  },
  "language_info": {
   "codemirror_mode": {
    "name": "ipython",
    "version": 3
   },
   "file_extension": ".py",
   "mimetype": "text/x-python",
   "name": "python",
   "nbconvert_exporter": "python",
   "pygments_lexer": "ipython3",
   "version": "3.7.12"
  }
 },
 "nbformat": 4,
 "nbformat_minor": 5
}
