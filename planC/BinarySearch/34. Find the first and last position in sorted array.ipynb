{
 "cells": [
  {
   "cell_type": "code",
   "execution_count": 2,
   "id": "7afc39a7",
   "metadata": {},
   "outputs": [],
   "source": [
    "from typing import *"
   ]
  },
  {
   "cell_type": "markdown",
   "id": "61f0101a",
   "metadata": {},
   "source": [
    "# 34. Find First and Last Position of Element in Sorted Array"
   ]
  },
  {
   "cell_type": "code",
   "execution_count": 6,
   "id": "29931c45",
   "metadata": {},
   "outputs": [],
   "source": [
    "class Solution:\n",
    "    def searchRange(self, nums: List[int], target: int) -> List[int]:\n",
    "        n = len(nums)\n",
    "        def searchLeft(nums, target):\n",
    "            l = 0\n",
    "            r = n - 1\n",
    "            while (l <= r):\n",
    "                mid = l + (r - l) // 2\n",
    "                if nums[mid] >= target:\n",
    "                    r = mid - 1\n",
    "                else:\n",
    "                    l = mid + 1\n",
    "            return l\n",
    "        \n",
    "        def searchRight(nums, target):\n",
    "            l = 0\n",
    "            r = n - 1\n",
    "            while (l <= r):\n",
    "                mid = l + (r - l) // 2\n",
    "                if nums[mid] <= target:\n",
    "                    l = mid + 1\n",
    "                else:\n",
    "                    r = mid - 1\n",
    "            return r\n",
    "        \n",
    "        first = searchLeft(nums, target)\n",
    "        last = searchRight(nums, target)\n",
    "        if first <= last:\n",
    "            return [first, last]\n",
    "        else:\n",
    "            return [-1, -1]            "
   ]
  },
  {
   "cell_type": "code",
   "execution_count": 8,
   "id": "ea4df167",
   "metadata": {},
   "outputs": [
    {
     "data": {
      "text/plain": [
       "[3, 4]"
      ]
     },
     "execution_count": 8,
     "metadata": {},
     "output_type": "execute_result"
    }
   ],
   "source": [
    "nums = [5,7,7,8,8,10]\n",
    "target = 8\n",
    "\n",
    "Solution().searchRange(nums, target)"
   ]
  },
  {
   "cell_type": "markdown",
   "id": "57e368c2",
   "metadata": {},
   "source": [
    "## How to search the largest number that is smaller than target?\n",
    "**Q1**. Numbers could be repeted in array, find the **largest** index of that number"
   ]
  },
  {
   "cell_type": "markdown",
   "id": "bebec308",
   "metadata": {},
   "source": [
    "```\n",
    "nums = [1, 2, 3, 3, 3, 3, 10, 10, 10, 11]\n",
    "target = 10\n",
    "```\n",
    "\n",
    "* ```3``` is smaller than ```target=10```, but is larger/equal than any other elements (in ```nums```) that are smaller than ```10```\n",
    "* The largest index of ```nums[i] == 3``` is ```5```, then return value should be ```5``` \n",
    "* If we cannot find such a number, return -1"
   ]
  },
  {
   "cell_type": "code",
   "execution_count": 111,
   "id": "82619e5b",
   "metadata": {},
   "outputs": [],
   "source": [
    "def searchLargestSmaller(nums, target):\n",
    "    n = len(nums)\n",
    "    l = 0\n",
    "    r = n - 1 \n",
    "    while l <= r:\n",
    "        p = (l + r) // 2\n",
    "        if nums[p] > target:\n",
    "            r = p - 1 # Regular upper bound updating\n",
    "        elif nums[p] < target:\n",
    "            l = p + 1 # Regualr lower bound updating\n",
    "        else: # When equal\n",
    "            r = p - 1 # Update the upper bound to find the smallest index s.t. nums[p] == target\n",
    "    return r"
   ]
  },
  {
   "cell_type": "code",
   "execution_count": 112,
   "id": "b02a4c8e",
   "metadata": {},
   "outputs": [
    {
     "data": {
      "text/plain": [
       "-1"
      ]
     },
     "execution_count": 112,
     "metadata": {},
     "output_type": "execute_result"
    }
   ],
   "source": [
    "# nums = [1, 2, 2, 2, 3, 3, 10, 10, 10, 11]\n",
    "nums = [10, 11, 12]\n",
    "target = 3\n",
    "searchLargestSmaller(nums, target)"
   ]
  },
  {
   "cell_type": "markdown",
   "id": "dbb5b1a7",
   "metadata": {},
   "source": [
    "**Q2**. Now, the problem becomes: find the **smallest** index of that number\n",
    "\n",
    "**Is it possible to get that value using one binary search loop?**\n",
    "\n",
    "```\n",
    "nums = [1, 2, 3, 3, 3, 3, 10, 10, 10, 11]\n",
    "target = 10\n",
    "```\n",
    "\n",
    "* ```3``` is smaller than ```target=10```, but is larger/equal than any other elements (in ```nums```) that are smaller than ```10```\n",
    "* The smallest index of ```nums[i] == 3``` is ```2```, then return value should be ```2```"
   ]
  },
  {
   "cell_type": "markdown",
   "id": "07ec08a4",
   "metadata": {},
   "source": [
    "with binary search => weird but possible????"
   ]
  },
  {
   "cell_type": "code",
   "execution_count": 129,
   "id": "4e226e0b",
   "metadata": {},
   "outputs": [],
   "source": [
    "# def searchLargestSmaller(nums, target):\n",
    "#     n = len(nums)\n",
    "#     l = 0\n",
    "#     r = n - 1 \n",
    "#     while l + 1< r:\n",
    "#         p = (l + r) // 2\n",
    "#         if nums[p] == target:\n",
    "#             r = p - 1\n",
    "#             continue\n",
    "#         if nums[p] < target:\n",
    "#             l = p # \n",
    "#         else:\n",
    "#             r = p # \n",
    "#     return l"
   ]
  },
  {
   "cell_type": "code",
   "execution_count": 130,
   "id": "88c9c89c",
   "metadata": {},
   "outputs": [
    {
     "data": {
      "text/plain": [
       "4"
      ]
     },
     "execution_count": 130,
     "metadata": {},
     "output_type": "execute_result"
    }
   ],
   "source": [
    "nums = [1, 2, 2, 2, 3, 3, 10, 10, 10, 11]\n",
    "# nums = [10, 11, 12]\n",
    "target = 10\n",
    "searchLargestSmaller(nums, target)"
   ]
  },
  {
   "cell_type": "markdown",
   "id": "a15816df",
   "metadata": {},
   "source": [
    "with double ptr, easy to understand"
   ]
  },
  {
   "cell_type": "code",
   "execution_count": 126,
   "id": "f15fc939",
   "metadata": {},
   "outputs": [],
   "source": [
    "def searchLargestSmaller(nums, target):\n",
    "    p = -1\n",
    "    n = len(nums)\n",
    "    for i in range(n):\n",
    "        if nums[i] >= target:\n",
    "            break\n",
    "        else:\n",
    "            if nums[i] != nums[p]:\n",
    "                p = i\n",
    "    return p"
   ]
  },
  {
   "cell_type": "code",
   "execution_count": 128,
   "id": "fbc2baba",
   "metadata": {},
   "outputs": [
    {
     "data": {
      "text/plain": [
       "4"
      ]
     },
     "execution_count": 128,
     "metadata": {},
     "output_type": "execute_result"
    }
   ],
   "source": [
    "nums = [1, 2, 2, 2, 3, 3, 10, 10, 10, 11]\n",
    "# nums = [10, 11, 12]\n",
    "target = 10\n",
    "searchLargestSmaller(nums, target)"
   ]
  },
  {
   "cell_type": "code",
   "execution_count": null,
   "id": "115cb5c6",
   "metadata": {},
   "outputs": [],
   "source": []
  }
 ],
 "metadata": {
  "kernelspec": {
   "display_name": "Python 3",
   "language": "python",
   "name": "python3"
  },
  "language_info": {
   "codemirror_mode": {
    "name": "ipython",
    "version": 3
   },
   "file_extension": ".py",
   "mimetype": "text/x-python",
   "name": "python",
   "nbconvert_exporter": "python",
   "pygments_lexer": "ipython3",
   "version": "3.7.11"
  }
 },
 "nbformat": 4,
 "nbformat_minor": 5
}
