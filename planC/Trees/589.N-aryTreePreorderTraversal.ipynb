{
 "cells": [
  {
   "cell_type": "markdown",
   "id": "ebbaf2ae",
   "metadata": {},
   "source": [
    "# 589. N-ary Tree Preorder Traversal"
   ]
  },
  {
   "cell_type": "code",
   "execution_count": 20,
   "id": "665121dd",
   "metadata": {},
   "outputs": [],
   "source": [
    "from typing import *"
   ]
  },
  {
   "cell_type": "code",
   "execution_count": 21,
   "id": "e88ba43c",
   "metadata": {},
   "outputs": [],
   "source": [
    "class Node:\n",
    "    def __init__(self, val=None, children=None):\n",
    "        self.val = val\n",
    "        self.children = children"
   ]
  },
  {
   "cell_type": "markdown",
   "id": "4a479343",
   "metadata": {},
   "source": [
    "## 589.a. Recursive Solution with helper to save node values\n",
    "If we just want to print the value of each node"
   ]
  },
  {
   "cell_type": "code",
   "execution_count": 51,
   "id": "0ce2f542",
   "metadata": {},
   "outputs": [],
   "source": [
    "def preorder(self, root: 'Node') -> List[int]:\n",
    "    print(root.val)\n",
    "    for child in root.children:\n",
    "        self.preorder(child)"
   ]
  },
  {
   "cell_type": "markdown",
   "id": "52a79d33",
   "metadata": {},
   "source": [
    "If we also want to remember each node, we need a helper function, and a \"global\" variable to store the values"
   ]
  },
  {
   "cell_type": "code",
   "execution_count": 52,
   "id": "274d0f5c",
   "metadata": {},
   "outputs": [],
   "source": [
    "def remember_val(root, res):\n",
    "    if root is None:\n",
    "        return\n",
    "    res.append(root.val)\n",
    "    if root.children is None:\n",
    "        return\n",
    "    for child in root.children:\n",
    "        remember_val(child, res)"
   ]
  },
  {
   "cell_type": "code",
   "execution_count": 53,
   "id": "84034680",
   "metadata": {},
   "outputs": [],
   "source": [
    "tester = Node(1, [Node(3, [Node(5), Node(6)]), Node(2), Node(4)])"
   ]
  },
  {
   "cell_type": "code",
   "execution_count": 54,
   "id": "247ebfab",
   "metadata": {},
   "outputs": [],
   "source": [
    "def preorder(root):\n",
    "    res = []\n",
    "    remember_val(root, res)\n",
    "    return res"
   ]
  },
  {
   "cell_type": "code",
   "execution_count": 55,
   "id": "bf7d0264",
   "metadata": {},
   "outputs": [],
   "source": [
    "class Solution:\n",
    "    def preorder(self, root: 'Node') -> List[int]:\n",
    "        def dfs (root, output):\n",
    "            if root is None:\n",
    "                return\n",
    "            output.append(root.val)\n",
    "            if root.children is None:\n",
    "                return\n",
    "            for child in root.children:\n",
    "                dfs(child, output)\n",
    "        \n",
    "        res = []\n",
    "        dfs(root, res)\n",
    "        return res"
   ]
  },
  {
   "cell_type": "code",
   "execution_count": 56,
   "id": "3ea24315",
   "metadata": {},
   "outputs": [
    {
     "data": {
      "text/plain": [
       "[1, 3, 5, 6, 2, 4]"
      ]
     },
     "execution_count": 56,
     "metadata": {},
     "output_type": "execute_result"
    }
   ],
   "source": [
    "Solution().preorder(tester)"
   ]
  },
  {
   "cell_type": "markdown",
   "id": "4c4bce73",
   "metadata": {},
   "source": [
    "## 589.b. Iterative Solution with ```Stack```"
   ]
  },
  {
   "cell_type": "code",
   "execution_count": 74,
   "id": "54b1ceda",
   "metadata": {},
   "outputs": [],
   "source": [
    "class Solution:\n",
    "    def preorder(self, root: 'Node') -> List[int]:\n",
    "        \n",
    "\n",
    "        \n",
    "        res = []\n",
    "        stack = [root]\n",
    "        while stack:\n",
    "            root = stack.pop()\n",
    "            res.append(root.val)\n",
    "            if root.children is None:\n",
    "                continue\n",
    "            self.reverse(root.children)\n",
    "            stack.extend(root.children)\n",
    "        \n",
    "        return res\n",
    "    \n",
    "    def reverse(self, lst):\n",
    "        n = len(lst)\n",
    "        l,r = 0,n-1\n",
    "        while l < r:\n",
    "            lst[l], lst[r] = lst[r], lst[l]\n",
    "            l += 1\n",
    "            r -= 1"
   ]
  },
  {
   "cell_type": "code",
   "execution_count": 75,
   "id": "17a11937",
   "metadata": {},
   "outputs": [
    {
     "data": {
      "text/plain": [
       "[1, 3, 6, 5, 2, 4]"
      ]
     },
     "execution_count": 75,
     "metadata": {},
     "output_type": "execute_result"
    }
   ],
   "source": [
    "Solution().preorder(tester)"
   ]
  },
  {
   "cell_type": "code",
   "execution_count": null,
   "id": "ff4e6b4d",
   "metadata": {},
   "outputs": [],
   "source": []
  }
 ],
 "metadata": {
  "kernelspec": {
   "display_name": "Python 3",
   "language": "python",
   "name": "python3"
  },
  "language_info": {
   "codemirror_mode": {
    "name": "ipython",
    "version": 3
   },
   "file_extension": ".py",
   "mimetype": "text/x-python",
   "name": "python",
   "nbconvert_exporter": "python",
   "pygments_lexer": "ipython3",
   "version": "3.7.11"
  }
 },
 "nbformat": 4,
 "nbformat_minor": 5
}
