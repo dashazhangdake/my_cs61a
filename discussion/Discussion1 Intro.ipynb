{
 "cells": [
  {
   "cell_type": "markdown",
   "id": "31fb33ac",
   "metadata": {},
   "source": [
    "## Q1: Case Conundrum"
   ]
  },
  {
   "cell_type": "code",
   "execution_count": 1,
   "id": "d8a62dc9",
   "metadata": {},
   "outputs": [
    {
     "data": {
      "text/plain": [
       "12"
      ]
     },
     "execution_count": 1,
     "metadata": {},
     "output_type": "execute_result"
    }
   ],
   "source": [
    "def special_case():\n",
    "    x = 10\n",
    "    if x > 0:\n",
    "        x += 2\n",
    "    elif x < 13:\n",
    "        x += 3\n",
    "    elif x % 2 == 1:\n",
    "        x += 4\n",
    "    return x\n",
    "\n",
    "special_case()"
   ]
  },
  {
   "cell_type": "code",
   "execution_count": 2,
   "id": "9854021b",
   "metadata": {},
   "outputs": [
    {
     "data": {
      "text/plain": [
       "19"
      ]
     },
     "execution_count": 2,
     "metadata": {},
     "output_type": "execute_result"
    }
   ],
   "source": [
    "def just_in_case():\n",
    "    x = 10\n",
    "    if x > 0:\n",
    "        x += 2\n",
    "    if x < 13:\n",
    "        x += 3\n",
    "    if x % 2 == 1:\n",
    "        x += 4\n",
    "    return x\n",
    "\n",
    "just_in_case()"
   ]
  },
  {
   "cell_type": "code",
   "execution_count": 3,
   "id": "e77cd318",
   "metadata": {},
   "outputs": [
    {
     "data": {
      "text/plain": [
       "12"
      ]
     },
     "execution_count": 3,
     "metadata": {},
     "output_type": "execute_result"
    }
   ],
   "source": [
    "def case_in_point():\n",
    "    x = 10\n",
    "    if x > 0:\n",
    "        return x + 2\n",
    "    if x < 13:\n",
    "        return x + 3\n",
    "    if x % 2 == 1:\n",
    "        return x + 4\n",
    "    return x\n",
    "\n",
    "case_in_point()"
   ]
  },
  {
   "cell_type": "markdown",
   "id": "6f5a16ba",
   "metadata": {},
   "source": [
    "## Q2: Jacket Weather?\n",
    "Alfonso will only wear a jacket outside if it is below 60 degrees or it is raining.\n",
    "\n",
    "Write a function that takes in the current temperature and a boolean value telling if it is raining. This function should return True if Alfonso will wear a jacket and False otherwise."
   ]
  },
  {
   "cell_type": "code",
   "execution_count": 4,
   "id": "c801c965",
   "metadata": {},
   "outputs": [],
   "source": [
    "def wears_jacket_with_if(temp, raining):\n",
    "    if temp < 60 or raining:\n",
    "        return True\n",
    "    else:\n",
    "        return False"
   ]
  },
  {
   "cell_type": "code",
   "execution_count": 5,
   "id": "a081b6dc",
   "metadata": {},
   "outputs": [
    {
     "data": {
      "text/plain": [
       "True"
      ]
     },
     "execution_count": 5,
     "metadata": {},
     "output_type": "execute_result"
    }
   ],
   "source": [
    "wears_jacket_with_if(100, True)"
   ]
  },
  {
   "cell_type": "code",
   "execution_count": 6,
   "id": "2d29ffda",
   "metadata": {},
   "outputs": [
    {
     "data": {
      "text/plain": [
       "True"
      ]
     },
     "execution_count": 6,
     "metadata": {},
     "output_type": "execute_result"
    }
   ],
   "source": [
    "wears_jacket_with_if(40, False)"
   ]
  },
  {
   "cell_type": "code",
   "execution_count": 7,
   "id": "c5f839b4",
   "metadata": {},
   "outputs": [
    {
     "data": {
      "text/plain": [
       "False"
      ]
     },
     "execution_count": 7,
     "metadata": {},
     "output_type": "execute_result"
    }
   ],
   "source": [
    "wears_jacket_with_if(90, False)"
   ]
  },
  {
   "cell_type": "code",
   "execution_count": 10,
   "id": "0f5ae75d",
   "metadata": {},
   "outputs": [],
   "source": [
    "def square(x):\n",
    "    print(\"here!\")\n",
    "    return x * x\n",
    "\n",
    "def so_slow(num):\n",
    "    x = num\n",
    "    while x > 0:\n",
    "        x = x - 1\n",
    "    return x / 0"
   ]
  },
  {
   "cell_type": "code",
   "execution_count": 11,
   "id": "da07ac93",
   "metadata": {},
   "outputs": [
    {
     "ename": "ZeroDivisionError",
     "evalue": "division by zero",
     "output_type": "error",
     "traceback": [
      "\u001b[0;31m---------------------------------------------------------------------------\u001b[0m",
      "\u001b[0;31mZeroDivisionError\u001b[0m                         Traceback (most recent call last)",
      "\u001b[0;32m<ipython-input-11-ce37b7dbc644>\u001b[0m in \u001b[0;36m<module>\u001b[0;34m\u001b[0m\n\u001b[0;32m----> 1\u001b[0;31m \u001b[0msquare\u001b[0m\u001b[0;34m(\u001b[0m\u001b[0mso_slow\u001b[0m\u001b[0;34m(\u001b[0m\u001b[0;36m5\u001b[0m\u001b[0;34m)\u001b[0m\u001b[0;34m)\u001b[0m\u001b[0;34m\u001b[0m\u001b[0;34m\u001b[0m\u001b[0m\n\u001b[0m",
      "\u001b[0;32m<ipython-input-10-91d29330397c>\u001b[0m in \u001b[0;36mso_slow\u001b[0;34m(num)\u001b[0m\n\u001b[1;32m      7\u001b[0m     \u001b[0;32mwhile\u001b[0m \u001b[0mx\u001b[0m \u001b[0;34m>\u001b[0m \u001b[0;36m0\u001b[0m\u001b[0;34m:\u001b[0m\u001b[0;34m\u001b[0m\u001b[0;34m\u001b[0m\u001b[0m\n\u001b[1;32m      8\u001b[0m         \u001b[0mx\u001b[0m \u001b[0;34m=\u001b[0m \u001b[0mx\u001b[0m \u001b[0;34m-\u001b[0m \u001b[0;36m1\u001b[0m\u001b[0;34m\u001b[0m\u001b[0;34m\u001b[0m\u001b[0m\n\u001b[0;32m----> 9\u001b[0;31m     \u001b[0;32mreturn\u001b[0m \u001b[0mx\u001b[0m \u001b[0;34m/\u001b[0m \u001b[0;36m0\u001b[0m\u001b[0;34m\u001b[0m\u001b[0;34m\u001b[0m\u001b[0m\n\u001b[0m",
      "\u001b[0;31mZeroDivisionError\u001b[0m: division by zero"
     ]
    }
   ],
   "source": [
    "square(so_slow(5))"
   ]
  },
  {
   "cell_type": "markdown",
   "id": "83180e4b",
   "metadata": {},
   "source": [
    "## Q5: Is Prime?\n",
    "A prime number n is a number that is not divisible by any numbers other than 1 and n itself. For example, 13 is prime, since it is only divisible by 1 and 13, but 14 is not, since it is divisible by 1, 2, 7, and 14."
   ]
  },
  {
   "cell_type": "code",
   "execution_count": 33,
   "id": "343db2e5",
   "metadata": {},
   "outputs": [],
   "source": [
    "def is_prime(n):\n",
    "    d = 2\n",
    "    while(d < (n // 2 + 1)):\n",
    "        if n % d == 0:\n",
    "            return False\n",
    "        d+=1\n",
    "    return True"
   ]
  },
  {
   "cell_type": "code",
   "execution_count": 36,
   "id": "e8ebccac",
   "metadata": {},
   "outputs": [
    {
     "data": {
      "text/plain": [
       "False"
      ]
     },
     "execution_count": 36,
     "metadata": {},
     "output_type": "execute_result"
    }
   ],
   "source": [
    "is_prime(1588)"
   ]
  },
  {
   "cell_type": "code",
   "execution_count": null,
   "id": "81b79742",
   "metadata": {},
   "outputs": [],
   "source": []
  }
 ],
 "metadata": {
  "kernelspec": {
   "display_name": "Python 3",
   "language": "python",
   "name": "python3"
  },
  "language_info": {
   "codemirror_mode": {
    "name": "ipython",
    "version": 3
   },
   "file_extension": ".py",
   "mimetype": "text/x-python",
   "name": "python",
   "nbconvert_exporter": "python",
   "pygments_lexer": "ipython3",
   "version": "3.7.11"
  }
 },
 "nbformat": 4,
 "nbformat_minor": 5
}
