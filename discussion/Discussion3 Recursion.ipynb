{
 "cells": [
  {
   "cell_type": "markdown",
   "id": "b299eb09",
   "metadata": {},
   "source": [
    "## Q1: Warm Up: Recursive Multiplication"
   ]
  },
  {
   "cell_type": "code",
   "execution_count": 4,
   "id": "62d82965",
   "metadata": {},
   "outputs": [],
   "source": [
    "def multiply0(m, n):\n",
    "    if n == 1:\n",
    "        return m\n",
    "    else:\n",
    "        return multiply0(m, n-1) + m"
   ]
  },
  {
   "cell_type": "code",
   "execution_count": 5,
   "id": "56a1da0d",
   "metadata": {},
   "outputs": [
    {
     "data": {
      "text/plain": [
       "50"
      ]
     },
     "execution_count": 5,
     "metadata": {},
     "output_type": "execute_result"
    }
   ],
   "source": [
    "multiply0(10, 5)"
   ]
  },
  {
   "cell_type": "code",
   "execution_count": 7,
   "id": "52a41375",
   "metadata": {},
   "outputs": [],
   "source": [
    "def multiply1(m, n):\n",
    "    if m == 1:\n",
    "        return n\n",
    "    else:\n",
    "        return multiply1(m-1, n) + n"
   ]
  },
  {
   "cell_type": "code",
   "execution_count": 8,
   "id": "79d7f6db",
   "metadata": {},
   "outputs": [
    {
     "data": {
      "text/plain": [
       "50"
      ]
     },
     "execution_count": 8,
     "metadata": {},
     "output_type": "execute_result"
    }
   ],
   "source": [
    "multiply1(10, 5)"
   ]
  },
  {
   "cell_type": "markdown",
   "id": "32123571",
   "metadata": {},
   "source": [
    "## Q2: Recursion Environment Diagram"
   ]
  },
  {
   "cell_type": "code",
   "execution_count": 9,
   "id": "f00cf896",
   "metadata": {},
   "outputs": [],
   "source": [
    "def rec(x, y):\n",
    "    if y > 0:\n",
    "        return x * rec(x, y - 1)\n",
    "    return 1"
   ]
  },
  {
   "cell_type": "code",
   "execution_count": 10,
   "id": "00cc22a9",
   "metadata": {},
   "outputs": [
    {
     "data": {
      "text/plain": [
       "9"
      ]
     },
     "execution_count": 10,
     "metadata": {},
     "output_type": "execute_result"
    }
   ],
   "source": [
    "rec(3, 2)"
   ]
  },
  {
   "cell_type": "code",
   "execution_count": 11,
   "id": "82c9e001",
   "metadata": {},
   "outputs": [
    {
     "data": {
      "text/plain": [
       "27"
      ]
     },
     "execution_count": 11,
     "metadata": {},
     "output_type": "execute_result"
    }
   ],
   "source": [
    "rec(3, 3)"
   ]
  },
  {
   "cell_type": "code",
   "execution_count": 12,
   "id": "7fa9a375",
   "metadata": {},
   "outputs": [
    {
     "data": {
      "text/plain": [
       "256"
      ]
     },
     "execution_count": 12,
     "metadata": {},
     "output_type": "execute_result"
    }
   ],
   "source": [
    "rec(2, 8)"
   ]
  },
  {
   "cell_type": "markdown",
   "id": "b0b7ade4",
   "metadata": {},
   "source": [
    "## Q3: Find the Bug\n",
    "```python\n",
    "def skip_mul(n):\n",
    "    \"\"\"Return the product of n * (n - 2) * (n - 4) * ...\n",
    "\n",
    "    >>> skip_mul(5) # 5 * 3 * 1\n",
    "    15\n",
    "    >>> skip_mul(8) # 8 * 6 * 4 * 2\n",
    "    384\n",
    "    \"\"\"\n",
    "    if n == 2:\n",
    "        return 2\n",
    "    else:\n",
    "        return n * skip_mul(n - 2)\n",
    "```"
   ]
  },
  {
   "cell_type": "code",
   "execution_count": 20,
   "id": "3e72edc7",
   "metadata": {},
   "outputs": [],
   "source": [
    "def skip_mul(n):\n",
    "    \"\"\"\n",
    "        The buggy program only handles the cases that n is even\n",
    "    \"\"\"\n",
    "    if n == 1:\n",
    "        return 1\n",
    "    if n == 2:\n",
    "        return 2\n",
    "    else:\n",
    "        return n * skip_mul(n - 2)"
   ]
  },
  {
   "cell_type": "code",
   "execution_count": 21,
   "id": "5832f135",
   "metadata": {},
   "outputs": [
    {
     "data": {
      "text/plain": [
       "15"
      ]
     },
     "execution_count": 21,
     "metadata": {},
     "output_type": "execute_result"
    }
   ],
   "source": [
    "skip_mul(5)"
   ]
  },
  {
   "cell_type": "markdown",
   "id": "880e744e",
   "metadata": {},
   "source": [
    "## Q4: Recursive Hailstone\n"
   ]
  },
  {
   "cell_type": "markdown",
   "id": "0316b57e",
   "metadata": {},
   "source": [
    "1. Pick a positive integer n as the start.\n",
    "2. If n is even, divide it by 2.\n",
    "3. If n is odd, multiply it by 3 and add 1.\n",
    "4. Continue this process until n is 1.\n",
    "\n",
    "The number n will travel up and down but eventually end at 1 (at least for all numbers that have ever been tried -- nobody has ever proved that the sequence will terminate). Analogously, a hailstone travels up and down in the atmosphere before eventually landing on earth."
   ]
  },
  {
   "cell_type": "code",
   "execution_count": 170,
   "id": "8f27bd33",
   "metadata": {},
   "outputs": [],
   "source": [
    "def hailstone(n):\n",
    "    list0 = [n]\n",
    "    cnt = 1\n",
    "    while (n != 1):\n",
    "        if n % 2 == 0:\n",
    "            n = n // 2\n",
    "        else:\n",
    "            n = n * 3 + 1\n",
    "        cnt = cnt + 1\n",
    "        list0.append(n)\n",
    "    return (list0, cnt)"
   ]
  },
  {
   "cell_type": "code",
   "execution_count": 178,
   "id": "2b6cac78",
   "metadata": {},
   "outputs": [],
   "source": [
    "def hailstone1(n, f):\n",
    "    f(n)\n",
    "    if n == 1:\n",
    "        return 1\n",
    "    elif n % 2 == 0:\n",
    "        return 1 + hailstone1(n // 2, f)\n",
    "    else:\n",
    "        return 1 + hailstone1(3 * n + 1, f)"
   ]
  },
  {
   "cell_type": "code",
   "execution_count": 180,
   "id": "34538838",
   "metadata": {},
   "outputs": [
    {
     "name": "stdout",
     "output_type": "stream",
     "text": [
      "10\n",
      "5\n",
      "16\n",
      "8\n",
      "4\n",
      "2\n",
      "1\n"
     ]
    },
    {
     "data": {
      "text/plain": [
       "7"
      ]
     },
     "execution_count": 180,
     "metadata": {},
     "output_type": "execute_result"
    }
   ],
   "source": [
    "hailstone1(10, print)"
   ]
  },
  {
   "cell_type": "markdown",
   "id": "271a170a",
   "metadata": {},
   "source": [
    "### Try to pass recursive variable to outside using list"
   ]
  },
  {
   "cell_type": "code",
   "execution_count": 175,
   "id": "4756e695",
   "metadata": {},
   "outputs": [],
   "source": [
    "def fillhailstone(n):\n",
    "    list0 = []\n",
    "    def hailstone_recursive(n, l):\n",
    "        l.append(n)\n",
    "        if n == 1:\n",
    "            return 1\n",
    "        elif n % 2 == 0:\n",
    "            return 1 + hailstone_recursive(n // 2, l)\n",
    "        else:\n",
    "            return 1 + hailstone_recursive(n * 3 + 1, l)\n",
    "    return list0, hailstone_recursive(n, list0)"
   ]
  },
  {
   "cell_type": "code",
   "execution_count": 176,
   "id": "b89a5468",
   "metadata": {},
   "outputs": [],
   "source": [
    "# hailstone_recursive(10)"
   ]
  },
  {
   "cell_type": "code",
   "execution_count": 177,
   "id": "8b21652f",
   "metadata": {},
   "outputs": [
    {
     "data": {
      "text/plain": [
       "([10, 5, 16, 8, 4, 2, 1], 7)"
      ]
     },
     "execution_count": 177,
     "metadata": {},
     "output_type": "execute_result"
    }
   ],
   "source": [
    "fillhailstone(10)"
   ]
  },
  {
   "cell_type": "markdown",
   "id": "852ee1f8",
   "metadata": {},
   "source": [
    "## Q5: Merge Numbers\n",
    "Write a procedure merge(n1, n2) which takes numbers with digits in decreasing order and returns a single number with all of the digits of the two, in decreasing order. Any number merged with 0 will be that number (treat 0 as having no digits). Use recursion."
   ]
  },
  {
   "cell_type": "code",
   "execution_count": 75,
   "id": "402362a3",
   "metadata": {},
   "outputs": [],
   "source": [
    "def merge(n1, n2):\n",
    "    if n1 == 0:\n",
    "        return n2\n",
    "    elif n2 == 0:\n",
    "        return n1\n",
    "    elif n1 % 10 > n2 % 10:\n",
    "        return merge(n1, n2 // 10) * 10 + n2 % 10\n",
    "    else:\n",
    "        return merge(n1 // 10, n2) * 10 + n1 % 10"
   ]
  },
  {
   "cell_type": "code",
   "execution_count": 76,
   "id": "63fec4ac",
   "metadata": {},
   "outputs": [
    {
     "data": {
      "text/plain": [
       "8443"
      ]
     },
     "execution_count": 76,
     "metadata": {},
     "output_type": "execute_result"
    }
   ],
   "source": [
    "merge(43, 84)"
   ]
  },
  {
   "cell_type": "markdown",
   "id": "46a8eb0d",
   "metadata": {},
   "source": [
    "## Q6: Is prime"
   ]
  },
  {
   "cell_type": "code",
   "execution_count": 128,
   "id": "495408ad",
   "metadata": {},
   "outputs": [],
   "source": [
    "def isprime(n):\n",
    "    def divisible(n, i):\n",
    "        if i > (n**0.5):\n",
    "            return True\n",
    "        elif (n % i == 0):\n",
    "            return False\n",
    "        return divisible(n, i+1)\n",
    "    \n",
    "    return divisible(n, 2)\n",
    "    "
   ]
  },
  {
   "cell_type": "code",
   "execution_count": 129,
   "id": "30614478",
   "metadata": {},
   "outputs": [
    {
     "data": {
      "text/plain": [
       "True"
      ]
     },
     "execution_count": 129,
     "metadata": {},
     "output_type": "execute_result"
    }
   ],
   "source": [
    "isprime(2)"
   ]
  },
  {
   "cell_type": "code",
   "execution_count": 130,
   "id": "abcbe766",
   "metadata": {},
   "outputs": [],
   "source": [
    "def is_prime1(n):\n",
    "    def helper(i):\n",
    "        if i > (n ** 0.5): # Could replace with i == n\n",
    "            return True\n",
    "        elif n % i == 0:\n",
    "            return False\n",
    "        return helper(i + 1)\n",
    "    return helper(2)"
   ]
  },
  {
   "cell_type": "code",
   "execution_count": 131,
   "id": "ec866dc4",
   "metadata": {},
   "outputs": [
    {
     "data": {
      "text/plain": [
       "True"
      ]
     },
     "execution_count": 131,
     "metadata": {},
     "output_type": "execute_result"
    }
   ],
   "source": [
    "is_prime1(2)"
   ]
  },
  {
   "cell_type": "code",
   "execution_count": 133,
   "id": "67bd2e85",
   "metadata": {},
   "outputs": [
    {
     "name": "stdout",
     "output_type": "stream",
     "text": [
      "test passed\n"
     ]
    }
   ],
   "source": [
    "import random\n",
    "\n",
    "samples = 30000\n",
    "for i in range(samples):\n",
    "    n = random.randint(1, 1000000)\n",
    "    isprime(n)\n",
    "    assert(isprime(n) == is_prime1(n))\n",
    "print('test passed')"
   ]
  },
  {
   "cell_type": "code",
   "execution_count": null,
   "id": "ad6d3241",
   "metadata": {},
   "outputs": [],
   "source": []
  }
 ],
 "metadata": {
  "kernelspec": {
   "display_name": "Python 3",
   "language": "python",
   "name": "python3"
  },
  "language_info": {
   "codemirror_mode": {
    "name": "ipython",
    "version": 3
   },
   "file_extension": ".py",
   "mimetype": "text/x-python",
   "name": "python",
   "nbconvert_exporter": "python",
   "pygments_lexer": "ipython3",
   "version": "3.7.11"
  }
 },
 "nbformat": 4,
 "nbformat_minor": 5
}
