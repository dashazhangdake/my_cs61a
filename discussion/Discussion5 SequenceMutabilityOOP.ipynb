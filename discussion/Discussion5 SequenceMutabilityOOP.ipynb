{
 "cells": [
  {
   "cell_type": "markdown",
   "id": "0b38cb25",
   "metadata": {},
   "source": [
    "# Sequences\n",
    "### Q1: Map, Filter, Reduce\n",
    "Many languages provide map, filter, reduce functions for sequences. Python also provides these functions (and we'll formally introduce them later on in the course), but to help you better understand how they work, you'll be implementing these functions in the following problems.\n",
    "#### a. ```my_map```\n",
    "```my_map``` takes in a one argument function ```fn``` and a sequence ```seq``` and returns a list containing ```fn``` applied to each element in ```seq```.\n",
    "\n",
    "```python\n",
    "    Applies fn onto each element in seq and returns a list.\n",
    "    >>> my_map(lambda x: x*x, [1, 2, 3])\n",
    "    [1, 4, 9]\n",
    "```"
   ]
  },
  {
   "cell_type": "code",
   "execution_count": 1,
   "id": "ca9464c4",
   "metadata": {},
   "outputs": [],
   "source": [
    "def my_map(fn, seq):\n",
    "    return [fn(e) for e in seq]"
   ]
  },
  {
   "cell_type": "code",
   "execution_count": 2,
   "id": "7f04c176",
   "metadata": {},
   "outputs": [
    {
     "data": {
      "text/plain": [
       "[1, 4, 9]"
      ]
     },
     "execution_count": 2,
     "metadata": {},
     "output_type": "execute_result"
    }
   ],
   "source": [
    "my_map(lambda x: x*x, [1, 2, 3])"
   ]
  },
  {
   "cell_type": "markdown",
   "id": "bf8cb7cc",
   "metadata": {},
   "source": [
    "#### b.```my_filter```\n",
    "```my_filter``` takes in a predicate function ```pred``` and a sequence ```seq``` and returns a list containing all elements in seq for which ```pred``` returns True.\n",
    "```python\n",
    "    Keeps elements in seq only if they satisfy pred.\n",
    "    >>> my_filter(lambda x: x % 2 == 0, [1, 2, 3, 4])  # new list has only even-valued elements\n",
    "    [2, 4]\n",
    "```"
   ]
  },
  {
   "cell_type": "code",
   "execution_count": 3,
   "id": "452345b0",
   "metadata": {},
   "outputs": [],
   "source": [
    "def my_filter(pred, seq):\n",
    "    return [e for e in seq if pred(e)]"
   ]
  },
  {
   "cell_type": "code",
   "execution_count": 4,
   "id": "b055a333",
   "metadata": {},
   "outputs": [
    {
     "data": {
      "text/plain": [
       "[2, 4]"
      ]
     },
     "execution_count": 4,
     "metadata": {},
     "output_type": "execute_result"
    }
   ],
   "source": [
    "my_filter(lambda x: x % 2 == 0, [1, 2, 3, 4])"
   ]
  },
  {
   "cell_type": "markdown",
   "id": "029587f5",
   "metadata": {},
   "source": [
    "#### c. ```my_reduce```\n",
    "```my_reduce``` takes in a two argument function ```combiner``` and a non-empty sequence ```seq``` and combines the elements in seq into one value using combiner.\n",
    "\n",
    "```python\n",
    "    seq will have at least one element.\n",
    "    >>> my_reduce(lambda x, y: x + y, [1, 2, 3, 4])  # 1 + 2 + 3 + 4\n",
    "    10\n",
    "    >>> my_reduce(lambda x, y: x * y, [1, 2, 3, 4])  # 1 * 2 * 3 * 4\n",
    "    24\n",
    "    >>> my_reduce(lambda x, y: x * y, [4])\n",
    "    4\n",
    "    >>> my_reduce(lambda x, y: x + 2 * y, [1, 2, 3]) # (1 + 2 * 2) + 2 * 3\n",
    "    11\n",
    "```"
   ]
  },
  {
   "cell_type": "code",
   "execution_count": 5,
   "id": "bd866232",
   "metadata": {},
   "outputs": [],
   "source": [
    "def my_reduce(combiner, seq):\n",
    "    if len(seq) == 1:\n",
    "        return seq[0]\n",
    "    else:\n",
    "        return combiner(seq[-1], my_reduce(combiner, seq[:-1]))"
   ]
  },
  {
   "cell_type": "code",
   "execution_count": 6,
   "id": "865f4a98",
   "metadata": {},
   "outputs": [
    {
     "data": {
      "text/plain": [
       "10"
      ]
     },
     "execution_count": 6,
     "metadata": {},
     "output_type": "execute_result"
    }
   ],
   "source": [
    "my_reduce(lambda x, y: x + y, [1, 2, 3, 4])"
   ]
  },
  {
   "cell_type": "code",
   "execution_count": 7,
   "id": "2ab0413e",
   "metadata": {},
   "outputs": [
    {
     "data": {
      "text/plain": [
       "[1, 2, 3]"
      ]
     },
     "execution_count": 7,
     "metadata": {},
     "output_type": "execute_result"
    }
   ],
   "source": [
    "lst = [1, 2, 3, 4]\n",
    "lst[:-1]"
   ]
  },
  {
   "cell_type": "code",
   "execution_count": 8,
   "id": "433ccd79",
   "metadata": {},
   "outputs": [
    {
     "data": {
      "text/plain": [
       "11"
      ]
     },
     "execution_count": 8,
     "metadata": {},
     "output_type": "execute_result"
    }
   ],
   "source": [
    "my_reduce(lambda x, y: x + 2 * y, [1, 2, 3])"
   ]
  },
  {
   "cell_type": "markdown",
   "id": "89b71920",
   "metadata": {},
   "source": [
    "# Mutability\n",
    "\n",
    "Some objects in Python, such as lists and dictionaries, are **mutable**, meaning that their contents or state can be changed. Other objects, such as numeric types, tuples, and strings, are **immutable**, meaning they **cannot be changed** once they are created.\n",
    "\n",
    "Let's imagine you order a mushroom and cheese pizza from La Val's, and they represent your order as a list:\n",
    "```>>> pizza = ['cheese', 'mushrooms']```\n",
    "With list mutation, they can update your order by mutate pizza directly rather than having to create a new list:\n",
    "```>>> pizza.append('onions')\n",
    ">>> pizza\n",
    "['cheese', 'mushrooms', 'onions']\n",
    "```\n",
    "Aside from append, there are various other list mutation methods:\n",
    "\n",
    "* ```append(el)```: Add ```el```(element) to the end of the list. Return ```None```.\n",
    "* ```extend(lst)```: Extend the list by concatenating it with lst. Return ```None```.\n",
    "* ```insert(i, el)```: Insert el at index i. This does not replace any existing elements, but only adds the new element el. Return ```None```.\n",
    "* ```remove(el)```: Remove the first occurrence of el in list. Errors if el is not in the list. Return ```None``` otherwise.\n",
    "* ```pop(i)```: Remove and return the element at index i.\n",
    "\n",
    "We can also use list indexing with an assignment statement to change an existing element in a list. For example:\n",
    "```\n",
    ">>> pizza[1] = 'tomatoes'\n",
    ">>> pizza\n",
    "['cheese', 'tomatoes', 'onions']\n",
    "```"
   ]
  },
  {
   "cell_type": "markdown",
   "id": "e0ba9e59",
   "metadata": {},
   "source": [
    "## Q2: WWPD: Mutability\n"
   ]
  },
  {
   "cell_type": "code",
   "execution_count": 9,
   "id": "b10896f9",
   "metadata": {},
   "outputs": [
    {
     "data": {
      "text/plain": [
       "True"
      ]
     },
     "execution_count": 9,
     "metadata": {},
     "output_type": "execute_result"
    }
   ],
   "source": [
    "s1 = [1, 2, 3]\n",
    "s2 = s1\n",
    "s1 is s2 # True"
   ]
  },
  {
   "cell_type": "code",
   "execution_count": 10,
   "id": "ecf4efa3",
   "metadata": {},
   "outputs": [
    {
     "data": {
      "text/plain": [
       "6"
      ]
     },
     "execution_count": 10,
     "metadata": {},
     "output_type": "execute_result"
    }
   ],
   "source": [
    "s2.extend([5, 6])\n",
    "s1[4] # 6"
   ]
  },
  {
   "cell_type": "code",
   "execution_count": 11,
   "id": "86d110c3",
   "metadata": {},
   "outputs": [
    {
     "data": {
      "text/plain": [
       "[-1, 0, 1]"
      ]
     },
     "execution_count": 11,
     "metadata": {},
     "output_type": "execute_result"
    }
   ],
   "source": [
    "s1.append([-1, 0, 1])\n",
    "s2[5] # [-1, 0, 1]"
   ]
  },
  {
   "cell_type": "code",
   "execution_count": 12,
   "id": "ffc01cda",
   "metadata": {},
   "outputs": [
    {
     "name": "stdout",
     "output_type": "stream",
     "text": [
      "False\n",
      "6\n"
     ]
    },
    {
     "data": {
      "text/plain": [
       "5"
      ]
     },
     "execution_count": 12,
     "metadata": {},
     "output_type": "execute_result"
    }
   ],
   "source": [
    "s3 = s2[:]\n",
    "print(s3 is s2)\n",
    "print(len(s1))\n",
    "s3.insert(3, s2.pop(3))\n",
    "len(s1) # 6-1=5"
   ]
  },
  {
   "cell_type": "code",
   "execution_count": 13,
   "id": "9ebdb057",
   "metadata": {},
   "outputs": [
    {
     "data": {
      "text/plain": [
       "True"
      ]
     },
     "execution_count": 13,
     "metadata": {},
     "output_type": "execute_result"
    }
   ],
   "source": [
    "s1[4] is s3[6] # True, in this context, \"is\" means \"==\""
   ]
  },
  {
   "cell_type": "code",
   "execution_count": 14,
   "id": "86c68ccb",
   "metadata": {},
   "outputs": [
    {
     "data": {
      "text/plain": [
       "1"
      ]
     },
     "execution_count": 14,
     "metadata": {},
     "output_type": "execute_result"
    }
   ],
   "source": [
    "s3[s2[4][1]] # s3[0] = 1"
   ]
  },
  {
   "cell_type": "code",
   "execution_count": 15,
   "id": "d0e2aa02",
   "metadata": {},
   "outputs": [
    {
     "data": {
      "text/plain": [
       "False"
      ]
     },
     "execution_count": 15,
     "metadata": {},
     "output_type": "execute_result"
    }
   ],
   "source": [
    "s1[:3] is s2[:3] # Creating new instance of s1 and s2 slicing, \"is\" is not true"
   ]
  },
  {
   "cell_type": "code",
   "execution_count": 16,
   "id": "49d129c0",
   "metadata": {},
   "outputs": [
    {
     "data": {
      "text/plain": [
       "True"
      ]
     },
     "execution_count": 16,
     "metadata": {},
     "output_type": "execute_result"
    }
   ],
   "source": [
    " s1[:3] == s2[:3] # By value, this is true"
   ]
  },
  {
   "cell_type": "code",
   "execution_count": 17,
   "id": "9a55ab30",
   "metadata": {},
   "outputs": [
    {
     "data": {
      "text/plain": [
       "2"
      ]
     },
     "execution_count": 17,
     "metadata": {},
     "output_type": "execute_result"
    }
   ],
   "source": [
    "s1[4].append(2)\n",
    "s3[6][3]"
   ]
  },
  {
   "cell_type": "markdown",
   "id": "13cf2e3b",
   "metadata": {},
   "source": [
    "Example above indicates taht mutable Nested elements are still mutable even we try strategies that avoiding unexpected mutations"
   ]
  },
  {
   "cell_type": "code",
   "execution_count": 18,
   "id": "76913929",
   "metadata": {},
   "outputs": [],
   "source": [
    "def copying(seq):\n",
    "    lst = []\n",
    "    for i in range(len(seq)):\n",
    "        if not type(seq[i])==list: # append if element is not a list\n",
    "            lst.append(seq[i]) \n",
    "        else: # recursive call if element is a list\n",
    "            lst.append(copying(seq[i]))\n",
    "    return lst"
   ]
  },
  {
   "cell_type": "code",
   "execution_count": 19,
   "id": "6c624565",
   "metadata": {},
   "outputs": [],
   "source": [
    "import copy\n",
    "seq1 = [1, 2, 3, [4, 5, 6]]\n",
    "seq2 = copy.copy(seq1)\n",
    "# seq3 = copy.deepcopy(seq1)\n",
    "seq3 = copying(seq1)\n",
    "# print(seq3)\n",
    "assert (seq1 == seq2)\n",
    "assert (seq1 == seq3)"
   ]
  },
  {
   "cell_type": "markdown",
   "id": "34e70c8f",
   "metadata": {},
   "source": [
    "Mutations at **\"shallow elements\"** wont affect seq2, seq3"
   ]
  },
  {
   "cell_type": "code",
   "execution_count": 20,
   "id": "0d6ce445",
   "metadata": {},
   "outputs": [
    {
     "name": "stdout",
     "output_type": "stream",
     "text": [
      "[1, 2, 3, 100, [4, 5, 6]]\n",
      "[1, 2, 3, [4, 5, 6]]\n",
      "[1, 2, 3, [4, 5, 6]]\n"
     ]
    }
   ],
   "source": [
    "seq1.insert(3, 100)\n",
    "print(seq1)\n",
    "print(seq2)\n",
    "print(seq3)"
   ]
  },
  {
   "cell_type": "markdown",
   "id": "6df250d9",
   "metadata": {},
   "source": [
    "Mutations at **\"deep elements\"** do affect seq2. seq3, which came from deep copy, is not affected "
   ]
  },
  {
   "cell_type": "code",
   "execution_count": 21,
   "id": "a22595bf",
   "metadata": {},
   "outputs": [
    {
     "name": "stdout",
     "output_type": "stream",
     "text": [
      "[1, 2, 3, 100, [4, 5, 6, 81]]\n",
      "[1, 2, 3, [4, 5, 6, 81]]\n",
      "[1, 2, 3, [4, 5, 6]]\n"
     ]
    }
   ],
   "source": [
    "seq1[-1].append(81)\n",
    "print(seq1)\n",
    "print(seq2)\n",
    "print(seq3)"
   ]
  },
  {
   "cell_type": "markdown",
   "id": "4620fce9",
   "metadata": {},
   "source": [
    "**In conclusion**\n",
    "\n",
    "Copying with the following could be treated as **\"shallow copy\"**\n",
    "```python\n",
    "lst = copy.copy(source)\n",
    "lst = source[:]\n",
    "lst = list(source)\n",
    "```\n",
    "\n",
    "To avoid unexpected mutations of deep elements, use ```copy.deepcopy()```\n",
    "Or **recursive** list comprehension"
   ]
  },
  {
   "cell_type": "markdown",
   "id": "83317524",
   "metadata": {},
   "source": [
    "# OOP\n",
    "\n",
    "**Object-oriented programming (OOP)** is a programming paradigm that allows us to treat data as objects, like we do in real life.\n",
    "\n",
    "For example, consider the **class** ```Student```. Each of you as individuals is an **instance** of this class.\n",
    "\n",
    "Details that all CS 61A students have, such as name, are called **instance variables**. Every student has these variables, but their values differ from student to student. A variable that is shared among all instances of Student is known as a **class variable**. For example, the max_slip_days attribute is a class variable as it is a property of all students.\n",
    "\n",
    "All students are able to do homework, attend lecture, and go to office hours. When functions belong to a specific object, they are called **methods**. In this case, these actions would be methods of Student objects.\n",
    "\n",
    "Here is a recap of what we discussed above:\n",
    "\n",
    "* **class**: a template for creating objects\n",
    "* **instance**: a single object created from a class\n",
    "* **instance variable**: a data attribute of an object, specific to an instance\n",
    "* **class variable**: a data attribute of an object, shared by all instances of a class\n",
    "* **method**: a bound function that may be called on all instances of a class\n",
    "* Instance variables, class variables, and methods are all considered attributes of an object."
   ]
  },
  {
   "cell_type": "markdown",
   "id": "c345696d",
   "metadata": {},
   "source": [
    "### Q3: Whats the output"
   ]
  },
  {
   "cell_type": "code",
   "execution_count": 22,
   "id": "74d485bf",
   "metadata": {},
   "outputs": [],
   "source": [
    "class Student:\n",
    "    max_slip_days = 3 # this is a class variable\n",
    "\n",
    "    def __init__(self, name, staff):\n",
    "        self.name = name # this is an instance variable\n",
    "        self.understanding = 0\n",
    "        staff.add_student(self)\n",
    "        print(\"Added\", self.name)\n",
    "\n",
    "    def visit_office_hours(self, staff):\n",
    "        staff.assist(self)\n",
    "        print(\"Thanks, \" + staff.name)\n",
    "\n",
    "class Professor:\n",
    "    def __init__(self, name):\n",
    "        self.name = name\n",
    "        self.students = {}\n",
    "\n",
    "    def add_student(self, student):\n",
    "        self.students[student.name] = student\n",
    "\n",
    "    def assist(self, student):\n",
    "        student.understanding += 1\n",
    "\n",
    "    def grant_more_slip_days(self, student, days):\n",
    "        student.max_slip_days = days"
   ]
  },
  {
   "cell_type": "code",
   "execution_count": 23,
   "id": "a8aa5526",
   "metadata": {},
   "outputs": [
    {
     "name": "stdout",
     "output_type": "stream",
     "text": [
      "Added Elle\n"
     ]
    }
   ],
   "source": [
    "callahan = Professor(\"Callahan\") # \"\"\n",
    "elle = Student(\"Elle\", callahan) # Added "
   ]
  },
  {
   "cell_type": "code",
   "execution_count": 24,
   "id": "33eb6246",
   "metadata": {},
   "outputs": [
    {
     "name": "stdout",
     "output_type": "stream",
     "text": [
      "Thanks, Callahan\n"
     ]
    }
   ],
   "source": [
    "elle.visit_office_hours(callahan) # thx call"
   ]
  },
  {
   "cell_type": "code",
   "execution_count": 25,
   "id": "2e966153",
   "metadata": {},
   "outputs": [
    {
     "name": "stdout",
     "output_type": "stream",
     "text": [
      "Thanks, Paulette\n"
     ]
    }
   ],
   "source": [
    "elle.visit_office_hours(Professor(\"Paulette\")) # thx paul"
   ]
  },
  {
   "cell_type": "code",
   "execution_count": 26,
   "id": "ec11a2e7",
   "metadata": {},
   "outputs": [
    {
     "data": {
      "text/plain": [
       "2"
      ]
     },
     "execution_count": 26,
     "metadata": {},
     "output_type": "execute_result"
    }
   ],
   "source": [
    "elle.understanding # 0+1+1 = 2"
   ]
  },
  {
   "cell_type": "code",
   "execution_count": 27,
   "id": "0df0c4af",
   "metadata": {},
   "outputs": [
    {
     "data": {
      "text/plain": [
       "['Elle']"
      ]
     },
     "execution_count": 27,
     "metadata": {},
     "output_type": "execute_result"
    }
   ],
   "source": [
    " [name for name in callahan.students] # [elle]"
   ]
  },
  {
   "cell_type": "code",
   "execution_count": 28,
   "id": "b327cf6b",
   "metadata": {},
   "outputs": [
    {
     "name": "stdout",
     "output_type": "stream",
     "text": [
      "Added Vivian\n",
      "Vivian\n"
     ]
    }
   ],
   "source": [
    "vivian = Student(\"Vivian\", Professor(\"Stromwell\")) # ADD vivian\n",
    "print(vivian.name) # vivian"
   ]
  },
  {
   "cell_type": "code",
   "execution_count": 29,
   "id": "4cb827bc",
   "metadata": {},
   "outputs": [
    {
     "data": {
      "text/plain": [
       "['Elle']"
      ]
     },
     "execution_count": 29,
     "metadata": {},
     "output_type": "execute_result"
    }
   ],
   "source": [
    "[name for name in callahan.students] # [ele]"
   ]
  },
  {
   "cell_type": "code",
   "execution_count": 30,
   "id": "4d38d16d",
   "metadata": {},
   "outputs": [
    {
     "data": {
      "text/plain": [
       "3"
      ]
     },
     "execution_count": 30,
     "metadata": {},
     "output_type": "execute_result"
    }
   ],
   "source": [
    "elle.max_slip_days # 3"
   ]
  },
  {
   "cell_type": "code",
   "execution_count": 31,
   "id": "51f0d52b",
   "metadata": {},
   "outputs": [
    {
     "data": {
      "text/plain": [
       "7"
      ]
     },
     "execution_count": 31,
     "metadata": {},
     "output_type": "execute_result"
    }
   ],
   "source": [
    "callahan.grant_more_slip_days(elle, 7)\n",
    "elle.max_slip_days #7"
   ]
  },
  {
   "cell_type": "markdown",
   "id": "746c9d95",
   "metadata": {},
   "source": [
    "As grant_more_slip_days changes ```max_slip_days``` via the instance, it wont change the class variable in this specific example"
   ]
  },
  {
   "cell_type": "code",
   "execution_count": 32,
   "id": "200804a8",
   "metadata": {},
   "outputs": [
    {
     "data": {
      "text/plain": [
       "3"
      ]
     },
     "execution_count": 32,
     "metadata": {},
     "output_type": "execute_result"
    }
   ],
   "source": [
    "vivian.max_slip_days"
   ]
  },
  {
   "cell_type": "code",
   "execution_count": 33,
   "id": "9f53028b",
   "metadata": {},
   "outputs": [
    {
     "data": {
      "text/plain": [
       "3"
      ]
     },
     "execution_count": 33,
     "metadata": {},
     "output_type": "execute_result"
    }
   ],
   "source": [
    "Student.max_slip_days"
   ]
  },
  {
   "cell_type": "markdown",
   "id": "fb9f41a5",
   "metadata": {},
   "source": [
    "### Q4: \n",
    "We'd like to create a Keyboard class that takes in an arbitrary number of Buttons and stores these Buttons in a dictionary. The keys in the dictionary will be ints that represent the postition on the Keyboard, and the values will be the respective Button. Fill out the methods in the Keyboard class according to each description, using the doctests as a reference for the behavior of a Keyboard\n",
    "```python\n",
    "    A Keyboard takes in an arbitrary amount of buttons, and has a\n",
    "    dictionary of positions as keys, and values as Buttons.\n",
    "    >>> b1 = Button(0, \"H\")\n",
    "    >>> b2 = Button(1, \"I\")\n",
    "    >>> k = Keyboard(b1, b2)\n",
    "    >>> k.buttons[0].key\n",
    "    'H'\n",
    "    >>> k.press(1)\n",
    "    'I'\n",
    "    >>> k.press(2) # No button at this position\n",
    "    ''\n",
    "    >>> k.typing([0, 1])\n",
    "    'HI'\n",
    "    >>> k.typing([1, 0])\n",
    "    'IH'\n",
    "    >>> b1.times_pressed\n",
    "    2\n",
    "    >>> b2.times_pressed\n",
    "    3\n",
    "```"
   ]
  },
  {
   "cell_type": "code",
   "execution_count": 34,
   "id": "c0c57118",
   "metadata": {},
   "outputs": [],
   "source": [
    "class Button:\n",
    "    def __init__(self, pos, key):\n",
    "        self.pos = pos\n",
    "        self.key = key\n",
    "        self.times_pressed = 0\n",
    "\n",
    "class Keyboard:\n",
    "\n",
    "    def __init__(self, *args):\n",
    "        self.buttons = {}\n",
    "        for button in args:\n",
    "            self.buttons[button.pos] = button\n",
    "\n",
    "    def press(self, info):\n",
    "        \"\"\"Takes in a position of the button pressed, and\n",
    "        returns that button's output.\"\"\"\n",
    "        if info in self.buttons:\n",
    "            b = self.buttons[info]\n",
    "            b.times_pressed += 1\n",
    "            return b.key\n",
    "        return \"\"\n",
    "\n",
    "    def typing(self, typing_input):\n",
    "        \"\"\"Takes in a list of positions of buttons pressed, and\n",
    "        returns the total output.\"\"\"\n",
    "        res = ''\n",
    "        for e in typing_input:\n",
    "            res = res + self.press(e)\n",
    "        return res"
   ]
  },
  {
   "cell_type": "code",
   "execution_count": 35,
   "id": "ef970b53",
   "metadata": {},
   "outputs": [
    {
     "data": {
      "text/plain": [
       "'I'"
      ]
     },
     "execution_count": 35,
     "metadata": {},
     "output_type": "execute_result"
    }
   ],
   "source": [
    "b1 = Button(0, \"H\")\n",
    "b2 = Button(1, \"I\")\n",
    "k = Keyboard(b1, b2)\n",
    "k.press(1)"
   ]
  },
  {
   "cell_type": "code",
   "execution_count": 36,
   "id": "f3a48485",
   "metadata": {},
   "outputs": [
    {
     "data": {
      "text/plain": [
       "''"
      ]
     },
     "execution_count": 36,
     "metadata": {},
     "output_type": "execute_result"
    }
   ],
   "source": [
    "k.press(2)"
   ]
  },
  {
   "cell_type": "code",
   "execution_count": 37,
   "id": "a1b0e449",
   "metadata": {},
   "outputs": [
    {
     "data": {
      "text/plain": [
       "'HI'"
      ]
     },
     "execution_count": 37,
     "metadata": {},
     "output_type": "execute_result"
    }
   ],
   "source": [
    "k.typing([0, 1])"
   ]
  },
  {
   "cell_type": "code",
   "execution_count": 38,
   "id": "8881b7a7",
   "metadata": {},
   "outputs": [
    {
     "data": {
      "text/plain": [
       "'IH'"
      ]
     },
     "execution_count": 38,
     "metadata": {},
     "output_type": "execute_result"
    }
   ],
   "source": [
    "k.typing([1, 0])"
   ]
  },
  {
   "cell_type": "code",
   "execution_count": 39,
   "id": "8a18ef6b",
   "metadata": {},
   "outputs": [
    {
     "data": {
      "text/plain": [
       "2"
      ]
     },
     "execution_count": 39,
     "metadata": {},
     "output_type": "execute_result"
    }
   ],
   "source": [
    "b1.times_pressed"
   ]
  },
  {
   "cell_type": "code",
   "execution_count": 40,
   "id": "808facbd",
   "metadata": {},
   "outputs": [
    {
     "data": {
      "text/plain": [
       "3"
      ]
     },
     "execution_count": 40,
     "metadata": {},
     "output_type": "execute_result"
    }
   ],
   "source": [
    "b2.times_pressed"
   ]
  }
 ],
 "metadata": {
  "kernelspec": {
   "display_name": "Python 3",
   "language": "python",
   "name": "python3"
  },
  "language_info": {
   "codemirror_mode": {
    "name": "ipython",
    "version": 3
   },
   "file_extension": ".py",
   "mimetype": "text/x-python",
   "name": "python",
   "nbconvert_exporter": "python",
   "pygments_lexer": "ipython3",
   "version": "3.7.11"
  }
 },
 "nbformat": 4,
 "nbformat_minor": 5
}
