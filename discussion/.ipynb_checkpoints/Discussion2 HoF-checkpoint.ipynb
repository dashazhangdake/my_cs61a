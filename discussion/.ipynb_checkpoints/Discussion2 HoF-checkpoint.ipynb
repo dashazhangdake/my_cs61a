{
 "cells": [
  {
   "cell_type": "code",
   "execution_count": 1,
   "id": "03f0a603",
   "metadata": {},
   "outputs": [],
   "source": [
    "from operator import add, mul\n",
    "\n",
    "square = lambda x: x * x\n",
    "\n",
    "identity = lambda x: x\n",
    "\n",
    "triple = lambda x: 3 * x\n",
    "\n",
    "increment = lambda x: x + 1"
   ]
  },
  {
   "cell_type": "markdown",
   "id": "fc0601e9",
   "metadata": {},
   "source": [
    "# Function calling"
   ]
  },
  {
   "cell_type": "markdown",
   "id": "f9952c15",
   "metadata": {},
   "source": [
    "## Q1: Call Diagram"
   ]
  },
  {
   "cell_type": "code",
   "execution_count": 2,
   "id": "61f6199a",
   "metadata": {},
   "outputs": [
    {
     "name": "stdout",
     "output_type": "stream",
     "text": [
      "<function double at 0x7f8c34e583b0>\n",
      "6\n",
      "12\n"
     ]
    }
   ],
   "source": [
    "def double(x):\n",
    "    return x * 2\n",
    "\n",
    "hmmm = double\n",
    "wow = double(3)\n",
    "res = hmmm(wow)\n",
    "print(hmmm)\n",
    "print(wow)\n",
    "print(res)"
   ]
  },
  {
   "cell_type": "markdown",
   "id": "300a06ae",
   "metadata": {},
   "source": [
    "## Q2: Nested Call Diagram"
   ]
  },
  {
   "cell_type": "code",
   "execution_count": 3,
   "id": "edde2742",
   "metadata": {},
   "outputs": [],
   "source": [
    "def f(x):\n",
    "    return x\n",
    "\n",
    "def g(x, y):\n",
    "    if x(y):\n",
    "        print('truepath')\n",
    "        return not y\n",
    "    print('falsepath')\n",
    "    return y"
   ]
  },
  {
   "cell_type": "code",
   "execution_count": 4,
   "id": "b28d7534",
   "metadata": {},
   "outputs": [
    {
     "name": "stdout",
     "output_type": "stream",
     "text": [
      "3\n"
     ]
    }
   ],
   "source": [
    "x = 3\n",
    "print(f(x))\n",
    "# x = g(f, x)"
   ]
  },
  {
   "cell_type": "code",
   "execution_count": 5,
   "id": "367345a1",
   "metadata": {},
   "outputs": [
    {
     "name": "stdout",
     "output_type": "stream",
     "text": [
      "truepath\n",
      "False\n"
     ]
    }
   ],
   "source": [
    "x = g(f, x)\n",
    "print(x)"
   ]
  },
  {
   "cell_type": "code",
   "execution_count": 6,
   "id": "a7a7a8a1",
   "metadata": {},
   "outputs": [
    {
     "name": "stdout",
     "output_type": "stream",
     "text": [
      "falsepath\n",
      "0\n"
     ]
    }
   ],
   "source": [
    "f = g(f, 0)\n",
    "print(f)"
   ]
  },
  {
   "cell_type": "markdown",
   "id": "091f2370",
   "metadata": {},
   "source": [
    "# Lambda\n",
    "A lambda expression evaluates to a function, called a lambda function. \n",
    "\n",
    "For example: ```lambda y: x + y``` is a lambda expression, and can be read as: \"a function that takes in one parameter ```y``` and returns x + y\n",
    "\n",
    "\n",
    "A lambda expression by itself evaluates to a function but does not bind it to a name. Also note that the return expression of this function is not evaluated until the lambda is called. "
   ]
  },
  {
   "cell_type": "code",
   "execution_count": 7,
   "id": "d2639573",
   "metadata": {},
   "outputs": [
    {
     "name": "stdout",
     "output_type": "stream",
     "text": [
      "<function <lambda> at 0x7f8c34e7a7a0>\n",
      "4\n"
     ]
    }
   ],
   "source": [
    "what = lambda x: x + 5\n",
    "print(what)\n",
    "print(what(-1))"
   ]
  },
  {
   "cell_type": "markdown",
   "id": "9c60abe7",
   "metadata": {},
   "source": [
    "Unlike ```def```, lambda can be used as an operator or an operand to a call expression. Because they are simply one-line expressions that evaluates to fuinctions."
   ]
  },
  {
   "cell_type": "code",
   "execution_count": 8,
   "id": "a1fdd3dc",
   "metadata": {},
   "outputs": [
    {
     "name": "stdout",
     "output_type": "stream",
     "text": [
      "9\n"
     ]
    }
   ],
   "source": [
    "print((lambda y: y + 5)(4))"
   ]
  },
  {
   "cell_type": "markdown",
   "id": "662dcbee",
   "metadata": {},
   "source": [
    "You can also pass a lambda to another lambda"
   ]
  },
  {
   "cell_type": "code",
   "execution_count": 9,
   "id": "d81ed976",
   "metadata": {},
   "outputs": [],
   "source": [
    "res = (lambda f, x: f(x))(lambda y: y + 1, 10)"
   ]
  },
  {
   "cell_type": "markdown",
   "id": "47a02a26",
   "metadata": {},
   "source": [
    "In this example\n",
    "```\n",
    "For the first lambda\n",
    "    f = lambda y: y + 1\n",
    "    x = 10\n",
    "Then:\n",
    "    res = x + 1\n",
    "```"
   ]
  },
  {
   "cell_type": "code",
   "execution_count": 10,
   "id": "cc15aa6b",
   "metadata": {},
   "outputs": [
    {
     "name": "stdout",
     "output_type": "stream",
     "text": [
      "11\n"
     ]
    }
   ],
   "source": [
    "print(res)"
   ]
  },
  {
   "cell_type": "markdown",
   "id": "5834aef4",
   "metadata": {},
   "source": [
    "## Q3: Calling Lambda"
   ]
  },
  {
   "cell_type": "code",
   "execution_count": 11,
   "id": "35078fff",
   "metadata": {},
   "outputs": [],
   "source": [
    "a = lambda x: x * 2 + 1\n",
    "def b(b, x):\n",
    "    return b(x + a(x))\n",
    "x = 3"
   ]
  },
  {
   "cell_type": "markdown",
   "id": "e13866aa",
   "metadata": {},
   "source": [
    "```\n",
    "    First evaluate: x + a(x) = 3 + (3 * 2 + 1) = 3 + 7 = 10\n",
    "    Then go to : a(10) = 21\n",
    "```"
   ]
  },
  {
   "cell_type": "code",
   "execution_count": 12,
   "id": "6f47976d",
   "metadata": {},
   "outputs": [
    {
     "name": "stdout",
     "output_type": "stream",
     "text": [
      "21\n"
     ]
    }
   ],
   "source": [
    "print(b(a, x))"
   ]
  },
  {
   "cell_type": "markdown",
   "id": "8c60a51a",
   "metadata": {},
   "source": [
    "# HOF\n",
    "A **Higher Order Function (HOF)** is a function that manipulates other functions by **taking in functions as arguments**, **returning functions**, or both."
   ]
  },
  {
   "cell_type": "code",
   "execution_count": 13,
   "id": "82c42650",
   "metadata": {},
   "outputs": [],
   "source": [
    "def composer(f1, f2):\n",
    "    def f(x):\n",
    "        return f1(f2(x))\n",
    "    return f"
   ]
  },
  {
   "cell_type": "code",
   "execution_count": 14,
   "id": "e0ae2247",
   "metadata": {},
   "outputs": [],
   "source": [
    "power5 = composer(square, triple)"
   ]
  },
  {
   "cell_type": "code",
   "execution_count": 15,
   "id": "9c6576f8",
   "metadata": {},
   "outputs": [
    {
     "data": {
      "text/plain": [
       "81"
      ]
     },
     "execution_count": 15,
     "metadata": {},
     "output_type": "execute_result"
    }
   ],
   "source": [
    "power5(3)"
   ]
  },
  {
   "cell_type": "markdown",
   "id": "5a7f32d5",
   "metadata": {},
   "source": [
    "## Q4: Make adder"
   ]
  },
  {
   "cell_type": "code",
   "execution_count": 16,
   "id": "ee0e92d7",
   "metadata": {},
   "outputs": [],
   "source": [
    "n = 9\n",
    "def make_adder1(n):\n",
    "    return lambda k: k + n"
   ]
  },
  {
   "cell_type": "code",
   "execution_count": 17,
   "id": "469a2a74",
   "metadata": {},
   "outputs": [
    {
     "data": {
      "text/plain": [
       "19"
      ]
     },
     "execution_count": 17,
     "metadata": {},
     "output_type": "execute_result"
    }
   ],
   "source": [
    "add10 = make_adder1(10)\n",
    "add10(9)"
   ]
  },
  {
   "cell_type": "markdown",
   "id": "56b73fd6",
   "metadata": {},
   "source": [
    "## Q5: Make keeper\n",
    "Write a function that takes in a number ```n``` and returns a function that can take in a single parameter ```cond```. When we pass in some condition function ```cond``` into this returned function, it will print out numbers from 1 to n where calling cond on that number returns True."
   ]
  },
  {
   "cell_type": "code",
   "execution_count": 18,
   "id": "700c3cf8",
   "metadata": {},
   "outputs": [],
   "source": [
    "def makekeeper(n):\n",
    "    def setcond(cond):\n",
    "        for i in range(1, n+1):\n",
    "            if cond(i):\n",
    "                print(i)\n",
    "    return setcond"
   ]
  },
  {
   "cell_type": "code",
   "execution_count": 19,
   "id": "7add3cfd",
   "metadata": {},
   "outputs": [],
   "source": [
    "def is_even(x):\n",
    "    return x % 2 == 0"
   ]
  },
  {
   "cell_type": "code",
   "execution_count": 20,
   "id": "49179d59",
   "metadata": {},
   "outputs": [
    {
     "name": "stdout",
     "output_type": "stream",
     "text": [
      "2\n",
      "4\n",
      "6\n",
      "8\n"
     ]
    }
   ],
   "source": [
    "makekeeper(9)(is_even)"
   ]
  },
  {
   "cell_type": "markdown",
   "id": "0e05546f",
   "metadata": {},
   "source": [
    "# Currying\n",
    "\n",
    "When converting a function that takes multiple arguments into a chain of function that each take a single argument. This is called **currying**"
   ]
  },
  {
   "cell_type": "code",
   "execution_count": 21,
   "id": "887ab6da",
   "metadata": {},
   "outputs": [],
   "source": [
    "def curried_pow(x):\n",
    "    def h(y):\n",
    "        return pow(x, y)\n",
    "    return h"
   ]
  },
  {
   "cell_type": "code",
   "execution_count": 22,
   "id": "f7bd4f9e",
   "metadata": {},
   "outputs": [
    {
     "data": {
      "text/plain": [
       "16"
      ]
     },
     "execution_count": 22,
     "metadata": {},
     "output_type": "execute_result"
    }
   ],
   "source": [
    "curried_pow(2)(4)"
   ]
  },
  {
   "cell_type": "markdown",
   "id": "8a93b3cc",
   "metadata": {},
   "source": [
    "## Q6: Curry2 Diagram"
   ]
  },
  {
   "cell_type": "code",
   "execution_count": 23,
   "id": "5226116f",
   "metadata": {},
   "outputs": [],
   "source": [
    "def curry2(h):\n",
    "    def f(x1):\n",
    "        def g(y):\n",
    "            return h(x1, y)\n",
    "        return g\n",
    "    return f "
   ]
  },
  {
   "cell_type": "code",
   "execution_count": 24,
   "id": "3b99dc48",
   "metadata": {},
   "outputs": [],
   "source": [
    "makeadder = curry2(lambda x, y: x - y) # h(x, y) = x + y\n",
    "add_three = makeadder(3) # calls f(3)\n",
    "add_four = makeadder(4) # calls f(4)\n",
    "five = add_three(-2) # calls g(-2) in the scope of f(x), returns h(x, y)"
   ]
  },
  {
   "cell_type": "code",
   "execution_count": 25,
   "id": "37cd49ac",
   "metadata": {},
   "outputs": [
    {
     "name": "stdout",
     "output_type": "stream",
     "text": [
      "5\n"
     ]
    }
   ],
   "source": [
    "print(five)"
   ]
  },
  {
   "cell_type": "code",
   "execution_count": 26,
   "id": "0bc73e99",
   "metadata": {},
   "outputs": [
    {
     "name": "stdout",
     "output_type": "stream",
     "text": [
      "<function curry2.<locals>.f.<locals>.g at 0x7f8c34e1ad40>\n"
     ]
    }
   ],
   "source": [
    "print(add_four)"
   ]
  },
  {
   "cell_type": "code",
   "execution_count": 27,
   "id": "3a806587",
   "metadata": {},
   "outputs": [
    {
     "name": "stdout",
     "output_type": "stream",
     "text": [
      "-4\n"
     ]
    }
   ],
   "source": [
    "minus8 = add_four(8) # f(4), g(-2)\n",
    "print(minus8)"
   ]
  },
  {
   "cell_type": "markdown",
   "id": "54334fd6",
   "metadata": {},
   "source": [
    "## Q7: HOF diagram"
   ]
  },
  {
   "cell_type": "code",
   "execution_count": 28,
   "id": "67c300b1",
   "metadata": {},
   "outputs": [],
   "source": [
    "n = 7\n",
    "\n",
    "def f(x):\n",
    "    n = 8\n",
    "    return x + 1\n",
    "\n",
    "def g(x):\n",
    "    n = 9\n",
    "    def h():\n",
    "        return x+1\n",
    "    return h\n",
    "\n",
    "def f(f, x):\n",
    "    return f(x + n)"
   ]
  },
  {
   "cell_type": "code",
   "execution_count": 29,
   "id": "ae4f6b61",
   "metadata": {},
   "outputs": [
    {
     "name": "stdout",
     "output_type": "stream",
     "text": [
      "<function g.<locals>.h at 0x7f8c34e88f80>\n"
     ]
    }
   ],
   "source": [
    "f = f(g, n) # retruns g(n + n), i.e. g(14) in this case\n",
    "print(f)"
   ]
  },
  {
   "cell_type": "code",
   "execution_count": 30,
   "id": "259a49ec",
   "metadata": {},
   "outputs": [],
   "source": [
    "g = (lambda y: y())(f) # returns f()"
   ]
  },
  {
   "cell_type": "code",
   "execution_count": 31,
   "id": "83b626c2",
   "metadata": {},
   "outputs": [
    {
     "name": "stdout",
     "output_type": "stream",
     "text": [
      "15\n"
     ]
    }
   ],
   "source": [
    "print(g)"
   ]
  },
  {
   "cell_type": "markdown",
   "id": "d13f2363",
   "metadata": {},
   "source": [
    "## Q8: MatchMaker\n",
    "Implement match_k, which takes in an ```integer k``` and returns a function that takes in a ```variable x``` and returns True if **all the digits in x that are k apart** are the same.\n",
    "\n",
    "For example, match_k(2) returns a one argument function that takes in x and checks if digits that are 2 away in x are the same.\n",
    "\n",
    "match_k(2)(1010) has the value of x = 1010 and digits 1, 0, 1, 0 going from left to right. 1 == 1 and 0 == 0, so the match_k(2)(1010) results in True.\n",
    "\n",
    "match_k(2)(2010) has the value of x = 2010 and digits 2, 0, 1, 0 going from left to right. 2 != 1 and 0 == 0, so the match_k(2)(2010) results in False.\n",
    "\n",
    "Important: You may not use strings or indexing for this problem. You do not have to use all the lines, one staff solution does not use the line directly above the while loop.\n",
    "\n",
    "Hint: Floor dividing by powers of 10 gets rid of the rightmost digits.\n"
   ]
  },
  {
   "cell_type": "code",
   "execution_count": 32,
   "id": "8806d25c",
   "metadata": {},
   "outputs": [],
   "source": [
    "def match_k(k):\n",
    "    \"\"\" Return a function that checks if digits k apart match\n",
    "\n",
    "    >>> match_k(2)(1010)\n",
    "    True\n",
    "    >>> match_k(2)(2010)\n",
    "    False\n",
    "    >>> match_k(1)(1010)\n",
    "    False\n",
    "    >>> match_k(1)(1)\n",
    "    True\n",
    "    >>> match_k(1)(2111111111111111)\n",
    "    False\n",
    "    >>> match_k(3)(123123)\n",
    "    True\n",
    "    >>> match_k(2)(123123)\n",
    "    False\n",
    "    \"\"\"\n",
    "#     ____________________________\n",
    "#         ____________________________\n",
    "#         while ____________________________:\n",
    "#             if ____________________________:\n",
    "#                 return ____________________________\n",
    "#             ____________________________\n",
    "#         ____________________________\n",
    "#     ____________________________\n",
    "    def match_with_n(x):\n",
    "        while(x > 10**k):\n",
    "            if (x // 10**k)%10 != x % 10:\n",
    "                return False\n",
    "            x = x // 10\n",
    "        return True\n",
    "    return match_with_n"
   ]
  },
  {
   "cell_type": "code",
   "execution_count": 33,
   "id": "43c427e2",
   "metadata": {},
   "outputs": [
    {
     "data": {
      "text/plain": [
       "False"
      ]
     },
     "execution_count": 33,
     "metadata": {},
     "output_type": "execute_result"
    }
   ],
   "source": [
    "match_k(2)(2010)"
   ]
  },
  {
   "cell_type": "code",
   "execution_count": 34,
   "id": "0b16bbe2",
   "metadata": {},
   "outputs": [
    {
     "data": {
      "text/plain": [
       "True"
      ]
     },
     "execution_count": 34,
     "metadata": {},
     "output_type": "execute_result"
    }
   ],
   "source": [
    "match_k(2)(1010)"
   ]
  },
  {
   "cell_type": "code",
   "execution_count": 35,
   "id": "8cfb3492",
   "metadata": {},
   "outputs": [
    {
     "data": {
      "text/plain": [
       "True"
      ]
     },
     "execution_count": 35,
     "metadata": {},
     "output_type": "execute_result"
    }
   ],
   "source": [
    "match_k(3)(123123)"
   ]
  },
  {
   "cell_type": "code",
   "execution_count": 36,
   "id": "8df7c14e",
   "metadata": {},
   "outputs": [
    {
     "data": {
      "text/plain": [
       "False"
      ]
     },
     "execution_count": 36,
     "metadata": {},
     "output_type": "execute_result"
    }
   ],
   "source": [
    "match_k(2)(123123)"
   ]
  },
  {
   "cell_type": "code",
   "execution_count": 37,
   "id": "3a322985",
   "metadata": {},
   "outputs": [
    {
     "data": {
      "text/plain": [
       "True"
      ]
     },
     "execution_count": 37,
     "metadata": {},
     "output_type": "execute_result"
    }
   ],
   "source": [
    "match_k(1)(111111111)"
   ]
  }
 ],
 "metadata": {
  "kernelspec": {
   "display_name": "Python 3",
   "language": "python",
   "name": "python3"
  },
  "language_info": {
   "codemirror_mode": {
    "name": "ipython",
    "version": 3
   },
   "file_extension": ".py",
   "mimetype": "text/x-python",
   "name": "python",
   "nbconvert_exporter": "python",
   "pygments_lexer": "ipython3",
   "version": "3.7.11"
  }
 },
 "nbformat": 4,
 "nbformat_minor": 5
}
