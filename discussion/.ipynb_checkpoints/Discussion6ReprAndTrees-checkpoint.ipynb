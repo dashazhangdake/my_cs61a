{
 "cells": [
  {
   "cell_type": "markdown",
   "id": "ec55cdcd",
   "metadata": {},
   "source": [
    "# 1. Representation: Repr, Str\n",
    "\n",
    "There are two main ways to produce the \"string\" of an object in Python: ```str()``` and ```repr()```. While the two are similar, they are used for **different purposes**.\n",
    "\n",
    "* ```str()``` is used to describe the object to the end user in a \"Human-readable\" form\n",
    "* while ```repr()``` can be thought of as a \"Computer-readable\" form mainly used for debugging and development.\n",
    "\n",
    "When we define a class in Python, ```__str__``` and ```__repr__``` are both built-in methods for the class.\n",
    "\n",
    "We can call those methods using the global built-in functions ```str(obj)``` or ```repr(obj)``` instead of dot notation, ```obj.__repr__()``` or ```obj.__str__()```.\n",
    "\n",
    "In addition:\n",
    "\n",
    "* the print() function calls the ```__str__ ```method of the object implicitly\n",
    "* simply calling the object in interactive mode calls the ```__repr__``` method."
   ]
  },
  {
   "cell_type": "markdown",
   "id": "8ab0c443",
   "metadata": {},
   "source": [
    "## 1.1. Example for ```Repr```, ```Str```"
   ]
  },
  {
   "cell_type": "code",
   "execution_count": 1,
   "id": "34467fba",
   "metadata": {},
   "outputs": [],
   "source": [
    "class Rational:\n",
    "    def __init__(self, numerator, denominator):\n",
    "        self.numerator = numerator\n",
    "        self.denominator = denominator\n",
    "\n",
    "    def __str__(self): # override __str__ to print (numer/denom)\n",
    "        return f'{self.numerator}/{self.denominator}'\n",
    "\n",
    "    def __repr__(self):\n",
    "        return f'Rational({self.numerator},{self.denominator})' # override __repr__ to print(Rational(numer, denom))"
   ]
  },
  {
   "cell_type": "code",
   "execution_count": 2,
   "id": "90f2eada",
   "metadata": {},
   "outputs": [],
   "source": [
    "a = Rational(2, 3)"
   ]
  },
  {
   "cell_type": "code",
   "execution_count": 3,
   "id": "b606af38",
   "metadata": {},
   "outputs": [
    {
     "data": {
      "text/plain": [
       "Rational(2,3)"
      ]
     },
     "execution_count": 3,
     "metadata": {},
     "output_type": "execute_result"
    }
   ],
   "source": [
    "a"
   ]
  },
  {
   "cell_type": "code",
   "execution_count": 4,
   "id": "b261454c",
   "metadata": {},
   "outputs": [
    {
     "name": "stdout",
     "output_type": "stream",
     "text": [
      "2/3\n"
     ]
    }
   ],
   "source": [
    "print(a)"
   ]
  },
  {
   "cell_type": "code",
   "execution_count": 5,
   "id": "4fe2bb99",
   "metadata": {},
   "outputs": [
    {
     "data": {
      "text/plain": [
       "'2/3'"
      ]
     },
     "execution_count": 5,
     "metadata": {},
     "output_type": "execute_result"
    }
   ],
   "source": [
    "str(a)"
   ]
  },
  {
   "cell_type": "code",
   "execution_count": 6,
   "id": "fde39ea7",
   "metadata": {},
   "outputs": [
    {
     "data": {
      "text/plain": [
       "'Rational(2,3)'"
      ]
     },
     "execution_count": 6,
     "metadata": {},
     "output_type": "execute_result"
    }
   ],
   "source": [
    "repr(a)"
   ]
  },
  {
   "cell_type": "code",
   "execution_count": 7,
   "id": "decd2c4c",
   "metadata": {},
   "outputs": [
    {
     "data": {
      "text/plain": [
       "'2/3'"
      ]
     },
     "execution_count": 7,
     "metadata": {},
     "output_type": "execute_result"
    }
   ],
   "source": [
    "a.__str__()"
   ]
  },
  {
   "cell_type": "code",
   "execution_count": 8,
   "id": "0a0a98d9",
   "metadata": {},
   "outputs": [
    {
     "data": {
      "text/plain": [
       "'Rational(2,3)'"
      ]
     },
     "execution_count": 8,
     "metadata": {},
     "output_type": "execute_result"
    }
   ],
   "source": [
    "a.__repr__()"
   ]
  },
  {
   "cell_type": "markdown",
   "id": "236bcb62",
   "metadata": {},
   "source": [
    "## Q1: Repr-esentation"
   ]
  },
  {
   "cell_type": "code",
   "execution_count": 9,
   "id": "f2052fdd",
   "metadata": {},
   "outputs": [],
   "source": [
    "class A:\n",
    "    def __init__(self, x):\n",
    "        self.x = x\n",
    "\n",
    "    def __repr__(self):\n",
    "         return self.x\n",
    "\n",
    "    def __str__(self):\n",
    "         return self.x * 2\n",
    "        \n",
    "class B:\n",
    "    def __init__(self):\n",
    "        print('boo!')\n",
    "        self.a = []\n",
    "\n",
    "    def add_a(self, a):\n",
    "        self.a.append(a)\n",
    "\n",
    "    def __repr__(self):\n",
    "        print(len(self.a))\n",
    "        ret = ''\n",
    "        for a in self.a:\n",
    "            ret += str(a)\n",
    "        return ret"
   ]
  },
  {
   "cell_type": "code",
   "execution_count": 10,
   "id": "3ca802da",
   "metadata": {},
   "outputs": [
    {
     "data": {
      "text/plain": [
       "one"
      ]
     },
     "execution_count": 10,
     "metadata": {},
     "output_type": "execute_result"
    }
   ],
   "source": [
    "A('one') # terminal output will be one"
   ]
  },
  {
   "cell_type": "code",
   "execution_count": 11,
   "id": "90157957",
   "metadata": {},
   "outputs": [
    {
     "name": "stdout",
     "output_type": "stream",
     "text": [
      "oneone\n"
     ]
    }
   ],
   "source": [
    "print(A('one')) # oneone"
   ]
  },
  {
   "cell_type": "code",
   "execution_count": 12,
   "id": "8132fce3",
   "metadata": {},
   "outputs": [
    {
     "data": {
      "text/plain": [
       "'two'"
      ]
     },
     "execution_count": 12,
     "metadata": {},
     "output_type": "execute_result"
    }
   ],
   "source": [
    "repr(A('two')) # 'two'"
   ]
  },
  {
   "cell_type": "code",
   "execution_count": 13,
   "id": "2e856669",
   "metadata": {},
   "outputs": [
    {
     "name": "stdout",
     "output_type": "stream",
     "text": [
      "boo!\n"
     ]
    }
   ],
   "source": [
    "b = B() # boo!"
   ]
  },
  {
   "cell_type": "code",
   "execution_count": 14,
   "id": "b5a8691e",
   "metadata": {},
   "outputs": [
    {
     "name": "stdout",
     "output_type": "stream",
     "text": [
      "2\n"
     ]
    },
    {
     "data": {
      "text/plain": [
       "aabb"
      ]
     },
     "execution_count": 14,
     "metadata": {},
     "output_type": "execute_result"
    }
   ],
   "source": [
    "b.add_a(A('a')) \n",
    "b.add_a(A('b')) # b.a = ['a', 'b']\n",
    "b # firstline: len(b.a); secondline: aa + bb"
   ]
  },
  {
   "cell_type": "code",
   "execution_count": 15,
   "id": "47b0b788",
   "metadata": {},
   "outputs": [
    {
     "name": "stdout",
     "output_type": "stream",
     "text": [
      "boo!\n",
      "2\n"
     ]
    },
    {
     "data": {
      "text/plain": [
       "ab"
      ]
     },
     "execution_count": 15,
     "metadata": {},
     "output_type": "execute_result"
    }
   ],
   "source": [
    "b1 = B()\n",
    "b1.add_a('a') \n",
    "b1.add_a('b') # b.a = ['a', 'b']\n",
    "b1 # firstline: len(b.a); secondline: aa + bb"
   ]
  },
  {
   "cell_type": "markdown",
   "id": "497f46e8",
   "metadata": {},
   "source": [
    "# 2. Trees\n",
    "<img src=\"resources/discussion6_p1.png\" alt=\"Drawing\" style=\"width: 480px;\"/>\n",
    "\n",
    "We say the **root** is the node where the tree begins to branch out at the top, and the **leaves** are the nodes where the tree ends at the bottom.\n",
    "\n",
    "Some terminology regarding trees:\n",
    "* **Parent Node**: A node that has at least one branch.\n",
    "* **Child Node**: A node that has a parent. A child node can only have one parent\n",
    "* **Root**: The top node of the tree. In this case, it is ```1``` node\n",
    "* **Label**: The value at a node. In this case, every node's label is an integer\n",
    "* **Leaf**: A node has no branches. In this casse, nodes ```4, 5, 6, 2``` are leaves\n",
    "* **Branch**: A subtree fof the root. Trees have branches, which are trees themselves: this is why trees are recursive data structures\n",
    "* **Depth**: How far away a node is from the root. We define this as the number of edges between the root to the node. As there are no edges between the root and itself, the root has depth 0. In our example, the ```3``` node has depth 1 and the ```4``` node has depth 2.\n",
    "* **Height**: The depth of the lowest (furthest from the root) leaf. In our example, the ```4, 5, and 6``` nodes are all the lowest leaves with depth 2. Thus, the entire tree has height 2."
   ]
  },
  {
   "cell_type": "markdown",
   "id": "87185b7b",
   "metadata": {},
   "source": [
    "## 2.0. Implementation\n",
    "A tree has a root value and a list of branches, where each branch is itself a tree.\n",
    "* The ```Tree``` constructor takes in a value ```label``` for the root, and an optional list of branches ```branches```. If ```branches``` is not given, the constructor uses the empty list ```[]``` as the default\n",
    "```python\n",
    "class Tree:\n",
    "    def __init__(self, label, branches=[]):\n",
    "        self.label = label\n",
    "        self.branches = list(branches)\n",
    "```\n",
    "\n",
    "* To get the label of a tree ```t```, access the instance attribute: ```t.label```\n",
    "* Accessing the instance attribute ```t.branches``` will give us a **list of branches**. Treating the return value of ```t.branches``` as a list is then part of how we define trees"
   ]
  },
  {
   "cell_type": "code",
   "execution_count": 19,
   "id": "1ee35aaf",
   "metadata": {},
   "outputs": [],
   "source": [
    "class Tree:\n",
    "    def __init__(self, label, branches=[]):\n",
    "        self.label = label\n",
    "        for branch in branches:\n",
    "            assert isinstance(branch, Tree)\n",
    "        self.branches = list(branches)\n",
    "    \n",
    "    def is_leaf(self):\n",
    "        return self.branches==[]\n",
    "    \n",
    "    def __repr__(self):\n",
    "        if self.branches:\n",
    "            branch_str = ', ' + repr(self.branches)\n",
    "        else:\n",
    "            branch_str = ''\n",
    "        return 'Tree({0}{1})'.format(self.label, branch_str)\n",
    "    def __str__(self):\n",
    "        return '\\n'.join(self.indented())\n",
    "    \n",
    "    def indented(self):\n",
    "        lines = []\n",
    "        for b in self.branches:\n",
    "            for line in b.indented():\n",
    "                lines.append(' ' + line)\n",
    "            return [str(self.label)] + lines"
   ]
  },
  {
   "cell_type": "markdown",
   "id": "546ad996",
   "metadata": {},
   "source": [
    "## Q2: Height \n",
    "\n",
    "Height is the lenght of longest path from the root to leaf\n",
    "\n",
    "```python\n",
    "    Return the height of a tree.\n",
    "\n",
    "    >>> t = Tree(3, [Tree(5, [Tree(1)]), Tree(2)])\n",
    "    >>> height(t)\n",
    "    2\n",
    "    >>> t = Tree(3, [Tree(1), Tree(2, [Tree(5, [Tree(6)]), Tree(1)])])\n",
    "    >>> height(t)\n",
    "    3\n",
    "```"
   ]
  },
  {
   "cell_type": "code",
   "execution_count": 107,
   "id": "822b62c5",
   "metadata": {},
   "outputs": [],
   "source": [
    "def height(t):\n",
    "    print('label:', t.label)\n",
    "    if t.is_leaf():\n",
    "        print(t.label, 'reachleaf')\n",
    "        return 0\n",
    "    else:\n",
    "        height_list = [height(branch) for branch in t.branches]\n",
    "        max_depth = 1 + max(height_list)\n",
    "        print(t.label, height_list, max_depth)\n",
    "        return max_depth      "
   ]
  },
  {
   "cell_type": "code",
   "execution_count": 108,
   "id": "19de9569",
   "metadata": {},
   "outputs": [
    {
     "name": "stdout",
     "output_type": "stream",
     "text": [
      "label: 3\n",
      "label: 5\n",
      "label: 1\n",
      "1 reachleaf\n",
      "5 [0] 1\n",
      "label: 2\n",
      "label: 4\n",
      "label: 8\n",
      "8 reachleaf\n",
      "4 [0] 1\n",
      "2 [1] 2\n",
      "3 [1, 2] 3\n"
     ]
    },
    {
     "data": {
      "text/plain": [
       "3"
      ]
     },
     "execution_count": 108,
     "metadata": {},
     "output_type": "execute_result"
    }
   ],
   "source": [
    "t = Tree(3, [Tree(5, [Tree(1)]), Tree(2, [Tree(4,[Tree(8)])])])\n",
    "height(t)"
   ]
  },
  {
   "cell_type": "code",
   "execution_count": 98,
   "id": "2f446ace",
   "metadata": {},
   "outputs": [
    {
     "name": "stdout",
     "output_type": "stream",
     "text": [
      "5 [0] 1\n",
      "2 [1, 0] 2\n",
      "3 [0, 2] 3\n"
     ]
    },
    {
     "data": {
      "text/plain": [
       "3"
      ]
     },
     "execution_count": 98,
     "metadata": {},
     "output_type": "execute_result"
    }
   ],
   "source": [
    "t = Tree(3, [Tree(1), Tree(2, [Tree(5, [Tree(6)]), Tree(1)])])\n",
    "height(t)"
   ]
  },
  {
   "cell_type": "code",
   "execution_count": null,
   "id": "d4fb0c3a",
   "metadata": {},
   "outputs": [],
   "source": []
  },
  {
   "cell_type": "code",
   "execution_count": null,
   "id": "1b842bce",
   "metadata": {},
   "outputs": [],
   "source": []
  }
 ],
 "metadata": {
  "kernelspec": {
   "display_name": "Python 3",
   "language": "python",
   "name": "python3"
  },
  "language_info": {
   "codemirror_mode": {
    "name": "ipython",
    "version": 3
   },
   "file_extension": ".py",
   "mimetype": "text/x-python",
   "name": "python",
   "nbconvert_exporter": "python",
   "pygments_lexer": "ipython3",
   "version": "3.7.11"
  }
 },
 "nbformat": 4,
 "nbformat_minor": 5
}
