{
 "cells": [
  {
   "cell_type": "markdown",
   "id": "fdd008b7",
   "metadata": {},
   "source": [
    "# 1. Recursion Review: Tree recursion with multiple tree branches"
   ]
  },
  {
   "cell_type": "markdown",
   "id": "1fbd4e8e",
   "metadata": {},
   "source": [
    "![TreeRercursion](resources/discussion4_p1.png)"
   ]
  },
  {
   "cell_type": "markdown",
   "id": "1b38f422",
   "metadata": {},
   "source": [
    "# Q1: Count Stair Ways\n",
    "\n",
    "Imagine that you want to go up a flight of stairs that has ```n``` steps, where ```n``` is a positive integer. You can either take 1 or 2 steps each time.\n",
    "\n",
    "How many different ways can you go up this flight of stairs? In this question, you'll write a function ```count_stair_ways``` that solves this problem. Before you code your approach, consider these questions."
   ]
  },
  {
   "cell_type": "markdown",
   "id": "99e5a2fc",
   "metadata": {},
   "source": [
    "### Q1 step1: base cases\n",
    "* n == 1, only 1 way\n",
    "* n == 2, take two 1s, take 2\n",
    "\n",
    "Further simplified\n",
    "* n = 0, only one way, take 0 step\n",
    "* n < 0: no way"
   ]
  },
  {
   "cell_type": "markdown",
   "id": "5288c990",
   "metadata": {},
   "source": [
    "### Q1 step2: Explain \n",
    "What do ```count_stair_ways(n - 1)``` and ```count_stair_ways(n - 2)``` represent?\n",
    "\n",
    "* The ways to climb the rest of stairs if we move by 1 step for this time\n",
    "* The ways to climb the rest of stairs if we move by 2 steps for this time\n",
    "\n",
    "### Q1 Coding:"
   ]
  },
  {
   "cell_type": "code",
   "execution_count": 49,
   "id": "2c56a9e0",
   "metadata": {},
   "outputs": [],
   "source": [
    "def count_stair_ways(n):\n",
    "    if n == 0:\n",
    "        return 1\n",
    "    elif n < 0:\n",
    "        return 0\n",
    "    else:\n",
    "        return count_stair_ways(n-1) + count_stair_ways(n-2)"
   ]
  },
  {
   "cell_type": "code",
   "execution_count": 50,
   "id": "e30ab89e",
   "metadata": {},
   "outputs": [
    {
     "data": {
      "text/plain": [
       "3"
      ]
     },
     "execution_count": 50,
     "metadata": {},
     "output_type": "execute_result"
    }
   ],
   "source": [
    "count_stair_ways(3)"
   ]
  },
  {
   "cell_type": "markdown",
   "id": "bf076c49",
   "metadata": {},
   "source": [
    "# Q2 count K\n",
    "Consider a special version of the count_stair_ways problem:\n",
    "\n",
    "Where instead of taking 1 or 2 steps, we are able to take up to and including k steps at a time. Write a function ```count_k``` that figures out the number of paths for this scenario. Assume n and k are positive.\n",
    "\n",
    "Base cases:\n",
    "* k==0 and n==0 only one way to climb\n",
    "* k=1 Only 1 way"
   ]
  },
  {
   "cell_type": "code",
   "execution_count": 51,
   "id": "8189ff1d",
   "metadata": {},
   "outputs": [],
   "source": [
    "def count_k(n, k):\n",
    "    if n < 0:\n",
    "        return 0\n",
    "    elif n == 0 or n == 1 or k == 1:\n",
    "        return 1\n",
    "    elif n < k:\n",
    "        return count_k(n, n)\n",
    "    else:\n",
    "        res = 0\n",
    "        i = 1\n",
    "        while (i <= k):\n",
    "            res = res + count_k(n-i, k)\n",
    "            i = i + 1\n",
    "        return res"
   ]
  },
  {
   "cell_type": "code",
   "execution_count": 52,
   "id": "e71cfd77",
   "metadata": {},
   "outputs": [
    {
     "data": {
      "text/plain": [
       "274"
      ]
     },
     "execution_count": 52,
     "metadata": {},
     "output_type": "execute_result"
    }
   ],
   "source": [
    "count_k(10, 3)"
   ]
  },
  {
   "cell_type": "markdown",
   "id": "b71085dd",
   "metadata": {},
   "source": [
    "# 2. List"
   ]
  },
  {
   "cell_type": "markdown",
   "id": "88a34169",
   "metadata": {},
   "source": [
    "![List](resources/discussion4_p2.png)"
   ]
  },
  {
   "cell_type": "markdown",
   "id": "da01083c",
   "metadata": {},
   "source": [
    "### Q3: WWPD: Lists\n",
    "```python\n",
    ">>> a = [1, 5, 4, [2, 3], 3]\n",
    "```"
   ]
  },
  {
   "cell_type": "code",
   "execution_count": 56,
   "id": "956ba953",
   "metadata": {},
   "outputs": [
    {
     "name": "stdout",
     "output_type": "stream",
     "text": [
      "1 3\n"
     ]
    }
   ],
   "source": [
    "a = [1, 5, 4, [2, 3], 3] \n",
    "print(a[0], a[-1])"
   ]
  },
  {
   "cell_type": "code",
   "execution_count": 57,
   "id": "008e7a58",
   "metadata": {},
   "outputs": [
    {
     "data": {
      "text/plain": [
       "5"
      ]
     },
     "execution_count": 57,
     "metadata": {},
     "output_type": "execute_result"
    }
   ],
   "source": [
    "len(a) # 5"
   ]
  },
  {
   "cell_type": "code",
   "execution_count": 58,
   "id": "155697d0",
   "metadata": {},
   "outputs": [
    {
     "data": {
      "text/plain": [
       "False"
      ]
     },
     "execution_count": 58,
     "metadata": {},
     "output_type": "execute_result"
    }
   ],
   "source": [
    "2 in a # False"
   ]
  },
  {
   "cell_type": "code",
   "execution_count": 60,
   "id": "9ac81851",
   "metadata": {},
   "outputs": [
    {
     "data": {
      "text/plain": [
       "2"
      ]
     },
     "execution_count": 60,
     "metadata": {},
     "output_type": "execute_result"
    }
   ],
   "source": [
    "a[3][0] # 2"
   ]
  },
  {
   "cell_type": "markdown",
   "id": "c3486d4b",
   "metadata": {},
   "source": [
    "### Q4: Even weighted\n",
    "Write a function that takes a list ```s``` and returns a new list that keeps only the even-indexed elements of ```s``` and multiplies them by their corresponding index.\n"
   ]
  },
  {
   "cell_type": "code",
   "execution_count": 65,
   "id": "07054f4d",
   "metadata": {},
   "outputs": [],
   "source": [
    "def even_weighted(s):\n",
    "    return [e * idx for idx, e in enumerate(s) if idx%2==0]"
   ]
  },
  {
   "cell_type": "code",
   "execution_count": 66,
   "id": "6064240a",
   "metadata": {},
   "outputs": [
    {
     "data": {
      "text/plain": [
       "[0, 6, 20]"
      ]
     },
     "execution_count": 66,
     "metadata": {},
     "output_type": "execute_result"
    }
   ],
   "source": [
    "even_weighted([1, 2, 3, 4, 5, 6])"
   ]
  },
  {
   "cell_type": "markdown",
   "id": "6589a456",
   "metadata": {},
   "source": [
    "### Q5: Max Product\n",
    "Write a function that takes in a list and returns the maximum product that can be formed using nonconsecutive elements of the list. \n",
    "\n",
    "The input list will contain only numbers greater than or equal to 1.\n",
    "\n",
    "```python\n",
    "    # Return the maximum product that can be formed using\n",
    "    # non-consecutive elements of s.\n",
    "    >>> max_product([10,3,1,9,2]) # 10 * 9\n",
    "    90\n",
    "    >>> max_product([5,10,5,10,5]) # 5 * 5 * 5\n",
    "    125\n",
    "    >>> max_product([])\n",
    "    1\n",
    "```"
   ]
  },
  {
   "cell_type": "code",
   "execution_count": 68,
   "id": "9380aae5",
   "metadata": {},
   "outputs": [],
   "source": [
    "def max_product(s):\n",
    "    if s == []:\n",
    "        return 1\n",
    "    else:\n",
    "        return max(max_product(s[1:]), s[0] * max_product(s[2:]))"
   ]
  },
  {
   "cell_type": "code",
   "execution_count": 70,
   "id": "67bebb3b",
   "metadata": {},
   "outputs": [
    {
     "data": {
      "text/plain": [
       "20020"
      ]
     },
     "execution_count": 70,
     "metadata": {},
     "output_type": "execute_result"
    }
   ],
   "source": [
    "max_product([10,300,1001,9,2])"
   ]
  },
  {
   "cell_type": "code",
   "execution_count": null,
   "id": "401d5681",
   "metadata": {},
   "outputs": [],
   "source": []
  }
 ],
 "metadata": {
  "kernelspec": {
   "display_name": "Python 3",
   "language": "python",
   "name": "python3"
  },
  "language_info": {
   "codemirror_mode": {
    "name": "ipython",
    "version": 3
   },
   "file_extension": ".py",
   "mimetype": "text/x-python",
   "name": "python",
   "nbconvert_exporter": "python",
   "pygments_lexer": "ipython3",
   "version": "3.7.11"
  }
 },
 "nbformat": 4,
 "nbformat_minor": 5
}
