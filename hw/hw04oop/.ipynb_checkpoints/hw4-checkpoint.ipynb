{
 "cells": [
  {
   "cell_type": "markdown",
   "id": "d0c639b2",
   "metadata": {},
   "source": [
    "## Q1: Remove Odd Indices\n",
    "Complete the function ```remove_odd_indices```, which takes in a list ```lst``` and a boolean ```odd```, and returns a new list with elements removed at certain indices. If odd is True, then the function should remove elements at odd indices; otherwise if odd is False, then the function should remove even indexed items."
   ]
  },
  {
   "cell_type": "markdown",
   "id": "c5b0ebab",
   "metadata": {},
   "source": [
    "### iterative with list comprehension"
   ]
  },
  {
   "cell_type": "code",
   "execution_count": 1,
   "id": "680797bf",
   "metadata": {},
   "outputs": [],
   "source": [
    "def remove_odd_indices(lst, odd):\n",
    "    if odd: # keep even\n",
    "        return [lst[i] for i in range(len(lst)) if i%2==0]\n",
    "    else: # keep pdd\n",
    "        return [lst[i] for i in range(len(lst)) if i%2==1]"
   ]
  },
  {
   "cell_type": "code",
   "execution_count": 2,
   "id": "47e4ad92",
   "metadata": {},
   "outputs": [
    {
     "data": {
      "text/plain": [
       "[6, 8]"
      ]
     },
     "execution_count": 2,
     "metadata": {},
     "output_type": "execute_result"
    }
   ],
   "source": [
    "l = [5, 6, 7, 8]\n",
    "m = remove_odd_indices(l, False)\n",
    "m"
   ]
  },
  {
   "cell_type": "code",
   "execution_count": 3,
   "id": "d1c1a731",
   "metadata": {},
   "outputs": [
    {
     "name": "stdout",
     "output_type": "stream",
     "text": [
      "[1, 2, 3, 4]\n",
      "[1, 3]\n"
     ]
    }
   ],
   "source": [
    "s = [1, 2, 3, 4]\n",
    "t = remove_odd_indices(s, True)\n",
    "print(s)\n",
    "print(t)"
   ]
  },
  {
   "cell_type": "markdown",
   "id": "06fcc84c",
   "metadata": {},
   "source": [
    "### recursive with list recursion paradigm"
   ]
  },
  {
   "cell_type": "code",
   "execution_count": 4,
   "id": "fd83ff66",
   "metadata": {},
   "outputs": [],
   "source": [
    "def remove_odd_indices_recur(lst, odd):\n",
    "    if lst == []:\n",
    "        return lst\n",
    "    elif odd:\n",
    "        return [lst[0]] + remove_odd_indices_recur(lst[1:], not odd)\n",
    "    else:\n",
    "        return remove_odd_indices_recur(lst[1:], not odd)"
   ]
  },
  {
   "cell_type": "code",
   "execution_count": 5,
   "id": "17d5d056",
   "metadata": {},
   "outputs": [
    {
     "data": {
      "text/plain": [
       "[6, 8]"
      ]
     },
     "execution_count": 5,
     "metadata": {},
     "output_type": "execute_result"
    }
   ],
   "source": [
    "l = [5, 6, 7, 8]\n",
    "m = remove_odd_indices_recur(l, False)\n",
    "m"
   ]
  },
  {
   "cell_type": "code",
   "execution_count": 6,
   "id": "8384ac26",
   "metadata": {},
   "outputs": [
    {
     "name": "stdout",
     "output_type": "stream",
     "text": [
      "[1, 2, 3, 4]\n",
      "[1, 3]\n"
     ]
    }
   ],
   "source": [
    "s = [1, 2, 3, 4]\n",
    "t = remove_odd_indices_recur(s, True)\n",
    "print(s)\n",
    "print(t)"
   ]
  },
  {
   "cell_type": "markdown",
   "id": "285c80df",
   "metadata": {},
   "source": [
    "## Q2: Smart Fridge\n",
    "The ```SmartFridge``` class is used by smart refrigerators to track which items are in the fridge and let owners know when an item has run out.\n",
    "\n",
    "The class internally uses a dictionary to store items, where each key is the item name and the value is the current quantity. The ```add_item``` method should add the given quantity of the given item and report the current quantity. You can assume that the ```use_item``` method will only be called on items that are already in the fridge, and it should use up the given quantity of the given item. If the quantity would fall to or below zero, it should only use up to the remaining quantity, and remind the owner to buy more of that item.\n",
    "\n",
    "Finish implementing the SmartFridge class definition so that its add_item and use_item methods work as expected."
   ]
  },
  {
   "cell_type": "code",
   "execution_count": 7,
   "id": "731c14ef",
   "metadata": {},
   "outputs": [],
   "source": [
    "class SmartFridge:\n",
    "    \"\"\"\"\n",
    "    >>> fridgey = SmartFridge()\n",
    "    >>> fridgey.add_item('Mayo', 1)\n",
    "    'I now have 1 Mayo'\n",
    "    >>> fridgey.add_item('Mayo', 2)\n",
    "    'I now have 3 Mayo'\n",
    "    >>> fridgey.use_item('Mayo', 2.5)\n",
    "    'I have 0.5 Mayo left'\n",
    "    >>> fridgey.use_item('Mayo', 0.5)\n",
    "    'Uh oh, buy more Mayo!'\n",
    "    \"\"\"\n",
    "    def __init__(self):\n",
    "        self.items = {}\n",
    "    def add_item(self, item, quantity):\n",
    "        \"*** YOUR CODE HERE ***\"\n",
    "        if item not in self.items:\n",
    "            self.items[item] = 0\n",
    "        self.items[item] += quantity\n",
    "        print(f'I now have {self.items[item]} {item}')\n",
    "    def use_item(self, item, quantity):\n",
    "        \"*** YOUR CODE HERE ***\"\n",
    "        if (self.items[item] - quantity) > 0:\n",
    "            self.items[item] -= quantity\n",
    "            print(f'I now have {self.items[item]} {item}')\n",
    "        else:\n",
    "            print(f'Uh oh, buy more Mayo!')"
   ]
  },
  {
   "cell_type": "code",
   "execution_count": 8,
   "id": "04c13c76",
   "metadata": {},
   "outputs": [
    {
     "name": "stdout",
     "output_type": "stream",
     "text": [
      "I now have 1 Mayo\n",
      "I now have 3 Mayo\n",
      "I now have 0.5 Mayo\n",
      "Uh oh, buy more Mayo!\n"
     ]
    }
   ],
   "source": [
    "fridgey = SmartFridge()\n",
    "fridgey.add_item('Mayo', 1)\n",
    "fridgey.add_item('Mayo', 2)\n",
    "fridgey.use_item('Mayo', 2.5)\n",
    "fridgey.use_item('Mayo', 0.5)"
   ]
  },
  {
   "cell_type": "markdown",
   "id": "e18f78b4",
   "metadata": {},
   "source": [
    "## Q3: Merge\n",
    "```python\n",
    "Merges two sorted lists.\n",
    "\n",
    "    >>> merge([1, 3, 5], [2, 4, 6])\n",
    "    [1, 2, 3, 4, 5, 6]\n",
    "    >>> merge([], [2, 4, 6])\n",
    "    [2, 4, 6]\n",
    "    >>> merge([1, 2, 3], [])\n",
    "    [1, 2, 3]\n",
    "    >>> merge([5, 7], [2, 4, 6])\n",
    "    [2, 4, 5, 6, 7]\n",
    "```"
   ]
  },
  {
   "cell_type": "code",
   "execution_count": 9,
   "id": "ae580b94",
   "metadata": {},
   "outputs": [],
   "source": [
    "def merge(lst1, lst2):\n",
    "    if lst1==[] or lst2==[]:\n",
    "        return lst1 + lst2\n",
    "    elif lst1[0] > lst2[0]:\n",
    "        return [lst2[0]] + merge(lst1, lst2[1:])\n",
    "    else:\n",
    "        return [lst1[0]] + merge(lst1[1:], lst2)"
   ]
  },
  {
   "cell_type": "code",
   "execution_count": 10,
   "id": "1537ed3e",
   "metadata": {},
   "outputs": [
    {
     "data": {
      "text/plain": [
       "[2, 4, 5, 6, 7]"
      ]
     },
     "execution_count": 10,
     "metadata": {},
     "output_type": "execute_result"
    }
   ],
   "source": [
    "merge([5, 7], [2, 4, 6])"
   ]
  },
  {
   "cell_type": "code",
   "execution_count": 11,
   "id": "46d7fe28",
   "metadata": {},
   "outputs": [
    {
     "data": {
      "text/plain": [
       "[1, 2, 3, 4, 5, 6]"
      ]
     },
     "execution_count": 11,
     "metadata": {},
     "output_type": "execute_result"
    }
   ],
   "source": [
    "merge([1, 3, 5], [2, 4, 6])"
   ]
  },
  {
   "cell_type": "markdown",
   "id": "88003cda",
   "metadata": {},
   "source": [
    "## Q4: Mint => Class Variable Discussion\n",
    "A mint is a place where coins are made. In this question, you'll implement a Mint class that can output a Coin with the correct year and worth.\n",
    "\n",
    "Each ```Mint``` instance has a ```year``` stamp. The ```update``` method sets the year stamp to the ```present_year``` class attribute of the Mint class.\n",
    "\n",
    "The ```create``` method takes a subclass of ```Coin``` and returns an instance of that class stamped with the ```mint```'s year (which may be different from ```Mint.present_year``` if it has not been updated.)\n",
    "\n",
    "A Coin's ```worth``` method returns the cents value of the coin plus one extra cent for each year of age beyond 50. A coin's age can be determined by subtracting the coin's year from the present_year class attribute of the ```Mint``` class.\n",
    "```python\n",
    "    A mint creates coins by stamping on years.\n",
    "\n",
    "    The update method sets the mint's stamp to Mint.present_year.\n",
    "\n",
    "    >>> mint = Mint()\n",
    "    >>> mint.year\n",
    "    2021\n",
    "    >>> dime = mint.create(Dime)\n",
    "    >>> dime.year\n",
    "    2021\n",
    "    >>> Mint.present_year = 2101  # Time passes\n",
    "    >>> nickel = mint.create(Nickel)\n",
    "    >>> nickel.year     # The mint has not updated its stamp yet\n",
    "    2021\n",
    "    >>> nickel.worth()  # 5 cents + (80 - 50 years)\n",
    "    35\n",
    "    >>> mint.update()   # The mint's year is updated to 2101\n",
    "    >>> Mint.present_year = 2176     # More time passes\n",
    "    >>> mint.create(Dime).worth()    # 10 cents + (75 - 50 years)\n",
    "    35\n",
    "    >>> Mint().create(Dime).worth()  # A new mint has the current year\n",
    "    10\n",
    "    >>> dime.worth()     # 10 cents + (155 - 50 years)\n",
    "    115\n",
    "    >>> Dime.cents = 20  # Upgrade all dimes!\n",
    "    >>> dime.worth()     # 20 cents + (155 - 50 years)\n",
    "    125\n",
    "```"
   ]
  },
  {
   "cell_type": "code",
   "execution_count": 12,
   "id": "c212ac99",
   "metadata": {},
   "outputs": [],
   "source": [
    "class Mint:\n",
    "    present_year = 2021\n",
    "\n",
    "    def __init__(self):\n",
    "        self.update()\n",
    "\n",
    "    def create(self, coin):\n",
    "        \"*** YOUR CODE HERE ***\"\n",
    "        coin.year = self.year\n",
    "        return coin(coin.year)\n",
    "\n",
    "    def update(self):\n",
    "        \"*** YOUR CODE HERE ***\"\n",
    "        self.year = Mint.present_year\n",
    "class Coin:\n",
    "    cents = None # will be provided by subclasses, but not by Coin itself\n",
    "\n",
    "    def __init__(self, year):\n",
    "        self.year = year\n",
    "\n",
    "    def worth(self):\n",
    "        \"*** YOUR CODE HERE ***\"\n",
    "        if (Mint.present_year - self.year) > 50:\n",
    "            value = Mint.present_year - self.year - 50 + self.cents\n",
    "        else:\n",
    "            value = self.cents\n",
    "        return value\n",
    "\n",
    "class Nickel(Coin):\n",
    "    cents = 5\n",
    "\n",
    "class Dime(Coin):\n",
    "    cents = 10"
   ]
  },
  {
   "cell_type": "code",
   "execution_count": 13,
   "id": "7dddce3e",
   "metadata": {},
   "outputs": [
    {
     "data": {
      "text/plain": [
       "2021"
      ]
     },
     "execution_count": 13,
     "metadata": {},
     "output_type": "execute_result"
    }
   ],
   "source": [
    "mint = Mint()\n",
    "mint.year"
   ]
  },
  {
   "cell_type": "code",
   "execution_count": 14,
   "id": "ede5fc4a",
   "metadata": {},
   "outputs": [
    {
     "data": {
      "text/plain": [
       "2021"
      ]
     },
     "execution_count": 14,
     "metadata": {},
     "output_type": "execute_result"
    }
   ],
   "source": [
    "dime = mint.create(Dime)\n",
    "dime.year"
   ]
  },
  {
   "cell_type": "code",
   "execution_count": 15,
   "id": "efee06dd",
   "metadata": {},
   "outputs": [
    {
     "data": {
      "text/plain": [
       "2021"
      ]
     },
     "execution_count": 15,
     "metadata": {},
     "output_type": "execute_result"
    }
   ],
   "source": [
    "Mint.present_year = 2101\n",
    "nickel = mint.create(Nickel)\n",
    "nickel.year "
   ]
  },
  {
   "cell_type": "code",
   "execution_count": 16,
   "id": "f4b2fd3c",
   "metadata": {},
   "outputs": [
    {
     "data": {
      "text/plain": [
       "35"
      ]
     },
     "execution_count": 16,
     "metadata": {},
     "output_type": "execute_result"
    }
   ],
   "source": [
    "nickel.worth()"
   ]
  },
  {
   "cell_type": "code",
   "execution_count": 17,
   "id": "28e4c0fd",
   "metadata": {},
   "outputs": [
    {
     "data": {
      "text/plain": [
       "35"
      ]
     },
     "execution_count": 17,
     "metadata": {},
     "output_type": "execute_result"
    }
   ],
   "source": [
    "mint.update()\n",
    "Mint.present_year = 2176\n",
    "mint.create(Dime).worth() "
   ]
  },
  {
   "cell_type": "code",
   "execution_count": 18,
   "id": "c64ae4c7",
   "metadata": {},
   "outputs": [
    {
     "data": {
      "text/plain": [
       "115"
      ]
     },
     "execution_count": 18,
     "metadata": {},
     "output_type": "execute_result"
    }
   ],
   "source": [
    "dime.worth()"
   ]
  },
  {
   "cell_type": "code",
   "execution_count": 19,
   "id": "722b36a6",
   "metadata": {},
   "outputs": [
    {
     "data": {
      "text/plain": [
       "10"
      ]
     },
     "execution_count": 19,
     "metadata": {},
     "output_type": "execute_result"
    }
   ],
   "source": [
    "Mint().create(Dime).worth()"
   ]
  },
  {
   "cell_type": "code",
   "execution_count": 20,
   "id": "588a939d",
   "metadata": {},
   "outputs": [
    {
     "data": {
      "text/plain": [
       "125"
      ]
     },
     "execution_count": 20,
     "metadata": {},
     "output_type": "execute_result"
    }
   ],
   "source": [
    "Dime.cents = 20\n",
    "dime.worth()"
   ]
  },
  {
   "cell_type": "markdown",
   "id": "dc346507",
   "metadata": {},
   "source": [
    "## Q5: Vending Machine\n",
    "In this question you'll create a vending machine that only outputs a single product and provides change when needed.\n",
    "\n",
    "Create a class called ```VendingMachine``` that represents a vending machine for some product. A ```VendingMachine``` object returns strings describing its interactions. Remember to match exactly the strings in the doctests -- including punctuation and spacing!\n",
    "\n",
    "Fill in the VendingMachine class, adding attributes and methods as appropriate, such that its behavior matches the following doctests:\n",
    "\n",
    "```python\n",
    "A vending machine that vends some product for some price.\n",
    "\n",
    "    >>> v = VendingMachine('candy', 10)\n",
    "    >>> v.vend()\n",
    "    'Nothing left to vend. Please restock.'\n",
    "    >>> v.add_funds(15)\n",
    "    'Nothing left to vend. Please restock. Here is your $15.'\n",
    "    >>> v.restock(2)\n",
    "    'Current candy stock: 2'\n",
    "    >>> v.vend()\n",
    "    'You must add $10 more funds.'\n",
    "    >>> v.add_funds(7)\n",
    "    'Current balance: $7'\n",
    "    >>> v.vend()\n",
    "    'You must add $3 more funds.'\n",
    "    >>> v.add_funds(5)\n",
    "    'Current balance: $12'\n",
    "    >>> v.vend()\n",
    "    'Here is your candy and $2 change.'\n",
    "    >>> v.add_funds(10)\n",
    "    'Current balance: $10'\n",
    "    >>> v.vend()\n",
    "    'Here is your candy.'\n",
    "    >>> v.add_funds(15)\n",
    "    'Nothing left to vend. Please restock. Here is your $15.'\n",
    "\n",
    "    >>> w = VendingMachine('soda', 2)\n",
    "    >>> w.restock(3)\n",
    "    'Current soda stock: 3'\n",
    "    >>> w.restock(3)\n",
    "    'Current soda stock: 6'\n",
    "    >>> w.add_funds(2)\n",
    "    'Current balance: $2'\n",
    "    >>> w.vend()\n",
    "    'Here is your soda.'\n",
    "```"
   ]
  },
  {
   "cell_type": "code",
   "execution_count": 21,
   "id": "e568547d",
   "metadata": {},
   "outputs": [],
   "source": [
    "class VendingMachine:\n",
    "    def __init__(self, item, price):\n",
    "        self.item = item\n",
    "        self.price = price\n",
    "        self.stock = 0\n",
    "        self.cash = 0\n",
    "        \n",
    "    def restock(self, num):\n",
    "        self.stock += num\n",
    "        print(f'Current {self.item} stock: {self.stock}')\n",
    "        \n",
    "    def add_funds(self, value):\n",
    "        if self.stock == 0:\n",
    "            print(f'Nothing left to vend. Please restock. Here is your ${value}.')\n",
    "        else:\n",
    "            self.cash += value\n",
    "            print(f'Current balance: ${self.cash}')\n",
    "        \n",
    "    def vend(self):\n",
    "        if self.stock == 0:\n",
    "            print(f'Nothing left to vend. Please restock.')\n",
    "            return\n",
    "        if self.cash < self.price:\n",
    "            print(f'You must add ${self.price - self.cash} more funds.')\n",
    "        else:\n",
    "            self.stock -= 1\n",
    "            change = self.cash - self.price\n",
    "            self.cash -= self.price\n",
    "            if change == 0:\n",
    "                print(f'Here is your {self.item}.')\n",
    "            else:\n",
    "                self.cash -= change\n",
    "                print(f'Here is your {self.item} and ${change} change.')\n",
    "            "
   ]
  },
  {
   "cell_type": "code",
   "execution_count": 22,
   "id": "0414331f",
   "metadata": {},
   "outputs": [
    {
     "name": "stdout",
     "output_type": "stream",
     "text": [
      "Nothing left to vend. Please restock.\n"
     ]
    }
   ],
   "source": [
    "v = VendingMachine('candy', 10)\n",
    "v.vend()"
   ]
  },
  {
   "cell_type": "code",
   "execution_count": 23,
   "id": "377bd161",
   "metadata": {},
   "outputs": [
    {
     "name": "stdout",
     "output_type": "stream",
     "text": [
      "Nothing left to vend. Please restock. Here is your $15.\n"
     ]
    }
   ],
   "source": [
    "v.add_funds(15)"
   ]
  },
  {
   "cell_type": "code",
   "execution_count": 24,
   "id": "80785e08",
   "metadata": {},
   "outputs": [
    {
     "name": "stdout",
     "output_type": "stream",
     "text": [
      "Current candy stock: 2\n"
     ]
    }
   ],
   "source": [
    "v.restock(2)"
   ]
  },
  {
   "cell_type": "code",
   "execution_count": 25,
   "id": "27cfc3f7",
   "metadata": {},
   "outputs": [
    {
     "name": "stdout",
     "output_type": "stream",
     "text": [
      "You must add $10 more funds.\n"
     ]
    }
   ],
   "source": [
    "v.vend()"
   ]
  },
  {
   "cell_type": "code",
   "execution_count": 26,
   "id": "5f1bcc4d",
   "metadata": {},
   "outputs": [
    {
     "name": "stdout",
     "output_type": "stream",
     "text": [
      "Current balance: $7\n"
     ]
    }
   ],
   "source": [
    "v.add_funds(7)"
   ]
  },
  {
   "cell_type": "code",
   "execution_count": 27,
   "id": "a3a3857a",
   "metadata": {},
   "outputs": [
    {
     "name": "stdout",
     "output_type": "stream",
     "text": [
      "You must add $3 more funds.\n"
     ]
    }
   ],
   "source": [
    "v.vend()"
   ]
  },
  {
   "cell_type": "code",
   "execution_count": 28,
   "id": "130c0b1d",
   "metadata": {},
   "outputs": [
    {
     "name": "stdout",
     "output_type": "stream",
     "text": [
      "Current balance: $12\n"
     ]
    }
   ],
   "source": [
    "v.add_funds(5)"
   ]
  },
  {
   "cell_type": "code",
   "execution_count": 29,
   "id": "d953ba55",
   "metadata": {},
   "outputs": [
    {
     "name": "stdout",
     "output_type": "stream",
     "text": [
      "Here is your candy and $2 change.\n"
     ]
    }
   ],
   "source": [
    "v.vend()"
   ]
  },
  {
   "cell_type": "code",
   "execution_count": 30,
   "id": "f3c287b1",
   "metadata": {},
   "outputs": [
    {
     "name": "stdout",
     "output_type": "stream",
     "text": [
      "Current balance: $10\n"
     ]
    }
   ],
   "source": [
    "v.add_funds(10)"
   ]
  },
  {
   "cell_type": "code",
   "execution_count": 31,
   "id": "e51ac963",
   "metadata": {},
   "outputs": [
    {
     "name": "stdout",
     "output_type": "stream",
     "text": [
      "Here is your candy.\n"
     ]
    }
   ],
   "source": [
    "v.vend()"
   ]
  },
  {
   "cell_type": "code",
   "execution_count": 32,
   "id": "0a4e1c73",
   "metadata": {},
   "outputs": [
    {
     "name": "stdout",
     "output_type": "stream",
     "text": [
      "Nothing left to vend. Please restock. Here is your $15.\n"
     ]
    }
   ],
   "source": [
    "v.add_funds(15)"
   ]
  },
  {
   "cell_type": "code",
   "execution_count": 33,
   "id": "ea7b3a86",
   "metadata": {},
   "outputs": [
    {
     "name": "stdout",
     "output_type": "stream",
     "text": [
      "Current soda stock: 3\n"
     ]
    }
   ],
   "source": [
    "w = VendingMachine('soda', 2)\n",
    "w.restock(3)"
   ]
  },
  {
   "cell_type": "code",
   "execution_count": 34,
   "id": "9a9457dd",
   "metadata": {},
   "outputs": [
    {
     "name": "stdout",
     "output_type": "stream",
     "text": [
      "Current soda stock: 6\n"
     ]
    }
   ],
   "source": [
    "w.restock(3)"
   ]
  },
  {
   "cell_type": "code",
   "execution_count": 35,
   "id": "8389ca3f",
   "metadata": {},
   "outputs": [
    {
     "name": "stdout",
     "output_type": "stream",
     "text": [
      "Current balance: $2\n"
     ]
    }
   ],
   "source": [
    "w.add_funds(2)"
   ]
  },
  {
   "cell_type": "code",
   "execution_count": 36,
   "id": "e59bd2a2",
   "metadata": {},
   "outputs": [
    {
     "name": "stdout",
     "output_type": "stream",
     "text": [
      "Here is your soda.\n"
     ]
    }
   ],
   "source": [
    "w.vend()"
   ]
  }
 ],
 "metadata": {
  "kernelspec": {
   "display_name": "Python 3",
   "language": "python",
   "name": "python3"
  },
  "language_info": {
   "codemirror_mode": {
    "name": "ipython",
    "version": 3
   },
   "file_extension": ".py",
   "mimetype": "text/x-python",
   "name": "python",
   "nbconvert_exporter": "python",
   "pygments_lexer": "ipython3",
   "version": "3.7.11"
  }
 },
 "nbformat": 4,
 "nbformat_minor": 5
}
