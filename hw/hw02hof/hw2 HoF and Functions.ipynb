{
 "cells": [
  {
   "cell_type": "code",
   "execution_count": 42,
   "id": "66305764",
   "metadata": {},
   "outputs": [],
   "source": [
    "from operator import add, mul\n",
    "\n",
    "square = lambda x: x * x\n",
    "\n",
    "identity = lambda x: x\n",
    "\n",
    "triple = lambda x: 3 * x\n",
    "\n",
    "increment = lambda x: x + 1\n"
   ]
  },
  {
   "cell_type": "markdown",
   "id": "4e0f63ef",
   "metadata": {},
   "source": [
    "## Q1: Count Until Larger\n",
    "Implement the function count_until_larger. ```count_until_larger``` takes in a positive integer num. count_until_larger counts the distance between the rightmost digit of num and the nearest ```greater digit```; to do so, the function counts digits from right to left. Once it encounters a digit larger than the rightmost digit, it returns that count. If no such digit exists, then the function returns -1."
   ]
  },
  {
   "cell_type": "code",
   "execution_count": 43,
   "id": "c10c6728",
   "metadata": {},
   "outputs": [],
   "source": [
    "def count_until_larger(num):\n",
    "    rightmost = num % 10\n",
    "    ith_digit = 0\n",
    "    while num > 0:\n",
    "        ith_digit += 1\n",
    "        num = num // 10\n",
    "        if num % 10 > rightmost:\n",
    "            return ith_digit\n",
    "    return -1"
   ]
  },
  {
   "cell_type": "code",
   "execution_count": 44,
   "id": "878e857c",
   "metadata": {},
   "outputs": [
    {
     "data": {
      "text/plain": [
       "3"
      ]
     },
     "execution_count": 44,
     "metadata": {},
     "output_type": "execute_result"
    }
   ],
   "source": [
    "count_until_larger(8117)"
   ]
  },
  {
   "cell_type": "markdown",
   "id": "afd80563",
   "metadata": {},
   "source": [
    "## Q2: Filter Sequence\n",
    "Write a function filter_sequence which takes in two integers, ```start``` and ```stop```, as well as a function ```cond```, which takes in a single argument and outputs a boolean value. filter_sequence returns the sum of all digits from start to stop (inclusive) for which ```cond``` returns True."
   ]
  },
  {
   "cell_type": "code",
   "execution_count": 45,
   "id": "b1c7d233",
   "metadata": {},
   "outputs": [],
   "source": [
    "def filter_sequence(cond, start, stop):\n",
    "    \"\"\"\n",
    "    Returns the sum of numbers from start (inclusive) to stop (inclusive) that satisfy\n",
    "    the one-argument function cond.\n",
    "\n",
    "    >>> filter_sequence(lambda x: x % 2 == 0, 0, 10) # .Case 1\n",
    "    30\n",
    "    >>> filter_sequence(lambda x: x % 2 == 1, 0, 10) # .Case 2\n",
    "    25\n",
    "    \"\"\"\n",
    "    \"*** YOUR CODE HERE ***\"\n",
    "    res = 0\n",
    "    for i in range(start, stop+1):\n",
    "        if cond(i):\n",
    "            res = res + i\n",
    "    return res"
   ]
  },
  {
   "cell_type": "code",
   "execution_count": 46,
   "id": "628b5c1e",
   "metadata": {},
   "outputs": [
    {
     "data": {
      "text/plain": [
       "30"
      ]
     },
     "execution_count": 46,
     "metadata": {},
     "output_type": "execute_result"
    }
   ],
   "source": [
    " filter_sequence(lambda x: x % 2 == 0, 0, 10)"
   ]
  },
  {
   "cell_type": "code",
   "execution_count": 47,
   "id": "a3c504e9",
   "metadata": {},
   "outputs": [
    {
     "data": {
      "text/plain": [
       "25"
      ]
     },
     "execution_count": 47,
     "metadata": {},
     "output_type": "execute_result"
    }
   ],
   "source": [
    "filter_sequence(lambda x: x % 2 == 1, 0, 10)"
   ]
  },
  {
   "cell_type": "markdown",
   "id": "a53625ac",
   "metadata": {},
   "source": [
    "## Q3: Hailstone\n"
   ]
  },
  {
   "cell_type": "code",
   "execution_count": 55,
   "id": "d427de42",
   "metadata": {},
   "outputs": [
    {
     "name": "stdout",
     "output_type": "stream",
     "text": [
      "10\n",
      "5\n",
      "16\n",
      "8\n",
      "4\n",
      "2\n",
      "1\n"
     ]
    },
    {
     "data": {
      "text/plain": [
       "7"
      ]
     },
     "execution_count": 55,
     "metadata": {},
     "output_type": "execute_result"
    }
   ],
   "source": [
    "def hailstone(n):\n",
    "    cnt = 1\n",
    "    print(n)\n",
    "    while (n != 1):\n",
    "        if n % 2 == 0:\n",
    "            n = n // 2\n",
    "        else:\n",
    "            n = n * 3 + 1\n",
    "        cnt = cnt + 1\n",
    "        print(n)\n",
    "    return cnt\n",
    "\n",
    "hailstone(10)"
   ]
  },
  {
   "cell_type": "markdown",
   "id": "b8141fd2",
   "metadata": {},
   "source": [
    "## Q4: Product"
   ]
  },
  {
   "cell_type": "code",
   "execution_count": 59,
   "id": "0fc91f7f",
   "metadata": {},
   "outputs": [],
   "source": [
    "def product(n, term):\n",
    "    \"\"\"Return the product of the first n terms in a sequence.\n",
    "\n",
    "    n: a positive integer\n",
    "    term:  a function that takes one argument to produce the term\n",
    "\n",
    "    >>> product(3, identity)  # 1 * 2 * 3\n",
    "    6\n",
    "    >>> product(5, identity)  # 1 * 2 * 3 * 4 * 5\n",
    "    120\n",
    "    >>> product(3, square)    # 1^2 * 2^2 * 3^2\n",
    "    36\n",
    "    >>> product(5, square)    # 1^2 * 2^2 * 3^2 * 4^2 * 5^2\n",
    "    14400\n",
    "    >>> product(3, increment) # (1+1) * (2+1) * (3+1)\n",
    "    24\n",
    "    >>> product(3, triple)    # 1*3 * 2*3 * 3*3\n",
    "    162\n",
    "    \"\"\"\n",
    "    \"*** YOUR CODE HERE ***\"\n",
    "    res = 1\n",
    "    for i in range(1, n + 1):\n",
    "        res = res * term(i)\n",
    "    return res"
   ]
  },
  {
   "cell_type": "code",
   "execution_count": 60,
   "id": "3f533f19",
   "metadata": {},
   "outputs": [
    {
     "data": {
      "text/plain": [
       "14400"
      ]
     },
     "execution_count": 60,
     "metadata": {},
     "output_type": "execute_result"
    }
   ],
   "source": [
    "product(5, square)"
   ]
  },
  {
   "cell_type": "markdown",
   "id": "92b06a05",
   "metadata": {},
   "source": [
    "## Q5: Accumulate with term"
   ]
  },
  {
   "cell_type": "code",
   "execution_count": 61,
   "id": "5b5278fa",
   "metadata": {},
   "outputs": [],
   "source": [
    "def accumulate(merger, start, n, term):\n",
    "    res = start\n",
    "    for i in range(1, n + 1):\n",
    "        res = merger(res, term(i))\n",
    "    return res"
   ]
  },
  {
   "cell_type": "code",
   "execution_count": 62,
   "id": "c9b71f81",
   "metadata": {},
   "outputs": [
    {
     "data": {
      "text/plain": [
       "26"
      ]
     },
     "execution_count": 62,
     "metadata": {},
     "output_type": "execute_result"
    }
   ],
   "source": [
    "accumulate(add, 11, 5, identity)"
   ]
  },
  {
   "cell_type": "code",
   "execution_count": 63,
   "id": "040b6d31",
   "metadata": {},
   "outputs": [
    {
     "data": {
      "text/plain": [
       "576"
      ]
     },
     "execution_count": 63,
     "metadata": {},
     "output_type": "execute_result"
    }
   ],
   "source": [
    "accumulate(lambda x, y: 2 * x * y, 2, 3, square)"
   ]
  },
  {
   "cell_type": "code",
   "execution_count": 64,
   "id": "37bff9e0",
   "metadata": {},
   "outputs": [
    {
     "data": {
      "text/plain": [
       "45"
      ]
     },
     "execution_count": 64,
     "metadata": {},
     "output_type": "execute_result"
    }
   ],
   "source": [
    "def summation_using_accumulate(n, term):\n",
    "    return accumulate(add, 0, n, term)\n",
    "\n",
    "summation_using_accumulate(5, triple)"
   ]
  },
  {
   "cell_type": "code",
   "execution_count": 65,
   "id": "8df5db73",
   "metadata": {},
   "outputs": [
    {
     "data": {
      "text/plain": [
       "524880"
      ]
     },
     "execution_count": 65,
     "metadata": {},
     "output_type": "execute_result"
    }
   ],
   "source": [
    "def product_using_accumulate(n, term):\n",
    "    return accumulate(mul, 1, n, term)\n",
    "\n",
    "product_using_accumulate(6, triple)"
   ]
  }
 ],
 "metadata": {
  "kernelspec": {
   "display_name": "Python 3",
   "language": "python",
   "name": "python3"
  },
  "language_info": {
   "codemirror_mode": {
    "name": "ipython",
    "version": 3
   },
   "file_extension": ".py",
   "mimetype": "text/x-python",
   "name": "python",
   "nbconvert_exporter": "python",
   "pygments_lexer": "ipython3",
   "version": "3.7.11"
  }
 },
 "nbformat": 4,
 "nbformat_minor": 5
}
