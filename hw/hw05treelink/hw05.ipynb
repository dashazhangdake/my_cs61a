{
 "cells": [
  {
   "cell_type": "code",
   "execution_count": 3,
   "id": "c9fce685",
   "metadata": {},
   "outputs": [],
   "source": [
    "from hw05 import Tree\n",
    "from hw05 import Link"
   ]
  },
  {
   "cell_type": "markdown",
   "id": "2018b616",
   "metadata": {},
   "source": [
    "## Q2: Chain\n",
    "For this question, we will define a chain as a path from the root of a tree t to any leaf such that all nodes on the path share the same label. Implement the function chain, which, given a tree t, returns True if there exists any chain in the tree, and False otherwise.\n",
    "```python\n",
    "   \"\"\"Returns whether there exists a path in t where all nodes\n",
    "    share the same label.\"\"\"\n",
    "    >>> all_fives = Tree(5, [Tree(5), Tree(5, [Tree(5)])])\n",
    "    >>> chain(all_fives)\n",
    "    True\n",
    "    >>> t1 = Tree(1, [Tree(3, [Tree(4)]), Tree(1)])\n",
    "    >>> chain(t1)\n",
    "    True\n",
    "    >>> t2 = Tree(1, [Tree(3, [Tree(4)]), Tree(5)])\n",
    "    >>> chain(t2)\n",
    "    False\n",
    "```"
   ]
  },
  {
   "cell_type": "code",
   "execution_count": 4,
   "id": "d11c3668",
   "metadata": {},
   "outputs": [],
   "source": [
    "def chain(t):\n",
    "    if t.is_leaf():\n",
    "        return True\n",
    "    else:\n",
    "        for b in t.branches:\n",
    "            if t.label == b.label and chain(b):\n",
    "                return True\n",
    "        return False"
   ]
  },
  {
   "cell_type": "code",
   "execution_count": 5,
   "id": "dc07fc3f",
   "metadata": {},
   "outputs": [
    {
     "data": {
      "text/plain": [
       "False"
      ]
     },
     "execution_count": 5,
     "metadata": {},
     "output_type": "execute_result"
    }
   ],
   "source": [
    "t2 = Tree(1, [Tree(3, [Tree(4)]), Tree(5)])\n",
    "chain(t2)"
   ]
  },
  {
   "cell_type": "code",
   "execution_count": 6,
   "id": "7b144464",
   "metadata": {},
   "outputs": [
    {
     "data": {
      "text/plain": [
       "True"
      ]
     },
     "execution_count": 6,
     "metadata": {},
     "output_type": "execute_result"
    }
   ],
   "source": [
    "t1 = Tree(1, [Tree(3, [Tree(4)]), Tree(1)])\n",
    "chain(t1)"
   ]
  },
  {
   "cell_type": "code",
   "execution_count": 7,
   "id": "5445bd00",
   "metadata": {},
   "outputs": [
    {
     "data": {
      "text/plain": [
       "True"
      ]
     },
     "execution_count": 7,
     "metadata": {},
     "output_type": "execute_result"
    }
   ],
   "source": [
    "all_fives = Tree(5, [Tree(5), Tree(5, [Tree(5)])])\n",
    "chain(all_fives)"
   ]
  },
  {
   "cell_type": "markdown",
   "id": "72ad24a4",
   "metadata": {},
   "source": [
    "## Q3: Flatten Link\n",
    "Write a function flatten_link that takes in a linked list lnk and returns the sequence as a Python list. If lnk has nested linked lists, flatten_link should flatten lnk.\n",
    "```python\n",
    "    \"\"\"Takes a linked list and returns a flattened Python list with the same elements.\"\"\"\n",
    "\n",
    "    >>> link = Link(1, Link(2, Link(3, Link(4))))\n",
    "    >>> flatten_link(link)\n",
    "    [1, 2, 3, 4]\n",
    "    >>> flatten_link(Link.empty)\n",
    "    []\n",
    "    >>> deep_link = Link(Link(1, Link(2, Link(3, Link(4)))), Link(Link(5), Link(6)))\n",
    "    >>> flatten_link(deep_link)\n",
    "    [1, 2, 3, 4, 5, 6]\n",
    "```"
   ]
  },
  {
   "cell_type": "code",
   "execution_count": 8,
   "id": "c6a7604e",
   "metadata": {},
   "outputs": [],
   "source": [
    "def flatten_link(lnk):\n",
    "    if lnk == Link.empty:\n",
    "        return []\n",
    "    if isinstance(lnk.first, Link):\n",
    "        return flatten_link(lnk.first) + flatten_link(lnk.rest)\n",
    "    return [lnk.first] + flatten_link(lnk.rest)"
   ]
  },
  {
   "cell_type": "code",
   "execution_count": 9,
   "id": "9c828dc9",
   "metadata": {},
   "outputs": [
    {
     "data": {
      "text/plain": [
       "[1, 2, 3, 4]"
      ]
     },
     "execution_count": 9,
     "metadata": {},
     "output_type": "execute_result"
    }
   ],
   "source": [
    "link = Link(1, Link(2, Link(3, Link(4))))\n",
    "flatten_link(link)"
   ]
  },
  {
   "cell_type": "code",
   "execution_count": 10,
   "id": "40fdf895",
   "metadata": {},
   "outputs": [
    {
     "data": {
      "text/plain": [
       "[1, 2, 3, 4, 5, 6]"
      ]
     },
     "execution_count": 10,
     "metadata": {},
     "output_type": "execute_result"
    }
   ],
   "source": [
    "deep_link = Link(Link(1, Link(2, Link(3, Link(4)))), Link(Link(5), Link(6)))\n",
    "flatten_link(deep_link)"
   ]
  },
  {
   "cell_type": "markdown",
   "id": "a872de86",
   "metadata": {},
   "source": [
    "## Q4: Has Path\n",
    "Write a function has_path that takes in a Tree t and a string term. It returns True if there is a path that starts from the root where the entries along the path spell out the term, and False otherwise. You may assume that every node's label is exactly one character.\n",
    "```python\n",
    "    \"\"\"Return whether there is a path in a Tree where the entries along the path\n",
    "    spell out a particular term.\"\"\"\n",
    "\n",
    "    >>> greetings = Tree('h', [Tree('i'),\n",
    "    ...                        Tree('e', [Tree('l', [Tree('l', [Tree('o')])]),\n",
    "    ...                                   Tree('y')])])\n",
    "    >>> print(greetings)\n",
    "    h\n",
    "      i\n",
    "      e\n",
    "        l\n",
    "          l\n",
    "            o\n",
    "        y\n",
    "    >>> has_path(greetings, 'h')\n",
    "    True\n",
    "    >>> has_path(greetings, 'i')\n",
    "    False\n",
    "    >>> has_path(greetings, 'hi')\n",
    "    True\n",
    "    >>> has_path(greetings, 'hello')\n",
    "    True\n",
    "    >>> has_path(greetings, 'hey')\n",
    "    True\n",
    "    >>> has_path(greetings, 'bye')\n",
    "    False\n",
    "    >>> has_path(greetings, 'hint')\n",
    "    False\n",
    "```"
   ]
  },
  {
   "cell_type": "code",
   "execution_count": 22,
   "id": "0aeb72f3",
   "metadata": {},
   "outputs": [],
   "source": [
    "def has_path(t, term):\n",
    "    assert len(term) > 0 # no path for empty term\n",
    "    if len(term)==1 and t.label == term:\n",
    "        return True\n",
    "    if t.label != term[0]:\n",
    "        return False\n",
    "    else:\n",
    "        for b in t.branches:\n",
    "            if has_path(b, term[1:]):\n",
    "                return True\n",
    "        return False"
   ]
  },
  {
   "cell_type": "code",
   "execution_count": 23,
   "id": "b77dc04a",
   "metadata": {},
   "outputs": [],
   "source": [
    "greetings = Tree('h', [Tree('i'), Tree('e', [Tree('l', [Tree('l', [Tree('o')])]),Tree('y')])])"
   ]
  },
  {
   "cell_type": "code",
   "execution_count": 25,
   "id": "625c07cd",
   "metadata": {},
   "outputs": [
    {
     "data": {
      "text/plain": [
       "False"
      ]
     },
     "execution_count": 25,
     "metadata": {},
     "output_type": "execute_result"
    }
   ],
   "source": [
    "has_path(greetings, 'hy')"
   ]
  },
  {
   "cell_type": "markdown",
   "id": "c5b2126d",
   "metadata": {},
   "source": [
    "## Q5: Duplicate Link\n",
    "Write a function duplicate_link that takes in a linked list lnk and a value. duplicate_link will mutate lnk such that if there is a linked list node that has a first equal to value, that node will be duplicated. Note that you should be mutating the original link list lnk; you will need to create new Links, but you should not be returning a new linked list.\n",
    "\n",
    "```python\n",
    "    \"\"\"Mutates `lnk` such that if there is a linked list\n",
    "    node that has a first equal to value, that node will\n",
    "    be duplicated. Note that you should be mutating the\n",
    "    original link list. \"\"\"\n",
    "\n",
    "    >>> x = Link(5, Link(4, Link(3)))\n",
    "    >>> duplicate_link(x, 5)\n",
    "    >>> x\n",
    "    Link(5, Link(5, Link(4, Link(3))))\n",
    "    >>> y = Link(2, Link(4, Link(6, Link(8))))\n",
    "    >>> duplicate_link(y, 10)\n",
    "    >>> y\n",
    "    Link(2, Link(4, Link(6, Link(8))))\n",
    "   \n",
    "```"
   ]
  },
  {
   "cell_type": "code",
   "execution_count": 34,
   "id": "bf5338dd",
   "metadata": {},
   "outputs": [],
   "source": [
    "def duplicate_link(lnk, val):\n",
    "    if lnk == Link.empty:\n",
    "        return\n",
    "    if lnk.first == val:\n",
    "        newrest = Link(lnk.first, lnk.rest)\n",
    "        lnk.first = val\n",
    "        lnk.rest = newrest\n",
    "    else:\n",
    "        duplicate_link(lnk.rest, val)"
   ]
  },
  {
   "cell_type": "code",
   "execution_count": 35,
   "id": "112c122f",
   "metadata": {},
   "outputs": [
    {
     "data": {
      "text/plain": [
       "Link(5, Link(4, Link(3)))"
      ]
     },
     "execution_count": 35,
     "metadata": {},
     "output_type": "execute_result"
    }
   ],
   "source": [
    "x = Link(5, Link(4, Link(3)))\n",
    "x"
   ]
  },
  {
   "cell_type": "code",
   "execution_count": 36,
   "id": "99805ebc",
   "metadata": {},
   "outputs": [
    {
     "data": {
      "text/plain": [
       "Link(5, Link(5, Link(4, Link(3))))"
      ]
     },
     "execution_count": 36,
     "metadata": {},
     "output_type": "execute_result"
    }
   ],
   "source": [
    "duplicate_link(x, 5)\n",
    "x"
   ]
  },
  {
   "cell_type": "code",
   "execution_count": 40,
   "id": "d6a8714e",
   "metadata": {},
   "outputs": [
    {
     "name": "stdout",
     "output_type": "stream",
     "text": [
      "<2 4 6 8>\n"
     ]
    }
   ],
   "source": [
    "y = Link(2, Link(4, Link(6, Link(8))))\n",
    "duplicate_link(y, 10)\n",
    "print(y)"
   ]
  },
  {
   "cell_type": "markdown",
   "id": "4b525b6d",
   "metadata": {},
   "source": [
    "## Q6: Mutable Mapping\n",
    "Implement deep_map_mut(fn, link), which applies a function fn onto all elements in the given linked list lnk. If an element is itself a linked list, apply fn to each of its elements, and so on.\n",
    "\n",
    "Your implementation should mutate the original linked list. Do not create any new linked lists.\n",
    "\n",
    "```python\n",
    "\n",
    "    \"\"\"Mutates a deep link lnk by replacing each item found with the\n",
    "    result of calling fn on the item.  Does NOT create new Links (so\n",
    "    no use of Link's constructor).\n",
    "\n",
    "    Does not return the modified Link object.\"\"\"\n",
    "\n",
    "    >>> link1 = Link(3, Link(Link(4), Link(5, Link(6))))\n",
    "    >>> # Disallow the use of making new Links before calling deep_map_mut\n",
    "    >>> Link.__init__, hold = lambda *args: print(\"Do not create any new Links.\"), Link.__init__\n",
    "    >>> try:\n",
    "    ...     deep_map_mut(lambda x: x * x, link1)\n",
    "    ... finally:\n",
    "    ...     Link.__init__ = hold\n",
    "    >>> print(link1)\n",
    "    <9 <16> 25 36>\n",
    "\n",
    "```"
   ]
  },
  {
   "cell_type": "code",
   "execution_count": 65,
   "id": "7f36ecd6",
   "metadata": {},
   "outputs": [],
   "source": [
    "def deep_map_mut(fn, lnk):\n",
    "    if lnk == Link.empty:\n",
    "        print('some return')\n",
    "        return\n",
    "    if isinstance(lnk.first, Link):\n",
    "        print('deep return')\n",
    "        deep_map_mut(fn, lnk.first)\n",
    "    else:\n",
    "        lnk.first = fn(lnk.first)\n",
    "    deep_map_mut(fn, lnk.rest)"
   ]
  },
  {
   "cell_type": "code",
   "execution_count": 66,
   "id": "49903831",
   "metadata": {},
   "outputs": [
    {
     "name": "stdout",
     "output_type": "stream",
     "text": [
      "<3 <4> 5 6>\n"
     ]
    }
   ],
   "source": [
    "link1 = Link(3, Link(Link(4), Link(5, Link(6))))\n",
    "print(link1)"
   ]
  },
  {
   "cell_type": "code",
   "execution_count": 67,
   "id": "1acd2f16",
   "metadata": {},
   "outputs": [
    {
     "name": "stdout",
     "output_type": "stream",
     "text": [
      "deep return\n",
      "some return\n",
      "some return\n"
     ]
    }
   ],
   "source": [
    "deep_map_mut(lambda x: x * x, link1)"
   ]
  },
  {
   "cell_type": "code",
   "execution_count": 68,
   "id": "41e3c24d",
   "metadata": {},
   "outputs": [
    {
     "name": "stdout",
     "output_type": "stream",
     "text": [
      "<9 <16> 25 36>\n"
     ]
    }
   ],
   "source": [
    "print(link1)"
   ]
  }
 ],
 "metadata": {
  "kernelspec": {
   "display_name": "Python 3",
   "language": "python",
   "name": "python3"
  },
  "language_info": {
   "codemirror_mode": {
    "name": "ipython",
    "version": 3
   },
   "file_extension": ".py",
   "mimetype": "text/x-python",
   "name": "python",
   "nbconvert_exporter": "python",
   "pygments_lexer": "ipython3",
   "version": "3.7.11"
  }
 },
 "nbformat": 4,
 "nbformat_minor": 5
}
