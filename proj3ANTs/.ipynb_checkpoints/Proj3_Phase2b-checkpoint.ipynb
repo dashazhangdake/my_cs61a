{
 "cells": [
  {
   "cell_type": "code",
   "execution_count": 1,
   "id": "0685da18",
   "metadata": {},
   "outputs": [],
   "source": [
    "from ants import * "
   ]
  },
  {
   "cell_type": "code",
   "execution_count": 2,
   "id": "b69b3fea",
   "metadata": {},
   "outputs": [],
   "source": [
    "class Ant(Insect):\n",
    "    \"\"\"An Ant occupies a place and does work for the colony.\"\"\"\n",
    "\n",
    "    implemented = False  # Only implemented Ant classes should be instantiated\n",
    "    food_cost = 0\n",
    "    is_container = False\n",
    "    # ADD CLASS ATTRIBUTES HERE\n",
    "\n",
    "    def __init__(self, health=1):\n",
    "        \"\"\"Create an Insect with a HEALTH quantity.\"\"\"\n",
    "        super().__init__(health)\n",
    "\n",
    "    @classmethod\n",
    "    def construct(cls, gamestate):\n",
    "        \"\"\"Create an Ant for a given GameState, or return None if not possible.\"\"\"\n",
    "        if cls.food_cost > gamestate.food:\n",
    "            print('Not enough food remains to place ' + cls.__name__)\n",
    "            return\n",
    "        return cls()\n",
    "\n",
    "    def can_contain(self, other):\n",
    "        return False\n",
    "\n",
    "    def store_ant(self, other):\n",
    "        assert False, \"{0} cannot contain an ant\".format(self)\n",
    "\n",
    "    def remove_ant(self, other):\n",
    "        assert False, \"{0} cannot contain an ant\".format(self)\n",
    "\n",
    "    def add_to(self, place):\n",
    "        if place.ant is None:\n",
    "            place.ant = self\n",
    "        # else:\n",
    "        #     # BEGIN Problem 8\n",
    "        #     assert place.ant is None, 'Two ants in {0}'.format(place)\n",
    "        #     # END Problem 8\n",
    "        else:\n",
    "            assert (\n",
    "                (place.ant is None)\n",
    "                or self.can_contain(place.ant)\n",
    "                or place.ant.can_contain(self)\n",
    "            ), 'Two ants in {0}'.format(place)\n",
    "            if place.ant.is_container and place.ant.can_contain(self):\n",
    "                place.ant.store_ant(self)\n",
    "            elif self.is_container and self.can_contain(place.ant):\n",
    "                self.store_ant(place.ant)\n",
    "                # the place.ant should refer to\n",
    "        \n",
    "        Insect.add_to(self, place)\n",
    "\n",
    "    def remove_from(self, place):\n",
    "        if place.ant is self:\n",
    "            place.ant = None\n",
    "        elif place.ant is None:\n",
    "            assert False, '{0} is not in {1}'.format(self, place)\n",
    "        else:\n",
    "            place.ant.remove_ant(self)\n",
    "        Insect.remove_from(self, place)\n",
    "\n",
    "    def double(self):\n",
    "        \"\"\"Double this ants's damage, if it has not already been doubled.\"\"\"\n",
    "        # BEGIN Problem 12\n",
    "        \"*** YOUR CODE HERE ***\"\n",
    "        # END Problem 12"
   ]
  },
  {
   "cell_type": "markdown",
   "id": "f293149c",
   "metadata": {},
   "source": [
    "# Problem 6\n",
    "## Unlock Questions\n",
    "### Q1\n",
    "Q: What class does WallAnt inherit from?\n",
    "Choose the number of the correct choice:\n",
    "0) The WallAnt class does not inherit from any class\n",
    "1) ThrowerAnt\n",
    "2) Ant\n",
    "3) HungryAnt\n",
    "\n",
    "A: 2\n",
    "\n",
    "### Q2\n",
    "Q: What is a WallAnt's action?\n",
    "Choose the number of the correct choice:\n",
    "* 0) A WallAnt attacks all the Bees in its place each turn\n",
    "* 1) A WallAnt increases its own health by 1 each turn\n",
    "* 2) A WallAnt reduces its own health by 1 each turn\n",
    "* 3) A WallAnt takes no action each turn\n",
    "\n",
    "A: 3\n",
    "\n",
    "### Q3\n",
    "Q: Choose the number of the correct choice:\n",
    "* 0) Ant subclasses inherit the action method from the Ant class\n",
    "* 1) Ant subclasses inherit the action method from the Insect class\n",
    "* 2) Ant subclasses do not inherit the action method from any class\n",
    "\n",
    "A: 1\n",
    "\n",
    "### Q4\n",
    "Q: If a subclass of Ant does not override the action method, what is the\n",
    "default action?\n",
    "Choose the number of the correct choice:\n",
    "* 0) Move to the next place\n",
    "* 1) Nothing\n",
    "* 2) Reduce the health of all Bees in its place\n",
    "* 3) Throw a leaf at the nearest Bee\n",
    "\n",
    "A: 1"
   ]
  },
  {
   "cell_type": "markdown",
   "id": "476464c4",
   "metadata": {},
   "source": [
    "## Coding Solution"
   ]
  },
  {
   "cell_type": "code",
   "execution_count": 3,
   "id": "05139a17",
   "metadata": {},
   "outputs": [],
   "source": [
    "class WallAnt(Ant):\n",
    "    name = 'Wall'\n",
    "    food_cost = 4\n",
    "    def __init__(self, health=4):\n",
    "        \"\"\"Create an Ant with a HEALTH quantity.\"\"\"\n",
    "        super().__init__(health)\n",
    "    implemented = True   # Change to True to view in the GUI"
   ]
  },
  {
   "cell_type": "markdown",
   "id": "d581e956",
   "metadata": {},
   "source": [
    "# Probelm 7\n",
    "## Unlock Questions\n",
    "### Q1\n",
    "Q: Should chew_timer be an instance or class attribute? Why?\n",
    "Choose the number of the correct choice:\n",
    "* 0) class, all HungryAnt instances in the game chew simultaneously\n",
    "* 1) instance, all HungryAnt instances in the game chew simultaneously\n",
    "* 2) instance, each HungryAnt instance chews independently of other\n",
    "   HungryAnt instances\n",
    "* 3) class, each HungryAnt instance chews independently of other\n",
    "   HungryAnt instances\n",
    "   \n",
    "A: 2\n",
    "\n",
    "### Q2\n",
    "Q: When is a HungryAnt able to eat a Bee?\n",
    "Choose the number of the correct choice:\n",
    "* 0) Whenever a Bee is in its place\n",
    "* 1) When it is chewing, i.e. when its chew_timer attribute is at least 1\n",
    "* 2) Each turn\n",
    "* 3) When it is not chewing, i.e. when its chew_timer attribute is 0\n",
    "\n",
    "A: 3\n",
    "\n",
    "### Q3\n",
    "Q: When a HungryAnt is able to eat, which Bee does it eat?\n",
    "Choose the number of the correct choice:\n",
    "* 0) The closest Bee behind it\n",
    "* 1) The closest Bee in either direction\n",
    "* 2) A random Bee in the same place as itself\n",
    "* 3) The closest Bee in front of it\n",
    "\n",
    "A: 2"
   ]
  },
  {
   "cell_type": "markdown",
   "id": "b456059f",
   "metadata": {},
   "source": [
    "### Q4\n",
    "```python\n",
    ">>> from ants import *\n",
    ">>> beehive, layout = Hive(AssaultPlan()), dry_layout\n",
    ">>> dimensions = (1, 9)\n",
    ">>> gamestate = GameState(None, beehive, ant_types(), layout, dimensions)\n",
    ">>> #\n",
    ">>> # Testing HungryAnt parameters\n",
    ">>> hungry = HungryAnt()\n",
    ">>> HungryAnt.food_cost\n",
    "```\n",
    "A: 4\n",
    "\n",
    "### Q5\n",
    "```python\n",
    ">>> hungry.health\n",
    "```\n",
    "A: 4\n",
    "\n",
    "### Q6\n",
    "```python\n",
    ">>> hungry.time_to_chew\n",
    "```\n",
    "A: 3\n",
    "\n",
    "### Q7\n",
    "```python\n",
    ">>> hungry.chew_timer\n",
    "```\n",
    "A: 0"
   ]
  },
  {
   "cell_type": "markdown",
   "id": "e46d56f0",
   "metadata": {},
   "source": [
    "### Q8\n",
    "```python\n",
    ">>> from ants import *\n",
    ">>> beehive, layout = Hive(AssaultPlan()), dry_layout\n",
    ">>> dimensions = (1, 9)\n",
    ">>> gamestate = GameState(None, beehive, ant_types(), layout, dimensions)\n",
    ">>> #\n",
    ">>> # Testing HungryAnt eats and chews\n",
    ">>> hungry = HungryAnt()\n",
    ">>> super_bee, wimpy_bee = Bee(1000), Bee(1)\n",
    ">>> place = gamestate.places[\"tunnel_0_0\"]\n",
    ">>> place.add_insect(hungry)\n",
    ">>> place.add_insect(super_bee)\n",
    ">>> hungry.action(gamestate)         # super_bee is no match for HungryAnt!\n",
    ">>> super_bee.health\n",
    "```\n",
    "A: 0\n",
    "\n",
    "```python\n",
    ">>> place.add_insect(wimpy_bee)\n",
    ">>> for _ in range(3):\n",
    "...     hungry.action(gamestate)     # chewing...not eating\n",
    ">>> wimpy_bee.health\n",
    "```\n",
    "A: 1\n",
    "\n",
    "```python\n",
    ">>> hungry.action(gamestate)         # back to eating!\n",
    ">>> wimpy_bee.health\n",
    "```\n",
    "A: 0"
   ]
  },
  {
   "cell_type": "markdown",
   "id": "c1ea3da4",
   "metadata": {},
   "source": [
    "## Coding Solution"
   ]
  },
  {
   "cell_type": "code",
   "execution_count": 4,
   "id": "d952cc6d",
   "metadata": {},
   "outputs": [],
   "source": [
    "class HungryAnt(Ant):\n",
    "    name = 'Hungry'\n",
    "    time_to_chew = 3\n",
    "    food_cost = 4\n",
    "    def __init__(self):\n",
    "        \"\"\"Create an Ant with a HEALTH quantity.\"\"\"\n",
    "        super().__init__(health=1)\n",
    "        self.chew_timer = 0\n",
    "    \n",
    "    def lucky_bee(self):\n",
    "        if self.place.bees:\n",
    "            return random_bee(self.place.bees)\n",
    "        return None\n",
    "\n",
    "    def swallow(self, target):\n",
    "        if target is not None:\n",
    "            damage = target.health if self.chew_timer == 0 else 0\n",
    "            # print(damage)\n",
    "            target.reduce_health(damage)\n",
    "            self.chew_timer = self.time_to_chew\n",
    "            \n",
    "    def action(self, game_state):\n",
    "        if self.chew_timer == 0:\n",
    "            self.swallow(self.lucky_bee())\n",
    "        else:\n",
    "            self.chew_timer -= 1\n",
    "\n",
    "    implemented = True   # Change to True to view in the GUI"
   ]
  },
  {
   "cell_type": "markdown",
   "id": "68a80e3c",
   "metadata": {},
   "source": [
    "# Problem 8\n",
    "## Unlock Questions\n",
    "### Q1\n",
    "Q: Which Ant does a BodyguardAnt guard?\n",
    "Choose the number of the correct choice:\n",
    "* 0) All the Ant instances in the gamestate\n",
    "* 1) The Ant instance in the place closest to its own place\n",
    "* 2) The Ant instance that is in the same place as itself\n",
    "* 3) A random Ant instance in the gamestate\n",
    "\n",
    "A: 2\n",
    "\n",
    "### Q2\n",
    "Q: How does a BodyguardAnt guard its ant?\n",
    "Choose the number of the correct choice:\n",
    "* 0) By allowing Bees to pass without attacking\n",
    "* 1) By attacking Bees that try to attack it\n",
    "* 2) By increasing the ant's health\n",
    "* 3) By protecting the ant from Bees and allowing it to perform its original action\n",
    "\n",
    "A: 3\n",
    "\n",
    "### Q3\n",
    "Q: Where is the ant contained by a BodyguardAnt stored?\n",
    "Choose the number of the correct choice:\n",
    "* 0) In its place's ant instance attribute\n",
    "* 1) Nowhere, a BodyguardAnt has no knowledge of the ant that it's protecting\n",
    "* 2) In the BodyguardAnt's ant_contained instance attribute\n",
    "* 3) In the BodyguardAnt's ant_contained class attribute\n",
    "\n",
    "A: 2\n",
    "\n",
    "### Q4\n",
    "Choose the number of the correct choice:\n",
    "* 0) When both Ant instances are containers\n",
    "* 1) When exactly one of the Ant instances is a container and the\n",
    "   container ant does not already contain another ant\n",
    "* 2) There can never be two Ant instances in the same place\n",
    "* 3) When exactly one of the Ant instances is a container\n",
    "\n",
    "A: 1\n",
    "\n",
    "### Q5\n",
    "Q: If two Ants occupy the same Place, what is stored in that place's ant\n",
    "instance attribute?\n",
    "Choose the number of the correct choice:\n",
    "* 0) The Ant being contained\n",
    "* 1) Whichever Ant was placed there first\n",
    "* 2) The Container Ant\n",
    "* 3) A list containing both Ants\n",
    "\n",
    "A: 2"
   ]
  },
  {
   "cell_type": "markdown",
   "id": "e0c468b0",
   "metadata": {},
   "source": [
    "### Q5\n",
    "```python\n",
    ">>> from ants import *\n",
    ">>> # Testing BodyguardAnt parameters\n",
    ">>> bodyguard = BodyguardAnt()\n",
    ">>> BodyguardAnt.food_cost\n",
    "```\n",
    "A: 4\n",
    "\n",
    "### Q6\n",
    "```python\n",
    ">>> bodyguard.health\n",
    "```\n",
    "\n",
    "A: 2\n"
   ]
  },
  {
   "cell_type": "markdown",
   "id": "478f6fea",
   "metadata": {},
   "source": [
    "### Q7\n",
    "```python\n",
    ">>> from ants import *\n",
    ">>> beehive, layout = Hive(AssaultPlan()), dry_layout\n",
    ">>> gamestate = GameState(None, beehive, ant_types(), layout, (1, 9))\n",
    ">>> #\n",
    ">>> # Bodyguard ant added before another ant\n",
    ">>> bodyguard = BodyguardAnt()\n",
    ">>> other_ant = ThrowerAnt()\n",
    ">>> place = gamestate.places['tunnel_0_0']\n",
    ">>> place.add_insect(bodyguard)  # Bodyguard in place first\n",
    ">>> place.add_insect(other_ant)\n",
    ">>> place.ant is bodyguard\n",
    "```\n",
    "A: True\n",
    "\n",
    "\n",
    "### Q8\n",
    "```python\n",
    ">>> bodyguard.ant_contained is other_ant\n",
    "```\n",
    "A: True\n",
    "\n",
    "\n",
    "### Q9\n",
    "```python\n",
    ">>> from ants import *\n",
    ">>> beehive, layout = Hive(AssaultPlan()), dry_layout\n",
    ">>> gamestate = GameState(None, beehive, ant_types(), layout, (1, 9))\n",
    ">>> #\n",
    ">>> # Bodyguard ant can be added after another ant\n",
    ">>> bodyguard = BodyguardAnt()\n",
    ">>> other_ant = ThrowerAnt()\n",
    ">>> place = gamestate.places['tunnel_0_0']\n",
    ">>> place.add_insect(other_ant)  # Other ant in place first\n",
    ">>> place.ant is other_ant\n",
    "```\n",
    "A True\n",
    "\n",
    "\n",
    "### Q10\n",
    "```python\n",
    ">>> place.add_insect(bodyguard)\n",
    ">>> place.ant is bodyguard\n",
    "```\n",
    "A: True\n",
    "    \n",
    "### Q11\n",
    "```python    \n",
    ">>> bodyguard.ant_contained is other_ant\n",
    "```\n",
    "A: True"
   ]
  },
  {
   "cell_type": "markdown",
   "id": "087449d0",
   "metadata": {},
   "source": [
    "**Note:** ```**kwargs``` and ```*args```\n",
    "\n",
    "**1. \\*args:** Let a function accept an arbitrary number of arguments\n",
    "\n",
    "Sometimes, we would like to write a function that accepts an arbitrary number of arguments, and then calls another function using exactly those arguments.\n",
    "\n",
    "Instead of listing formal parameters for a function, you can write ```*args```, which represents all of the arguments that get passed into the function. We can then call another function with these same arguments by passing these *args into this other function.\n",
    "\n",
    "**Example1:**"
   ]
  },
  {
   "cell_type": "code",
   "execution_count": 5,
   "id": "d8191136",
   "metadata": {},
   "outputs": [],
   "source": [
    "def printx(f):\n",
    "    def print_and_return(*args):\n",
    "        result = f(*args)\n",
    "        print('result: ', result)\n",
    "        return result\n",
    "    return print_and_return"
   ]
  },
  {
   "cell_type": "code",
   "execution_count": 6,
   "id": "0492c239",
   "metadata": {},
   "outputs": [],
   "source": [
    "def add3(x, y, z):\n",
    "    return x + y + z"
   ]
  },
  {
   "cell_type": "code",
   "execution_count": 7,
   "id": "ba009c04",
   "metadata": {},
   "outputs": [
    {
     "name": "stdout",
     "output_type": "stream",
     "text": [
      "result:  6\n"
     ]
    },
    {
     "data": {
      "text/plain": [
       "6"
      ]
     },
     "execution_count": 7,
     "metadata": {},
     "output_type": "execute_result"
    }
   ],
   "source": [
    "print_add3 = printx(add3)\n",
    "print_add3(1, 2, 3)"
   ]
  },
  {
   "cell_type": "code",
   "execution_count": 8,
   "id": "aa7c888d",
   "metadata": {},
   "outputs": [],
   "source": [
    "def add4(x, y, z, a):\n",
    "    return x + y + z + a"
   ]
  },
  {
   "cell_type": "code",
   "execution_count": 9,
   "id": "98e361a4",
   "metadata": {},
   "outputs": [
    {
     "name": "stdout",
     "output_type": "stream",
     "text": [
      "result:  10\n"
     ]
    },
    {
     "data": {
      "text/plain": [
       "10"
      ]
     },
     "execution_count": 9,
     "metadata": {},
     "output_type": "execute_result"
    }
   ],
   "source": [
    "print_add4 = printx(add4)\n",
    "print_add4(1, 2, 3, 4)"
   ]
  },
  {
   "cell_type": "markdown",
   "id": "7f45b86d",
   "metadata": {},
   "source": [
    "**2. **kwargs:** Let a function accept an arbitrary number of keyword arguments"
   ]
  },
  {
   "cell_type": "code",
   "execution_count": 10,
   "id": "9a1132e4",
   "metadata": {},
   "outputs": [],
   "source": [
    "def printk(f):\n",
    "    def print_and_return(*args, **kwargs):\n",
    "        result = f(*args, **kwargs)\n",
    "        print('result: ', result)\n",
    "        return result\n",
    "    return print_and_return"
   ]
  },
  {
   "cell_type": "code",
   "execution_count": 11,
   "id": "d1f31348",
   "metadata": {},
   "outputs": [],
   "source": [
    "def add1k(x, v1, v2):\n",
    "    return x + v1 + v2"
   ]
  },
  {
   "cell_type": "code",
   "execution_count": 12,
   "id": "453555a1",
   "metadata": {},
   "outputs": [
    {
     "name": "stdout",
     "output_type": "stream",
     "text": [
      "result:  6\n"
     ]
    },
    {
     "data": {
      "text/plain": [
       "6"
      ]
     },
     "execution_count": 12,
     "metadata": {},
     "output_type": "execute_result"
    }
   ],
   "source": [
    "print_addk = printk(add1k)\n",
    "print_addk(1, v1=2, v2=3)"
   ]
  },
  {
   "cell_type": "markdown",
   "id": "c157931d",
   "metadata": {},
   "source": [
    "### Coding Solutions\n",
    "#### 0. ```store_ant()``` and ```action()``` methods\n",
    "* Set the instance attribute ```self.ant_contained``` to ```ant```\n",
    "* If contains an ant, acts as the ```contained ant```"
   ]
  },
  {
   "cell_type": "code",
   "execution_count": 13,
   "id": "50969a06",
   "metadata": {},
   "outputs": [],
   "source": [
    "def store_ant(self, ant):\n",
    "    # BEGIN Problem 8\n",
    "    self.ant_contained = ant\n",
    "    # END Problem 8\n",
    "    \n",
    "def action(self, gamestate):\n",
    "    # BEGIN Problem 8\n",
    "    if self.ant_contained:\n",
    "        self.ant_contained.action(gamestate)\n",
    "    # END Problem 8"
   ]
  },
  {
   "cell_type": "markdown",
   "id": "7afe0333",
   "metadata": {},
   "source": [
    "#### 1. ```can_contain()``` method\n",
    "* If ```container_ant``` contains **nothing** and ```other``` is **not** a ```container``` "
   ]
  },
  {
   "cell_type": "code",
   "execution_count": 14,
   "id": "ced4e785",
   "metadata": {},
   "outputs": [],
   "source": [
    "    def can_contain(self, other):\n",
    "        # BEGIN Problem 8\n",
    "        if self.ant_contained is None and not isinstance(other, ContainerAnt):\n",
    "            return True\n",
    "        else:\n",
    "            return False\n",
    "        # END Problem 8"
   ]
  },
  {
   "cell_type": "markdown",
   "id": "345b0e79",
   "metadata": {},
   "source": [
    "#### 2. ```Ant.add_to()``` method\n",
    "* Ant in place (```place.ant```), and we give this ant a ```containerAnt``` (```self.ant``` is a ```container```): \n",
    "    * **Note:** If two ants are in the same place, then place.ant should be set to refer to the container\n",
    "    * First, call ```self.stores(other)```\n",
    "    * Then, ```place.ant``` refers to the current ```containerAnt```\n",
    "* Current ant in place is a containerAnt, we are adding ```self.ant``` into that ```container```:\n",
    "    * Call ```place.stores(self)```\n",
    "* Neither of the ants is a container:\n",
    "    * **AssertionError** when attempting to put two ants in the same place"
   ]
  },
  {
   "cell_type": "code",
   "execution_count": 15,
   "id": "c96884c3",
   "metadata": {},
   "outputs": [],
   "source": [
    "def add_to(self, place):\n",
    "    if place.ant is None:\n",
    "        place.ant = self\n",
    "    else:\n",
    "        # BEGIN Problem 8\n",
    "        if self.can_contain(place.ant): # add container to the current place\n",
    "            self.store_ant(place.ant)\n",
    "            place.ant = self\n",
    "        elif place.ant.can_contain(self): # add self to a container in place\n",
    "            place.ant.store_ant(self)\n",
    "        else:\n",
    "            assert place.ant is None, 'Two ants in {0}'.format(place)\n",
    "        # END Problem 8\n",
    "    Insect.add_to(self, place)"
   ]
  },
  {
   "cell_type": "markdown",
   "id": "ce9afdb3",
   "metadata": {},
   "source": [
    "# Problem 9\n",
    "\n",
    "### Q1: \n",
    "Besides costing more to place, what is the only difference between a\n",
    "TankAnt and a BodyguardAnt?\n",
    "Choose the number of the correct choice:\n",
    "* 0) A TankAnt increases the damage of the ant it contains\n",
    "* 1) A TankAnt has greater health than a BodyguardAnt\n",
    "* 2) A TankAnt does damage to all Bees in its place each turn\n",
    "* 3) A TankAnt can contain multiple ants\n",
    "\n",
    "A: 2\n"
   ]
  },
  {
   "cell_type": "markdown",
   "id": "f764f856",
   "metadata": {},
   "source": [
    "### Q2\n",
    "```python\n",
    ">>> from ants_plans import *\n",
    ">>> from ants import *\n",
    ">>> beehive, layout = Hive(make_test_assault_plan()), dry_layout\n",
    ">>> dimensions = (1, 9)\n",
    ">>> gamestate = GameState(None, beehive, ant_types(), layout, dimensions)\n",
    ">>> #\n",
    ">>> # Testing TankAnt parameters\n",
    ">>> TankAnt.food_cost\n",
    "```\n",
    "A: 6\n",
    "\n",
    "### Q3\n",
    "```python\n",
    ">>> TankAnt.damage\n",
    "```\n",
    "A: 1\n",
    "\n",
    "### Q4\n",
    "```python\n",
    ">>> tank = TankAnt()\n",
    ">>> tank.health\n",
    "```\n",
    "A: 2\n"
   ]
  },
  {
   "cell_type": "markdown",
   "id": "bf1aae65",
   "metadata": {},
   "source": [
    "## Coding Solutions"
   ]
  },
  {
   "cell_type": "code",
   "execution_count": 16,
   "id": "981f9fca",
   "metadata": {},
   "outputs": [],
   "source": [
    "class TankAnt(ContainerAnt):\n",
    "    name = 'Tank'\n",
    "    food_cost = 6\n",
    "    damage = 1\n",
    "    \n",
    "    def __init__(self, health=2):\n",
    "        super().__init__(health)\n",
    "\n",
    "    def action(self, gamestate):\n",
    "        if self.ant_contained:\n",
    "            self.ant_contained.action(gamestate)\n",
    "        for bee in self.place.bees[:]:\n",
    "            bee.reduce_health(self.damage)\n",
    "\n",
    "    implemented = True"
   ]
  }
 ],
 "metadata": {
  "kernelspec": {
   "display_name": "Python 3 (ipykernel)",
   "language": "python",
   "name": "python3"
  },
  "language_info": {
   "codemirror_mode": {
    "name": "ipython",
    "version": 3
   },
   "file_extension": ".py",
   "mimetype": "text/x-python",
   "name": "python",
   "nbconvert_exporter": "python",
   "pygments_lexer": "ipython3",
   "version": "3.7.12"
  }
 },
 "nbformat": 4,
 "nbformat_minor": 5
}
