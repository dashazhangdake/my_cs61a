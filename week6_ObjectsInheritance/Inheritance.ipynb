{
 "cells": [
  {
   "cell_type": "markdown",
   "id": "77c3ba4e",
   "metadata": {},
   "source": [
    "# 1. Inheritance Intro"
   ]
  },
  {
   "cell_type": "code",
   "execution_count": 1,
   "id": "2fc01420",
   "metadata": {},
   "outputs": [],
   "source": [
    "class Food:\n",
    "\n",
    "    def __init__(self, name, type, calories=0):\n",
    "        self.name = name\n",
    "        self.type = type\n",
    "        self.calories = calories\n",
    "broccoli = Food(\"Broccoli Rabe\", \"veggies\", 20)\n",
    "bone_marrow = Food(\"Bone Marrow\", \"meat\", 100)"
   ]
  },
  {
   "cell_type": "markdown",
   "id": "1cf4679d",
   "metadata": {},
   "source": [
    "<img src=\"resources/week6_p3.png\" alt=\"Drawing\" style=\"width: 640px;\"/>\n",
    "\n",
    "Elephant and Rabbit are both animals, so they have similar attributes. Instead of repeating code, we can inherit the code.\n",
    "\n",
    "When multiple classes share similiar attributes, you can reduce redudant code by defining a class and then subclasses can inherit from the base class.\n",
    "\n",
    "**Note**, the base class is also known as the **superclass**\n",
    "<img src=\"resources/week6_p4.png\" alt=\"Drawing\" style=\"width: 400px;\"/>"
   ]
  },
  {
   "cell_type": "markdown",
   "id": "45506c5a",
   "metadata": {},
   "source": [
    "# 2. Inheritance demo with Animal Class\n",
    "\n",
    "## 2.1. Base Class\n",
    "The base class contains method headers common to the subclasses, and code that is used by multiple subclasses."
   ]
  },
  {
   "cell_type": "code",
   "execution_count": 2,
   "id": "25067a45",
   "metadata": {},
   "outputs": [],
   "source": [
    "class Animal:\n",
    "    species_name = \"Animal\"\n",
    "    scientific_name = \"Animalia\"\n",
    "    play_multiplier = 2\n",
    "    interact_increment = 1\n",
    "\n",
    "    def __init__(self, name, age=0):\n",
    "        self.name = name\n",
    "        self.age = age\n",
    "        self.calories_eaten  = 0\n",
    "        self.happiness = 0\n",
    "\n",
    "    def play(self, num_hours):\n",
    "        self.happiness += (num_hours * self.play_multiplier)\n",
    "        print(\"WHEEE PLAY TIME!\")\n",
    "\n",
    "    def eat(self, food):\n",
    "        self.calories_eaten += food.calories\n",
    "        print(f\"Om nom nom yummy {food.name}\")\n",
    "        if self.calories_eaten > self.calories_needed:\n",
    "            self.happiness -= 1\n",
    "            print(\"Ugh so full\")\n",
    "\n",
    "    def interact_with(self, animal2):\n",
    "        self.happiness += self.interact_increment\n",
    "        print(f\"Yay happy fun time with {animal2.name}\")"
   ]
  },
  {
   "cell_type": "markdown",
   "id": "45f5d936",
   "metadata": {},
   "source": [
    "## 2.2. Subclass\n",
    "To declare a subclass: put parentheses after the clas name and specify the base class in the parenthesses:\n",
    "\n",
    "```class Panda(Animal):```\n",
    "\n",
    "The subclasses only need thhe code that is unique to them. They can redefine any aspect: class variables, method definitions, or the constructor. A redefinition is called **overriding**\n",
    "\n",
    "The simpleset subclass overrides NOTHING: \n",
    "```python\n",
    "    class AmorphousBlob(Animal):\n",
    "        pass\n",
    "```"
   ]
  },
  {
   "cell_type": "markdown",
   "id": "35a25c39",
   "metadata": {},
   "source": [
    "### 2.2.a. Overriding class variables"
   ]
  },
  {
   "cell_type": "code",
   "execution_count": 3,
   "id": "ccea53a9",
   "metadata": {},
   "outputs": [],
   "source": [
    "class Rabbit(Animal):\n",
    "    species_name = \"European rabbit\"\n",
    "    scientific_name = \"Oryctolagus cuniculus\"\n",
    "    calories_needed = 200\n",
    "    play_multiplier = 8\n",
    "    interact_increment = 4\n",
    "    num_in_litter = 12\n",
    "\n",
    "class Elephant(Animal):\n",
    "    species_name = \"African Savanna Elephant\"\n",
    "    scientific_name = \"Loxodonta africana\"\n",
    "    calories_needed = 8000\n",
    "    play_multiplier = 4\n",
    "    interact_increment = 2\n",
    "    num_tusks = 2"
   ]
  },
  {
   "cell_type": "code",
   "execution_count": 4,
   "id": "ccb5b41c",
   "metadata": {},
   "outputs": [
    {
     "data": {
      "text/plain": [
       "'European rabbit'"
      ]
     },
     "execution_count": 4,
     "metadata": {},
     "output_type": "execute_result"
    }
   ],
   "source": [
    "Rabbit.species_name"
   ]
  },
  {
   "cell_type": "code",
   "execution_count": 5,
   "id": "557dfbb4",
   "metadata": {},
   "outputs": [
    {
     "data": {
      "text/plain": [
       "'Animal'"
      ]
     },
     "execution_count": 5,
     "metadata": {},
     "output_type": "execute_result"
    }
   ],
   "source": [
    "Animal.species_name"
   ]
  },
  {
   "cell_type": "code",
   "execution_count": 6,
   "id": "d89b9ae6",
   "metadata": {},
   "outputs": [
    {
     "data": {
      "text/plain": [
       "8000"
      ]
     },
     "execution_count": 6,
     "metadata": {},
     "output_type": "execute_result"
    }
   ],
   "source": [
    "Elephant.calories_needed"
   ]
  },
  {
   "cell_type": "markdown",
   "id": "62a42163",
   "metadata": {},
   "source": [
    "#### Exercise: Learnable content\n",
    "* Create a Video subclass with license of \"YouTube Standard License\"\n",
    "* Create an Article subclass with license of \"CC-BY-NC-SA\""
   ]
  },
  {
   "cell_type": "code",
   "execution_count": 7,
   "id": "9fdfcf80",
   "metadata": {},
   "outputs": [],
   "source": [
    "class LearnableContent:\n",
    "    license = \"Creative Commons\"\n",
    "\n",
    "    def __init__(self, title, author):\n",
    "        self.title = title\n",
    "        self.author = author"
   ]
  },
  {
   "cell_type": "code",
   "execution_count": 8,
   "id": "375a09e0",
   "metadata": {},
   "outputs": [],
   "source": [
    "class Video(LearnableContent):\n",
    "    license = \"YouTube Standard License\"\n",
    "class Article(LearnableContent):\n",
    "    license = \"CC-BY-NC-SA\""
   ]
  },
  {
   "cell_type": "markdown",
   "id": "bfffd9ee",
   "metadata": {},
   "source": [
    "* Create a new Video instance with a title of \"DNA\" and an author of \"Megan\"\n",
    "* Create a new Article instance with a title of \"Water phases\" and an author of \"Lauren\""
   ]
  },
  {
   "cell_type": "code",
   "execution_count": 9,
   "id": "08ecb77d",
   "metadata": {},
   "outputs": [],
   "source": [
    "video1 = Video('DNA', 'Megan')\n",
    "article1 = Article('water phases', 'Lauren')"
   ]
  },
  {
   "cell_type": "markdown",
   "id": "2361e4b9",
   "metadata": {},
   "source": [
    "### 2.2.b. Overriding Methods\n",
    "If a subclass overrides a method, Python will use that method instead of the superclass definition"
   ]
  },
  {
   "cell_type": "code",
   "execution_count": 10,
   "id": "0f61229f",
   "metadata": {},
   "outputs": [],
   "source": [
    "class Panda(Animal):\n",
    "    species_name = \"Giant Panda\"\n",
    "    scientific_name = \"Ailuropoda melanoleuca\"\n",
    "    calories_needed = 6000\n",
    "\n",
    "    def interact_with(self, other):\n",
    "        print(f\"I'm a Panda, I'm solitary, go away {other.name}!\")"
   ]
  },
  {
   "cell_type": "markdown",
   "id": "80a5db57",
   "metadata": {},
   "source": [
    "Call the overridden method"
   ]
  },
  {
   "cell_type": "code",
   "execution_count": 11,
   "id": "1575c215",
   "metadata": {},
   "outputs": [
    {
     "name": "stdout",
     "output_type": "stream",
     "text": [
      "I'm a Panda, I'm solitary, go away quin!\n"
     ]
    }
   ],
   "source": [
    "panda1 = Panda('xupanda', 0)\n",
    "panda2 = Panda('quin', 1)\n",
    "panda1.interact_with(panda2)"
   ]
  },
  {
   "cell_type": "markdown",
   "id": "1ffccba9",
   "metadata": {},
   "source": [
    "#### Exercise: Clothing\n",
    "Override the clean() method of Clothing, so that kids clothing always stays dirty!"
   ]
  },
  {
   "cell_type": "code",
   "execution_count": 12,
   "id": "dc2a859a",
   "metadata": {},
   "outputs": [],
   "source": [
    "class Clothing:\n",
    "    def __init__(self, category, color):\n",
    "        self.category = category\n",
    "        self.color = color\n",
    "        self.is_clean = True\n",
    "\n",
    "    def wear(self):\n",
    "        self.is_clean = False\n",
    "\n",
    "    def clean(self):\n",
    "        self.is_clean = True\n",
    "        \n",
    "class KidsClothing(Clothing):\n",
    "    def clean(self):\n",
    "        self.is_clean = self.is_clean # Before wearing, it is clean. After wering once, it cannot be cleaned anymore"
   ]
  },
  {
   "cell_type": "markdown",
   "id": "828e0814",
   "metadata": {},
   "source": [
    "### 2.2.c. Using methods from the base class\n",
    "To refer to a superclass method, we can use ```super()```"
   ]
  },
  {
   "cell_type": "code",
   "execution_count": 13,
   "id": "1d4c77f4",
   "metadata": {},
   "outputs": [],
   "source": [
    "class Lion(Animal):\n",
    "    species_name = \"Lion\"\n",
    "    scientific_name = \"Panthera\"\n",
    "    calories_needed = 3000\n",
    "\n",
    "    def eat(self, food):\n",
    "        if food.type == \"meat\":\n",
    "            super().eat(food)\n",
    "        else:\n",
    "            self.happiness -= 1\n",
    "            print(f'i dont want {food.type}')\n",
    "            \n",
    "    def eat_alternate(self, food):\n",
    "        if food.type == \"meat\":\n",
    "            Animal.eat(self, food)\n",
    "        else:\n",
    "            self.happiness -= 1\n",
    "            print(f'i dont want {food.type}')"
   ]
  },
  {
   "cell_type": "code",
   "execution_count": 14,
   "id": "9c14591c",
   "metadata": {},
   "outputs": [
    {
     "name": "stdout",
     "output_type": "stream",
     "text": [
      "i dont want veggies\n",
      "Om nom nom yummy Bone Marrow\n",
      "Om nom nom yummy big bone\n",
      "Ugh so full\n"
     ]
    }
   ],
   "source": [
    "shiba = Lion('shiba', 1) \n",
    "shiba.eat(broccoli)\n",
    "shiba.eat(bone_marrow)\n",
    "bigbone = Food('big bone', 'meat', 5000)\n",
    "shiba.eat_alternate(bigbone)"
   ]
  },
  {
   "cell_type": "markdown",
   "id": "5b97da67",
   "metadata": {},
   "source": [
    "**More on super()**\n",
    "\n",
    "```super().attribute``` refers to the definition of attribute in the superclass of the first parameter to the method\n",
    "\n",
    "i.e. ```super().attribute(params)``` is equivalent to ```ParentClass.attribute(self, params)```"
   ]
  },
  {
   "cell_type": "markdown",
   "id": "20bc25e7",
   "metadata": {},
   "source": [
    "### 2.2.c.2. Overriding __init__\n",
    "\n",
    "Similiarrly, we need to explicitly call ```super().__init__()``` if we want to call ```__init__``` functionality of the base class"
   ]
  },
  {
   "cell_type": "code",
   "execution_count": 15,
   "id": "ac84714b",
   "metadata": {},
   "outputs": [],
   "source": [
    "class Elephant(Animal):\n",
    "    species_name = \"Elephant\"\n",
    "    scientific_name = \"Loxodonta\"\n",
    "    calories_needed = 8000\n",
    "\n",
    "    def __init__(self, name, age=0):\n",
    "#         super().__init__(name, age)\n",
    "        Animal.__init__(self, name, age)\n",
    "        if age < 1:\n",
    "            self.calories_needed = 1000\n",
    "        elif age < 5:\n",
    "            self.calories_needed = 3000"
   ]
  },
  {
   "cell_type": "code",
   "execution_count": 16,
   "id": "e47632dd",
   "metadata": {},
   "outputs": [
    {
     "data": {
      "text/plain": [
       "3000"
      ]
     },
     "execution_count": 16,
     "metadata": {},
     "output_type": "execute_result"
    }
   ],
   "source": [
    "elly = Elephant(\"Ellie\", 3)\n",
    "elly.calories_needed        # 3000"
   ]
  },
  {
   "cell_type": "code",
   "execution_count": 17,
   "id": "4f06510b",
   "metadata": {},
   "outputs": [
    {
     "data": {
      "text/plain": [
       "1000"
      ]
     },
     "execution_count": 17,
     "metadata": {},
     "output_type": "execute_result"
    }
   ],
   "source": [
    "elly = Elephant(\"julie\", 0)\n",
    "elly.calories_needed        # 3000"
   ]
  },
  {
   "cell_type": "markdown",
   "id": "10bfe433",
   "metadata": {},
   "source": [
    "#### Exercise: Catplay\n",
    "Call the super class to set name and age, If age is less than 1, set play multiplier to 6\n",
    "```python\n",
    "    >>> adult = Cat(\"Winston\", 12)\n",
    "    >>> adult.name\n",
    "    'Winston'\n",
    "    >>> adult.age\n",
    "    12\n",
    "    >>> adult.play_multiplier\n",
    "    3\n",
    "    >>> kitty = Cat(\"Kurty\", 0.5)\n",
    "    >>> kitty.name\n",
    "    'Kurty'\n",
    "    >>> kitty.age\n",
    "    0.5\n",
    "    >>> kitty.play_multiplier\n",
    "    6\n",
    "```"
   ]
  },
  {
   "cell_type": "code",
   "execution_count": 18,
   "id": "3ecb209b",
   "metadata": {},
   "outputs": [],
   "source": [
    "class Animal:\n",
    "    species_name = \"Animal\"\n",
    "    scientific_name = \"Animalia\"\n",
    "    play_multiplier = 2\n",
    "    interact_increment = 1\n",
    "\n",
    "    def __init__(self, name, age=0):\n",
    "        self.name = name\n",
    "        self.age = age\n",
    "        self.calories_eaten  = 0\n",
    "        self.happiness = 0\n",
    "\n",
    "    def play(self, num_hours):\n",
    "        self.happiness += (num_hours * self.play_multiplier)\n",
    "        print(\"WHEEE PLAY TIME!\")\n",
    "\n",
    "    def eat(self, food):\n",
    "        self.calories_eaten += food.calories\n",
    "        print(f\"Om nom nom yummy {food.name}\")\n",
    "        if self.calories_eaten > self.calories_needed:\n",
    "            self.happiness -= 1\n",
    "            print(\"Ugh so full\")\n",
    "\n",
    "    def interact_with(self, animal2):\n",
    "        self.happiness += self.interact_increment\n",
    "        print(f\"Yay happy fun time with {animal2.name}\")\n",
    "        \n",
    "class Cat(Animal):\n",
    "\n",
    "    species_name = \"Domestic cat\"\n",
    "    scientific_name = \"Felis silvestris catus\"\n",
    "    calories_needed = 200\n",
    "    play_multiplier = 3\n",
    "  \n",
    "    def __init__(self, name, age):\n",
    "        super().__init__(name, age)\n",
    "        if self.age < 1:\n",
    "            self.play_multiplier = 6"
   ]
  },
  {
   "cell_type": "code",
   "execution_count": 19,
   "id": "16a6cd4f",
   "metadata": {},
   "outputs": [
    {
     "name": "stdout",
     "output_type": "stream",
     "text": [
      "Kurty 0.5 6\n",
      "Kurtyfather 15 3\n"
     ]
    }
   ],
   "source": [
    "kitty = Cat(\"Kurty\", 0.5)\n",
    "print(kitty.name, kitty.age, kitty.play_multiplier)\n",
    "\n",
    "adult = Cat(\"Kurtyfather\", 15)\n",
    "print(adult.name, adult.age, adult.play_multiplier)"
   ]
  },
  {
   "cell_type": "markdown",
   "id": "61704f0f",
   "metadata": {},
   "source": [
    "# 3. layers of Inheritance\n",
    "Every python3 class implicitly extends the ```object``` class\n",
    "<img src=\"resources/week6_p5.png\" alt=\"Drawing\" style=\"width: 320px;\"/>\n",
    "We can also add in more levels of inheritance\n",
    "<img src=\"resources/week6_p6.png\" alt=\"Drawing\" style=\"width: 360px;\"/>\n"
   ]
  },
  {
   "cell_type": "markdown",
   "id": "90b2cd5d",
   "metadata": {},
   "source": [
    "## 3.0 Add layers of inheritance\n",
    "\n",
    "First define new classes"
   ]
  },
  {
   "cell_type": "code",
   "execution_count": 20,
   "id": "3abeda2d",
   "metadata": {},
   "outputs": [],
   "source": [
    "class Herbivore(Animal):\n",
    "\n",
    "    def eat(self, food):\n",
    "        if food.type == \"meat\":\n",
    "            self.happiness -= 5\n",
    "        else:\n",
    "            super().eat(food)\n",
    "\n",
    "class Carnivore(Animal):\n",
    "\n",
    "    def eat(self, food):\n",
    "        if food.type == \"meat\":\n",
    "            super().eat(food)"
   ]
  },
  {
   "cell_type": "markdown",
   "id": "8f5294ec",
   "metadata": {},
   "source": [
    "Then we change the base classes for the subclasses:\n",
    "```python\n",
    "class Rabbit(Herbivore):\n",
    "class Panda(Herbivore):\n",
    "class Elephant(Herbivore):\n",
    "\n",
    "class Vulture(Carnivore):\n",
    "class Lion(Carnivore):\n",
    "```"
   ]
  },
  {
   "cell_type": "markdown",
   "id": "0ce7a53f",
   "metadata": {},
   "source": [
    "## 3.2. Multiple Inheritance\n",
    "\n",
    "A class may inherit from multiple base classes in Python\n",
    "<img src=\"resources/week6_p7.png\" alt=\"Drawing\" style=\"width: 360px;\"/>\n"
   ]
  },
  {
   "cell_type": "markdown",
   "id": "65398d98",
   "metadata": {},
   "source": [
    "First we define the new base classses"
   ]
  },
  {
   "cell_type": "code",
   "execution_count": 21,
   "id": "377ba255",
   "metadata": {},
   "outputs": [],
   "source": [
    "class Predator(Animal):\n",
    "    def interact_with(self, other):\n",
    "        if other.type == \"meat\":\n",
    "            self.eat(other)\n",
    "            print(\"om nom nom, I'm a predator\")\n",
    "        else:\n",
    "            super().interact_with(other)\n",
    "\n",
    "class Prey(Animal):\n",
    "    type = \"meat\"\n",
    "    calories = 200"
   ]
  },
  {
   "cell_type": "markdown",
   "id": "82e91cc7",
   "metadata": {},
   "source": [
    "Then we inherit from them by putting both names in the parentheses:"
   ]
  },
  {
   "cell_type": "code",
   "execution_count": 22,
   "id": "0ac89bef",
   "metadata": {},
   "outputs": [],
   "source": [
    "class Lion(Carnivore, Predator):\n",
    "    species_name = \"Lion\"\n",
    "    scientific_name = \"Panthera\"\n",
    "    calories_needed = 3000\n",
    "\n",
    "    def eat(self, food):\n",
    "        if food.type == \"meat\":\n",
    "            super().eat(food)\n",
    "        else:\n",
    "            self.happiness -= 1\n",
    "            print(f'i dont want {food.type}')\n",
    "            \n",
    "    def eat_alternate(self, food):\n",
    "        if food.type == \"meat\":\n",
    "            Animal.eat(self, food)\n",
    "        else:\n",
    "            self.happiness -= 1\n",
    "            print(f'i dont want {food.type}')\n",
    "            \n",
    "class Rabbit(Herbivore, Prey):\n",
    "    species_name = \"European rabbit\"\n",
    "    scientific_name = \"Oryctolagus cuniculus\"\n",
    "    calories_needed = 200\n",
    "    play_multiplier = 8\n",
    "    interact_increment = 4\n",
    "    num_in_litter = 12"
   ]
  },
  {
   "cell_type": "code",
   "execution_count": 23,
   "id": "493f4b94",
   "metadata": {},
   "outputs": [
    {
     "name": "stdout",
     "output_type": "stream",
     "text": [
      "WHEEE PLAY TIME!\n",
      "Om nom nom yummy carrort\n"
     ]
    }
   ],
   "source": [
    "r = Rabbit(\"Peter\", 4) \n",
    "r.play(10)\n",
    "r.type\n",
    "r.eat(Food(\"carrort\", \"veggies\"))"
   ]
  },
  {
   "cell_type": "markdown",
   "id": "f8eac75e",
   "metadata": {},
   "source": [
    "Then Python can find the attributes in any of the base classes, illustrate this point with Lion class"
   ]
  },
  {
   "cell_type": "code",
   "execution_count": 24,
   "id": "0e6f5b65",
   "metadata": {},
   "outputs": [],
   "source": [
    "l = Lion(\"scar\", 12)"
   ]
  },
  {
   "cell_type": "code",
   "execution_count": 25,
   "id": "cc04e6b9",
   "metadata": {},
   "outputs": [
    {
     "name": "stdout",
     "output_type": "stream",
     "text": [
      "Om nom nom yummy Peter\n",
      "om nom nom, I'm a predator\n"
     ]
    }
   ],
   "source": [
    "l.interact_with(r)"
   ]
  },
  {
   "cell_type": "markdown",
   "id": "a117141f",
   "metadata": {},
   "source": [
    "### 3.3. Checking Identity\n",
    "```exp0 is exp1```\n",
    "evaluates to True if both exp0 and exp1 evaluate to the same object"
   ]
  },
  {
   "cell_type": "code",
   "execution_count": 26,
   "id": "a05c769a",
   "metadata": {},
   "outputs": [
    {
     "data": {
      "text/plain": [
       "True"
      ]
     },
     "execution_count": 26,
     "metadata": {},
     "output_type": "execute_result"
    }
   ],
   "source": [
    "mufasa = Lion(\"Mufasa\", 15)\n",
    "nala = Lion(\"Nala\", 16)\n",
    "\n",
    "mufasa is mufasa     # True\n",
    "mufasa is nala       # False\n",
    "mufasa is not nala   # True\n",
    "nala is not None     # True"
   ]
  },
  {
   "cell_type": "code",
   "execution_count": 27,
   "id": "fadb48aa",
   "metadata": {},
   "outputs": [
    {
     "data": {
      "text/plain": [
       "False"
      ]
     },
     "execution_count": 27,
     "metadata": {},
     "output_type": "execute_result"
    }
   ],
   "source": [
    "mufasa is Lion"
   ]
  },
  {
   "cell_type": "markdown",
   "id": "41dd26cf",
   "metadata": {},
   "source": [
    "### Quiz\n",
    "what does it print?"
   ]
  },
  {
   "cell_type": "code",
   "execution_count": 34,
   "id": "11484676",
   "metadata": {},
   "outputs": [
    {
     "name": "stdout",
     "output_type": "stream",
     "text": [
      "Child.f\n"
     ]
    }
   ],
   "source": [
    "class Parent:\n",
    "    def f(s):\n",
    "        print(\"Parent.f\")\n",
    "\n",
    "    def g(s):\n",
    "        s.f()\n",
    "\n",
    "class Child(Parent):\n",
    "    def f(s):\n",
    "        print(\"Child.f\")\n",
    "\n",
    "a_child = Child()\n",
    "a_child.g()"
   ]
  },
  {
   "cell_type": "markdown",
   "id": "8d114ce2",
   "metadata": {},
   "source": [
    "## 3.4. The ```@classmethod``` decorator\n",
    "\n",
    "By default, a function definition inside of a class is a bound method that receives an instance of that class\n",
    "\n",
    "To instead, making a function that receives the class itself, use the ```@classmethod``` decorator"
   ]
  },
  {
   "cell_type": "code",
   "execution_count": 54,
   "id": "62ac7853",
   "metadata": {},
   "outputs": [],
   "source": [
    "class Rabbit(Animal):\n",
    "    species_name = \"European rabbit\"\n",
    "    scientific_name = \"Oryctolagus cuniculus\"\n",
    "    calories_needed = 200\n",
    "    play_multiplier = 8\n",
    "    \n",
    "    @classmethod\n",
    "    def rabbit_twins(cls, name1, name2):\n",
    "        rabbit1 = cls(name1)\n",
    "        rabbit2 = cls(name2)\n",
    "        rabbit1.interact_with(rabbit2)\n",
    "        return [rabbit1, rabbit2]"
   ]
  },
  {
   "cell_type": "code",
   "execution_count": 55,
   "id": "23b4e492",
   "metadata": {},
   "outputs": [
    {
     "name": "stdout",
     "output_type": "stream",
     "text": [
      "Yay happy fun time with Hoppy\n"
     ]
    }
   ],
   "source": [
    "twinsies = Rabbit.rabbit_twins(\"Fluffy\", \"Hoppy\")"
   ]
  },
  {
   "cell_type": "code",
   "execution_count": 56,
   "id": "34085949",
   "metadata": {},
   "outputs": [
    {
     "data": {
      "text/plain": [
       "'Fluffy'"
      ]
     },
     "execution_count": 56,
     "metadata": {},
     "output_type": "execute_result"
    }
   ],
   "source": [
    "twinsies[0].name"
   ]
  },
  {
   "cell_type": "code",
   "execution_count": 57,
   "id": "f6d7a872",
   "metadata": {},
   "outputs": [
    {
     "data": {
      "text/plain": [
       "'Hoppy'"
      ]
     },
     "execution_count": 57,
     "metadata": {},
     "output_type": "execute_result"
    }
   ],
   "source": [
    "twinsies[1].name"
   ]
  },
  {
   "cell_type": "code",
   "execution_count": 58,
   "id": "5686fcba",
   "metadata": {},
   "outputs": [],
   "source": [
    "class Rabbit(Animal):\n",
    "    species_name = \"European rabbit\"\n",
    "    scientific_name = \"Oryctolagus cuniculus\"\n",
    "    calories_needed = 200\n",
    "    play_multiplier = 8\n",
    "    \n",
    "#     @classmethod\n",
    "    def rabbit_twins(cls, name1, name2):\n",
    "        rabbit1 = cls(name1)\n",
    "        rabbit2 = cls(name2)\n",
    "        rabbit1.interact_with(rabbit2)\n",
    "        return [rabbit1, rabbit2]"
   ]
  },
  {
   "cell_type": "code",
   "execution_count": 59,
   "id": "1a8c95da",
   "metadata": {},
   "outputs": [
    {
     "name": "stdout",
     "output_type": "stream",
     "text": [
      "Yay happy fun time with Hoppy\n"
     ]
    }
   ],
   "source": [
    "# dummy = Rabbit('hh', 0)\n",
    "twinsies = Rabbit.rabbit_twins(Rabbit, \"Fluffy\", \"Hoppy\")"
   ]
  },
  {
   "cell_type": "code",
   "execution_count": 60,
   "id": "138d94cd",
   "metadata": {},
   "outputs": [
    {
     "data": {
      "text/plain": [
       "'Fluffy'"
      ]
     },
     "execution_count": 60,
     "metadata": {},
     "output_type": "execute_result"
    }
   ],
   "source": [
    "twinsies[0].name"
   ]
  }
 ],
 "metadata": {
  "kernelspec": {
   "display_name": "Python 3",
   "language": "python",
   "name": "python3"
  },
  "language_info": {
   "codemirror_mode": {
    "name": "ipython",
    "version": 3
   },
   "file_extension": ".py",
   "mimetype": "text/x-python",
   "name": "python",
   "nbconvert_exporter": "python",
   "pygments_lexer": "ipython3",
   "version": "3.7.11"
  }
 },
 "nbformat": 4,
 "nbformat_minor": 5
}
