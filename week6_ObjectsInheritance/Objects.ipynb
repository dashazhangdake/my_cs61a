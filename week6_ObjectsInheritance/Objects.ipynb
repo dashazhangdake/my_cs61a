{
 "cells": [
  {
   "cell_type": "markdown",
   "id": "a6fbac30",
   "metadata": {},
   "source": [
    "# Object-oriented programming\n",
    "\n",
    "**OOP is a method for organizing programs which includes:**\n",
    "* Data abstraction\n",
    "* Bundling together information and related behavior\n",
    "\n",
    "**Several properties of objects**\n",
    "* Each object has its own local state\n",
    "* Each object also knows how to manage its own local state, based on method calls\n",
    "* Method calls are messages passed between objects\n",
    "* Several objects may all be instances of a common type\n",
    "* Different types may relate to each othe"
   ]
  },
  {
   "cell_type": "markdown",
   "id": "c557c572",
   "metadata": {},
   "source": [
    "# 1. OOP Chocolate Shop example\n",
    "<img src=\"resources/week6_p1.png\" alt=\"Drawing\" style=\"width: 800px;\"/>"
   ]
  },
  {
   "cell_type": "code",
   "execution_count": 1,
   "id": "98a8b31d",
   "metadata": {},
   "outputs": [],
   "source": [
    "# Define a new type of data\n",
    "class Product:\n",
    "    product_count = 0\n",
    "    sales_tax = 0.07\n",
    "    # Set the initial values\n",
    "    def __init__(self, name, price, nutrition_info):\n",
    "        self.__name = name\n",
    "        self.price = price\n",
    "        self.nutrition_info = nutrition_info\n",
    "        self.inventory = 0\n",
    "        Product.product_count += 1\n",
    "\n",
    "    # Define methods\n",
    "    def increase_inventory(self, amount):\n",
    "        self.inventory += amount\n",
    "\n",
    "    def reduce_inventory(self, amount):\n",
    "        self.inventory -= amount\n",
    "\n",
    "    def get_label(self):\n",
    "        return \"Foxolate Shop: \" + self.name\n",
    "\n",
    "    def get_inventory_report(self):\n",
    "        if self.inventory == 0:\n",
    "            return \"There are no bars!\"\n",
    "        return f\"There are {self.inventory} bars.\"\n",
    "    \n",
    "    def reduce_inventory(self, amount):\n",
    "        if (self.inventory - amount) <= 0:\n",
    "            self.needs_restocking = True\n",
    "        else:\n",
    "            self.needs_restocking = False\n",
    "        self.inventory -= amount\n",
    "\n",
    "    def get_total_price(self, quantity):\n",
    "        return (self.price * (1 + self.sales_tax)) * quantity"
   ]
  },
  {
   "cell_type": "code",
   "execution_count": 2,
   "id": "b4fefa3e",
   "metadata": {},
   "outputs": [],
   "source": [
    "pina_bar = Product(\"Piña Chocolotta\", 7.99, [\"200 calories\", \"24 g sugar\"])\n",
    "\n",
    "pina_bar.increase_inventory(2)"
   ]
  },
  {
   "cell_type": "markdown",
   "id": "b14ee1bc",
   "metadata": {},
   "source": [
    "## 1. 1 Class Breakdown\n",
    "### a. Class Instantiation\n",
    "```python\n",
    "pina_bar = Product(\"Piña Chocolotta\", 7.99, [\"200 calories\", \"24 g sugar\"])\n",
    "```\n",
    "\n",
    "When ```Product(args)``` is called, which is often named calling the **constructor**. \n",
    "\n",
    "When the **constructor** is called:\n",
    "* A new instance of that class is created\n",
    "* The ```__init__``` method of the class is called with the new object as its first argument (named ```self```), along with any additional arguments\n",
    "```python\n",
    "class Product:\n",
    "\n",
    "    # Set the initial values\n",
    "    def __init__(self, name, price, nutrition_info):\n",
    "        self.name = name\n",
    "        self.price = price\n",
    "        self.nutrition_info = nutrition_info\n",
    "        self.inventory = 0\n",
    "```"
   ]
  },
  {
   "cell_type": "markdown",
   "id": "27e929ae",
   "metadata": {},
   "source": [
    "### b. Instance Variables\n",
    "**Instance variables** are data attributes that describe the state of an object.\n",
    "This ```__init__``` initializaes 4 instance variables\n",
    "```python\n",
    "self.name = name\n",
    "self.price = price\n",
    "self.nutrition_info = nutrition_info\n",
    "self.inventory = 0\n",
    "```\n",
    "Then object's methods can then change the values of those variables or assign new variables"
   ]
  },
  {
   "cell_type": "markdown",
   "id": "4138a59c",
   "metadata": {},
   "source": [
    "### c. Method invocation\n",
    "This expression:\n",
    "```python\n",
    "pina_bar.increase_inventory(2)\n",
    "```\n",
    "...calls this function in the class definition:\n",
    "```python\n",
    "class Product:\n",
    "    def increase_inventory(self, amount):\n",
    "        self.inventory += amount\n",
    "```\n",
    "```Product.increase_inventory``` is a **bound method**: a function which has its first parameter pre-bound to a particular value.\n",
    "\n",
    "In this case, ```self``` is pre-bound to ```pina_bar``` and ```amount``` is set to 2\n",
    "\n",
    "Which is equivalent to ```Product.increase_inventory(pina_bar, 2)```\n"
   ]
  },
  {
   "cell_type": "markdown",
   "id": "f4b4034c",
   "metadata": {},
   "source": [
    "### d. Dot notation\n",
    "All object attributes (which includes variables and methods) can be accessed with **dot notation**:\n",
    "```python\n",
    "    pina_bar_increase_inventory(2)\n",
    "```\n",
    "That evaluates to the value of the attribute looked up by ```increase_inventory``` in the object refereced by ```pina_bar```\n",
    "\n",
    "**Note**: LHS of **dot** can be any expression that evaluates to an object reference"
   ]
  },
  {
   "cell_type": "markdown",
   "id": "e866a281",
   "metadata": {},
   "source": [
    "#### 1. 1. Exercise 1: Player class\n",
    "```python\n",
    "    >>> player = Player(\"Mario\")\n",
    "    >>> player.name\n",
    "    'Mario'\n",
    "    >>> player.health\n",
    "    100\n",
    "    >>> player.damage(10)\n",
    "    >>> player.health\n",
    "    90\n",
    "    >>> player.boost(5)\n",
    "    >>> player.health\n",
    "    95\n",
    "```"
   ]
  },
  {
   "cell_type": "code",
   "execution_count": 3,
   "id": "4ab2dae1",
   "metadata": {},
   "outputs": [],
   "source": [
    "class Player:\n",
    "    def __init__(self, name):\n",
    "        self.name = name\n",
    "        self.health = 100\n",
    "    \n",
    "    def damage(self, amount):\n",
    "        self.health -= amount\n",
    "    def boost(self, amount):\n",
    "        self.health += amount"
   ]
  },
  {
   "cell_type": "code",
   "execution_count": 4,
   "id": "e6c12dd6",
   "metadata": {},
   "outputs": [
    {
     "data": {
      "text/plain": [
       "'Mario'"
      ]
     },
     "execution_count": 4,
     "metadata": {},
     "output_type": "execute_result"
    }
   ],
   "source": [
    "player = Player(\"Mario\")\n",
    "player.name"
   ]
  },
  {
   "cell_type": "markdown",
   "id": "d2afefdd",
   "metadata": {},
   "source": [
    "#### 1. 1. Exercise 2: Clothing class\n",
    "```python\n",
    "    >>> blue_shirt = Clothing(\"shirt\", \"blue\")\n",
    "    >>> blue_shirt.category\n",
    "    'shirt'\n",
    "    >>> blue_shirt.color\n",
    "    'blue'\n",
    "    >>> blue_shirt.is_clean\n",
    "    True\n",
    "    >>> blue_shirt.wear()\n",
    "    >>> blue_shirt.is_clean\n",
    "    False\n",
    "    >>> blue_shirt.clean()\n",
    "    >>> blue_shirt.is_clean\n",
    "    True\n",
    "```"
   ]
  },
  {
   "cell_type": "code",
   "execution_count": 5,
   "id": "7d2bfcb9",
   "metadata": {},
   "outputs": [],
   "source": [
    "class Clothing:\n",
    "    def __init__(self, category, color):\n",
    "        self.category = category\n",
    "        self.color = color\n",
    "        self.is_clean = True\n",
    "    \n",
    "    def wear(self):\n",
    "        self.is_clean = False\n",
    "    def clean(self):\n",
    "        self.is_clean = True"
   ]
  },
  {
   "cell_type": "markdown",
   "id": "3e715923",
   "metadata": {},
   "source": [
    "## 1.2. Dynamic Attributes\n",
    "\n",
    "An object can create a new ```instance variable``` **whenever** it'd like.\n",
    "```python\n",
    "    class Product:\n",
    "\n",
    "        def reduce_inventory(self, amount):\n",
    "            if (self.inventory - amount) <= 0:\n",
    "                self.needs_restocking = True\n",
    "            self.inventory -= amount\n",
    "\n",
    "    pina_bar = Product(\"Piña Chocolotta\", 7.99, [\"200 calories\", \"24 g sugar\"])\n",
    "    pina_bar.reduce_inventory(1)\n",
    "```\n",
    "\n",
    "Now ```pina_bar``` has an updated binding for inventory and a new binding for ```needs_restocking```\n",
    "**(which was not in __init__).**"
   ]
  },
  {
   "cell_type": "code",
   "execution_count": 6,
   "id": "a2ade9f4",
   "metadata": {},
   "outputs": [
    {
     "data": {
      "text/plain": [
       "False"
      ]
     },
     "execution_count": 6,
     "metadata": {},
     "output_type": "execute_result"
    }
   ],
   "source": [
    "pina_bar.reduce_inventory(1) # Condition to create the needs_restocking was met\n",
    "pina_bar.needs_restocking # Product.needs_restocking is ready if we uncomment previous line"
   ]
  },
  {
   "cell_type": "markdown",
   "id": "161f3e02",
   "metadata": {},
   "source": [
    "## 1.3 Class Variables\n",
    "A **class variable** is an assignment inside the class that isn't inside a method body.\n",
    "```python\n",
    "    class Product:\n",
    "        product_cnt = 0\n",
    "        sales_tax = 0.07\n",
    "```\n",
    "\n",
    "class variables are \"shared\" across **all instances of a class** because they are attributs of the class, not the instance."
   ]
  },
  {
   "cell_type": "code",
   "execution_count": 7,
   "id": "5ebf8aec",
   "metadata": {},
   "outputs": [
    {
     "data": {
      "text/plain": [
       "1"
      ]
     },
     "execution_count": 7,
     "metadata": {},
     "output_type": "execute_result"
    }
   ],
   "source": [
    "pina_bar.product_count # Count = 1"
   ]
  },
  {
   "cell_type": "markdown",
   "id": "d01c17e3",
   "metadata": {},
   "source": [
    "We create a new instance of ```Product```, then Class variable increments as a result of constructor."
   ]
  },
  {
   "cell_type": "code",
   "execution_count": 8,
   "id": "d0f28c95",
   "metadata": {},
   "outputs": [],
   "source": [
    "truffle_bar = Product(\"Truffalapagus\", 9.99,\n",
    "    [\"170 calories\", \"19 g sugar\"]) #"
   ]
  },
  {
   "cell_type": "code",
   "execution_count": 9,
   "id": "8a7508cd",
   "metadata": {},
   "outputs": [
    {
     "data": {
      "text/plain": [
       "2"
      ]
     },
     "execution_count": 9,
     "metadata": {},
     "output_type": "execute_result"
    }
   ],
   "source": [
    "pina_bar.product_count # Count = 2"
   ]
  },
  {
   "cell_type": "markdown",
   "id": "fdcfed89",
   "metadata": {},
   "source": [
    "## 1.4. Accessing Attributes\n",
    "\n",
    "Using ```getattr```, we can look up an attribute using a string\n",
    "\n",
    "```python\n",
    "getattr(pina_bar, 'inventory')   # 1\n",
    "\n",
    "hasattr(pina_bar, 'reduce_inventory')  # True\n",
    "```\n",
    "\n",
    "```getattr``` and dot expressions look up a name in the same way\n",
    "\n",
    "Looking up an attribute name in an object may return\n",
    "* One of its instance attributes\n",
    "* One of the attributes of its class"
   ]
  },
  {
   "cell_type": "code",
   "execution_count": 10,
   "id": "34a2925a",
   "metadata": {},
   "outputs": [
    {
     "data": {
      "text/plain": [
       "1"
      ]
     },
     "execution_count": 10,
     "metadata": {},
     "output_type": "execute_result"
    }
   ],
   "source": [
    "getattr(pina_bar, 'inventory') # Returns the attribute of the instace"
   ]
  },
  {
   "cell_type": "code",
   "execution_count": 11,
   "id": "e01ea640",
   "metadata": {},
   "outputs": [
    {
     "data": {
      "text/plain": [
       "<bound method Product.reduce_inventory of <__main__.Product object at 0x7f7f9c7bced0>>"
      ]
     },
     "execution_count": 11,
     "metadata": {},
     "output_type": "execute_result"
    }
   ],
   "source": [
    "getattr(pina_bar, 'reduce_inventory') # Returns the attribute of the class"
   ]
  },
  {
   "cell_type": "code",
   "execution_count": 12,
   "id": "223f5b0c",
   "metadata": {},
   "outputs": [
    {
     "data": {
      "text/plain": [
       "0.07"
      ]
     },
     "execution_count": 12,
     "metadata": {},
     "output_type": "execute_result"
    }
   ],
   "source": [
    "getattr(pina_bar, 'sales_tax') "
   ]
  },
  {
   "cell_type": "markdown",
   "id": "80108f00",
   "metadata": {},
   "source": [
    "Recall dynamic attributes"
   ]
  },
  {
   "cell_type": "code",
   "execution_count": 13,
   "id": "b00973bf",
   "metadata": {},
   "outputs": [
    {
     "data": {
      "text/plain": [
       "True"
      ]
     },
     "execution_count": 13,
     "metadata": {},
     "output_type": "execute_result"
    }
   ],
   "source": [
    "pina_bar.reduce_inventory(1) # Condition to create the needs_restocking was met\n",
    "hasattr(pina_bar, 'needs_restocking') # 'needs_restocking is readyy now'"
   ]
  },
  {
   "cell_type": "code",
   "execution_count": 14,
   "id": "ed52dc5b",
   "metadata": {},
   "outputs": [
    {
     "data": {
      "text/plain": [
       "True"
      ]
     },
     "execution_count": 14,
     "metadata": {},
     "output_type": "execute_result"
    }
   ],
   "source": [
    "getattr(pina_bar, 'needs_restocking')"
   ]
  },
  {
   "cell_type": "markdown",
   "id": "67841504",
   "metadata": {},
   "source": [
    "## 1.5. Public vs. Private\n",
    "\n",
    "**Attributes are all public**\n",
    "```python\n",
    "pina_bar = Product(\"Piña Chocolotta\", 7.99,\n",
    "    [\"200 calories\", \"24 g sugar\"])\n",
    "\n",
    "current = pina_bar.inventory\n",
    "pina_bar.inventory = 5000000\n",
    "pina_bar.inventory = -5000\n",
    "```"
   ]
  },
  {
   "cell_type": "code",
   "execution_count": 15,
   "id": "b3587944",
   "metadata": {},
   "outputs": [
    {
     "name": "stdout",
     "output_type": "stream",
     "text": [
      "0\n",
      "5000000\n",
      "True\n",
      "check stocking:  \n",
      "False\n"
     ]
    }
   ],
   "source": [
    "current = pina_bar.inventory\n",
    "pina_bar.inventory = -5000\n",
    "pina_bar.inventory = 5000000\n",
    "print(current)\n",
    "print(pina_bar.inventory)\n",
    "print(getattr(pina_bar, 'needs_restocking'))\n",
    "\n",
    "pina_bar.reduce_inventory(1) \n",
    "print('check stocking: ','\\n' + str(getattr(pina_bar, 'needs_restocking')))"
   ]
  },
  {
   "cell_type": "markdown",
   "id": "e8919ac0",
   "metadata": {},
   "source": [
    "**You can even assign new instance variables:**\n",
    "\n",
    "check attributes before assignment:"
   ]
  },
  {
   "cell_type": "code",
   "execution_count": 16,
   "id": "d968cb60",
   "metadata": {},
   "outputs": [
    {
     "name": "stdout",
     "output_type": "stream",
     "text": [
      "False\n",
      "after do stuff:  True ':'  instanception\n"
     ]
    }
   ],
   "source": [
    "print(hasattr(pina_bar, 'brand_new_attribute_haha'))\n",
    "\n",
    "pina_bar.brand_new_attribute_haha = \"instanception\"\n",
    "print('after do stuff: ', hasattr(pina_bar, 'brand_new_attribute_haha'), \"\\':\\' \", pina_bar.brand_new_attribute_haha)"
   ]
  },
  {
   "cell_type": "markdown",
   "id": "c069c63a",
   "metadata": {},
   "source": [
    "**No real private in python**, though one may use convention to specify the private or public\n",
    "* __ (double underscore) before very private attribute names\n",
    "* _ (single underscore) before semi-private attribute names\n",
    "* no underscore before public attribute names"
   ]
  },
  {
   "cell_type": "code",
   "execution_count": 17,
   "id": "296a1ec0",
   "metadata": {},
   "outputs": [],
   "source": [
    "# pina_bar.__name // Cause attribute error"
   ]
  },
  {
   "cell_type": "code",
   "execution_count": 18,
   "id": "a38a3685",
   "metadata": {},
   "outputs": [
    {
     "data": {
      "text/plain": [
       "['200 calories', '24 g sugar']"
      ]
     },
     "execution_count": 18,
     "metadata": {},
     "output_type": "execute_result"
    }
   ],
   "source": [
    "pina_bar.nutrition_info"
   ]
  },
  {
   "cell_type": "markdown",
   "id": "af996c95",
   "metadata": {},
   "source": [
    "# Quiz\n",
    "### Q1 Multiple instances\n",
    "There can be multiple instances of each class.\n",
    "\n",
    "```python\n",
    "pina_bar = Product(\"Piña Chocolotta\", 7.99,\n",
    "    [\"200 calories\", \"24 g sugar\"])\n",
    "\n",
    "cust1 = Customer(\"Coco Lover\",\n",
    "    [\"123 Pining St\", \"Nibbsville\", \"OH\"])\n",
    "\n",
    "cust2 = Customer(\"Nomandy Noms\",\n",
    "    [\"34 Shlurpalot St\", \"Buttertown\", \"IN\"])\n",
    "```\n",
    "\n",
    "* Q: What are the classes here?\n",
    "    * A: ```Product```, and ```Customer```\n",
    "* Q: How many instances of each?\n",
    "    * A: ```Product```  1, and ```Customer``` 2\n"
   ]
  },
  {
   "cell_type": "markdown",
   "id": "82ec3132",
   "metadata": {},
   "source": [
    "### Q2 State Management\n",
    "<img src=\"resources/week6_p2.png\" alt=\"Drawing\" style=\"width: 800px;\"/>\n",
    "\n",
    "* Q: What's the initial state? \n",
    "    * A: 0 bars\n",
    "* Q: What changes the state? \n",
    "    * A: 3 bars, changed my increase_inventory"
   ]
  },
  {
   "cell_type": "markdown",
   "id": "fce1fecb",
   "metadata": {},
   "source": [
    "### Q3. Class vs. instance variables\n",
    "```python\n",
    "class Customer:\n",
    "\n",
    "    salutation = \"Dear\"\n",
    "\n",
    "    def __init__(self, name, address):\n",
    "        self.name = name\n",
    "        self.address = address\n",
    "\n",
    "    def get_greeting(self):\n",
    "        return f\"{self.salutation} {self.name},\"\n",
    "\n",
    "    def get_formatted_address(self):\n",
    "        return \"\\n\".join(self.address)\n",
    "\n",
    "cust1 = Customer(\"Coco Lover\",\n",
    "    [\"123 Pining St\", \"Nibbsville\", \"OH\"])\n",
    "```\n",
    "\n",
    "* Q: What are the class variables? \n",
    "    * A: ```salutation```\n",
    "* Q: What are the instance variables? \n",
    "    * A: ```name, address```"
   ]
  }
 ],
 "metadata": {
  "kernelspec": {
   "display_name": "Python 3",
   "language": "python",
   "name": "python3"
  },
  "language_info": {
   "codemirror_mode": {
    "name": "ipython",
    "version": 3
   },
   "file_extension": ".py",
   "mimetype": "text/x-python",
   "name": "python",
   "nbconvert_exporter": "python",
   "pygments_lexer": "ipython3",
   "version": "3.7.11"
  }
 },
 "nbformat": 4,
 "nbformat_minor": 5
}
