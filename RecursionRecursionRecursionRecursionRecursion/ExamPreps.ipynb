{
 "cells": [
  {
   "cell_type": "markdown",
   "id": "930f81f7",
   "metadata": {},
   "source": [
    "# Recursion practice\n",
    "## Prob 3.1: Repeater\n",
    "An ```n-repeater``` for single arg function ```f(x)``` takes a single argument ```x```, calls ```f(x)``` for ```n``` times, and returns a ```n+1-repeater``` for f\n",
    "\n",
    "Implement ```repeater```, which takes single-arg function ```f``` and positive integer ```n```, returns an ```\"n-repeater\"``` for ```f```\n",
    "\n",
    "```python\n",
    "    >>> r =  repeater(print, 2)\n",
    "    >>> s = r('CS')\n",
    "    CS\n",
    "    CS\n",
    "```\n",
    "\n",
    "\n",
    "```python\n",
    "    >>> repeat(print, 'hello', 3)\n",
    "    hello\n",
    "    hello\n",
    "    hello\n",
    "```"
   ]
  },
  {
   "cell_type": "code",
   "execution_count": 1,
   "id": "c01f720d",
   "metadata": {},
   "outputs": [],
   "source": [
    "def repeat(f, x, n):\n",
    "    if n == 0:\n",
    "        return\n",
    "    else:\n",
    "        f(x)\n",
    "        repeat(f, x, n-1)"
   ]
  },
  {
   "cell_type": "code",
   "execution_count": 2,
   "id": "1ac807d9",
   "metadata": {},
   "outputs": [
    {
     "name": "stdout",
     "output_type": "stream",
     "text": [
      "hello\n",
      "hello\n",
      "hello\n"
     ]
    }
   ],
   "source": [
    "repeat(print, 'hello', 3)"
   ]
  },
  {
   "cell_type": "code",
   "execution_count": 3,
   "id": "d49309da",
   "metadata": {},
   "outputs": [],
   "source": [
    "def repeater(f, n):\n",
    "    def g(x):\n",
    "        repeat(f, x, n)\n",
    "        return repeater(f, n+1)\n",
    "    return g"
   ]
  },
  {
   "cell_type": "code",
   "execution_count": 4,
   "id": "7f040ec8",
   "metadata": {},
   "outputs": [
    {
     "name": "stdout",
     "output_type": "stream",
     "text": [
      "cs\n",
      "cs\n"
     ]
    }
   ],
   "source": [
    "r =  repeater(print, 2)\n",
    "s = r('cs')"
   ]
  },
  {
   "cell_type": "code",
   "execution_count": 5,
   "id": "7beaea68",
   "metadata": {},
   "outputs": [
    {
     "name": "stdout",
     "output_type": "stream",
     "text": [
      "cs\n",
      "cs\n",
      "cs\n"
     ]
    }
   ],
   "source": [
    "t = s('cs')"
   ]
  },
  {
   "cell_type": "markdown",
   "id": "b682f913",
   "metadata": {},
   "source": [
    "## Prob 3.2: Camel Sequence\n",
    "A *camel sequence* is an integer in which each digit is either strictly less or strictly greater than both if its adjacent digits\n",
    "\n",
    "Write a function that determines whether n is a *camel sequence*\n",
    "```\n",
    "15263: True\n",
    "98989: True\n",
    "123: False\n",
    "4114: False\n",
    "12: True\n",
    "11: False\n",
    "```"
   ]
  },
  {
   "cell_type": "code",
   "execution_count": 6,
   "id": "0fb37b0a",
   "metadata": {},
   "outputs": [],
   "source": [
    "def is_camel_sequence(n):\n",
    "    def helper(n, incr):\n",
    "        if n // 10 == 0:\n",
    "            return True\n",
    "        elif incr:\n",
    "            # return ___ and helper(__)\n",
    "            return (n//10) % 10 > n % 10 and helper(n//10, not incr) \n",
    "        else:\n",
    "            # return ___ and helper(__)\n",
    "            return (n//10) % 10 < n % 10 and helper(n//10, not incr) \n",
    "        # return__ or __\n",
    "    return helper(n, True) or helper(n, False)"
   ]
  },
  {
   "cell_type": "code",
   "execution_count": 7,
   "id": "76686d24",
   "metadata": {},
   "outputs": [
    {
     "data": {
      "text/plain": [
       "False"
      ]
     },
     "execution_count": 7,
     "metadata": {},
     "output_type": "execute_result"
    }
   ],
   "source": [
    "is_camel_sequence(4114)"
   ]
  },
  {
   "cell_type": "markdown",
   "id": "2174be20",
   "metadata": {},
   "source": [
    "## Prob 3.3: Significant digits\n",
    "Implement ```significant(n, k)```, returns the k most significant digits of n\n",
    "\n",
    "if ```n``` has fewer than ```k``` digits, returns ```n```\n",
    "\n",
    "You may use ```pow()``` here:\n",
    "```pow(2, 3) = 8```\n",
    "\n",
    "```python\n",
    "    >>> significant(12345, 3)\n",
    "    123\n",
    "    >>> significant(12345, 10)\n",
    "    12345\n",
    "```"
   ]
  },
  {
   "cell_type": "code",
   "execution_count": 8,
   "id": "00685979",
   "metadata": {},
   "outputs": [
    {
     "data": {
      "text/plain": [
       "1000"
      ]
     },
     "execution_count": 8,
     "metadata": {},
     "output_type": "execute_result"
    }
   ],
   "source": [
    "pow(10, 3)"
   ]
  },
  {
   "cell_type": "code",
   "execution_count": 9,
   "id": "90b2e4bf",
   "metadata": {},
   "outputs": [],
   "source": [
    "def significant(n, k):\n",
    "    if pow(10, k) > n:\n",
    "        return n\n",
    "    else:\n",
    "        return significant(n//10, k)"
   ]
  },
  {
   "cell_type": "code",
   "execution_count": 10,
   "id": "bf4f64ac",
   "metadata": {},
   "outputs": [
    {
     "data": {
      "text/plain": [
       "1234"
      ]
     },
     "execution_count": 10,
     "metadata": {},
     "output_type": "execute_result"
    }
   ],
   "source": [
    "significant(12345, 4)"
   ]
  },
  {
   "cell_type": "markdown",
   "id": "4ebfb654",
   "metadata": {},
   "source": [
    "## Prob 3.4: Factorize\n",
    "Ways to factorize integer ```n``` as a product of non-decreasing integer greater than or equal to k"
   ]
  },
  {
   "cell_type": "code",
   "execution_count": 11,
   "id": "c5cf0b54",
   "metadata": {},
   "outputs": [],
   "source": [
    "def factorize(n, k=2):\n",
    "    if n == k:\n",
    "        return 1\n",
    "    elif k > n:\n",
    "        return 0\n",
    "    elif n%k != 0:\n",
    "        return factorize(n, k+1)\n",
    "    else:\n",
    "        return factorize(n/k, k) + factorize(n, k+1)"
   ]
  },
  {
   "cell_type": "code",
   "execution_count": 12,
   "id": "326dc3b5",
   "metadata": {},
   "outputs": [
    {
     "data": {
      "text/plain": [
       "9"
      ]
     },
     "execution_count": 12,
     "metadata": {},
     "output_type": "execute_result"
    }
   ],
   "source": [
    "factorize(36)"
   ]
  },
  {
   "cell_type": "markdown",
   "id": "5cedbddd",
   "metadata": {},
   "source": [
    "## Prob3.5: k-bonacci\n",
    "\n",
    "A k-bonacci sequence start with K-1 zeros and then a one. Each subsequent element is the sum of the previous K elements.\n",
    "\n",
    "```python\n",
    "    kbonacci(9, 4) = 29\n",
    "    kbonacci(4, 2) = 3\n",
    "    kbonacci(8, 2) = 21\n",
    "```"
   ]
  },
  {
   "cell_type": "code",
   "execution_count": 13,
   "id": "2858c710",
   "metadata": {},
   "outputs": [],
   "source": [
    "# Wierd while loop control given in question\n",
    "def kbonacci(n, k):\n",
    "    if n < k - 1:\n",
    "        return 0\n",
    "    elif n == k - 1:\n",
    "        return 1\n",
    "    else:\n",
    "        total = 0\n",
    "        i = 1\n",
    "        while i < n:\n",
    "            total = total + (kbonacci(n-i, k) if i<=k else 0)\n",
    "            i = i + 1\n",
    "        return total"
   ]
  },
  {
   "cell_type": "code",
   "execution_count": 14,
   "id": "a6627f68",
   "metadata": {},
   "outputs": [
    {
     "data": {
      "text/plain": [
       "21"
      ]
     },
     "execution_count": 14,
     "metadata": {},
     "output_type": "execute_result"
    }
   ],
   "source": [
    "kbonacci(8, 2)"
   ]
  },
  {
   "cell_type": "code",
   "execution_count": 15,
   "id": "0fe576e1",
   "metadata": {},
   "outputs": [],
   "source": [
    "# more natural solution with fib(n, k) = fib(n-1, k) + fib(n-2, k) + fib(n-3, k) + ..... + fib(n-k, k)\n",
    "def kbonacci(n, k):\n",
    "    if n < k - 1:\n",
    "        return 0\n",
    "    elif n == k - 1:\n",
    "        return 1\n",
    "    else:\n",
    "        total = 0\n",
    "        i = 1\n",
    "        while i <= k:\n",
    "            total = total + kbonacci(n-i, k)\n",
    "            i = i + 1\n",
    "        return total"
   ]
  },
  {
   "cell_type": "code",
   "execution_count": 16,
   "id": "522fd0fb",
   "metadata": {},
   "outputs": [
    {
     "data": {
      "text/plain": [
       "29"
      ]
     },
     "execution_count": 16,
     "metadata": {},
     "output_type": "execute_result"
    }
   ],
   "source": [
    "kbonacci(9, 4)"
   ]
  },
  {
   "cell_type": "markdown",
   "id": "377bf48e",
   "metadata": {},
   "source": [
    "## Prob 4.3. Plus expression\n",
    "A plus expression for a non-negative integer ```n``` is made by inserting ```+``` between digits of n, such that there are never more than two consecutive digits in the resulting expression\n",
    "```python\n",
    "    For exaple:\n",
    "    >>> plus(2018) # Produces 20 + 1 + 8, or 2 + 01 + 8, or 2 + 0 + 18\n",
    "```\n",
    "\n",
    "**Task(a)**, return the largest sum that results from inserting ```+```\n",
    "```\n",
    "plus(123456) = 102\n",
    "plus(1604) = 65\n",
    "plus(160450) = 115\n",
    "```"
   ]
  },
  {
   "cell_type": "code",
   "execution_count": 17,
   "id": "ffb07c71",
   "metadata": {},
   "outputs": [],
   "source": [
    "def plus(n):\n",
    "    if n == 0:\n",
    "        return 0\n",
    "    else:\n",
    "        use2digit = n%100 + plus(n//100)\n",
    "        use1digit = n%10 + plus(n//10)\n",
    "        return max(use1digit, use2digit)"
   ]
  },
  {
   "cell_type": "code",
   "execution_count": 18,
   "id": "555896e6",
   "metadata": {},
   "outputs": [
    {
     "data": {
      "text/plain": [
       "12"
      ]
     },
     "execution_count": 18,
     "metadata": {},
     "output_type": "execute_result"
    }
   ],
   "source": [
    "plus(12)"
   ]
  },
  {
   "cell_type": "markdown",
   "id": "b7594e25",
   "metadata": {},
   "source": [
    "**Task(b)**: return the number of plus operations for ```n``` that have a value that is less than ```cap```\n",
    "\n",
    "```\n",
    "plusses(123, 16) = 2\n",
    "plusses(2018, 38) = 4\n",
    "plusses(1, 2) = 1\n",
    "```"
   ]
  },
  {
   "cell_type": "code",
   "execution_count": 19,
   "id": "160f82c4",
   "metadata": {},
   "outputs": [],
   "source": [
    "def plusses(n, cap):\n",
    "#     if ___\n",
    "    if n < 10 and n < cap:\n",
    "        return 1\n",
    "#     elif___:\n",
    "    elif cap <= 0:\n",
    "        return 0\n",
    "    else:\n",
    "#         return __________\n",
    "        return plusses(n // 10, cap - n % 10) + plusses(n // 100, cap - n % 100)"
   ]
  },
  {
   "cell_type": "code",
   "execution_count": 20,
   "id": "6d02c766",
   "metadata": {},
   "outputs": [
    {
     "data": {
      "text/plain": [
       "4"
      ]
     },
     "execution_count": 20,
     "metadata": {},
     "output_type": "execute_result"
    }
   ],
   "source": [
    "plusses(2018, 38)"
   ]
  },
  {
   "cell_type": "markdown",
   "id": "497c37a8",
   "metadata": {},
   "source": [
    "# Play recursion with list\n",
    "## Prob 4.1: Order_Order\n",
    "```order_order``` takes non empty list of 2-args functions **operators** and returns a new 2-args function.\n",
    "\n",
    "When called, this returned function should print the result of applying the function in operations to the two parameters passed in. It should then return another function that applies the second function in **operators** to parameters, and so on. When the returned function has called the last function in the **operator** list. it should cycle back to the beginning of the list and use the first function again on the next call\n",
    "\n",
    "```python\n",
    "    ops = [add, mul, sub]\n",
    "    order = order_order(ops)\n",
    "    order = order(1, 2) # add and then return mul\n",
    "    order = order(1, 2) # mul and then return sub\n",
    "    order = order(1, 2) # sub then cycle back and return add\n",
    "```"
   ]
  },
  {
   "cell_type": "code",
   "execution_count": 21,
   "id": "34a28fc6",
   "metadata": {},
   "outputs": [],
   "source": [
    "from operator import add, mul, sub\n",
    "def order_order(operators):\n",
    "    def apply(x, y):\n",
    "        print (operators[0](x, y))\n",
    "        return order_order(operators[1:] + [operators[0]])\n",
    "    return apply"
   ]
  },
  {
   "cell_type": "code",
   "execution_count": 22,
   "id": "1dba5be4",
   "metadata": {},
   "outputs": [
    {
     "name": "stdout",
     "output_type": "stream",
     "text": [
      "3\n"
     ]
    }
   ],
   "source": [
    "ops = [add, mul, sub]\n",
    "order = order_order(ops)\n",
    "order = order(1, 2)"
   ]
  },
  {
   "cell_type": "code",
   "execution_count": 23,
   "id": "14c26d80",
   "metadata": {},
   "outputs": [
    {
     "name": "stdout",
     "output_type": "stream",
     "text": [
      "2\n"
     ]
    }
   ],
   "source": [
    "order = order(1, 2)"
   ]
  },
  {
   "cell_type": "code",
   "execution_count": 24,
   "id": "b810686b",
   "metadata": {},
   "outputs": [
    {
     "name": "stdout",
     "output_type": "stream",
     "text": [
      "-1\n"
     ]
    }
   ],
   "source": [
    "order = order(1, 2)"
   ]
  },
  {
   "cell_type": "code",
   "execution_count": 25,
   "id": "7e30e6c7",
   "metadata": {},
   "outputs": [
    {
     "name": "stdout",
     "output_type": "stream",
     "text": [
      "3\n"
     ]
    }
   ],
   "source": [
    "order = order(1, 2)"
   ]
  },
  {
   "cell_type": "markdown",
   "id": "f453a249",
   "metadata": {},
   "source": [
    "## Prob 4.2. Skip list\n",
    "A skip list is defined as a sublist of a list such that each element in the sublist is non adjacent in the orginal \n",
    "\n",
    "Given a list of unique inteers, return a list of all unique skip lists where each skip list contains integers in strictly increasing order. \n",
    "```\n",
    ">>> list_skiper([5, 6, 8, 2] = \n",
    "    [[5, 8], [5], [6], [8], [2]]\n",
    ">>> list_skiper([1, 2, 3, 4, 5]) = \n",
    "    [[1, 3, 5], [1, 3], [1, 4], [1, 5], [1], [2, 4], [2, 5], [2], [3, 5], [3], [4], [5], [6], []]\n",
    "```"
   ]
  },
  {
   "cell_type": "code",
   "execution_count": 31,
   "id": "63d3a044",
   "metadata": {},
   "outputs": [],
   "source": [
    "def line_skiper(lst):\n",
    "    if len(lst) == 0:\n",
    "        return [[]]\n",
    "    else:\n",
    "#         with_first = ______\n",
    "        with_first = line_skiper(lst[2:])\n",
    "        without_first = line_skiper(lst[1:])\n",
    "        with_fisrt = [[lst[0]] + x for x in with_first if x==[] or x[0] > lst[0]]\n",
    "        return with_fisrt + without_first"
   ]
  },
  {
   "cell_type": "code",
   "execution_count": 33,
   "id": "d770b080",
   "metadata": {},
   "outputs": [
    {
     "data": {
      "text/plain": [
       "[[1, 3, 5],\n",
       " [1, 3],\n",
       " [1, 4],\n",
       " [1, 5],\n",
       " [1],\n",
       " [2, 4],\n",
       " [2, 5],\n",
       " [2],\n",
       " [3, 5],\n",
       " [3],\n",
       " [4],\n",
       " [5],\n",
       " []]"
      ]
     },
     "execution_count": 33,
     "metadata": {},
     "output_type": "execute_result"
    }
   ],
   "source": [
    "line_skiper([1, 2, 3, 4, 5])"
   ]
  },
  {
   "cell_type": "markdown",
   "id": "367eaa01",
   "metadata": {},
   "source": [
    "## Prob 5.1: Deep Lists"
   ]
  },
  {
   "cell_type": "code",
   "execution_count": 27,
   "id": "e59ae0ed",
   "metadata": {},
   "outputs": [],
   "source": [
    "def in_nested(v, L):\n",
    "    if type(L) != list:\n",
    "        return v == L\n",
    "    if L == []:\n",
    "        return False\n",
    "    if type(L[0]) != list:\n",
    "        if L[0] == v:\n",
    "            return True\n",
    "        else:\n",
    "            return in_nested(v, L[1:])\n",
    "    else:\n",
    "        return in_nested(v, L[0]) or in_nested(v, L[1:])"
   ]
  },
  {
   "cell_type": "code",
   "execution_count": 28,
   "id": "9e51e1bf",
   "metadata": {},
   "outputs": [
    {
     "data": {
      "text/plain": [
       "True"
      ]
     },
     "execution_count": 28,
     "metadata": {},
     "output_type": "execute_result"
    }
   ],
   "source": [
    "in_nested(5, [1, [2], [2], [[3, 4, [5, 6]]], 4])"
   ]
  },
  {
   "cell_type": "code",
   "execution_count": 29,
   "id": "a4889fc3",
   "metadata": {},
   "outputs": [
    {
     "data": {
      "text/plain": [
       "True"
      ]
     },
     "execution_count": 29,
     "metadata": {},
     "output_type": "execute_result"
    }
   ],
   "source": [
    "in_nested(1, 1)"
   ]
  },
  {
   "cell_type": "code",
   "execution_count": 30,
   "id": "d71f86d0",
   "metadata": {},
   "outputs": [
    {
     "data": {
      "text/plain": [
       "False"
      ]
     },
     "execution_count": 30,
     "metadata": {},
     "output_type": "execute_result"
    }
   ],
   "source": [
    "in_nested(5, [1, 2, [[3], 4]])"
   ]
  }
 ],
 "metadata": {
  "kernelspec": {
   "display_name": "Python 3",
   "language": "python",
   "name": "python3"
  },
  "language_info": {
   "codemirror_mode": {
    "name": "ipython",
    "version": 3
   },
   "file_extension": ".py",
   "mimetype": "text/x-python",
   "name": "python",
   "nbconvert_exporter": "python",
   "pygments_lexer": "ipython3",
   "version": "3.7.11"
  }
 },
 "nbformat": 4,
 "nbformat_minor": 5
}
