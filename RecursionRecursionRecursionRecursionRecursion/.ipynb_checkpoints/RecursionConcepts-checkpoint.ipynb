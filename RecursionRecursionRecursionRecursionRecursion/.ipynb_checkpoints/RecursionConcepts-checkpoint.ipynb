{
 "cells": [
  {
   "cell_type": "markdown",
   "id": "7b4eff7e",
   "metadata": {},
   "source": [
    "# 1. Simple Recursion and Mutual Recursion\n",
    "### Example 0, sum digits\n",
    "Write a function that sums the digits of a natural number. \n",
    "\n",
    "In this case, the operators % and // can be used to separate a number into two parts: its last digit and all but its last digit."
   ]
  },
  {
   "cell_type": "code",
   "execution_count": 1,
   "id": "00119951",
   "metadata": {},
   "outputs": [],
   "source": [
    "def sum_digits(n):\n",
    "    if n // 10 == 0:\n",
    "        return n\n",
    "    else:\n",
    "        return n % 10 + sum_digits(n//10)"
   ]
  },
  {
   "cell_type": "code",
   "execution_count": 2,
   "id": "d48ced65",
   "metadata": {},
   "outputs": [
    {
     "data": {
      "text/plain": [
       "5"
      ]
     },
     "execution_count": 2,
     "metadata": {},
     "output_type": "execute_result"
    }
   ],
   "source": [
    "sum_digits(203)"
   ]
  },
  {
   "cell_type": "code",
   "execution_count": 3,
   "id": "465d99f5",
   "metadata": {},
   "outputs": [],
   "source": [
    "def sum_digits_multiply(n):\n",
    "    def helper(multiplier, n):\n",
    "        if n // 10 == 0:\n",
    "            return multiplier * n\n",
    "        else:\n",
    "            return multiplier * n%10 + helper(multiplier+1, n//10)\n",
    "    return helper(1, n)"
   ]
  },
  {
   "cell_type": "code",
   "execution_count": 4,
   "id": "532e7730",
   "metadata": {},
   "outputs": [
    {
     "data": {
      "text/plain": [
       "20"
      ]
     },
     "execution_count": 4,
     "metadata": {},
     "output_type": "execute_result"
    }
   ],
   "source": [
    "sum_digits_multiply(513)"
   ]
  },
  {
   "cell_type": "markdown",
   "id": "a4d6ca5e",
   "metadata": {},
   "source": [
    "### Example 1, Luhn algorithm\n",
    "From the **rightmost digit**, which is the check digit, move left, double the value of **every second** digit.\n",
    "\n",
    "If the product of the doubling operation is greater than 9, then sum the digits of that product"
   ]
  },
  {
   "cell_type": "markdown",
   "id": "9539704a",
   "metadata": {},
   "source": [
    "#### Solution1: Mutal Recursion"
   ]
  },
  {
   "cell_type": "code",
   "execution_count": 5,
   "id": "e959f893",
   "metadata": {},
   "outputs": [],
   "source": [
    "def luhn_sum(n):\n",
    "    if n // 10 == 0:\n",
    "        return n\n",
    "    else:\n",
    "        return n % 10 + luhn_sum_double(n // 10)\n",
    "    \n",
    "def luhn_sum_double(n):\n",
    "    if n // 10 == 0:\n",
    "        return sum_digits(n*2)\n",
    "    else:\n",
    "        return sum_digits((n%10) * 2) + luhn_sum(n//10)"
   ]
  },
  {
   "cell_type": "code",
   "execution_count": 6,
   "id": "0bea7637",
   "metadata": {},
   "outputs": [
    {
     "data": {
      "text/plain": [
       "80"
      ]
     },
     "execution_count": 6,
     "metadata": {},
     "output_type": "execute_result"
    }
   ],
   "source": [
    "luhn_sum(5466160547579894)"
   ]
  },
  {
   "cell_type": "markdown",
   "id": "f016a545",
   "metadata": {},
   "source": [
    "#### Solution2: Regular Recursion with more base cases"
   ]
  },
  {
   "cell_type": "code",
   "execution_count": 7,
   "id": "767aa310",
   "metadata": {},
   "outputs": [],
   "source": [
    "def luhn_sum_b(n):\n",
    "    def split(n):\n",
    "        return n // 10, n % 10\n",
    "    \n",
    "    all_but_last, curr_last = split(n) # N-1 bit and Last digit\n",
    "    every_other_all, every_other_last = split(all_but_last)\n",
    "    if all_but_last == 0: # Base case when there is ONLY one digit\n",
    "        return curr_last\n",
    "    else:\n",
    "        return sum_digits(every_other_last * 2) + curr_last + luhn_sum_b(every_other_all) \n",
    "        # Otherwise, add up last_digit, sum(second_last_digit * 2), "
   ]
  },
  {
   "cell_type": "code",
   "execution_count": 8,
   "id": "39ccd7f8",
   "metadata": {},
   "outputs": [
    {
     "data": {
      "text/plain": [
       "80"
      ]
     },
     "execution_count": 8,
     "metadata": {},
     "output_type": "execute_result"
    }
   ],
   "source": [
    "luhn_sum_b(5466160547579894)"
   ]
  },
  {
   "cell_type": "markdown",
   "id": "6f468858",
   "metadata": {},
   "source": [
    "### Example 3. is even?\n",
    "Considering the following definition of even/odd numbers\n",
    "* a number is even if one more than an odd number\n",
    "* a number is odd if one more than an even number\n",
    "* when n == 0, it is even\n",
    "\n",
    "By this defintion, we have:\n",
    "* the base case for n == 0\n",
    "* n - 1 is odd, then n is even\n",
    "* n - 1 is also even, then n is odd"
   ]
  },
  {
   "cell_type": "code",
   "execution_count": 9,
   "id": "96bc67a0",
   "metadata": {},
   "outputs": [],
   "source": [
    "def is_even(n):\n",
    "    if n == 0:\n",
    "        return True\n",
    "    else:\n",
    "        return is_odd(n-1) # if n-1 is odd, then n is even\n",
    "    \n",
    "def is_odd(n):\n",
    "    if n == 0:\n",
    "        return False\n",
    "    else:\n",
    "        return is_even(n-1) # is n-1 is even, then n is odd "
   ]
  },
  {
   "cell_type": "markdown",
   "id": "ad11337e",
   "metadata": {},
   "source": [
    "Using a more straightforward approach"
   ]
  },
  {
   "cell_type": "code",
   "execution_count": 10,
   "id": "475f261e",
   "metadata": {},
   "outputs": [],
   "source": [
    "def even_odd(n):\n",
    "    if n == 0:\n",
    "        return 'even'\n",
    "    elif n == 1:\n",
    "        return 'odd'\n",
    "    else:\n",
    "        return even_odd(n-2)"
   ]
  },
  {
   "cell_type": "code",
   "execution_count": 11,
   "id": "23d6d748",
   "metadata": {},
   "outputs": [
    {
     "data": {
      "text/plain": [
       "'odd'"
      ]
     },
     "execution_count": 11,
     "metadata": {},
     "output_type": "execute_result"
    }
   ],
   "source": [
    "even_odd(331)"
   ]
  },
  {
   "cell_type": "markdown",
   "id": "3826a03f",
   "metadata": {},
   "source": [
    "### Example: Recursion Illustration"
   ]
  },
  {
   "cell_type": "code",
   "execution_count": 12,
   "id": "9434da5c",
   "metadata": {},
   "outputs": [],
   "source": [
    "def print_after_call(n):\n",
    "    if n < 10:\n",
    "        print(n)\n",
    "    else:\n",
    "        print_after_call(n // 10)\n",
    "        print(n)"
   ]
  },
  {
   "cell_type": "code",
   "execution_count": 13,
   "id": "6e7fb48d",
   "metadata": {},
   "outputs": [
    {
     "name": "stdout",
     "output_type": "stream",
     "text": [
      "2\n",
      "20\n",
      "201\n",
      "2013\n"
     ]
    }
   ],
   "source": [
    "print_after_call(2013)"
   ]
  },
  {
   "cell_type": "code",
   "execution_count": 14,
   "id": "0bd2438f",
   "metadata": {},
   "outputs": [],
   "source": [
    "def print_before_call(n):\n",
    "    if n < 10:\n",
    "        print(n)\n",
    "    else:\n",
    "        print(n)\n",
    "        print_before_call(n//10)"
   ]
  },
  {
   "cell_type": "code",
   "execution_count": 15,
   "id": "28045b0c",
   "metadata": {},
   "outputs": [
    {
     "name": "stdout",
     "output_type": "stream",
     "text": [
      "2013\n",
      "201\n",
      "20\n",
      "2\n"
     ]
    }
   ],
   "source": [
    "print_before_call(2013)"
   ]
  },
  {
   "cell_type": "code",
   "execution_count": 16,
   "id": "fb72b81f",
   "metadata": {},
   "outputs": [],
   "source": [
    "def inverse_cascade(n):\n",
    "    print_after_call(n//10)\n",
    "    print(n)\n",
    "    print_before_call(n//10)"
   ]
  },
  {
   "cell_type": "code",
   "execution_count": 17,
   "id": "a131f297",
   "metadata": {},
   "outputs": [
    {
     "name": "stdout",
     "output_type": "stream",
     "text": [
      "2\n",
      "20\n",
      "201\n",
      "2013\n",
      "201\n",
      "20\n",
      "2\n"
     ]
    }
   ],
   "source": [
    "inverse_cascade(2013)"
   ]
  },
  {
   "cell_type": "code",
   "execution_count": 18,
   "id": "9916a53b",
   "metadata": {},
   "outputs": [],
   "source": [
    "def pac_str(s):\n",
    "    rec = []\n",
    "    def helper(s, record):\n",
    "        if len(s) == 1:\n",
    "            record.append(s[0])\n",
    "        else:\n",
    "            record.append(s)\n",
    "            helper(s[1:], record)\n",
    "    helper(s, rec)\n",
    "    return rec"
   ]
  },
  {
   "cell_type": "code",
   "execution_count": 19,
   "id": "d928cf8d",
   "metadata": {},
   "outputs": [
    {
     "name": "stdout",
     "output_type": "stream",
     "text": [
      "['abcefg', 'bcefg', 'cefg', 'efg', 'fg', 'g']\n"
     ]
    }
   ],
   "source": [
    "print(pac_str('abcefg'))"
   ]
  },
  {
   "cell_type": "code",
   "execution_count": 20,
   "id": "e801099b",
   "metadata": {},
   "outputs": [],
   "source": [
    "def cap_str(s):\n",
    "    rec = []\n",
    "    def helper(s, record):\n",
    "        if len(s) == 1:\n",
    "            record.append(s[0])\n",
    "        else:\n",
    "            helper(s[1:], record)\n",
    "            record.append(s)\n",
    "    helper(s, rec)\n",
    "    return rec"
   ]
  },
  {
   "cell_type": "code",
   "execution_count": 21,
   "id": "bffe3b46",
   "metadata": {},
   "outputs": [
    {
     "name": "stdout",
     "output_type": "stream",
     "text": [
      "['g', 'fg', 'efg', 'defg', 'cdefg', 'bcdefg', 'abcdefg']\n"
     ]
    }
   ],
   "source": [
    "print(cap_str('abcdefg'))"
   ]
  },
  {
   "cell_type": "markdown",
   "id": "15a940d9",
   "metadata": {},
   "source": [
    "### Practice Warmup\n",
    "#### Recursive multiplication\n",
    "```python\n",
    ">>> multiply(5, 3)\n",
    "15\n",
    "```"
   ]
  },
  {
   "cell_type": "code",
   "execution_count": 22,
   "id": "a4fad8f4",
   "metadata": {},
   "outputs": [],
   "source": [
    "def multply(m, n):\n",
    "    if n == 1:\n",
    "        return m\n",
    "    else:\n",
    "        return m + multply(m, n-1)"
   ]
  },
  {
   "cell_type": "code",
   "execution_count": 23,
   "id": "43b57f23",
   "metadata": {},
   "outputs": [
    {
     "data": {
      "text/plain": [
       "15"
      ]
     },
     "execution_count": 23,
     "metadata": {},
     "output_type": "execute_result"
    }
   ],
   "source": [
    "multply(5,3)"
   ]
  },
  {
   "cell_type": "markdown",
   "id": "eb0be901",
   "metadata": {},
   "source": [
    "#### Power of n"
   ]
  },
  {
   "cell_type": "code",
   "execution_count": 24,
   "id": "63673637",
   "metadata": {},
   "outputs": [],
   "source": [
    "def pow(m, n):\n",
    "    if n == 0:\n",
    "        return 1\n",
    "    else:\n",
    "        return m * pow(m, n-1)"
   ]
  },
  {
   "cell_type": "code",
   "execution_count": 25,
   "id": "f9899da8",
   "metadata": {},
   "outputs": [
    {
     "data": {
      "text/plain": [
       "8"
      ]
     },
     "execution_count": 25,
     "metadata": {},
     "output_type": "execute_result"
    }
   ],
   "source": [
    "pow(2,3)"
   ]
  },
  {
   "cell_type": "markdown",
   "id": "1df7287e",
   "metadata": {},
   "source": [
    "#### Number of eights\n",
    "```python\n",
    "    Returns the number of times 8 appears as a digit of pos.\n",
    "\n",
    "    >>> num_eights(3)\n",
    "    0\n",
    "    >>> num_eights(8)\n",
    "    1\n",
    "    >>> num_eights(88888888)\n",
    "    8\n",
    "    >>> num_eights(2638)\n",
    "    1\n",
    "    >>> num_eights(86380)\n",
    "    2\n",
    "    >>> num_eights(12345)\n",
    "    0\n",
    "```"
   ]
  },
  {
   "cell_type": "code",
   "execution_count": 26,
   "id": "f0c0a297",
   "metadata": {},
   "outputs": [],
   "source": [
    "def num_eights(n):\n",
    "    if n == 8:\n",
    "        return 1\n",
    "    elif n % 10 == 8:\n",
    "        return 1 + num_eights(n // 10)\n",
    "    else:\n",
    "        return num_eights(n // 10)"
   ]
  },
  {
   "cell_type": "code",
   "execution_count": 27,
   "id": "bce14a13",
   "metadata": {},
   "outputs": [
    {
     "data": {
      "text/plain": [
       "2"
      ]
     },
     "execution_count": 27,
     "metadata": {},
     "output_type": "execute_result"
    }
   ],
   "source": [
    "num_eights(86380)"
   ]
  },
  {
   "cell_type": "markdown",
   "id": "d56ddf38",
   "metadata": {},
   "source": [
    "#### Hailstone\n",
    "\n",
    "Recall the hailstone function from Homework 2. First, pick a positive integer n as the start. If n is even, divide it by 2. If n is odd, multiply it by 3 and add 1. Repeat this process until n is 1. Write a recursive version of hailstone that prints out the values of the sequence and returns the number of steps.\n",
    "\n",
    "```python \n",
    "    Save the hailstone sequence starting at n to a list, and return the number of elements in the sequence.\n",
    "    >>> a = hailstone(10)\n",
    "    [10, 5, 16, 8, 4, 2, 1], 7\n",
    "    >>> b = hailstone(1)\n",
    "    [1], 1\n",
    "```"
   ]
  },
  {
   "cell_type": "markdown",
   "id": "84c3e06c",
   "metadata": {},
   "source": [
    "A straightforward programming style"
   ]
  },
  {
   "cell_type": "code",
   "execution_count": 28,
   "id": "462f37a0",
   "metadata": {},
   "outputs": [],
   "source": [
    "def hailstone(n, l, cnt=0):\n",
    "    cnt = cnt + 1\n",
    "    if n == 1:\n",
    "        l.append(n)\n",
    "        return l, cnt\n",
    "    elif n % 2 == 0:\n",
    "        l.append(n)\n",
    "        n = int(n / 2)\n",
    "        return hailstone(n, l, cnt)\n",
    "    else:\n",
    "        l.append(n)\n",
    "        n = n * 3 + 1\n",
    "        return hailstone(n, l, cnt)"
   ]
  },
  {
   "cell_type": "markdown",
   "id": "8ebdf2f1",
   "metadata": {},
   "source": [
    "With helper function"
   ]
  },
  {
   "cell_type": "code",
   "execution_count": 29,
   "id": "f12818e6",
   "metadata": {},
   "outputs": [],
   "source": [
    "def hailstone_helper(n):\n",
    "    def helper(n, l, cnt):\n",
    "        cnt = cnt + 1\n",
    "        if n == 1:\n",
    "            l.append(n)\n",
    "            return l, cnt\n",
    "        elif n % 2 == 0:\n",
    "            l.append(n)\n",
    "            n = int(n / 2)\n",
    "            return helper(n, l, cnt)\n",
    "        else:\n",
    "            l.append(n)\n",
    "            n = n * 3 + 1\n",
    "            return helper(n, l, cnt)\n",
    "        \n",
    "    return helper(n, [], 0)"
   ]
  },
  {
   "cell_type": "code",
   "execution_count": 30,
   "id": "9f231f38",
   "metadata": {},
   "outputs": [
    {
     "data": {
      "text/plain": [
       "([10, 5, 16, 8, 4, 2, 1], 7)"
      ]
     },
     "execution_count": 30,
     "metadata": {},
     "output_type": "execute_result"
    }
   ],
   "source": [
    "res = hailstone_helper(10)\n",
    "res"
   ]
  },
  {
   "cell_type": "markdown",
   "id": "2354d277",
   "metadata": {},
   "source": [
    "## Practice 1. Regular Recursion\n",
    "#### <font color='red'>Q0: HasSubstring</font>\n",
    "```python\n",
    "    Complete has_subseq, a function which takes in a number n and a \"sequence\"\n",
    "    of digits seq and returns whether n contains seq as a subsequence, which\n",
    "    does not have to be consecutive.\n",
    "\n",
    "    >>> has_subseq(123, 12)\n",
    "    True\n",
    "    >>> has_subseq(141, 11)\n",
    "    True\n",
    "    >>> has_subseq(144, 12)\n",
    "    False\n",
    "    >>> has_subseq(144, 1441)\n",
    "    False\n",
    "    >>> has_subseq(1343412, 134)\n",
    "    True\n",
    "```"
   ]
  },
  {
   "cell_type": "code",
   "execution_count": 31,
   "id": "e1e27ca3",
   "metadata": {},
   "outputs": [],
   "source": [
    "def has_subseq(n, seq):\n",
    "    if n == seq:\n",
    "        return True\n",
    "    elif n < seq:\n",
    "        return False\n",
    "    elif n%10 == seq%10:\n",
    "        return has_subseq(n//10, seq//10)\n",
    "    else:\n",
    "        return has_subseq(n//10, seq)"
   ]
  },
  {
   "cell_type": "code",
   "execution_count": 32,
   "id": "c2a5ac67",
   "metadata": {},
   "outputs": [
    {
     "data": {
      "text/plain": [
       "True"
      ]
     },
     "execution_count": 32,
     "metadata": {},
     "output_type": "execute_result"
    }
   ],
   "source": [
    "has_subseq(1343412, 143)"
   ]
  },
  {
   "cell_type": "markdown",
   "id": "92f1eede",
   "metadata": {},
   "source": [
    "#### <font color='red'>Q1: Neighbor_digits</font>\n",
    "```python\n",
    "    Returns the number of digits in num that have the same digit to its right\n",
    "    or left.\n",
    "    >>> neighbor_digits(111)\n",
    "    3\n",
    "    >>> neighbor_digits(123)\n",
    "    0\n",
    "    >>> neighbor_digits(112)\n",
    "    2\n",
    "    >>> neighbor_digits(1122)\n",
    "    4\n",
    "```"
   ]
  },
  {
   "cell_type": "code",
   "execution_count": 33,
   "id": "cb282c1a",
   "metadata": {},
   "outputs": [],
   "source": [
    "def neighbor_digits(num, prev_digit=-1):\n",
    "    if num // 10 == 0 and num == prev_digit:\n",
    "        return 1\n",
    "    elif num % 10 == prev_digit or (num // 10) % 10 == num % 10:\n",
    "        return 1 + neighbor_digits(num // 10, num % 10)\n",
    "    else:\n",
    "        return neighbor_digits(num // 10, num % 10)"
   ]
  },
  {
   "cell_type": "code",
   "execution_count": 34,
   "id": "be2e199e",
   "metadata": {},
   "outputs": [
    {
     "name": "stdout",
     "output_type": "stream",
     "text": [
      "4\n"
     ]
    }
   ],
   "source": [
    "print(neighbor_digits(1122))"
   ]
  },
  {
   "cell_type": "markdown",
   "id": "26449cff",
   "metadata": {},
   "source": [
    "#### <font color='red'>Q3: Is Prime?</font>\n",
    "A simple example for recursion using a helper function"
   ]
  },
  {
   "cell_type": "code",
   "execution_count": 35,
   "id": "906ac431",
   "metadata": {},
   "outputs": [],
   "source": [
    "import math\n",
    "def isprime(n):\n",
    "    def divisible(n, i): # This helper divide n by 2, 3......to n/2, if any division produce a remainder of 0, return False\n",
    "        if i >= math.sqrt(n):\n",
    "            return True\n",
    "        elif (n % i == 0):\n",
    "            return False\n",
    "        else:\n",
    "            return divisible(n, i+1)\n",
    "    return divisible(n, 2)"
   ]
  },
  {
   "cell_type": "code",
   "execution_count": 36,
   "id": "8fd9350b",
   "metadata": {},
   "outputs": [
    {
     "data": {
      "text/plain": [
       "True"
      ]
     },
     "execution_count": 36,
     "metadata": {},
     "output_type": "execute_result"
    }
   ],
   "source": [
    "isprime(257)"
   ]
  },
  {
   "cell_type": "markdown",
   "id": "2a1bb353",
   "metadata": {},
   "source": [
    "#### <font color='red'>Q3: Merge Numbers?</font>\n",
    "```python\n",
    "    Merges two numbers by digit in decreasing order\n",
    "    >>> merge(31, 42)\n",
    "    4321\n",
    "    >>> merge(21, 0)\n",
    "    21\n",
    "    >>> merge (21, 31) \n",
    "    3211\n",
    "```"
   ]
  },
  {
   "cell_type": "code",
   "execution_count": 285,
   "id": "ff859c0e",
   "metadata": {},
   "outputs": [],
   "source": [
    "def merge(n1, n2):\n",
    "    if n1 == 0:\n",
    "        return n2\n",
    "    elif n2 == 0:\n",
    "        return n1\n",
    "    elif n1%10 <= n2%10:\n",
    "        return n1%10 + merge(n1//10, n2) * 10\n",
    "    else:\n",
    "        return n2%10 + merge(n1, n2//10) * 10"
   ]
  },
  {
   "cell_type": "code",
   "execution_count": 286,
   "id": "ad389e28",
   "metadata": {},
   "outputs": [
    {
     "data": {
      "text/plain": [
       "4321"
      ]
     },
     "execution_count": 286,
     "metadata": {},
     "output_type": "execute_result"
    }
   ],
   "source": [
    "merge (31, 42) "
   ]
  },
  {
   "cell_type": "code",
   "execution_count": 287,
   "id": "83f01e4d",
   "metadata": {},
   "outputs": [],
   "source": [
    "def merge(n1, n2):\n",
    "    if n1 == 0:\n",
    "        return n2\n",
    "    elif n2 == 0:\n",
    "        return n1\n",
    "    elif n1%10 >= n2%10:\n",
    "        return n1%10 + merge(n1//10, n2) * 10\n",
    "    else:\n",
    "        return n2%10 + merge(n1, n2//10) * 10"
   ]
  },
  {
   "cell_type": "code",
   "execution_count": 288,
   "id": "9fb43724",
   "metadata": {},
   "outputs": [
    {
     "data": {
      "text/plain": [
       "1234"
      ]
     },
     "execution_count": 288,
     "metadata": {},
     "output_type": "execute_result"
    }
   ],
   "source": [
    "merge (13, 24) "
   ]
  },
  {
   "cell_type": "markdown",
   "id": "96ad5792",
   "metadata": {},
   "source": [
    "# 2. Tree Recursion\n",
    "## Example 1, Counting Partitions\n",
    "The number of partitions of a positive integer ```n```, using parts up to size of ```m```, is the number of ways in which ways ```n``` can be expressed as the sum of positive integer parts up to ```m``` in an increasing order\n",
    "\n",
    "1. Split the problem into simpler cases:\n",
    "* count the partitions when using m as a part: ```count_partitions(n - m, m)```\n",
    "* count the partitions that we don't use m: ```count_partitions(n, m - 1)```\n",
    "\n",
    "2. Figure out the base conditions:\n",
    "* When m == 0, there is 1 possibility\n",
    "* When n < 0: there is 0 possiblity\n",
    "* When m == 1: there is 1 possibility "
   ]
  },
  {
   "cell_type": "code",
   "execution_count": 289,
   "id": "73bf8cfc",
   "metadata": {},
   "outputs": [],
   "source": [
    "def count_partition(n, m):\n",
    "    if n == 0:\n",
    "        return 1\n",
    "    elif n < 0:\n",
    "        return 0\n",
    "    elif m == 1:\n",
    "        return 1\n",
    "    else:\n",
    "        return count_partition(n - m, m) + count_partition(n, m - 1)"
   ]
  },
  {
   "cell_type": "code",
   "execution_count": 290,
   "id": "7fd9b5e4",
   "metadata": {},
   "outputs": [
    {
     "data": {
      "text/plain": [
       "4"
      ]
     },
     "execution_count": 290,
     "metadata": {},
     "output_type": "execute_result"
    }
   ],
   "source": [
    "count_partition(4, 3)"
   ]
  },
  {
   "cell_type": "markdown",
   "id": "e99bba4e",
   "metadata": {},
   "source": [
    "# Practice 2 Tree recursion\n",
    "#### Q1: Count stairways simple case\n",
    "You can either take 1 or 2 steps each time. How many different ways can you go up this flight of stairs? In this question, you'll write a function count_stair_ways that solves this problem.\n",
    "\n",
    "```python\n",
    "    Returns the number of ways to climb up a flight of n stairs, moving either 1 step or 2 steps at a time.\n",
    "    >>> count_stair_ways(4)\n",
    "    5\n",
    "```"
   ]
  },
  {
   "cell_type": "code",
   "execution_count": 291,
   "id": "7b97b8cb",
   "metadata": {},
   "outputs": [],
   "source": [
    "def count_stairs(n):\n",
    "    if n == 0:\n",
    "        return 1\n",
    "    elif n < 0:\n",
    "        return 0\n",
    "    else:\n",
    "        return count_stairs(n-1) + count_stairs(n-2)"
   ]
  },
  {
   "cell_type": "code",
   "execution_count": 292,
   "id": "5fb4b170",
   "metadata": {},
   "outputs": [
    {
     "data": {
      "text/plain": [
       "2"
      ]
     },
     "execution_count": 292,
     "metadata": {},
     "output_type": "execute_result"
    }
   ],
   "source": [
    "count_stairs(2)"
   ]
  },
  {
   "cell_type": "markdown",
   "id": "7acb22b9",
   "metadata": {},
   "source": [
    "#### Q1b: Count stairways complex case, and comparing with counting partition example\n",
    "```python\n",
    "    Counts the number of paths up a flight of n stairs when taking up to and including k steps at a time.\n",
    "    >>> count_k(3, 3) # 3, 2 + 1, 1 + 2, 1 + 1 + 1\n",
    "    4\n",
    "    >>> count_k(4, 4)\n",
    "    8\n",
    "    >>> count_k(10, 3)\n",
    "    274\n",
    "    >>> count_k(300, 1) # Only one step at a time\n",
    "    1\n",
    "```"
   ]
  },
  {
   "cell_type": "code",
   "execution_count": 293,
   "id": "a424e417",
   "metadata": {},
   "outputs": [],
   "source": [
    "\"\"\"\n",
    "Think about c(4, 4):\n",
    "c(4, 4) = c(0, 4) + c(1, 4) + c(2, 4) + c(3, 4)\n",
    "where:\n",
    "    Take 4 steps: c(0, 4) = 1\n",
    "    Take 3 steps: c(1, 4) = c(-3, 4) + c(-2, 4) + c(-1, 4) + C(0, 4) = 1\n",
    "    Take 2 steps: c(2, 4) = c(-2, 4) + c(-1, 4) + c(0, 4) + c(1, 4) = 2\n",
    "    \n",
    "    Take 1 step: c(3, 4) = c(-1, 4) + c(0, 4) + c(1, 4) + c(2, 4) = 1 + 1 + 2 = 4\n",
    "\"\"\"\n",
    "\n",
    "def count_k(n, k):\n",
    "    def helper(n, k):\n",
    "        if n == 0:\n",
    "            return 1\n",
    "        elif n < 0:\n",
    "            return 0\n",
    "        elif k == 1:\n",
    "            return 1\n",
    "        elif n < k:\n",
    "            return helper(n, n)\n",
    "        else:\n",
    "            res = 0\n",
    "            for i in range(1, k+1):\n",
    "                res += helper(n - i, k)\n",
    "            return res\n",
    "    return helper(n, k)"
   ]
  },
  {
   "cell_type": "code",
   "execution_count": 294,
   "id": "eec80cd2",
   "metadata": {},
   "outputs": [
    {
     "data": {
      "text/plain": [
       "274"
      ]
     },
     "execution_count": 294,
     "metadata": {},
     "output_type": "execute_result"
    }
   ],
   "source": [
    "count_k(10, 3)"
   ]
  },
  {
   "cell_type": "markdown",
   "id": "706911c0",
   "metadata": {},
   "source": [
    "Comparing with **partition problem**, the primary difference between there problems is:\n",
    "* partition take a step n, then an alternative apporach is exclusive with the approach that takes step n\n",
    "    * ```\n",
    "            p(4, 3) = p(1, 3) + p(4, 2)\n",
    "                p(4, 2) = p(2, 2) + p(4, 1)\n",
    "                    p(2, 2) = p(0, 2) + p(2, 1) = 2\n",
    "                p(4, 2) = 1 + 2 = 3\n",
    "            p(4, 3) = 1 + 3 = 4\n",
    "       ```\n",
    "* climb take a step, the next step any size if the step size is legal\n",
    "    * For example, if you take 2 steps first in the first move\n",
    "    * You can also still take 2 steps in your second move if you chose to take 1 step in the first move.  \n",
    "    ```\n",
    "        c(4, 3) = c(3, 3) + c(2, 3) + c(1, 3)\n",
    "            Take 3 steps: c(1, 3) = c(1, 1) = 1\n",
    "            Take 2 steps: c(2, 3) = c(2, 2) = c(1, 2) + c(0, 2) = 2\n",
    "            Take 1 step: c(3, 3) = c(2, 3) + c(1, 3) + c(0, 3) = 2 + 1 + 1 = 4\n",
    "        c(4, 3) = 1 + 2 + 4 = 7\n",
    "    ```\n",
    "    \n",
    "* If we change the climbing problem to: the step taken in next move has to be either smaller/larger or equal than the step taken in the previous move"
   ]
  },
  {
   "cell_type": "code",
   "execution_count": 295,
   "id": "efae99b4",
   "metadata": {},
   "outputs": [
    {
     "data": {
      "text/plain": [
       "7"
      ]
     },
     "execution_count": 295,
     "metadata": {},
     "output_type": "execute_result"
    }
   ],
   "source": [
    "count_k(4, 3)"
   ]
  },
  {
   "cell_type": "markdown",
   "id": "15886aa1",
   "metadata": {},
   "source": [
    "# Lab: recursion with built-in data types"
   ]
  },
  {
   "cell_type": "code",
   "execution_count": 296,
   "id": "df23ac3c",
   "metadata": {},
   "outputs": [],
   "source": [
    "def virfib_sq(n):\n",
    "    if n<=1:\n",
    "        return n\n",
    "    else:\n",
    "        res = (virfib_sq(n - 1) + virfib_sq(n - 2)) ** 2\n",
    "        return res"
   ]
  },
  {
   "cell_type": "markdown",
   "id": "658667f1",
   "metadata": {},
   "source": [
    "#### <font color='red'>Q2: Line stepers?</font>"
   ]
  },
  {
   "cell_type": "code",
   "execution_count": 297,
   "id": "d35d6793",
   "metadata": {},
   "outputs": [],
   "source": [
    "def line_stepper(start, k):\n",
    "    if abs(start) == k:\n",
    "        return 1\n",
    "    elif k == 0:\n",
    "        return 0\n",
    "    else:\n",
    "        return line_stepper(start-1, k-1) + line_stepper(start+1, k-1)"
   ]
  },
  {
   "cell_type": "code",
   "execution_count": 298,
   "id": "79afc715",
   "metadata": {},
   "outputs": [
    {
     "data": {
      "text/plain": [
       "2"
      ]
     },
     "execution_count": 298,
     "metadata": {},
     "output_type": "execute_result"
    }
   ],
   "source": [
    "line_stepper(0,2)"
   ]
  },
  {
   "cell_type": "markdown",
   "id": "6bc24369",
   "metadata": {},
   "source": [
    "#### Q3: Summation\n",
    "Write a recursive implementation of summation, which takes a positive integer ```n``` and a function ```term```. It applies term to every number from 1 to ```n``` including ```n``` and returns the ```sum```.\n",
    "```python\n",
    "    Return the sum of numbers 1 through n (including n) wíth term applied to each number.\n",
    "\n",
    "    >>> summation(5, lambda x: x * x * x) # 1^3 + 2^3 + 3^3 + 4^3 + 5^3\n",
    "    225\n",
    "    >>> summation(9, lambda x: x + 1) # 2 + 3 + 4 + 5 + 6 + 7 + 8 + 9 + 10\n",
    "    54\n",
    "    >>> summation(5, lambda x: 2**x) # 2^1 + 2^2 + 2^3 + 2^4 + 2^5\n",
    "    62\n",
    "```"
   ]
  },
  {
   "cell_type": "code",
   "execution_count": 299,
   "id": "1e0eefef",
   "metadata": {},
   "outputs": [],
   "source": [
    "def summation(n, term):\n",
    "    assert n>=1\n",
    "    \n",
    "    if n == 1:\n",
    "        return term(1)\n",
    "    else:\n",
    "        res = term(n) + summation(n-1, term)\n",
    "        return res"
   ]
  },
  {
   "cell_type": "code",
   "execution_count": 300,
   "id": "db3c27e8",
   "metadata": {},
   "outputs": [
    {
     "data": {
      "text/plain": [
       "225"
      ]
     },
     "execution_count": 300,
     "metadata": {},
     "output_type": "execute_result"
    }
   ],
   "source": [
    "summation(5, lambda x: x * x * x)"
   ]
  },
  {
   "cell_type": "markdown",
   "id": "176850c1",
   "metadata": {},
   "source": [
    "#### Q4: Insect Combinatorics\n",
    "\n",
    "Consider an insect in an *M by N* grid. The insect starts at the bottom left corner, *(1, 1)*, and wants to end up at the top right corner, *(M, N)*. The insect is only capable of moving ```right or up```. Write a function paths ```that``` takes a grid length and width and returns the number of different paths the insect can take from the start to the goal\n",
    "```python\n",
    "    Return the number of paths from one corner of an M by N grid to the opposite corner.\n",
    "\n",
    "    >>> paths(2, 2)\n",
    "    2\n",
    "    >>> paths(5, 7)\n",
    "    210\n",
    "    >>> paths(117, 1)\n",
    "    1\n",
    "    >>> paths(1, 157)\n",
    "    1\n",
    "```"
   ]
  },
  {
   "cell_type": "code",
   "execution_count": 301,
   "id": "d45f33a7",
   "metadata": {},
   "outputs": [],
   "source": [
    "def paths(m, n):\n",
    "    if m == 1 or n == 1:\n",
    "        return 1\n",
    "    else:\n",
    "        return paths(m-1, n) + paths(m, n-1)"
   ]
  },
  {
   "cell_type": "code",
   "execution_count": 302,
   "id": "1830b73b",
   "metadata": {},
   "outputs": [
    {
     "data": {
      "text/plain": [
       "210"
      ]
     },
     "execution_count": 302,
     "metadata": {},
     "output_type": "execute_result"
    }
   ],
   "source": [
    "paths(5, 7)"
   ]
  },
  {
   "cell_type": "markdown",
   "id": "b4a89a07",
   "metadata": {},
   "source": [
    "#### Q5: Pascal's Triangle\n",
    "\n",
    "**Usage of Pascal's triangle**: Pascal's triangle gives the coefficients of a binomial expansion; if you expand the expression ```(a + b) ** n```, all coefficients will be found on the ```nth``` row of the triangle, and the coefficient of the ```ith``` term will be at the ```ith``` column.\n",
    "\n",
    "```\n",
    "1\n",
    "1 1\n",
    "1 2 1\n",
    "1 3 3 1\n",
    "1 4 6 4 1\n",
    "```\n",
    "\n",
    "**Definition**: Every number in Pascal's triangle is defined as the sum of the item above it and the item above and to the left of it. ```Rows``` and ```columns``` are zero-indexed; that is, the first row is row 0 instead of 1 and the first column is column 0 instead of column 1. For example, the item at row 2, column 1 in Pascal's triangle is 2.\n",
    "```python\n",
    "    Returns the value of the item in Pascal's Triangle whose position is specified by row and column.\n",
    "    >>> pascal(0, 0)\n",
    "    1\n",
    "    >>> pascal(0, 5)\t# Empty entry; outside of Pascal's Triangle\n",
    "    0\n",
    "    >>> pascal(3, 2)\t# Row 3 (1 3 3 1), Column 2\n",
    "    3\n",
    "    >>> pascal(4, 2)     # Row 4 (1 4 6 4 1), Column 2\n",
    "    6\n",
    "```"
   ]
  },
  {
   "cell_type": "code",
   "execution_count": 303,
   "id": "9490ecd2",
   "metadata": {},
   "outputs": [],
   "source": [
    "def pascal(row, column):\n",
    "    if row == 0:\n",
    "        if column > 0:\n",
    "            return 0\n",
    "        else:\n",
    "            return 1\n",
    "    elif column == 0:\n",
    "        return 1\n",
    "    else:\n",
    "        return pascal(row-1, column) + pascal(row-1, column-1)"
   ]
  },
  {
   "cell_type": "code",
   "execution_count": 304,
   "id": "bd3adb05",
   "metadata": {},
   "outputs": [
    {
     "data": {
      "text/plain": [
       "6"
      ]
     },
     "execution_count": 304,
     "metadata": {},
     "output_type": "execute_result"
    }
   ],
   "source": [
    "pascal(4, 2)"
   ]
  },
  {
   "cell_type": "code",
   "execution_count": 305,
   "id": "5efb214c",
   "metadata": {},
   "outputs": [
    {
     "data": {
      "text/plain": [
       "3"
      ]
     },
     "execution_count": 305,
     "metadata": {},
     "output_type": "execute_result"
    }
   ],
   "source": [
    "pascal(3, 2)"
   ]
  },
  {
   "cell_type": "markdown",
   "id": "57831405",
   "metadata": {},
   "source": [
    "#### <font color='red'>Q3: Coins?</font>\n",
    "```python\n",
    "    \"\"\"Return the number of ways to make change using coins of value of 1, 5, 10, 25.\n",
    "    >>> count_coins(15)\n",
    "    6\n",
    "    >>> count_coins(10)\n",
    "    4\n",
    "    >>> count_coins(20)\n",
    "    9\n",
    "    >>> count_coins(100) # How many ways to make change for a dollar?\n",
    "    242\n",
    "    >>> count_coins(200)\n",
    "    1463\n",
    "```"
   ]
  },
  {
   "cell_type": "code",
   "execution_count": 306,
   "id": "f1d4afb5",
   "metadata": {},
   "outputs": [],
   "source": [
    "def count_coins(change):\n",
    "    def count_coin_with_max(change, maxcoin):\n",
    "        if change == 0:\n",
    "            return 1\n",
    "        elif change < 0 or maxcoin==None:\n",
    "            return 0\n",
    "        else:\n",
    "            with_max = count_coin_with_max(change - maxcoin, maxcoin)\n",
    "            without_max = count_coin_with_max(change, get_smaller_coin(maxcoin))\n",
    "            return with_max + without_max\n",
    "            \n",
    "    return count_coin_with_max(change, 25)\n",
    "        "
   ]
  },
  {
   "cell_type": "code",
   "execution_count": 307,
   "id": "0f159204",
   "metadata": {},
   "outputs": [
    {
     "data": {
      "text/plain": [
       "242"
      ]
     },
     "execution_count": 307,
     "metadata": {},
     "output_type": "execute_result"
    }
   ],
   "source": [
    "count_coins(100)"
   ]
  },
  {
   "cell_type": "code",
   "execution_count": 308,
   "id": "0e6c2b15",
   "metadata": {},
   "outputs": [],
   "source": [
    "def get_larger_coin(coin):\n",
    "    \"\"\"Returns the next larger coin in order.\n",
    "    >>> get_larger_coin(1)\n",
    "    5\n",
    "    >>> get_larger_coin(5)\n",
    "    10\n",
    "    >>> get_larger_coin(10)\n",
    "    25\n",
    "    >>> get_larger_coin(2) # Other values return None\n",
    "    \"\"\"\n",
    "    if coin == 1:\n",
    "        return 5\n",
    "    elif coin == 5:\n",
    "        return 10\n",
    "    elif coin == 10:\n",
    "        return 25\n",
    "\n",
    "\n",
    "def get_smaller_coin(coin):\n",
    "    \"\"\"Returns the next smaller coin in order.\n",
    "    >>> get_smaller_coin(25)\n",
    "    10\n",
    "    >>> get_smaller_coin(10)\n",
    "    5\n",
    "    >>> get_smaller_coin(5)\n",
    "    1\n",
    "    >>> get_smaller_coin(2) # Other values return None\n",
    "    \"\"\"\n",
    "    if coin == 25:\n",
    "        return 10\n",
    "    elif coin == 10:\n",
    "        return 5\n",
    "    elif coin == 5:\n",
    "        return 1"
   ]
  }
 ],
 "metadata": {
  "kernelspec": {
   "display_name": "Python 3",
   "language": "python",
   "name": "python3"
  },
  "language_info": {
   "codemirror_mode": {
    "name": "ipython",
    "version": 3
   },
   "file_extension": ".py",
   "mimetype": "text/x-python",
   "name": "python",
   "nbconvert_exporter": "python",
   "pygments_lexer": "ipython3",
   "version": "3.7.11"
  }
 },
 "nbformat": 4,
 "nbformat_minor": 5
}
