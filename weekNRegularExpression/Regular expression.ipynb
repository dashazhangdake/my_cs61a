{
 "cells": [
  {
   "cell_type": "code",
   "execution_count": 8,
   "id": "a09f08ba",
   "metadata": {},
   "outputs": [],
   "source": [
    "import re"
   ]
  },
  {
   "cell_type": "markdown",
   "id": "b7f49a54",
   "metadata": {},
   "source": [
    "# 1. General re classes"
   ]
  },
  {
   "cell_type": "markdown",
   "id": "6c4b9334",
   "metadata": {},
   "source": [
    "### 1. 0. Matching exact strings & Special characters\n",
    "\n",
    "The following are special characters in regular expressions: \n",
    "```python\n",
    "    \\ ( ) [ ] { } + * ? | $ ^ .\n",
    "```\n",
    "\n",
    "* Matching a string without special character, just use string\n",
    "* Matching string with special character, use backslash for escaping: e.g. ```\\(``` to match ```(```"
   ]
  },
  {
   "cell_type": "markdown",
   "id": "b1ba73a8",
   "metadata": {},
   "source": [
    "### 1.1. The dot\n",
    "The dot ```.``` matches any single character that is not a new line:\n",
    "\n",
    "```.a.a.a``` <=> ```banana```"
   ]
  },
  {
   "cell_type": "markdown",
   "id": "3bee7591",
   "metadata": {},
   "source": []
  },
  {
   "cell_type": "markdown",
   "id": "f3c2d0ca",
   "metadata": {},
   "source": []
  },
  {
   "cell_type": "markdown",
   "id": "648a7619",
   "metadata": {},
   "source": []
  },
  {
   "cell_type": "markdown",
   "id": "ec79f9d6",
   "metadata": {},
   "source": []
  },
  {
   "cell_type": "markdown",
   "id": "de18af27",
   "metadata": {},
   "source": []
  },
  {
   "cell_type": "code",
   "execution_count": null,
   "id": "2c961b69",
   "metadata": {},
   "outputs": [],
   "source": []
  }
 ],
 "metadata": {
  "kernelspec": {
   "display_name": "Python 3 (ipykernel)",
   "language": "python",
   "name": "python3"
  },
  "language_info": {
   "codemirror_mode": {
    "name": "ipython",
    "version": 3
   },
   "file_extension": ".py",
   "mimetype": "text/x-python",
   "name": "python",
   "nbconvert_exporter": "python",
   "pygments_lexer": "ipython3",
   "version": "3.7.12"
  }
 },
 "nbformat": 4,
 "nbformat_minor": 5
}
