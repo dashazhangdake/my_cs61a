{
 "cells": [
  {
   "cell_type": "markdown",
   "id": "ee118fcf",
   "metadata": {},
   "source": [
    "# 0. Python RegEx modules"
   ]
  },
  {
   "cell_type": "code",
   "execution_count": 1,
   "id": "d5894fa1",
   "metadata": {},
   "outputs": [],
   "source": [
    "import re"
   ]
  },
  {
   "cell_type": "markdown",
   "id": "731bbae7",
   "metadata": {},
   "source": [
    "Python has an **re** module that supports regular experssions for strings\n",
    "\n",
    "**Note** Becareful of Python **Raw strings**\n",
    "Pyhton has escape characters built into string evaluation, such as the newline character\n",
    "* For example, ```\\n, \\t``` are escape charaters"
   ]
  },
  {
   "cell_type": "code",
   "execution_count": 2,
   "id": "1ca4c9ec",
   "metadata": {},
   "outputs": [
    {
     "name": "stdout",
     "output_type": "stream",
     "text": [
      "hello\n",
      "there!\n"
     ]
    }
   ],
   "source": [
    "print(\"hello\\nthere!\") # \\n for new line"
   ]
  },
  {
   "cell_type": "code",
   "execution_count": 3,
   "id": "5d071632",
   "metadata": {},
   "outputs": [
    {
     "name": "stdout",
     "output_type": "stream",
     "text": [
      "hello\tthere!\n"
     ]
    }
   ],
   "source": [
    "print(\"hello\\tthere!\") # \\t for tab"
   ]
  },
  {
   "cell_type": "markdown",
   "id": "19732360",
   "metadata": {},
   "source": [
    "However, sometimes we want to treat these as **raw strings**, then we need **```print(r\"string\")```**. Particularly, we hope to use raw strings in RegEx modules"
   ]
  },
  {
   "cell_type": "code",
   "execution_count": 4,
   "id": "240fd0bb",
   "metadata": {},
   "outputs": [
    {
     "name": "stdout",
     "output_type": "stream",
     "text": [
      "hello\\nthere!\n"
     ]
    }
   ],
   "source": [
    "print(r\"hello\\nthere!\") # using print(r\"str\") to print raw string"
   ]
  },
  {
   "cell_type": "markdown",
   "id": "984c91a0",
   "metadata": {},
   "source": [
    "## 0.1. Python match objects\n",
    "\n",
    "The **re** module has methods that attempt to match a pattern to a string - if they **find a match**, they will \n",
    "return a **Match object**, and **if they don't** they will return **None**\n",
    "\n",
    "* \n",
    "```python\n",
    "    re.search(<pattern>, <string>)\n",
    "```\n",
    "    * Returns a Match object representing the first occurence of ```<pattern>```in ```<string>```    \n",
    "    \n",
    "* \n",
    "```python\n",
    "    re.fullmatch(<pattern>, <string>)\n",
    "```\n",
    "    * Returns a Match object requiring that ```<pattern>``` **entirely match** ```<string>``` \n",
    "    \n",
    "* \n",
    "```python\n",
    "    re.match(<pattern>, <string>)\n",
    "```\n",
    "    * Returns a Match object representing that ```<string>```must start with a substring that matches ```<pattern>``` "
   ]
  },
  {
   "cell_type": "markdown",
   "id": "20f32b2e",
   "metadata": {},
   "source": [
    "The returned match object has properties and methods used to retrieve information about the search, and result\n",
    "\n",
    "* ```.span()``` returns a **tuple** containing the **start, and the end position** of the match\n",
    "* ```.string``` returns the **string** passed into the function\n",
    "* ```group()``` returns the **part of the string** where there was a **match**"
   ]
  },
  {
   "cell_type": "markdown",
   "id": "f5840a1b",
   "metadata": {},
   "source": [
    "## 0.2. Other re functions\n",
    "These are functions from **re** module that don't return a match objects\n",
    "\n",
    "* \n",
    "```python\n",
    "    re.findall(<pattern>, <string>)\n",
    "```\n",
    "    * Returns a list of all substrings with ```<pattern>``` that match ```<string>```, read from left to right   \n",
    "    \n",
    "* \n",
    "```python\n",
    "    re.sub(<pattern>, <repl>, <string>)\n",
    "```\n",
    "    * Returns a ```<string>```, but with all instances of ```<pattern>``` replaced wiht ```<repl>```"
   ]
  },
  {
   "cell_type": "markdown",
   "id": "b7f49a54",
   "metadata": {},
   "source": [
    "# 1. General RegEx Patterns"
   ]
  },
  {
   "cell_type": "markdown",
   "id": "6c4b9334",
   "metadata": {},
   "source": [
    "## 1. 0. Matching exact strings & Special characters\n",
    "\n",
    "The following are **special characters** in regular expressions: \n",
    "```python\n",
    "    \\ ( ) [ ] { } + * ? | $ ^ .\n",
    "```\n",
    "\n",
    "* Matching a string without special character, just use string\n",
    "* Matching string with **special character**, use **backslash** for **escaping**: e.g. ```\\(``` to match ```(```"
   ]
  },
  {
   "cell_type": "markdown",
   "id": "b1ba73a8",
   "metadata": {},
   "source": [
    "## 1.1. The dot\n",
    "The dot ```.``` matches **any single character** that is not a new line:\n",
    "\n",
    "```.a.a.a``` <=> ```banana```\n",
    "but cannot be matched by ```a```"
   ]
  },
  {
   "cell_type": "code",
   "execution_count": 5,
   "id": "3c722d7e",
   "metadata": {},
   "outputs": [
    {
     "name": "stdout",
     "output_type": "stream",
     "text": [
      "match str1 None\n",
      "match str2 <re.Match object; span=(0, 6), match='iakaka'>\n",
      "match str3 None\n"
     ]
    }
   ],
   "source": [
    "pattern = '.a.a.a'\n",
    "\n",
    "str1 = '!baaaa' # should not be a match\n",
    "match1 = re.match(pattern, str1)\n",
    "print(f\"match str1 {match1}\")\n",
    "\n",
    "str2 = 'iakakadsadasdsadsaferwqa' # Should be a match\n",
    "match2 = re.match(pattern, str2)\n",
    "print(f\"match str2 {match2}\")\n",
    "\n",
    "str3 = 'iiakakadsadasdsadsaferwqa' # Should not be a match\n",
    "match3 = re.match(pattern, str3)\n",
    "print(f\"match str3 {match3}\")"
   ]
  },
  {
   "cell_type": "markdown",
   "id": "f3c2d0ca",
   "metadata": {},
   "source": [
    "## 1.2. Character classes\n",
    "Character classes match **any** of a **set of characters** - **one instance of character class** will match **exactly one** character\n",
    "\n",
    "```[ab]c[ab]c``` <=> ```bcac```\n",
    "\n",
    "* ```[a-z]``` means the corresponding character can be **anything** between a and z\n",
    "* ```[0-9]```means the corresponding character can be **anything** between 0 and 9"
   ]
  },
  {
   "cell_type": "markdown",
   "id": "648a7619",
   "metadata": {},
   "source": [
    "### 1.2.a. Notes: Shorthands for common character classes\n",
    "\n",
    "| Shorthands| Explanation |\n",
    "| --- | --- |\n",
    "| ```.``` | Matches **ANY** non-newline character |\n",
    "| ```[^]``` | Matches **ANY** character except what ever comes after ```^```|\n",
    "| ```\\d``` | Matches **digits**, equivalent to ```[0-9]``` |\n",
    "| ```\\D``` | Matches any **NON-digits**, opposite of ```\\d```, shortcuts below also have opposites|\n",
    "| ```\\w``` | Matches **ANY word characters**, equivalent to ```[A-Za-z0-9_]``` (*opposite of ```\\W```*)|\n",
    "| ```\\s``` | Matches **white space characters** (spaces, tabs, linebreaks), (*opposite of ```\\S```*) |"
   ]
  },
  {
   "cell_type": "markdown",
   "id": "ec79f9d6",
   "metadata": {},
   "source": [
    "### 1.2.b. Examples\n",
    "#### Example 1\n",
    "```\"[^a-h]ef\"```, the last two chars have to be ```\"ef\"```. But the first character can only be chars that are not in the range of ```[a-h]```"
   ]
  },
  {
   "cell_type": "code",
   "execution_count": 6,
   "id": "84b296b8",
   "metadata": {},
   "outputs": [
    {
     "name": "stdout",
     "output_type": "stream",
     "text": [
      "match str1 <re.Match object; span=(0, 3), match='9ef'>\n",
      "match str1 None\n",
      "match str1 <re.Match object; span=(0, 3), match='kef'>\n"
     ]
    }
   ],
   "source": [
    "pattern = \"[^a-h]ef\"\n",
    "str1 = \"9ef\" # should match, as 9 is out of [a-h]\n",
    "match1 = re.match(pattern, str1)\n",
    "print(f\"match str1 {match1}\")\n",
    "\n",
    "pattern = \"[^a-h]ef\"\n",
    "str2 = \"hef\" # should not match, as h is in the range of [a-h]\n",
    "match2 = re.match(pattern, str2)\n",
    "print(f\"match str1 {match2}\")\n",
    "\n",
    "pattern = \"[^a-h]ef\"\n",
    "str3 = \"kef\" # should match, as k is out of [a-h]\n",
    "match3 = re.match(pattern, str3)\n",
    "print(f\"match str1 {match3}\")"
   ]
  },
  {
   "cell_type": "markdown",
   "id": "de18af27",
   "metadata": {},
   "source": [
    "#### Example 2\n",
    "```\\(\\d\\d\\d\\) \\d\\d\\d-\\d\\d\\d\\d``` should only match a series of digits: (NNN) NNN-NNNN"
   ]
  },
  {
   "cell_type": "code",
   "execution_count": 7,
   "id": "2c961b69",
   "metadata": {},
   "outputs": [
    {
     "name": "stdout",
     "output_type": "stream",
     "text": [
      "match str1 <re.Match object; span=(0, 14), match='(615) 839-7368'>\n",
      "match str1 None\n"
     ]
    }
   ],
   "source": [
    "pattern = \"\\(\\d\\d\\d\\) \\d\\d\\d-\\d\\d\\d\\d\"\n",
    "str1 = \"(615) 839-7368\" # should match, as str1 is an exact match\n",
    "match1 = re.match(pattern, str1)\n",
    "print(f\"match str1 {match1}\")\n",
    "\n",
    "pattern = \"\\(\\d\\d\\d\\) \\d\\d\\d-\\d\\d\\d\\d\"\n",
    "str2 = \"(615)-839-7368\" # should match, as str1 is an illegal match\n",
    "match2 = re.match(pattern, str2)\n",
    "print(f\"match str1 {match2}\")"
   ]
  },
  {
   "cell_type": "markdown",
   "id": "0381f327",
   "metadata": {},
   "source": [
    "## 1.3. Quatifiers\n",
    "Quantifiers allow us to specify multiple occurences of the **same charcter or character class**\n",
    "\n",
    "| Quantifiers | Explanation |\n",
    "| --- | --- |\n",
    "| ```a*``` | **zero or more** occurences of ```a``` |\n",
    "| ```a+``` | **one or more** occurences of ```a```|\n",
    "| ```a?``` | **zero or one** occurences of ```a``` |\n",
    "| ```a{2}``` | **Exactly 2** occurences of ```a```|\n",
    "| ```a{2, 6}``` | **2 ~ 6** occurences (including 2 and 6) of ```a```|\n",
    "| ```a{2, }``` | **At least 2** occurences of ```a```|"
   ]
  },
  {
   "cell_type": "markdown",
   "id": "cb578853",
   "metadata": {},
   "source": [
    "### 1.3.a. Examples\n",
    "#### Example 1\n",
    "```a*b```, asks for zero or more occurence of ```a```, i.e. As long as a is not something else occupying that slot, everything should be fine. "
   ]
  },
  {
   "cell_type": "code",
   "execution_count": 8,
   "id": "62f70ebf",
   "metadata": {},
   "outputs": [
    {
     "name": "stdout",
     "output_type": "stream",
     "text": [
      "match str1 <re.Match object; span=(0, 1), match='B'>\n",
      "match str1 None\n",
      "match str1 <re.Match object; span=(0, 5), match='AAAAB'>\n"
     ]
    }
   ],
   "source": [
    "pattern = \"A*B\"\n",
    "str1 = \"B\" # should match, as the place of A is not occupied\n",
    "match1 = re.match(pattern, str1)\n",
    "print(f\"match str1 {match1}\")\n",
    "\n",
    "pattern = \"A*B\"\n",
    "str2 = \"CB\" # should not match, as the place of A is taken by C\n",
    "match2 = re.match(pattern, str2)\n",
    "print(f\"match str1 {match2}\")\n",
    "\n",
    "pattern = \"A*B\"\n",
    "str3 = \"AAAAB\" # should match, as the place of A is taken by several occurence of A s\n",
    "match3 = re.match(pattern, str3)\n",
    "print(f\"match str1 {match3}\")"
   ]
  },
  {
   "cell_type": "markdown",
   "id": "d8dc9b27",
   "metadata": {},
   "source": [
    "### Example 2\n",
    "```a+b```, asks for ```a``` appear for at least once. Comparing with the last case, ```_b```\n",
    "is not acceptable anymore"
   ]
  },
  {
   "cell_type": "code",
   "execution_count": 9,
   "id": "2bb5da95",
   "metadata": {},
   "outputs": [
    {
     "name": "stdout",
     "output_type": "stream",
     "text": [
      "match str1 None\n",
      "match str1 None\n",
      "match str1 <re.Match object; span=(0, 4), match='aaaB'>\n"
     ]
    }
   ],
   "source": [
    "pattern = \"a+B\"\n",
    "str1 = \"B\" # should not match, as the a has be appear for at least once\n",
    "match1 = re.match(pattern, str1)\n",
    "print(f\"match str1 {match1}\")\n",
    "\n",
    "pattern = \"a+B\"\n",
    "str2 = \"AaaaB\" # should not match, as the place of a is taken by AaaaB, A doesn't match\n",
    "match2 = re.match(pattern, str2)\n",
    "print(f\"match str1 {match2}\")\n",
    "\n",
    "pattern = \"a+B\"\n",
    "str3 = \"aaaB\" # should match, as the place of a us \n",
    "match3 = re.match(pattern, str3)\n",
    "print(f\"match str1 {match3}\")"
   ]
  },
  {
   "cell_type": "markdown",
   "id": "5ef8c95a",
   "metadata": {},
   "source": [
    "### Example 3\n",
    "```\\(\\d{3}\\) \\d{3}-\\d{4}``` expects to see the pattern: ```(3digits) 3digits-4digits```"
   ]
  },
  {
   "cell_type": "code",
   "execution_count": 10,
   "id": "b858edc2",
   "metadata": {},
   "outputs": [
    {
     "name": "stdout",
     "output_type": "stream",
     "text": [
      "match str1 <re.Match object; span=(0, 14), match='(615) 839-7368'>\n",
      "match str1 None\n"
     ]
    }
   ],
   "source": [
    "pattern = \"\\(\\d{3}\\) \\d{3}-\\d{4}\"\n",
    "str1 = \"(615) 839-7368\" # should match, as str1 is an exact match\n",
    "match1 = re.match(pattern, str1)\n",
    "print(f\"match str1 {match1}\")\n",
    "\n",
    "pattern = \"\\(\\d{3}\\) \\d{3}-\\d{4}\"\n",
    "str2 = \"(615)-839-7368\" # should match, as str1 is an illegal match\n",
    "match2 = re.match(pattern, str2)\n",
    "print(f\"match str1 {match2}\")"
   ]
  },
  {
   "cell_type": "markdown",
   "id": "3bce1adb",
   "metadata": {},
   "source": [
    "## 1.4. Combining Patterns ?\n",
    "The pipe ```|``` operator matches either the expresion on its left or its right, but **not both**"
   ]
  },
  {
   "cell_type": "code",
   "execution_count": 11,
   "id": "6d17f815",
   "metadata": {},
   "outputs": [
    {
     "name": "stdout",
     "output_type": "stream",
     "text": [
      "match str1 <re.Match object; span=(0, 3), match='798'>\n"
     ]
    }
   ],
   "source": [
    "pattern = \"\\d+|Inf\"\n",
    "str1 = \"798\" # LHS\n",
    "match1 = re.fullmatch(pattern, str1)\n",
    "print(f\"match str1 {match1}\")"
   ]
  },
  {
   "cell_type": "code",
   "execution_count": 12,
   "id": "6c23d5a6",
   "metadata": {},
   "outputs": [
    {
     "name": "stdout",
     "output_type": "stream",
     "text": [
      "match str1 <re.Match object; span=(0, 3), match='Inf'>\n"
     ]
    }
   ],
   "source": [
    "pattern = \"\\d+|Inf\"\n",
    "str1 = \"Inf\" # should match, RHS\n",
    "match1 = re.fullmatch(pattern, str1)\n",
    "print(f\"match str1 {match1}\")"
   ]
  },
  {
   "cell_type": "code",
   "execution_count": 13,
   "id": "3904e6df",
   "metadata": {},
   "outputs": [
    {
     "name": "stdout",
     "output_type": "stream",
     "text": [
      "match str1 None\n"
     ]
    }
   ],
   "source": [
    "pattern = \"\\d+|Inf\"\n",
    "str1 = \"798Inf\" # should match, RHS\n",
    "match1 = re.fullmatch(pattern, str1)\n",
    "print(f\"match str1 {match1}\")"
   ]
  },
  {
   "cell_type": "markdown",
   "id": "5a62c09d",
   "metadata": {},
   "source": [
    "#### 1.4.1. Using parentheses to group expressions"
   ]
  },
  {
   "cell_type": "code",
   "execution_count": 14,
   "id": "854c4922",
   "metadata": {},
   "outputs": [
    {
     "name": "stdout",
     "output_type": "stream",
     "text": [
      "match str1 <re.Match object; span=(0, 6), match='>3>3>3'>\n"
     ]
    }
   ],
   "source": [
    "pattern = \"(>3)+\"\n",
    "str1 = \">3>3>3\" # should match, RHS\n",
    "match1 = re.fullmatch(pattern, str1)\n",
    "print(f\"match str1 {match1}\")"
   ]
  },
  {
   "cell_type": "code",
   "execution_count": 15,
   "id": "6db1bfff",
   "metadata": {},
   "outputs": [
    {
     "name": "stdout",
     "output_type": "stream",
     "text": [
      "match str1 None\n"
     ]
    }
   ],
   "source": [
    "pattern = \"(>3)+\"\n",
    "str1 = \">3>3<3\" # should match, RHS\n",
    "match1 = re.fullmatch(pattern, str1)\n",
    "print(f\"match str1 {match1}\")"
   ]
  },
  {
   "cell_type": "markdown",
   "id": "e46209d3",
   "metadata": {},
   "source": [
    "## 1.5. Anchors\n",
    "Anchors are **unique** in that they **don't match characters** - instead, they **match positions** in a string where an expression could land\n",
    "\n",
    "| Anchors | Explanation |\n",
    "| --- | --- |\n",
    "| ```^``` | matches the **beginning** of a string |\n",
    "| ```$``` | matches the **end** of a string|\n",
    "| ```\\b``` | matches the **word boundary** (whitespace, punctuation)|"
   ]
  },
  {
   "cell_type": "markdown",
   "id": "1f72b2e9",
   "metadata": {},
   "source": [
    "### 1.5.1. Anchor Examples\n",
    "#### Example.1. ```^``` match the beginning"
   ]
  },
  {
   "cell_type": "code",
   "execution_count": 16,
   "id": "082ccb11",
   "metadata": {},
   "outputs": [
    {
     "name": "stdout",
     "output_type": "stream",
     "text": [
      "match str1 None\n"
     ]
    }
   ],
   "source": [
    "pattern = \"^aw*\"\n",
    "str1 = \" aww\" # should not match, ^ is not the beginning of the string\n",
    "match1 = re.fullmatch(pattern, str1)\n",
    "print(f\"match str1 {match1}\")"
   ]
  },
  {
   "cell_type": "code",
   "execution_count": 17,
   "id": "25c3d164",
   "metadata": {},
   "outputs": [
    {
     "name": "stdout",
     "output_type": "stream",
     "text": [
      "match str1 <re.Match object; span=(0, 2), match='aw'>\n"
     ]
    }
   ],
   "source": [
    "pattern = \"^aw?\"\n",
    "str1 = \"aw\" # should not match, ^ is the start of the string\n",
    "match1 = re.fullmatch(pattern, str1)\n",
    "print(f\"match str1 {match1}\")"
   ]
  },
  {
   "cell_type": "markdown",
   "id": "843996c0",
   "metadata": {},
   "source": [
    "#### Example.2. ```$``` match the end"
   ]
  },
  {
   "cell_type": "code",
   "execution_count": 18,
   "id": "4c91ded8",
   "metadata": {},
   "outputs": [
    {
     "name": "stdout",
     "output_type": "stream",
     "text": [
      "match str1 <re.Match object; span=(0, 4), match='away'>\n"
     ]
    }
   ],
   "source": [
    "pattern = \"\\w+y$\"\n",
    "str1 = \"away\" # should match, y is immediately followed by the end of string\n",
    "match1 = re.fullmatch(pattern, str1)\n",
    "print(f\"match str1 {match1}\")"
   ]
  },
  {
   "cell_type": "code",
   "execution_count": 19,
   "id": "b31c374c",
   "metadata": {},
   "outputs": [
    {
     "name": "stdout",
     "output_type": "stream",
     "text": [
      "match str1 None\n"
     ]
    }
   ],
   "source": [
    "pattern = \"\\w+y$\"\n",
    "str1 = \"away \" # should not match, y is not immediately followed by the end of string\n",
    "match1 = re.fullmatch(pattern, str1)\n",
    "print(f\"match str1 {match1}\")"
   ]
  },
  {
   "cell_type": "markdown",
   "id": "2a200c94",
   "metadata": {},
   "source": [
    "#### Example.3. ```\\b``` match the boundary. FAIL to test? <= DO NOT FORGET USING RAW string "
   ]
  },
  {
   "cell_type": "code",
   "execution_count": 20,
   "id": "e3cdc2e4",
   "metadata": {},
   "outputs": [
    {
     "name": "stdout",
     "output_type": "stream",
     "text": [
      "match str1 None\n"
     ]
    }
   ],
   "source": [
    "pattern = r\"\\w+e\\b\"\n",
    "str1 = \"bridge \" # should match, y is immediately followed by the end of string\n",
    "match1 = re.fullmatch(pattern, str1)\n",
    "print(f\"match str1 {match1}\")"
   ]
  },
  {
   "cell_type": "markdown",
   "id": "60722924",
   "metadata": {},
   "source": [
    "# 2. Using Python re modules\n",
    "## 2.1. Easier Usages"
   ]
  },
  {
   "cell_type": "markdown",
   "id": "da656752",
   "metadata": {},
   "source": [
    "**```re``` methods**\n",
    "* \n",
    "```python\n",
    "    re.search(<pattern>, <string>)\n",
    "```\n",
    "    * Returns a Match object representing the first occurence of ```<pattern>```in ```<string>```    \n",
    "    \n",
    "* \n",
    "```python\n",
    "    re.fullmatch(<pattern>, <string>)\n",
    "```\n",
    "    * Returns a Match object requiring that ```<pattern>``` **entirely match** ```<string>``` \n",
    "    \n",
    "* \n",
    "```python\n",
    "    re.match(<pattern>, <string>)\n",
    "```\n",
    "    * Returns a Match object representing that ```<string>```must start with a substring that matches ```<pattern>``` \n",
    "    \n",
    "**Attributes of ```re.Match``` object**\n",
    "* ```.span()``` returns a **tuple** containing the **start, and the end position** of the match\n",
    "* ```.string``` returns the **string** passed into the function\n",
    "* ```group()``` returns the **part of the string** where there was a **match**"
   ]
  },
  {
   "cell_type": "code",
   "execution_count": 21,
   "id": "6bc16bd3",
   "metadata": {},
   "outputs": [
    {
     "name": "stdout",
     "output_type": "stream",
     "text": [
      "<re.Match object; span=(21, 23), match='35'>\n"
     ]
    }
   ],
   "source": [
    "x = \"This string contains 35 characters.\"\n",
    "match = re.search(r'\\d+', x) # Trying to find number with any digits\n",
    "print(match)"
   ]
  },
  {
   "cell_type": "code",
   "execution_count": 22,
   "id": "01738433",
   "metadata": {},
   "outputs": [
    {
     "name": "stdout",
     "output_type": "stream",
     "text": [
      "35\n"
     ]
    }
   ],
   "source": [
    "print(x[match.span()[0]: match.span()[1]]) # Print that number using match.span()"
   ]
  },
  {
   "cell_type": "code",
   "execution_count": 23,
   "id": "787f2fc9",
   "metadata": {},
   "outputs": [
    {
     "data": {
      "text/plain": [
       "'35'"
      ]
     },
     "execution_count": 23,
     "metadata": {},
     "output_type": "execute_result"
    }
   ],
   "source": [
    "match.group(0)"
   ]
  },
  {
   "cell_type": "code",
   "execution_count": 24,
   "id": "1e06c702",
   "metadata": {},
   "outputs": [
    {
     "name": "stdout",
     "output_type": "stream",
     "text": [
      "None\n"
     ]
    }
   ],
   "source": [
    "match2 = re.search(r'\\d{3, }', x) # Trying to find a number with 3 or more than 3 consecutive digits\n",
    "print(match2)"
   ]
  },
  {
   "cell_type": "markdown",
   "id": "2360e310",
   "metadata": {},
   "source": [
    "## 2.2. Using capturing groups\n",
    "When use parentheses to group sub expressions, they define **capture groups** that we can then access individually"
   ]
  },
  {
   "cell_type": "code",
   "execution_count": 25,
   "id": "6ba2693d",
   "metadata": {},
   "outputs": [],
   "source": [
    "x = \"There were 12 pence in a shilling and 20 shillings in a pound.\"\n",
    "mat = re.search(r'(\\d+) [a-z\\s]+ (\\d+)', x) # Find two numbers that a seperated by [string\\s]"
   ]
  },
  {
   "cell_type": "code",
   "execution_count": 26,
   "id": "c1532337",
   "metadata": {},
   "outputs": [
    {
     "name": "stdout",
     "output_type": "stream",
     "text": [
      "<re.Match object; span=(11, 40), match='12 pence in a shilling and 20'>\n"
     ]
    }
   ],
   "source": [
    "print(mat)"
   ]
  },
  {
   "cell_type": "code",
   "execution_count": 27,
   "id": "8a76e42f",
   "metadata": {},
   "outputs": [
    {
     "name": "stdout",
     "output_type": "stream",
     "text": [
      "12 pence in a shilling and 20\n"
     ]
    }
   ],
   "source": [
    "print(mat.group())"
   ]
  },
  {
   "cell_type": "code",
   "execution_count": 28,
   "id": "f362b363",
   "metadata": {},
   "outputs": [
    {
     "data": {
      "text/plain": [
       "'12 pence in a shilling and 20'"
      ]
     },
     "execution_count": 28,
     "metadata": {},
     "output_type": "execute_result"
    }
   ],
   "source": [
    "mat.group(0)"
   ]
  },
  {
   "cell_type": "code",
   "execution_count": 29,
   "id": "38925cde",
   "metadata": {},
   "outputs": [
    {
     "data": {
      "text/plain": [
       "'12'"
      ]
     },
     "execution_count": 29,
     "metadata": {},
     "output_type": "execute_result"
    }
   ],
   "source": [
    "mat.group(1)"
   ]
  },
  {
   "cell_type": "code",
   "execution_count": 30,
   "id": "01056eca",
   "metadata": {},
   "outputs": [
    {
     "data": {
      "text/plain": [
       "'20'"
      ]
     },
     "execution_count": 30,
     "metadata": {},
     "output_type": "execute_result"
    }
   ],
   "source": [
    "mat.group(2)"
   ]
  },
  {
   "cell_type": "code",
   "execution_count": 31,
   "id": "bd4a637d",
   "metadata": {},
   "outputs": [
    {
     "data": {
      "text/plain": [
       "('12', '20')"
      ]
     },
     "execution_count": 31,
     "metadata": {},
     "output_type": "execute_result"
    }
   ],
   "source": [
    "mat.groups()"
   ]
  },
  {
   "cell_type": "markdown",
   "id": "a55d6711",
   "metadata": {},
   "source": [
    "##  2.3. Other re functions\n",
    "These are functions from **re** module that don't return a match objects\n",
    "\n",
    "* \n",
    "```python\n",
    "    re.findall(<pattern>, <string>)\n",
    "```\n",
    "    * Returns a **list** of **all substrings** with ```<pattern>``` that match ```<string>```, read from left to right   \n",
    "    \n",
    "* \n",
    "```python\n",
    "    re.sub(<pattern>, <repl>, <string>)\n",
    "```\n",
    "\n",
    "* Returns a ```<string>```, but with all instances of ```<pattern>``` replaced with ```<repl>```"
   ]
  },
  {
   "cell_type": "code",
   "execution_count": 32,
   "id": "79b3b25e",
   "metadata": {},
   "outputs": [],
   "source": [
    "all_mat = re.findall(r'\\d+', x)"
   ]
  },
  {
   "cell_type": "code",
   "execution_count": 33,
   "id": "5e821050",
   "metadata": {},
   "outputs": [],
   "source": [
    "all_mat = re.sub(r'\\d+', str(66),  x)"
   ]
  },
  {
   "cell_type": "markdown",
   "id": "011604fe",
   "metadata": {},
   "source": [
    "**Seems that The replacement is not conducted in-place**"
   ]
  },
  {
   "cell_type": "code",
   "execution_count": 34,
   "id": "4baedbb6",
   "metadata": {},
   "outputs": [
    {
     "name": "stdout",
     "output_type": "stream",
     "text": [
      "There were 66 pence in a shilling and 66 shillings in a pound.\n"
     ]
    }
   ],
   "source": [
    "print(all_mat)"
   ]
  },
  {
   "cell_type": "code",
   "execution_count": 35,
   "id": "3e5fef1a",
   "metadata": {},
   "outputs": [
    {
     "name": "stdout",
     "output_type": "stream",
     "text": [
      "There were 12 pence in a shilling and 20 shillings in a pound.\n"
     ]
    }
   ],
   "source": [
    "print(x)"
   ]
  },
  {
   "cell_type": "markdown",
   "id": "c01bead3",
   "metadata": {},
   "source": [
    "# 3. Real-world examples\n",
    "## 3.1. Trimming the trailing space of every line\n",
    "\n",
    "We want to trim the trailing spaces in a txt file looks like:\n",
    "```\n",
    "this lin,,,...e with spaces            \n",
    "This line wi     th spaces      \n",
    "this lingfdgde with spac     es            \n",
    "This line with  spaces  this line with spaces            \n",
    "This line with spaces        \n",
    "this line with s326paces               \n",
    "This li   ne w,,,ith spaces  this line with spaces            \n",
    "This line w   ith spaces  \n",
    "```"
   ]
  },
  {
   "cell_type": "code",
   "execution_count": 37,
   "id": "b67f9b21",
   "metadata": {},
   "outputs": [],
   "source": [
    "import re\n",
    "\n",
    "filein = open('example.txt', 'r')\n",
    "lines = filein.readlines()\n",
    "lines = [re.sub(r'\\s+$', '', l) for l in lines] # Search consecutive space followed by end of string, \n",
    "# and replace that string with ''\n",
    "out_f = open('fixed.txt', 'w')\n",
    "out_f.writelines(['\\n' + l for l in lines])\n",
    "filein.close()\n",
    "out_f.close()"
   ]
  },
  {
   "cell_type": "markdown",
   "id": "6257ca8a",
   "metadata": {},
   "source": [
    "## 3.2. Batch Processing Files\n",
    "\n",
    "In my most recent research work, I need to parse a lot of GPU FI results for ploting and analysis. The FI result statistics has the following name format:\n",
    "```\n",
    "vectorAdd1024_1_1.csv\n",
    "vectorAdd6188_1024_4.csv\n",
    "vectorAdd16566_256_16.csv\n",
    "```\n",
    "Which means:\n",
    "```<Benchmarkname><InputSize>_<BlockSize>_<GridSize>.csv```\n",
    "Let's parse the filename to a dictionary"
   ]
  },
  {
   "cell_type": "code",
   "execution_count": 80,
   "id": "4c62064a",
   "metadata": {},
   "outputs": [],
   "source": [
    "import glob\n",
    "import re\n",
    "import sys, os"
   ]
  },
  {
   "cell_type": "code",
   "execution_count": 81,
   "id": "e49d1e81",
   "metadata": {},
   "outputs": [],
   "source": [
    "result_files = [os.path.basename(x) for x in glob.glob(\"./CUDA_vectorAdd_traces/*.csv\")]"
   ]
  },
  {
   "cell_type": "code",
   "execution_count": 82,
   "id": "dff22b10",
   "metadata": {},
   "outputs": [
    {
     "name": "stdout",
     "output_type": "stream",
     "text": [
      "['vectorAdd102488_1024_16.csv', 'vectorAdd1024_1_1.csv', 'vectorSub6188_256_16.csv']\n"
     ]
    }
   ],
   "source": [
    "print(result_files)"
   ]
  },
  {
   "cell_type": "code",
   "execution_count": 88,
   "id": "3655834f",
   "metadata": {},
   "outputs": [],
   "source": [
    "res = {'benchmarkname': [],\n",
    "       'problemsize': [],\n",
    "       'blockSize': [],\n",
    "       'gridSize': []\n",
    "      }\n",
    "for fname in result_files:\n",
    "    mat = re.match(r\"(\\w+)(\\d+)_(\\d+)_(\\d+)\\.csv\", fname) # The file name is well formatted, simply using re\n",
    "    # to find the value of a string, and 3 numbers\n",
    "    assert mat is not None, \"Must match file format\"\n",
    "    benchmarkname, problemsize, blockSize, gridSize = mat.groups()\n",
    "    res['benchmarkname'].append(benchmarkname)\n",
    "    res['problemsize'].append(problemsize)\n",
    "    res['blockSize'].append(blockSize)\n",
    "    res['gridSize'].append(gridSize)"
   ]
  },
  {
   "cell_type": "code",
   "execution_count": 89,
   "id": "0323447c",
   "metadata": {},
   "outputs": [
    {
     "name": "stdout",
     "output_type": "stream",
     "text": [
      "{'benchmarkname': ['vectorAdd10248', 'vectorAdd102', 'vectorSub618'], 'problemsize': ['8', '4', '8'], 'blockSize': ['1024', '1', '256'], 'gridSize': ['16', '1', '16']}\n"
     ]
    }
   ],
   "source": [
    "print(res)"
   ]
  }
 ],
 "metadata": {
  "kernelspec": {
   "display_name": "Python 3 (ipykernel)",
   "language": "python",
   "name": "python3"
  },
  "language_info": {
   "codemirror_mode": {
    "name": "ipython",
    "version": 3
   },
   "file_extension": ".py",
   "mimetype": "text/x-python",
   "name": "python",
   "nbconvert_exporter": "python",
   "pygments_lexer": "ipython3",
   "version": "3.7.12"
  }
 },
 "nbformat": 4,
 "nbformat_minor": 5
}
