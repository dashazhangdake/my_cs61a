{
 "cells": [
  {
   "cell_type": "markdown",
   "id": "36546fae",
   "metadata": {},
   "source": [
    "# 1. Objects\n",
    "\n",
    "An **object** is a bundle of data and behavior\n",
    "\n",
    "A type of object is called a **class**\n",
    "\n",
    "Every value in Python is an object\n",
    "* All objects have attributes\n",
    "* Objects often have associated methods"
   ]
  },
  {
   "cell_type": "code",
   "execution_count": 1,
   "id": "2a0a9e01",
   "metadata": {},
   "outputs": [
    {
     "data": {
      "text/plain": [
       "str"
      ]
     },
     "execution_count": 1,
     "metadata": {},
     "output_type": "execute_result"
    }
   ],
   "source": [
    "a = '12312'\n",
    "type(a)"
   ]
  },
  {
   "cell_type": "markdown",
   "id": "38b8c79b",
   "metadata": {},
   "source": [
    "# 2. List Mutations\n",
    "## 2.1. Mutating lists with methods\n",
    "\n",
    "```append()``` adds a single element to a lsit"
   ]
  },
  {
   "cell_type": "code",
   "execution_count": 2,
   "id": "5ee6dda1",
   "metadata": {},
   "outputs": [
    {
     "name": "stdout",
     "output_type": "stream",
     "text": [
      "[2, 3, 4, [5, 6]]\n"
     ]
    }
   ],
   "source": [
    "s = [2, 3]\n",
    "t = [5, 6]\n",
    "s.append(4)\n",
    "s.append(t)\n",
    "t = 0\n",
    "print(s)"
   ]
  },
  {
   "cell_type": "markdown",
   "id": "9319e0e3",
   "metadata": {},
   "source": [
    "```extend()``` adds all elements in one list to a list"
   ]
  },
  {
   "cell_type": "code",
   "execution_count": 3,
   "id": "27ea85f6",
   "metadata": {},
   "outputs": [
    {
     "name": "stdout",
     "output_type": "stream",
     "text": [
      "[2, 3, 5, 6]\n"
     ]
    }
   ],
   "source": [
    "s = [2, 3]\n",
    "t = [5, 6]\n",
    "# s.extend(4) # 🚫 Error: 4 is not an iterable!\n",
    "s.extend(t)\n",
    "t = 0\n",
    "print(s)"
   ]
  },
  {
   "cell_type": "markdown",
   "id": "72260f94",
   "metadata": {},
   "source": [
    "```pop()``` removes and returns the last element"
   ]
  },
  {
   "cell_type": "code",
   "execution_count": 4,
   "id": "5a9947a1",
   "metadata": {},
   "outputs": [
    {
     "name": "stdout",
     "output_type": "stream",
     "text": [
      "3\n",
      "[2]\n"
     ]
    }
   ],
   "source": [
    "s = [2, 3]\n",
    "t = [5, 6]\n",
    "t = s.pop()\n",
    "print(t)\n",
    "print(s)"
   ]
  },
  {
   "cell_type": "markdown",
   "id": "9d307301",
   "metadata": {},
   "source": [
    "```remove()``` removes the **first** element **equal** to the argument"
   ]
  },
  {
   "cell_type": "code",
   "execution_count": 5,
   "id": "65a9f015",
   "metadata": {},
   "outputs": [],
   "source": [
    "s = [2, 3, 4, 5, 6, 7]\n",
    "s.remove(4)"
   ]
  },
  {
   "cell_type": "markdown",
   "id": "e89a6771",
   "metadata": {},
   "source": [
    "## 2.2. Mutating list with slicing\n",
    "Muatation is also possible if we just use brackets/slice notations"
   ]
  },
  {
   "cell_type": "code",
   "execution_count": 6,
   "id": "7dc09bd4",
   "metadata": {},
   "outputs": [
    {
     "name": "stdout",
     "output_type": "stream",
     "text": [
      "[1, 2, 6, 4, 5]\n",
      "[1, 9, 8, 4, 5]\n"
     ]
    }
   ],
   "source": [
    "# Change elements\n",
    "L = [1, 2, 3, 4, 5]\n",
    "L[2] = 6\n",
    "print(L)\n",
    "L[1:3] = [9, 8]\n",
    "print(L)"
   ]
  },
  {
   "cell_type": "markdown",
   "id": "f1b3dcd6",
   "metadata": {},
   "source": [
    "**Delete** elements with slcing or bracket"
   ]
  },
  {
   "cell_type": "code",
   "execution_count": 7,
   "id": "705aa258",
   "metadata": {},
   "outputs": [
    {
     "name": "stdout",
     "output_type": "stream",
     "text": [
      "[1, 9, 4, 5]\n",
      "[4, 5]\n"
     ]
    }
   ],
   "source": [
    "L[2:3] = [] # remove L[2]\n",
    "print(L)\n",
    "L[0:2] = [] # remove new L[0, 2]\n",
    "print(L)"
   ]
  },
  {
   "cell_type": "markdown",
   "id": "69986713",
   "metadata": {},
   "source": [
    "**Append** elements with slicing or \"concatenation:"
   ]
  },
  {
   "cell_type": "code",
   "execution_count": 8,
   "id": "76f9c054",
   "metadata": {},
   "outputs": [
    {
     "name": "stdout",
     "output_type": "stream",
     "text": [
      "[4, 5, 11, 12]\n",
      "[4, 5, 11, 12, 13, 14]\n"
     ]
    }
   ],
   "source": [
    "L[len(L):] = [11, 12]\n",
    "print(L)\n",
    "L = L + [13, 14]\n",
    "print(L)"
   ]
  },
  {
   "cell_type": "markdown",
   "id": "8845f59a",
   "metadata": {},
   "source": [
    "**Insert** elements"
   ]
  },
  {
   "cell_type": "code",
   "execution_count": 9,
   "id": "b296a343",
   "metadata": {},
   "outputs": [
    {
     "name": "stdout",
     "output_type": "stream",
     "text": [
      "[4, 5, 0, 0, 0, 11, 12, 13, 14]\n",
      "[4, 5, 0, 0, 'a', 'a', 0, 11, 12, 13, 14]\n"
     ]
    }
   ],
   "source": [
    "L[2:2] = [0, 0, 0]\n",
    "print(L)\n",
    "L[4:4] = ['a', 'a']\n",
    "print(L)"
   ]
  },
  {
   "cell_type": "markdown",
   "id": "cb5b9b94",
   "metadata": {},
   "source": [
    "**Prepending, i.e. Inserting at the beginning of the iterable**"
   ]
  },
  {
   "cell_type": "code",
   "execution_count": 10,
   "id": "fbf723a8",
   "metadata": {},
   "outputs": [
    {
     "name": "stdout",
     "output_type": "stream",
     "text": [
      "[1, 1, 1, 4, 5, 0, 0, 'a', 'a', 0, 11, 12, 13, 14]\n"
     ]
    }
   ],
   "source": [
    "L[0:0] = [1, 1, 1]\n",
    "print(L)"
   ]
  },
  {
   "cell_type": "markdown",
   "id": "5d79d107",
   "metadata": {},
   "source": [
    "# 3. Dictionary mutation"
   ]
  },
  {
   "cell_type": "code",
   "execution_count": 11,
   "id": "eece9830",
   "metadata": {},
   "outputs": [
    {
     "name": "stdout",
     "output_type": "stream",
     "text": [
      "{'king': 'trololo'}\n"
     ]
    }
   ],
   "source": [
    "# Start with an empty dict\n",
    "users = {}\n",
    "users['king'] = \"trololo\"\n",
    "print(users)"
   ]
  },
  {
   "cell_type": "code",
   "execution_count": 12,
   "id": "d3633045",
   "metadata": {},
   "outputs": [
    {
     "name": "stdout",
     "output_type": "stream",
     "text": [
      "{'king': 'trololobadass'}\n"
     ]
    }
   ],
   "source": [
    "# Change values:\n",
    "users[\"king\"] += \"badass\"\n",
    "print(users)"
   ]
  },
  {
   "cell_type": "markdown",
   "id": "302113eb",
   "metadata": {},
   "source": [
    "# 4. Tuples\n",
    "A tuple is an immutable sequence. It acts like a list, but no mutation is allowed\n",
    "## 4.1. Initialize tuple"
   ]
  },
  {
   "cell_type": "code",
   "execution_count": 13,
   "id": "9c8f55a9",
   "metadata": {},
   "outputs": [],
   "source": [
    "empty = () # an empty tuple\n",
    "conditions = ('rain', 'shine') # a regular tuple"
   ]
  },
  {
   "cell_type": "markdown",
   "id": "088e183d",
   "metadata": {},
   "source": [
    "A tuple with a single element: To avoid ambiguation with plain variable"
   ]
  },
  {
   "cell_type": "code",
   "execution_count": 14,
   "id": "3929dd68",
   "metadata": {},
   "outputs": [
    {
     "name": "stdout",
     "output_type": "stream",
     "text": [
      "(61,)\n"
     ]
    }
   ],
   "source": [
    "strange = (61,)\n",
    "print(strange)"
   ]
  },
  {
   "cell_type": "markdown",
   "id": "337a70f6",
   "metadata": {},
   "source": [
    "## 4.2. Tuple Operations\n",
    "Many of ```list's``` read-only operations also works on ```tuples```"
   ]
  },
  {
   "cell_type": "markdown",
   "id": "f4373026",
   "metadata": {},
   "source": [
    "Combining tuples into a new tuple using concatenation"
   ]
  },
  {
   "cell_type": "code",
   "execution_count": 15,
   "id": "7895e9c1",
   "metadata": {},
   "outputs": [
    {
     "data": {
      "text/plain": [
       "('come', '☂', 'or', '☼')"
      ]
     },
     "execution_count": 15,
     "metadata": {},
     "output_type": "execute_result"
    }
   ],
   "source": [
    "('come', '☂') + ('or', '☼')  # ('come', '☂', 'or', '☼')"
   ]
  },
  {
   "cell_type": "markdown",
   "id": "394aa9ef",
   "metadata": {},
   "source": [
    "Checking containment"
   ]
  },
  {
   "cell_type": "code",
   "execution_count": 16,
   "id": "2363a9d1",
   "metadata": {},
   "outputs": [
    {
     "data": {
      "text/plain": [
       "True"
      ]
     },
     "execution_count": 16,
     "metadata": {},
     "output_type": "execute_result"
    }
   ],
   "source": [
    "'wall-e' in ('wall-e', 'wallace', 'waldo')  # True"
   ]
  },
  {
   "cell_type": "markdown",
   "id": "020e31be",
   "metadata": {},
   "source": [
    "Slicing"
   ]
  },
  {
   "cell_type": "code",
   "execution_count": 17,
   "id": "f61392fb",
   "metadata": {},
   "outputs": [
    {
     "name": "stdout",
     "output_type": "stream",
     "text": [
      "('red', 'orange', 'yellow')\n"
     ]
    }
   ],
   "source": [
    "rainbow = ('red', 'orange', 'yellow', 'green', 'blue', 'indigo', 'violet')\n",
    "roy = rainbow[:3]  # ('red', 'orange', 'yellow')\n",
    "print(roy)"
   ]
  },
  {
   "cell_type": "markdown",
   "id": "3cb17cc3",
   "metadata": {},
   "source": [
    "# 5. Immutable vs. Mutable"
   ]
  },
  {
   "cell_type": "markdown",
   "id": "04dfd78b",
   "metadata": {},
   "source": [
    "An immutable value is **unchanging** once created.\n",
    "\n",
    "**Immutable** types we covered include: ```int```, ```float```, ```string```, ```tuple```"
   ]
  },
  {
   "cell_type": "code",
   "execution_count": 18,
   "id": "bbc0b21c",
   "metadata": {},
   "outputs": [],
   "source": [
    "a_tuple = (1, 2)\n",
    "# a_tuple[0] = 3                  # 🚫 Error! Tuple items cannot be set.\n",
    "a_string = \"Hi y'all\"\n",
    "# a_string[1] = \"I\"               # 🚫 Error! String elements cannot be set.\n",
    "a_string += \", how you doing?\"  # 🤔 How does this work?\n",
    "an_int = 20\n",
    "an_int += 2                     # 🤔 And this?"
   ]
  },
  {
   "cell_type": "code",
   "execution_count": 19,
   "id": "e1519b97",
   "metadata": {},
   "outputs": [
    {
     "name": "stdout",
     "output_type": "stream",
     "text": [
      "Hi y'all, how you doing? 22\n"
     ]
    }
   ],
   "source": [
    "print(a_string, an_int)"
   ]
  },
  {
   "cell_type": "markdown",
   "id": "21325e5e",
   "metadata": {},
   "source": [
    "A mutable value can change in value throughout the course of computation.\n",
    "\n",
    "* **All** names that refer to the **same object** are **affected** by a mutation.\n",
    "\n",
    "**Mutable** types (that we've covered): list, dict"
   ]
  },
  {
   "cell_type": "code",
   "execution_count": 20,
   "id": "5e347061",
   "metadata": {},
   "outputs": [
    {
     "name": "stdout",
     "output_type": "stream",
     "text": [
      "[90, 100, 85]\n"
     ]
    }
   ],
   "source": [
    "grades = [90, 70, 85]\n",
    "grades_copy = grades\n",
    "grades[1] = 100 # grades_copy also got changed\n",
    "words = {\"agua\": \"water\"}\n",
    "words[\"pavo\"] = \"turkey\"\n",
    "print(grades_copy)"
   ]
  },
  {
   "cell_type": "code",
   "execution_count": 21,
   "id": "3ff759f1",
   "metadata": {},
   "outputs": [],
   "source": [
    "t = (1, [2, 3])\n",
    "t[1][0] = 99\n",
    "t[1][1] = \"Problems\""
   ]
  },
  {
   "cell_type": "code",
   "execution_count": 22,
   "id": "17f63459",
   "metadata": {},
   "outputs": [
    {
     "name": "stdout",
     "output_type": "stream",
     "text": [
      "(1, [99, 'Problems'])\n"
     ]
    }
   ],
   "source": [
    "print(t)"
   ]
  },
  {
   "cell_type": "markdown",
   "id": "b434f4cd",
   "metadata": {},
   "source": [
    "## 5.1. Name change vs. Mutation\n",
    "\n",
    "The value of an expression can change due to either changes in names or mutation in objects\n",
    "\n",
    "Name change:"
   ]
  },
  {
   "cell_type": "code",
   "execution_count": 23,
   "id": "ab58254e",
   "metadata": {},
   "outputs": [
    {
     "data": {
      "text/plain": [
       "4"
      ]
     },
     "execution_count": 23,
     "metadata": {},
     "output_type": "execute_result"
    }
   ],
   "source": [
    "x = 2\n",
    "x + x"
   ]
  },
  {
   "cell_type": "code",
   "execution_count": 24,
   "id": "aebe8850",
   "metadata": {},
   "outputs": [
    {
     "data": {
      "text/plain": [
       "6"
      ]
     },
     "execution_count": 24,
     "metadata": {},
     "output_type": "execute_result"
    }
   ],
   "source": [
    "x = 3\n",
    "x + x"
   ]
  },
  {
   "cell_type": "markdown",
   "id": "69733775",
   "metadata": {},
   "source": [
    "Object mutation"
   ]
  },
  {
   "cell_type": "code",
   "execution_count": 25,
   "id": "cfc6dafe",
   "metadata": {},
   "outputs": [
    {
     "data": {
      "text/plain": [
       "['A', 'B', 'A', 'B']"
      ]
     },
     "execution_count": 25,
     "metadata": {},
     "output_type": "execute_result"
    }
   ],
   "source": [
    "x = ['A', 'B']\n",
    "x + x  # ['A', 'B', 'A', 'B']"
   ]
  },
  {
   "cell_type": "code",
   "execution_count": 26,
   "id": "71c38da3",
   "metadata": {},
   "outputs": [
    {
     "data": {
      "text/plain": [
       "['A', 'B', 'C', 'A', 'B', 'C']"
      ]
     },
     "execution_count": 26,
     "metadata": {},
     "output_type": "execute_result"
    }
   ],
   "source": [
    "x.append('C')\n",
    "x + x  # ['A', 'B', 'C', 'A', 'B', 'C']"
   ]
  },
  {
   "cell_type": "markdown",
   "id": "64c1fd76",
   "metadata": {},
   "source": [
    "### 5.1.a. Mutables inside immutables\n",
    "An immutable sequence may still change if it contains a mutable value as an element"
   ]
  },
  {
   "cell_type": "code",
   "execution_count": 27,
   "id": "99e0a1a1",
   "metadata": {},
   "outputs": [],
   "source": [
    "t = (1, [2, 3])\n",
    "t[1][0] = 99\n",
    "t[1][1] = \"Problems\""
   ]
  },
  {
   "cell_type": "code",
   "execution_count": 28,
   "id": "453d4baf",
   "metadata": {},
   "outputs": [
    {
     "name": "stdout",
     "output_type": "stream",
     "text": [
      "(1, [99, 'Problems'])\n"
     ]
    }
   ],
   "source": [
    "print(t)  # mutable portion of immutable was changed"
   ]
  },
  {
   "cell_type": "markdown",
   "id": "8543789d",
   "metadata": {},
   "source": [
    "### 5.1.b. Equality of contents vs. identity of objects\n",
    "* **Equality**: ```exp0 == exp1```\n",
    "    * Evaluates to True if **both exp0 and exp1** evaluates to **objects containing equal values**\n",
    "* **Identity**: ```exp0 is exp1```\n",
    "    * Evalutes to True if both exp0 and exp1 evaluate **to the same object**: **Identical objects are always Equal**"
   ]
  },
  {
   "cell_type": "code",
   "execution_count": 29,
   "id": "42548fc2",
   "metadata": {},
   "outputs": [],
   "source": [
    "list1 = [1, 3, 4]\n",
    "list2 = [2, 3, 4]\n",
    "list1a = [1, 3, 4]\n",
    "list2a = list2"
   ]
  },
  {
   "cell_type": "markdown",
   "id": "a1f595ba",
   "metadata": {},
   "source": [
    "Test: equal but not identical"
   ]
  },
  {
   "cell_type": "code",
   "execution_count": 30,
   "id": "e804b54a",
   "metadata": {},
   "outputs": [
    {
     "name": "stdout",
     "output_type": "stream",
     "text": [
      "True\n",
      "False\n"
     ]
    }
   ],
   "source": [
    "print(list1 == list1a)\n",
    "print(list1 is list1a)"
   ]
  },
  {
   "cell_type": "markdown",
   "id": "51fd6d98",
   "metadata": {},
   "source": [
    "Test: identical, of cource, also equal"
   ]
  },
  {
   "cell_type": "code",
   "execution_count": 31,
   "id": "84deee06",
   "metadata": {},
   "outputs": [
    {
     "name": "stdout",
     "output_type": "stream",
     "text": [
      "True\n",
      "True\n"
     ]
    }
   ],
   "source": [
    "print(list2 == list2a)\n",
    "print(list2 is list2a)"
   ]
  },
  {
   "cell_type": "markdown",
   "id": "3daf0fc6",
   "metadata": {},
   "source": [
    "# 5.2 Mutation in function calls  🙀\n",
    "\n",
    "An function can **change the value of any object in its scope**.\n",
    "\n",
    "**Example1**: Modify a **global variable** via a **function with no argument**"
   ]
  },
  {
   "cell_type": "code",
   "execution_count": 32,
   "id": "d7085fe9",
   "metadata": {},
   "outputs": [
    {
     "name": "stdout",
     "output_type": "stream",
     "text": [
      "[1, 2, 3, 4]\n",
      "[1, 2, 3, 99]\n"
     ]
    }
   ],
   "source": [
    "def do_other_stuff():\n",
    "    four[3] = 99\n",
    "\n",
    "four = [1, 2, 3, 4]\n",
    "print(four)\n",
    "do_other_stuff()\n",
    "print(four)"
   ]
  },
  {
   "cell_type": "markdown",
   "id": "4beecd6c",
   "metadata": {},
   "source": [
    "**Example2**: Usually modifiy an object unintentionallly when use its as an argument"
   ]
  },
  {
   "cell_type": "code",
   "execution_count": 33,
   "id": "98d41e61",
   "metadata": {},
   "outputs": [
    {
     "name": "stdout",
     "output_type": "stream",
     "text": [
      "[1, 2, 3, 4]\n",
      "[1, 2, 3, 99]\n",
      "[1, 2, 3, 99]\n"
     ]
    }
   ],
   "source": [
    "def do_stuff(s):\n",
    "    s[3] = 99\n",
    "    return s\n",
    "    \n",
    "four = [1, 2, 3, 4]\n",
    "print(four)\n",
    "s_changed = do_stuff(four) # four is changed, though we don't want to change it in this case\n",
    "print(s_changed)\n",
    "print(four) "
   ]
  },
  {
   "cell_type": "markdown",
   "id": "ee955cce",
   "metadata": {},
   "source": [
    "**Example2.a**: Avoid that unexpected change"
   ]
  },
  {
   "cell_type": "code",
   "execution_count": 34,
   "id": "1bf3b248",
   "metadata": {},
   "outputs": [
    {
     "name": "stdout",
     "output_type": "stream",
     "text": [
      "[1, 2, 3, 4]\n",
      "[1, 2, 3, 99]\n",
      "[1, 2, 3, 4]\n"
     ]
    }
   ],
   "source": [
    "def do_stuff_safe(s):\n",
    "    s = list(s)\n",
    "    s[3] = 99\n",
    "    return s\n",
    "    \n",
    "four = [1, 2, 3, 4]\n",
    "print(four)\n",
    "s_changed = do_stuff_safe(four) # four is changed, though we don't want to change it in this case\n",
    "print(s_changed)\n",
    "print(four) "
   ]
  },
  {
   "cell_type": "markdown",
   "id": "f95df4b9",
   "metadata": {},
   "source": [
    "### 5.2.a. Immutables are protected from mutation"
   ]
  },
  {
   "cell_type": "code",
   "execution_count": 35,
   "id": "f2d22d2e",
   "metadata": {},
   "outputs": [
    {
     "name": "stdout",
     "output_type": "stream",
     "text": [
      "[1, 2, 3, 99]\n",
      "(1, 2, 3, 4)\n"
     ]
    }
   ],
   "source": [
    "fourb = (1, 2, 3, 4)\n",
    "# sb_changed = do_stuff(fourb) # Tuples are immutable\n",
    "sb_changed = do_stuff_safe(fourb)\n",
    "print(sb_changed) # Change it via a temp variable\n",
    "print(fourb)"
   ]
  },
  {
   "cell_type": "markdown",
   "id": "abd5d591",
   "metadata": {},
   "source": [
    "## 5.3. Mutable default arguments 🙀\n",
    "Even the default argument looks like being refreshed at each call, that's **not** the case:\n",
    "\n",
    "**Default argument is a part of a function value, not generated by a call**\n",
    "\n",
    "Therefore, each time the function is called, **default argument** is bound to the same value, i.e. the **same** object, which could possibly be a mutable object"
   ]
  },
  {
   "cell_type": "code",
   "execution_count": 42,
   "id": "fa988559",
   "metadata": {},
   "outputs": [
    {
     "name": "stdout",
     "output_type": "stream",
     "text": [
      "[3]\n",
      "[3, 3]\n",
      "[3, 3, 3]\n"
     ]
    },
    {
     "data": {
      "text/plain": [
       "3"
      ]
     },
     "execution_count": 42,
     "metadata": {},
     "output_type": "execute_result"
    }
   ],
   "source": [
    "def f(s1=[]):\n",
    "    s1.append(3)\n",
    "    print(s1)\n",
    "    return len(s1)\n",
    "f() # default argument mutates by function calls\n",
    "f()\n",
    "f()"
   ]
  }
 ],
 "metadata": {
  "kernelspec": {
   "display_name": "Python 3",
   "language": "python",
   "name": "python3"
  },
  "language_info": {
   "codemirror_mode": {
    "name": "ipython",
    "version": 3
   },
   "file_extension": ".py",
   "mimetype": "text/x-python",
   "name": "python",
   "nbconvert_exporter": "python",
   "pygments_lexer": "ipython3",
   "version": "3.7.11"
  }
 },
 "nbformat": 4,
 "nbformat_minor": 5
}
