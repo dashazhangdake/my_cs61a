{
 "cells": [
  {
   "cell_type": "markdown",
   "id": "3358a29d",
   "metadata": {},
   "source": [
    "# 1. List\n",
    "A list is a container that holds a sequence of related information\n",
    "* It can hold any python values\n",
    "\n",
    "### 1.0 List repetition\n",
    "use ```*``` or ```mul(a, b)```"
   ]
  },
  {
   "cell_type": "code",
   "execution_count": 1,
   "id": "f4136893",
   "metadata": {},
   "outputs": [],
   "source": [
    "from operator import mul\n",
    "prices = [5, 6, 7.5]"
   ]
  },
  {
   "cell_type": "code",
   "execution_count": 2,
   "id": "f616391f",
   "metadata": {},
   "outputs": [
    {
     "name": "stdout",
     "output_type": "stream",
     "text": [
      "[5, 6, 7.5, 5, 6, 7.5, 5, 6, 7.5]\n",
      "True\n"
     ]
    }
   ],
   "source": [
    "moreprices0 = prices * 3\n",
    "moreprices1 = mul(prices, 3)\n",
    "print(moreprices0)\n",
    "print(moreprices0 == moreprices1)"
   ]
  },
  {
   "cell_type": "markdown",
   "id": "a8e58066",
   "metadata": {},
   "source": [
    "### 1.1 Ranges\n",
    "* One argument version: start with 0 and ends just before it\n",
    "* Two argument version ```range(start, end)```: start with start and ends just before end"
   ]
  },
  {
   "cell_type": "code",
   "execution_count": 3,
   "id": "d5c45245",
   "metadata": {},
   "outputs": [
    {
     "name": "stdout",
     "output_type": "stream",
     "text": [
      "0 1 2 3 4 5 "
     ]
    }
   ],
   "source": [
    "for n in range(6):\n",
    "    print(n, end=\" \")"
   ]
  },
  {
   "cell_type": "code",
   "execution_count": 4,
   "id": "54d1aa72",
   "metadata": {},
   "outputs": [
    {
     "name": "stdout",
     "output_type": "stream",
     "text": [
      "2 3 4 5 \n",
      "finished\n"
     ]
    }
   ],
   "source": [
    "for n in range(2, 6):\n",
    "    print(n, end=\" \")\n",
    "print('\\nfinished')"
   ]
  },
  {
   "cell_type": "code",
   "execution_count": 13,
   "id": "417a2856",
   "metadata": {},
   "outputs": [
    {
     "name": "stdout",
     "output_type": "stream",
     "text": [
      "2, 3, 4, 5\n",
      "b; 1; c\n"
     ]
    }
   ],
   "source": [
    "a = range(2, 6)\n",
    "print(*a, sep=', ')\n",
    "b = ['b', 1, 'c']\n",
    "print(*b, sep='; ')"
   ]
  },
  {
   "cell_type": "markdown",
   "id": "a8cc3220",
   "metadata": {},
   "source": [
    "## 1.2 List comprehensions\n",
    "\n",
    "A way to create a new list by \"mapping\" an existing list\n",
    "* Shorter version for simpler tasks\n",
    "```python\n",
    "    [<map exp> for <name> in <iter exp>]\n",
    "```\n",
    "* Long version with filter\n",
    "```python\n",
    "    [<map exp> for <name> in <iter exp> if <filter exp>]\n",
    "```"
   ]
  },
  {
   "cell_type": "code",
   "execution_count": 5,
   "id": "65421141",
   "metadata": {},
   "outputs": [
    {
     "name": "stdout",
     "output_type": "stream",
     "text": [
      "[2, 4, 6, 8, 10]\n"
     ]
    }
   ],
   "source": [
    "odds = [1, 3, 5, 7, 9]\n",
    "evens = [(num + 1) for num in odds]\n",
    "print(evens)"
   ]
  },
  {
   "cell_type": "code",
   "execution_count": 96,
   "id": "86548a82",
   "metadata": {},
   "outputs": [
    {
     "name": "stdout",
     "output_type": "stream",
     "text": [
      "['75F', '88F', '77F', '79F']\n"
     ]
    }
   ],
   "source": [
    "temps = [60, 35, 75, 67, 88, 77, 79]\n",
    "hottemps = [str(temp) + 'F' for temp in temps if temp > 70]\n",
    "print(hottemps)"
   ]
  },
  {
   "cell_type": "markdown",
   "id": "8c8b46fd",
   "metadata": {},
   "source": [
    "### 1.3 List comprehensions\n",
    "```python\n",
    "    [<map exp> for <name> in <iter exp> if <filter exp>]\n",
    "```\n",
    "* Add a new frame with the current frame as its parent\n",
    "* Create an empty result list that is the value fo the expression\n",
    "* For each element in the iterable value of ```<iter exp>```:\n",
    "    * Bind ```<name>``` to that element in the new frame from step1\n",
    "    * If ```<filter exp>``` is true, then add the value of ```<map exp>``` to the result list"
   ]
  },
  {
   "cell_type": "markdown",
   "id": "ed86f556",
   "metadata": {},
   "source": [
    "#### Exercise 1:\n",
    "Return all divisors of N that is smaller than itself"
   ]
  },
  {
   "cell_type": "code",
   "execution_count": 97,
   "id": "1c025362",
   "metadata": {},
   "outputs": [],
   "source": [
    "def divisors(n):\n",
    "    res = [num for num in range(1, int(n/2) + 1) if (n % num == 0)]\n",
    "    return res"
   ]
  },
  {
   "cell_type": "code",
   "execution_count": 98,
   "id": "1f77226e",
   "metadata": {},
   "outputs": [
    {
     "data": {
      "text/plain": [
       "[1, 2, 3, 4, 6]"
      ]
     },
     "execution_count": 98,
     "metadata": {},
     "output_type": "execute_result"
    }
   ],
   "source": [
    "divisors(12)"
   ]
  },
  {
   "cell_type": "markdown",
   "id": "f5363eba",
   "metadata": {},
   "source": [
    "#### Exercise 2\n",
    "Return S but with element chose by F at the front"
   ]
  },
  {
   "cell_type": "code",
   "execution_count": 99,
   "id": "37a4ac99",
   "metadata": {},
   "outputs": [],
   "source": [
    "def front(s, f):\n",
    "    first_half = [e for e in s if f(e)]\n",
    "    second_half = [e for e in s if not f(e)]\n",
    "    return first_half + second_half"
   ]
  },
  {
   "cell_type": "code",
   "execution_count": 100,
   "id": "dcc25984",
   "metadata": {},
   "outputs": [
    {
     "data": {
      "text/plain": [
       "[1, 3, 5, 7, 9, 0, 2, 4, 6, 8]"
      ]
     },
     "execution_count": 100,
     "metadata": {},
     "output_type": "execute_result"
    }
   ],
   "source": [
    "front(range(10), lambda x: x % 2 == 1)"
   ]
  },
  {
   "cell_type": "markdown",
   "id": "d6c1aaf6",
   "metadata": {},
   "source": [
    "# 2. String Literals\n",
    "* Single quoted strings are equivalent to double quoted strings\n",
    "* Multi-line strings automatically insert new lines\n",
    "\n",
    "**Note**: ```\\n``` is an escape sequence signifying a line feed"
   ]
  },
  {
   "cell_type": "code",
   "execution_count": 101,
   "id": "968fa8e9",
   "metadata": {},
   "outputs": [],
   "source": [
    "s1 = \"\"\"The Zen of Python\n",
    "claims, Readability counts.\n",
    "Read more: import this.\"\"\"\n",
    "s2 = 'The Zen of Python\\nclaims, Readability counts.\\nRead more: import this.'"
   ]
  },
  {
   "cell_type": "markdown",
   "id": "04d975f6",
   "metadata": {},
   "source": [
    "### Differences between strings and lists\n",
    "* A single-character string is the same as the character\n",
    "* The ```in``` operator match sbustrings"
   ]
  },
  {
   "cell_type": "markdown",
   "id": "ef7f6d70",
   "metadata": {},
   "source": [
    "# 3. Dictionaries\n",
    "A ```dict``` is a mapping of key-value pairs\n",
    "* The ```key``` cannnot be any other mutable type\n",
    "* ```Values``` can be any type"
   ]
  },
  {
   "cell_type": "code",
   "execution_count": 102,
   "id": "c5880dc4",
   "metadata": {},
   "outputs": [],
   "source": [
    "states = {\n",
    "    \"CA\": \"California\",\n",
    "    \"DE\": \"Delaware\",\n",
    "    \"NY\": \"New York\",\n",
    "    \"TX\": \"Texas\",\n",
    "    \"WY\": \"Wyoming\"\n",
    "}"
   ]
  },
  {
   "cell_type": "markdown",
   "id": "ed0d459a",
   "metadata": {},
   "source": [
    "```len()``` method returns the number of key-value pairs"
   ]
  },
  {
   "cell_type": "code",
   "execution_count": 103,
   "id": "928365d8",
   "metadata": {},
   "outputs": [
    {
     "data": {
      "text/plain": [
       "5"
      ]
     },
     "execution_count": 103,
     "metadata": {},
     "output_type": "execute_result"
    }
   ],
   "source": [
    "len(states)"
   ]
  },
  {
   "cell_type": "markdown",
   "id": "fde9cf96",
   "metadata": {},
   "source": [
    "```in```operator returns true if the operand matches ```key```"
   ]
  },
  {
   "cell_type": "code",
   "execution_count": 104,
   "id": "0ed73861",
   "metadata": {},
   "outputs": [
    {
     "data": {
      "text/plain": [
       "False"
      ]
     },
     "execution_count": 104,
     "metadata": {},
     "output_type": "execute_result"
    }
   ],
   "source": [
    "\"Texas\" in states"
   ]
  },
  {
   "cell_type": "code",
   "execution_count": 105,
   "id": "bbf2dd17",
   "metadata": {},
   "outputs": [
    {
     "data": {
      "text/plain": [
       "True"
      ]
     },
     "execution_count": 105,
     "metadata": {},
     "output_type": "execute_result"
    }
   ],
   "source": [
    "'WY' in states"
   ]
  },
  {
   "cell_type": "markdown",
   "id": "ec5458ca",
   "metadata": {},
   "source": [
    "## 3.1. Access value by key"
   ]
  },
  {
   "cell_type": "code",
   "execution_count": 106,
   "id": "9c174be2",
   "metadata": {},
   "outputs": [],
   "source": [
    "words = {\n",
    "    \"más\": \"more\",\n",
    "    \"otro\": \"other\",\n",
    "    \"agua\": \"water\"\n",
    "}"
   ]
  },
  {
   "cell_type": "code",
   "execution_count": 107,
   "id": "f0ff222f",
   "metadata": {},
   "outputs": [
    {
     "data": {
      "text/plain": [
       "'other'"
      ]
     },
     "execution_count": 107,
     "metadata": {},
     "output_type": "execute_result"
    }
   ],
   "source": [
    "words[\"otro\"]"
   ]
  },
  {
   "cell_type": "markdown",
   "id": "69e70326",
   "metadata": {},
   "source": [
    "Access dictionary with ```dict.get(key, val)```, where ```val``` is optional\n",
    "    \n",
    "* Equivalent to ```dictname[key]``` if ```key``` matches\n",
    "\n",
    "* When ```key``` is missing and ```val``` is **not** specified, return ```None```\n",
    "* When ```key``` is missing and ```val``` is specified, return ```val```"
   ]
  },
  {
   "cell_type": "code",
   "execution_count": 108,
   "id": "db7d1081",
   "metadata": {},
   "outputs": [
    {
     "ename": "KeyError",
     "evalue": "'pavo'",
     "output_type": "error",
     "traceback": [
      "\u001b[0;31m---------------------------------------------------------------------------\u001b[0m",
      "\u001b[0;31mKeyError\u001b[0m                                  Traceback (most recent call last)",
      "\u001b[0;32m<ipython-input-108-6d660e6a26f4>\u001b[0m in \u001b[0;36m<module>\u001b[0;34m\u001b[0m\n\u001b[0;32m----> 1\u001b[0;31m \u001b[0mwords\u001b[0m\u001b[0;34m[\u001b[0m\u001b[0;34m\"pavo\"\u001b[0m\u001b[0;34m]\u001b[0m\u001b[0;34m\u001b[0m\u001b[0;34m\u001b[0m\u001b[0m\n\u001b[0m",
      "\u001b[0;31mKeyError\u001b[0m: 'pavo'"
     ]
    }
   ],
   "source": [
    "words[\"pavo\"]"
   ]
  },
  {
   "cell_type": "code",
   "execution_count": 109,
   "id": "78596238",
   "metadata": {},
   "outputs": [
    {
     "data": {
      "text/plain": [
       "'🤔'"
      ]
     },
     "execution_count": 109,
     "metadata": {},
     "output_type": "execute_result"
    }
   ],
   "source": [
    "words.get(\"pavo\", \"🤔\")"
   ]
  },
  {
   "cell_type": "code",
   "execution_count": 110,
   "id": "27870cc0",
   "metadata": {},
   "outputs": [
    {
     "name": "stdout",
     "output_type": "stream",
     "text": [
      "None\n"
     ]
    }
   ],
   "source": [
    "print(words.get(\"pavoii\"))"
   ]
  },
  {
   "cell_type": "markdown",
   "id": "ef8718f4",
   "metadata": {},
   "source": [
    "## 3.2. Dictionary comprehensions\n",
    "\n",
    "General Syntax:\n",
    "```python\n",
    "{key: value for <name> in <iter exp>}\n",
    "```"
   ]
  },
  {
   "cell_type": "code",
   "execution_count": 111,
   "id": "e0124be2",
   "metadata": {},
   "outputs": [
    {
     "data": {
      "text/plain": [
       "{3: 9, 4: 16, 5: 25}"
      ]
     },
     "execution_count": 111,
     "metadata": {},
     "output_type": "execute_result"
    }
   ],
   "source": [
    "{x: x*x for x in range(3,6)}"
   ]
  },
  {
   "cell_type": "markdown",
   "id": "6c5be241",
   "metadata": {},
   "source": [
    "#### Exercise: Prune:\n",
    "Return a copy of D which only contains key/value pairs whose keys are also in KEYS.\n",
    "```python\n",
    "    >>> prune({\"a\": 1, \"b\": 2, \"c\": 3, \"d\": 4}, [\"a\", \"b\", \"c\"])\n",
    "        {'a': 1, 'b': 2, 'c': 3}\n",
    "```"
   ]
  },
  {
   "cell_type": "code",
   "execution_count": 112,
   "id": "697bd712",
   "metadata": {},
   "outputs": [],
   "source": [
    "def prune(d, keys):\n",
    "    res = {k: d[k] for k in d if k in keys}\n",
    "    return res"
   ]
  },
  {
   "cell_type": "code",
   "execution_count": 113,
   "id": "8ddd7ada",
   "metadata": {},
   "outputs": [
    {
     "data": {
      "text/plain": [
       "{'a': 1, 'b': 2, 'c': 3}"
      ]
     },
     "execution_count": 113,
     "metadata": {},
     "output_type": "execute_result"
    }
   ],
   "source": [
    "prune({\"a\": 1, \"b\": 2, \"c\": 3, \"d\": 4}, [\"a\", \"b\", \"c\"])"
   ]
  },
  {
   "cell_type": "markdown",
   "id": "dcbb9485",
   "metadata": {},
   "source": [
    "#### Exercise: Index:\n",
    "Return a dictionary from keys k to a list of values v for which match(k, v) is a true value.\n",
    "```python\n",
    "   >>> index([7, 9, 11], range(30, 50), lambda k, v: v % k == 0)\n",
    "        {7: [35, 42, 49], 9: [36, 45], 11: [33, 44]}\n",
    "```    "
   ]
  },
  {
   "cell_type": "code",
   "execution_count": 114,
   "id": "645742a4",
   "metadata": {},
   "outputs": [],
   "source": [
    "def index(keys, values, match):\n",
    "    def key_entry_helper(key, values, match):\n",
    "        return [val for val in values if match(key, val)]\n",
    "    res = {key: key_entry_helper(key, values, match) for key in keys}\n",
    "    return res"
   ]
  },
  {
   "cell_type": "code",
   "execution_count": 115,
   "id": "002419f6",
   "metadata": {},
   "outputs": [
    {
     "data": {
      "text/plain": [
       "{7: [35, 42, 49], 9: [36, 45], 11: [33, 44]}"
      ]
     },
     "execution_count": 115,
     "metadata": {},
     "output_type": "execute_result"
    }
   ],
   "source": [
    "index([7, 9, 11], range(30, 50), lambda k, v: v % k == 0)"
   ]
  },
  {
   "cell_type": "markdown",
   "id": "005ac43d",
   "metadata": {},
   "source": [
    "# 4. Slicing\n",
    "Start from start, end till just before end, with an optional step\n",
    "```python\n",
    "list[start: end, step]\n",
    "```"
   ]
  },
  {
   "cell_type": "code",
   "execution_count": 116,
   "id": "14272472",
   "metadata": {},
   "outputs": [],
   "source": [
    "letters = [\"A\", \"B\", \"C\", \"D\", \"E\", \"F\"]\n",
    "sublist1 = letters[1:5:2]\n",
    "sublist2 = letters[0:6:2]"
   ]
  },
  {
   "cell_type": "code",
   "execution_count": 117,
   "id": "7b59198a",
   "metadata": {},
   "outputs": [
    {
     "name": "stdout",
     "output_type": "stream",
     "text": [
      "['B', 'D']\n",
      "['A', 'C', 'E']\n"
     ]
    }
   ],
   "source": [
    "print(sublist1)\n",
    "print(sublist2)"
   ]
  },
  {
   "cell_type": "markdown",
   "id": "092c9886",
   "metadata": {},
   "source": [
    "# 5. Copying, avoid unexpected mutation\n",
    "Sometime we are making undesirable mutations to an object, use copying like approaches to avoid these accidental mutations\n",
    "\n",
    "* Slicing a whole list returns a copy of that list: ```listC = listA[:]```\n",
    "* list() is an alternative way\n",
    "\n",
    "### Example"
   ]
  },
  {
   "cell_type": "code",
   "execution_count": 118,
   "id": "ec02eb28",
   "metadata": {},
   "outputs": [],
   "source": [
    "def makechange(arr, idx, val):\n",
    "    arr[idx] = val\n",
    "    return arr\n",
    "    # do something with changed a, though we want to keep the global a intact"
   ]
  },
  {
   "cell_type": "code",
   "execution_count": 119,
   "id": "dc807037",
   "metadata": {},
   "outputs": [
    {
     "data": {
      "text/plain": [
       "[1, 2, 3, 100]"
      ]
     },
     "execution_count": 119,
     "metadata": {},
     "output_type": "execute_result"
    }
   ],
   "source": [
    "a0 = [1, 2, 3, 4]\n",
    "makechange(a0, 3, 100)"
   ]
  },
  {
   "cell_type": "code",
   "execution_count": 120,
   "id": "de60fbad",
   "metadata": {},
   "outputs": [
    {
     "name": "stdout",
     "output_type": "stream",
     "text": [
      "[1, 2, 3, 100]\n"
     ]
    }
   ],
   "source": [
    "print(a0) # a0 in main is corrupted"
   ]
  },
  {
   "cell_type": "markdown",
   "id": "49b27901",
   "metadata": {},
   "source": [
    "```list()``` creates a new list containing existing elements from any iterable:"
   ]
  },
  {
   "cell_type": "code",
   "execution_count": 121,
   "id": "58914a82",
   "metadata": {},
   "outputs": [],
   "source": [
    "def makechange_safe(a, idx, val):\n",
    "    acopy = list(a)\n",
    "    acopy[idx] = val\n",
    "    return acopy"
   ]
  },
  {
   "cell_type": "code",
   "execution_count": 122,
   "id": "61ab3d46",
   "metadata": {},
   "outputs": [
    {
     "data": {
      "text/plain": [
       "[1, 2, 3, 100]"
      ]
     },
     "execution_count": 122,
     "metadata": {},
     "output_type": "execute_result"
    }
   ],
   "source": [
    "a1 = [1, 2, 3, 4]\n",
    "makechange_safe(a1, 3, 100)"
   ]
  },
  {
   "cell_type": "code",
   "execution_count": 123,
   "id": "9e08d1b3",
   "metadata": {},
   "outputs": [
    {
     "name": "stdout",
     "output_type": "stream",
     "text": [
      "[1, 2, 3, 4]\n"
     ]
    }
   ],
   "source": [
    "print(a1)"
   ]
  },
  {
   "cell_type": "markdown",
   "id": "d036f578",
   "metadata": {},
   "source": [
    "### Another Example\n",
    "\n",
    "```Line2``` could cause unexpected mutations, FIX it"
   ]
  },
  {
   "cell_type": "code",
   "execution_count": 124,
   "id": "3d366da7",
   "metadata": {},
   "outputs": [],
   "source": [
    "listA = [2, 3]\n",
    "listB = listA\n",
    "\n",
    "listC = listA[:] # List C should not be mutated here, and the code works as expected\n",
    "listA[0] = 4  # We hope to see A=[4, 3], next line will make it be be [4, 5]\n",
    "listB[1] = 5  # And the should be B=[2, 5], though we get [4,5]"
   ]
  },
  {
   "cell_type": "code",
   "execution_count": 125,
   "id": "5afd66d7",
   "metadata": {},
   "outputs": [
    {
     "name": "stdout",
     "output_type": "stream",
     "text": [
      "[4, 5]\n",
      "[4, 5]\n",
      "[2, 3]\n"
     ]
    }
   ],
   "source": [
    "print(listA)\n",
    "print(listB)\n",
    "print(listC)"
   ]
  },
  {
   "cell_type": "markdown",
   "id": "62337534",
   "metadata": {},
   "source": [
    "We fix the code above using ```ListB = list(listA)```"
   ]
  },
  {
   "cell_type": "code",
   "execution_count": 126,
   "id": "9b780106",
   "metadata": {},
   "outputs": [],
   "source": [
    "listA = [2, 3]\n",
    "listB = list(listA) \n",
    "\n",
    "listC = listA[:]\n",
    "listA[0] = 4  # We hope to see A=[4, 3]\n",
    "listB[1] = 5  # And B=[2, 5]"
   ]
  },
  {
   "cell_type": "code",
   "execution_count": 127,
   "id": "45da4261",
   "metadata": {},
   "outputs": [
    {
     "name": "stdout",
     "output_type": "stream",
     "text": [
      "[4, 3]\n",
      "[2, 5]\n",
      "[2, 3]\n"
     ]
    }
   ],
   "source": [
    "print(listA)\n",
    "print(listB)\n",
    "print(listC)"
   ]
  },
  {
   "cell_type": "markdown",
   "id": "e719295e",
   "metadata": {},
   "source": [
    "# 6. Built-in functions for iterables\n",
    "\n",
    "The following built-in functions work for ```lists```, ```strings```, ```dicts```, and any other **iterable** data type\n",
    "\n",
    "| Function | Description |\n",
    "| --- | --- |\n",
    "| ```sum(iterable, start)``` | **Returns the sum of values in iterable, initializing sum to start** |\n",
    "| ```all(iterable)``` | **Return True if all elements of iterable are true (or if iterable is empty)** |\n",
    "| ```any(iterable)``` | **Return True if any element of iterable is true. Return False if iterable is empty.** |\n",
    "| ```max(iterable, key=None)``` | **Return the max value in iterable** |\n",
    "| ```min(iterable, key=None)``` | **Return the min value in iterable** |"
   ]
  },
  {
   "cell_type": "markdown",
   "id": "dd30e0b4",
   "metadata": {},
   "source": [
    "### Example with sum, any, all"
   ]
  },
  {
   "cell_type": "code",
   "execution_count": 128,
   "id": "c53ae8bc",
   "metadata": {},
   "outputs": [
    {
     "data": {
      "text/plain": [
       "13"
      ]
     },
     "execution_count": 128,
     "metadata": {},
     "output_type": "execute_result"
    }
   ],
   "source": [
    "sum([1, 2, 3, 4], 3) # returns 3 + sum[1 to 4]"
   ]
  },
  {
   "cell_type": "code",
   "execution_count": 129,
   "id": "a422649e",
   "metadata": {},
   "outputs": [],
   "source": [
    "perfect_square = lambda x: x == round(x ** 0.5) ** 2\n",
    "res_square = [perfect_square(x) for x in range(50, 60)]"
   ]
  },
  {
   "cell_type": "code",
   "execution_count": 130,
   "id": "5bf790ce",
   "metadata": {},
   "outputs": [
    {
     "name": "stdout",
     "output_type": "stream",
     "text": [
      "[False, False, False, False, False, False, False, False, False, False]\n"
     ]
    },
    {
     "data": {
      "text/plain": [
       "False"
      ]
     },
     "execution_count": 130,
     "metadata": {},
     "output_type": "execute_result"
    }
   ],
   "source": [
    "print(res_square)\n",
    "any(res_square)\n",
    "# all(res_square)"
   ]
  },
  {
   "cell_type": "code",
   "execution_count": 131,
   "id": "a55021ac",
   "metadata": {},
   "outputs": [
    {
     "name": "stdout",
     "output_type": "stream",
     "text": [
      "[True, True, True, True, True]\n"
     ]
    },
    {
     "data": {
      "text/plain": [
       "True"
      ]
     },
     "execution_count": 131,
     "metadata": {},
     "output_type": "execute_result"
    }
   ],
   "source": [
    "res_smallerthan5 = [x < 5 for x in range(5)]\n",
    "print(res_smallerthan5)\n",
    "all(res_smallerthan5)"
   ]
  },
  {
   "cell_type": "code",
   "execution_count": 132,
   "id": "b06c4a21",
   "metadata": {},
   "outputs": [
    {
     "name": "stdout",
     "output_type": "stream",
     "text": [
      "False True\n",
      "True True\n"
     ]
    }
   ],
   "source": [
    "mixed_str_with0 = ['a', [1, 3], 0]\n",
    "print(all(mixed_str_with0), any(mixed_str_with0))\n",
    "\n",
    "mixed_str_without0 = ['a', [1, 3], 0.0001]\n",
    "print(all(mixed_str_without0), any(mixed_str_without0))"
   ]
  },
  {
   "cell_type": "markdown",
   "id": "a755bf39",
   "metadata": {},
   "source": [
    "### Examples with max/min\n",
    "simpler Use cases"
   ]
  },
  {
   "cell_type": "code",
   "execution_count": 133,
   "id": "85292331",
   "metadata": {},
   "outputs": [
    {
     "name": "stdout",
     "output_type": "stream",
     "text": [
      "95\n",
      "C+\n",
      "9\n"
     ]
    }
   ],
   "source": [
    "print(max([73, 89, 74, 95]))         # 95\n",
    "print(max([\"C+\", \"B+\", \"C\", \"A\"]))  # C+\n",
    "print(max(range(10)))                # 9"
   ]
  },
  {
   "cell_type": "markdown",
   "id": "76ff41c1",
   "metadata": {},
   "source": [
    "#### A ```key``` function decides how to compare each value\n",
    "\n",
    "```Key``` function is a function applied to each element of the iterable, find max using the returned value of ```key(e)```"
   ]
  },
  {
   "cell_type": "markdown",
   "id": "6cd8a346",
   "metadata": {},
   "source": [
    "##### Example: Customized sort rule of a nested list"
   ]
  },
  {
   "cell_type": "code",
   "execution_count": 134,
   "id": "5090aca0",
   "metadata": {},
   "outputs": [
    {
     "name": "stdout",
     "output_type": "stream",
     "text": [
      "[56, -163]\n",
      "[-22, -115]\n"
     ]
    }
   ],
   "source": [
    "coords = [ [37, -144], [-22, -115], [56, -163] ]\n",
    "defaultres = max(coords)\n",
    "maxbysecond = max(coords, key=lambda v: v[1])\n",
    "print(defaultres)\n",
    "print(maxbysecond)"
   ]
  },
  {
   "cell_type": "markdown",
   "id": "87cde826",
   "metadata": {},
   "source": [
    "##### Example: Customized sort rule of list of numbers, max by residual of 10"
   ]
  },
  {
   "cell_type": "code",
   "execution_count": 135,
   "id": "c46cb731",
   "metadata": {},
   "outputs": [
    {
     "name": "stdout",
     "output_type": "stream",
     "text": [
      "19 96\n"
     ]
    }
   ],
   "source": [
    "testlist = [78, 19, 88, 96]\n",
    "maxval = max(testlist)\n",
    "maxbyresidual = max(testlist, key=lambda v:v%10)\n",
    "print(maxbyresidual, maxval)"
   ]
  },
  {
   "cell_type": "markdown",
   "id": "bb80730d",
   "metadata": {},
   "source": [
    "##### Example: Customized max rule of a dictionary, max by analyzing the score, illustrate with nested list"
   ]
  },
  {
   "cell_type": "code",
   "execution_count": 136,
   "id": "4188aa82",
   "metadata": {},
   "outputs": [],
   "source": [
    "gymnasts0 = [ [\"Brittany\", 9.15, 9.4, 9.3, 9.2],\n",
    "    [\"Lea\", 9, 8.8, 9.1, 9.5],\n",
    "    [\"Maya\", 9.2, 8.7, 9.2, 8.8] ]\n",
    "# max(gymnasts, key=lambda scores: sum(scores[1:], 0)) # [\"Brittany\", ...]"
   ]
  },
  {
   "cell_type": "markdown",
   "id": "cb7f16d7",
   "metadata": {},
   "source": [
    "Find the one with minimum score"
   ]
  },
  {
   "cell_type": "code",
   "execution_count": 137,
   "id": "93c67a8c",
   "metadata": {},
   "outputs": [
    {
     "data": {
      "text/plain": [
       "['Maya', 9.2, 8.7, 9.2, 8.8]"
      ]
     },
     "execution_count": 137,
     "metadata": {},
     "output_type": "execute_result"
    }
   ],
   "source": [
    "min(gymnasts0, key=lambda scores: min(scores[1:]))    # [\"Maya\", ...]"
   ]
  },
  {
   "cell_type": "markdown",
   "id": "5da91ccb",
   "metadata": {},
   "source": [
    "Find the one with max score for the last exam"
   ]
  },
  {
   "cell_type": "code",
   "execution_count": 138,
   "id": "02f57b1d",
   "metadata": {},
   "outputs": [
    {
     "data": {
      "text/plain": [
       "['Lea', 9, 8.8, 9.1, 9.5]"
      ]
     },
     "execution_count": 138,
     "metadata": {},
     "output_type": "execute_result"
    }
   ],
   "source": [
    "max(gymnasts0, key=lambda scores: scores[4])    # [\"Maya\", ...]"
   ]
  },
  {
   "cell_type": "markdown",
   "id": "4f525cc1",
   "metadata": {},
   "source": [
    "Find the one gets max total score"
   ]
  },
  {
   "cell_type": "code",
   "execution_count": 139,
   "id": "def3ed7e",
   "metadata": {},
   "outputs": [
    {
     "data": {
      "text/plain": [
       "['Brittany', 9.15, 9.4, 9.3, 9.2]"
      ]
     },
     "execution_count": 139,
     "metadata": {},
     "output_type": "execute_result"
    }
   ],
   "source": [
    "max(gymnasts0, key=lambda scores: sum(scores[1:]))    # [\"Maya\", ...]"
   ]
  },
  {
   "cell_type": "markdown",
   "id": "bafebb78",
   "metadata": {},
   "source": [
    "##### Example: illustrate with dictionary"
   ]
  },
  {
   "cell_type": "code",
   "execution_count": 140,
   "id": "598698a5",
   "metadata": {},
   "outputs": [],
   "source": [
    "gymnasts = {\"Brittany\": [9.15, 9.4, 9.3, 9.2],\n",
    "            \"Lea\": [9, 8.8, 9.1, 9.5],\n",
    "            \"Maya\": [9.2, 8.7, 9.2, 8.8]\n",
    "}"
   ]
  },
  {
   "cell_type": "code",
   "execution_count": 141,
   "id": "b3f6eb2a",
   "metadata": {},
   "outputs": [
    {
     "name": "stdout",
     "output_type": "stream",
     "text": [
      "Brittany 37.05\n",
      "Lea 36.4\n",
      "Maya 35.9\n"
     ]
    }
   ],
   "source": [
    "for k in gymnasts:\n",
    "    print(k, sum(gymnasts[k]))"
   ]
  },
  {
   "cell_type": "markdown",
   "id": "f9dbea66",
   "metadata": {},
   "source": [
    "Find the one get minmum score for the third exam"
   ]
  },
  {
   "cell_type": "code",
   "execution_count": 142,
   "id": "af85bf8b",
   "metadata": {},
   "outputs": [
    {
     "name": "stdout",
     "output_type": "stream",
     "text": [
      "Lea [9, 8.8, 9.1, 9.5]\n"
     ]
    }
   ],
   "source": [
    "min_by_sum = min(gymnasts, key=lambda k: gymnasts[k][2:])\n",
    "print(min_by_sum, gymnasts[min_by_sum])"
   ]
  },
  {
   "cell_type": "markdown",
   "id": "cd757c2e",
   "metadata": {},
   "source": [
    "Find the one gets the minimum score for the second exam"
   ]
  },
  {
   "cell_type": "code",
   "execution_count": 143,
   "id": "55f92c97",
   "metadata": {},
   "outputs": [
    {
     "name": "stdout",
     "output_type": "stream",
     "text": [
      "Maya [9.2, 8.7, 9.2, 8.8]\n"
     ]
    }
   ],
   "source": [
    "min_by_second = min(gymnasts, key=lambda k: gymnasts[k][1])\n",
    "print(min_by_second, gymnasts[min_by_second])"
   ]
  },
  {
   "cell_type": "markdown",
   "id": "3431f6c9",
   "metadata": {},
   "source": [
    "Find the one gets the minimum score for the entire semester"
   ]
  },
  {
   "cell_type": "code",
   "execution_count": 144,
   "id": "958d7c82",
   "metadata": {},
   "outputs": [
    {
     "name": "stdout",
     "output_type": "stream",
     "text": [
      "{'Brittany': [9.15, 9.4, 9.3, 9.2], 'Lea': [9, 8.8, 9.1, 9.5], 'Maya': [9.2, 8.7, 9.2, 8.8]} \n",
      "\n",
      "max: Brittany [9.15, 9.4, 9.3, 9.2]\n",
      "min: Maya [9.2, 8.7, 9.2, 8.8]\n"
     ]
    }
   ],
   "source": [
    "print(gymnasts,'\\n')\n",
    "\n",
    "max_by_sum = max(gymnasts, key=lambda k: sum(gymnasts[k]))\n",
    "min_by_sum = min(gymnasts, key=lambda k: sum(gymnasts[k]))\n",
    "print('max:', max_by_sum, gymnasts[max_by_sum])\n",
    "print('min:', min_by_sum, gymnasts[min_by_sum])"
   ]
  }
 ],
 "metadata": {
  "kernelspec": {
   "display_name": "Python 3",
   "language": "python",
   "name": "python3"
  },
  "language_info": {
   "codemirror_mode": {
    "name": "ipython",
    "version": 3
   },
   "file_extension": ".py",
   "mimetype": "text/x-python",
   "name": "python",
   "nbconvert_exporter": "python",
   "pygments_lexer": "ipython3",
   "version": "3.7.11"
  }
 },
 "nbformat": 4,
 "nbformat_minor": 5
}
