{
 "cells": [
  {
   "cell_type": "markdown",
   "id": "b8ad00f4",
   "metadata": {},
   "source": [
    "# 1. Recursion Exercises with containers\n",
    "\n",
    "## Helper functions\n",
    "\n",
    "If a recursive function needs to keep track of more state than the arguments of the original function, you may need a helper function."
   ]
  },
  {
   "cell_type": "markdown",
   "id": "06e50d62",
   "metadata": {},
   "source": [
    "### Exercise 1: toggling cases\n",
    "\n",
    "Toggle a string to ```\"LULULULU....\"``` format\n",
    "\n",
    "```python\n",
    "    >>> fUnKyCaSe(\"wats up\")\n",
    "    'wAtS Up'\n",
    "```\n",
    "\n",
    "* Base case: when len(text)==1, toggle that char to lower case\n",
    "* Recursive: the leading char of ```text[1:]``` toggleed, pass"
   ]
  },
  {
   "cell_type": "code",
   "execution_count": 1,
   "id": "5a205890",
   "metadata": {},
   "outputs": [],
   "source": [
    "def fUnKyCaSe(text):\n",
    "    def toggle_helper(text, up_or_low):\n",
    "        if len(text) == 1:\n",
    "            if up_or_low:\n",
    "                return text.lower()\n",
    "            else:\n",
    "                return text.upper()\n",
    "        else:\n",
    "            return toggle_helper(text[0], up_or_low) + toggle_helper(text[1:], not up_or_low)\n",
    "    return toggle_helper(text, True)"
   ]
  },
  {
   "cell_type": "code",
   "execution_count": 2,
   "id": "45e48a92",
   "metadata": {},
   "outputs": [
    {
     "name": "stdout",
     "output_type": "stream",
     "text": [
      "wAtS Up\n"
     ]
    }
   ],
   "source": [
    "print(fUnKyCaSe(\"wats up\"))"
   ]
  },
  {
   "cell_type": "markdown",
   "id": "752a83bf",
   "metadata": {},
   "source": [
    "### Exercise 2: Sum a list\n",
    "   ```python\n",
    "    >>> sum_nums([6, 24, 1984])\n",
    "    2014\n",
    "    >>> sum_nums([-32, 0, 32])\n",
    "    0\n",
    "   ``` "
   ]
  },
  {
   "cell_type": "code",
   "execution_count": 3,
   "id": "8d46edc3",
   "metadata": {},
   "outputs": [],
   "source": [
    "def sum_nums(nums):\n",
    "    if len(nums) == 0:\n",
    "        return 0\n",
    "    elif len(nums) == 1:\n",
    "        return nums[0]\n",
    "    else:\n",
    "        return sum_nums(nums[0]) + sum_nums(nums[1:])"
   ]
  },
  {
   "cell_type": "code",
   "execution_count": 4,
   "id": "d91a2af6",
   "metadata": {},
   "outputs": [
    {
     "ename": "TypeError",
     "evalue": "object of type 'int' has no len()",
     "output_type": "error",
     "traceback": [
      "\u001b[0;31m---------------------------------------------------------------------------\u001b[0m",
      "\u001b[0;31mTypeError\u001b[0m                                 Traceback (most recent call last)",
      "\u001b[0;32m<ipython-input-4-b321a537febd>\u001b[0m in \u001b[0;36m<module>\u001b[0;34m\u001b[0m\n\u001b[0;32m----> 1\u001b[0;31m \u001b[0msum_nums\u001b[0m\u001b[0;34m(\u001b[0m\u001b[0;34m[\u001b[0m\u001b[0;36m32\u001b[0m\u001b[0;34m,\u001b[0m \u001b[0;36m0\u001b[0m\u001b[0;34m,\u001b[0m \u001b[0;34m-\u001b[0m\u001b[0;36m31\u001b[0m\u001b[0;34m]\u001b[0m\u001b[0;34m)\u001b[0m\u001b[0;34m\u001b[0m\u001b[0;34m\u001b[0m\u001b[0m\n\u001b[0m",
      "\u001b[0;32m<ipython-input-3-9f78691cfae9>\u001b[0m in \u001b[0;36msum_nums\u001b[0;34m(nums)\u001b[0m\n\u001b[1;32m      5\u001b[0m         \u001b[0;32mreturn\u001b[0m \u001b[0mnums\u001b[0m\u001b[0;34m[\u001b[0m\u001b[0;36m0\u001b[0m\u001b[0;34m]\u001b[0m\u001b[0;34m\u001b[0m\u001b[0;34m\u001b[0m\u001b[0m\n\u001b[1;32m      6\u001b[0m     \u001b[0;32melse\u001b[0m\u001b[0;34m:\u001b[0m\u001b[0;34m\u001b[0m\u001b[0;34m\u001b[0m\u001b[0m\n\u001b[0;32m----> 7\u001b[0;31m         \u001b[0;32mreturn\u001b[0m \u001b[0msum_nums\u001b[0m\u001b[0;34m(\u001b[0m\u001b[0mnums\u001b[0m\u001b[0;34m[\u001b[0m\u001b[0;36m0\u001b[0m\u001b[0;34m]\u001b[0m\u001b[0;34m)\u001b[0m \u001b[0;34m+\u001b[0m \u001b[0msum_nums\u001b[0m\u001b[0;34m(\u001b[0m\u001b[0mnums\u001b[0m\u001b[0;34m[\u001b[0m\u001b[0;36m1\u001b[0m\u001b[0;34m:\u001b[0m\u001b[0;34m]\u001b[0m\u001b[0;34m)\u001b[0m\u001b[0;34m\u001b[0m\u001b[0;34m\u001b[0m\u001b[0m\n\u001b[0m",
      "\u001b[0;32m<ipython-input-3-9f78691cfae9>\u001b[0m in \u001b[0;36msum_nums\u001b[0;34m(nums)\u001b[0m\n\u001b[1;32m      1\u001b[0m \u001b[0;32mdef\u001b[0m \u001b[0msum_nums\u001b[0m\u001b[0;34m(\u001b[0m\u001b[0mnums\u001b[0m\u001b[0;34m)\u001b[0m\u001b[0;34m:\u001b[0m\u001b[0;34m\u001b[0m\u001b[0;34m\u001b[0m\u001b[0m\n\u001b[0;32m----> 2\u001b[0;31m     \u001b[0;32mif\u001b[0m \u001b[0mlen\u001b[0m\u001b[0;34m(\u001b[0m\u001b[0mnums\u001b[0m\u001b[0;34m)\u001b[0m \u001b[0;34m==\u001b[0m \u001b[0;36m0\u001b[0m\u001b[0;34m:\u001b[0m\u001b[0;34m\u001b[0m\u001b[0;34m\u001b[0m\u001b[0m\n\u001b[0m\u001b[1;32m      3\u001b[0m         \u001b[0;32mreturn\u001b[0m \u001b[0;36m0\u001b[0m\u001b[0;34m\u001b[0m\u001b[0;34m\u001b[0m\u001b[0m\n\u001b[1;32m      4\u001b[0m     \u001b[0;32melif\u001b[0m \u001b[0mlen\u001b[0m\u001b[0;34m(\u001b[0m\u001b[0mnums\u001b[0m\u001b[0;34m)\u001b[0m \u001b[0;34m==\u001b[0m \u001b[0;36m1\u001b[0m\u001b[0;34m:\u001b[0m\u001b[0;34m\u001b[0m\u001b[0;34m\u001b[0m\u001b[0m\n\u001b[1;32m      5\u001b[0m         \u001b[0;32mreturn\u001b[0m \u001b[0mnums\u001b[0m\u001b[0;34m[\u001b[0m\u001b[0;36m0\u001b[0m\u001b[0;34m]\u001b[0m\u001b[0;34m\u001b[0m\u001b[0;34m\u001b[0m\u001b[0m\n",
      "\u001b[0;31mTypeError\u001b[0m: object of type 'int' has no len()"
     ]
    }
   ],
   "source": [
    "sum_nums([32, 0, -31])"
   ]
  },
  {
   "cell_type": "markdown",
   "id": "316a84f5",
   "metadata": {},
   "source": [
    "### Exercise 3a: Recursively reversing a string\n",
    "```python\n",
    " >>> reverse('ward')\n",
    "    'draw'\n",
    "```"
   ]
  },
  {
   "cell_type": "code",
   "execution_count": null,
   "id": "48e3a5e8",
   "metadata": {},
   "outputs": [],
   "source": [
    "def reverse(s):\n",
    "    if len(s) == 0:\n",
    "        return ''\n",
    "    else:\n",
    "        return reverse(s[1:]) + s[0]"
   ]
  },
  {
   "cell_type": "code",
   "execution_count": null,
   "id": "5e4d331d",
   "metadata": {},
   "outputs": [],
   "source": [
    "reverse('w')"
   ]
  },
  {
   "cell_type": "markdown",
   "id": "c99dbb34",
   "metadata": {},
   "source": [
    "### Exercise 3b: Recursively reversing a number\n",
    "```python\n",
    " >>> reverse(123)\n",
    "    321\n",
    "```"
   ]
  },
  {
   "cell_type": "code",
   "execution_count": null,
   "id": "1049c9b3",
   "metadata": {},
   "outputs": [],
   "source": [
    "import math\n",
    "def reverse_num(n):\n",
    "    if n == 0:\n",
    "        return 0\n",
    "    def reverse_num_helper(n, kth):\n",
    "        assert(n >= 0)\n",
    "        if n < 10:\n",
    "            return n\n",
    "        else:\n",
    "            return reverse_num_helper(n // 10, kth - 1) + reverse_num_helper(n % 10, kth) * 10**kth\n",
    "    return reverse_num_helper(n, int(math.log(n, 10)))"
   ]
  },
  {
   "cell_type": "code",
   "execution_count": null,
   "id": "f7f71985",
   "metadata": {},
   "outputs": [],
   "source": [
    "reverse_num(155648642318963)"
   ]
  },
  {
   "cell_type": "code",
   "execution_count": null,
   "id": "75bfa44f",
   "metadata": {},
   "outputs": [],
   "source": [
    "def reverse_num(n):\n",
    "    def reverse_h(n):\n",
    "        if n == 0:\n",
    "            return 0\n",
    "        elif n < 10:\n",
    "            return n\n",
    "        else:\n",
    "            kth = int(math.log(n, 10))\n",
    "            return reverse_h(n // 10) + n % 10 * 10 ** kth\n",
    "    return reverse_h(n)"
   ]
  },
  {
   "cell_type": "code",
   "execution_count": null,
   "id": "feb8a829",
   "metadata": {},
   "outputs": [],
   "source": [
    "reverse_num(12)"
   ]
  },
  {
   "cell_type": "markdown",
   "id": "c7c8b4aa",
   "metadata": {},
   "source": [
    "### Exercise Summary\n",
    "#### Typical recursion methodologies on different data types\n",
    "| Data Type | Base conditions | Current item | Recursive case argument |\n",
    "| --- | --- | --- | --- |\n",
    "| PlainNumbers | ```n==0``` <br> ```n==1```| ```n``` | ```n-1``` |\n",
    "| Numbers with focus on digits | ```n==0``` <br> ```n<10``` | ```n%10``` | ```n//10``` |\n",
    "| Lists | ```L==[]``` <br> ```len(L)==0```| ```L[0]```<br>```L[-1]``` | ```L[1:]```<br>```L[:-1]``` |\n",
    "| Strings | ```S==''``` <br> ```len(s)==1```| ```S[0]``` | ```S[1:]``` |"
   ]
  },
  {
   "cell_type": "code",
   "execution_count": null,
   "id": "629bc487",
   "metadata": {},
   "outputs": [],
   "source": []
  }
 ],
 "metadata": {
  "kernelspec": {
   "display_name": "Python 3",
   "language": "python",
   "name": "python3"
  },
  "language_info": {
   "codemirror_mode": {
    "name": "ipython",
    "version": 3
   },
   "file_extension": ".py",
   "mimetype": "text/x-python",
   "name": "python",
   "nbconvert_exporter": "python",
   "pygments_lexer": "ipython3",
   "version": "3.7.11"
  }
 },
 "nbformat": 4,
 "nbformat_minor": 5
}
